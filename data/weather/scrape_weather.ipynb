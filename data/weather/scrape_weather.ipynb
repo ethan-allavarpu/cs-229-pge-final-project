{
 "cells": [
  {
   "cell_type": "code",
   "execution_count": 7,
   "metadata": {},
   "outputs": [],
   "source": [
    "from datetime import datetime, timedelta\n",
    "import matplotlib.pyplot as plt\n",
    "from meteostat import Point, Daily, Hourly\n",
    "import numpy as np\n",
    "import pandas as pd"
   ]
  },
  {
   "cell_type": "code",
   "execution_count": 8,
   "metadata": {},
   "outputs": [
    {
     "data": {
      "text/html": [
       "<div>\n",
       "<style scoped>\n",
       "    .dataframe tbody tr th:only-of-type {\n",
       "        vertical-align: middle;\n",
       "    }\n",
       "\n",
       "    .dataframe tbody tr th {\n",
       "        vertical-align: top;\n",
       "    }\n",
       "\n",
       "    .dataframe thead th {\n",
       "        text-align: right;\n",
       "    }\n",
       "</style>\n",
       "<table border=\"1\" class=\"dataframe\">\n",
       "  <thead>\n",
       "    <tr style=\"text-align: right;\">\n",
       "      <th></th>\n",
       "      <th>circuit_name</th>\n",
       "      <th>deenergize_time</th>\n",
       "      <th>restoration_time</th>\n",
       "      <th>time_out_min</th>\n",
       "      <th>key_communities</th>\n",
       "      <th>hftd_tier</th>\n",
       "      <th>total_affected</th>\n",
       "      <th>residential_affected</th>\n",
       "      <th>zip_code</th>\n",
       "      <th>longitude</th>\n",
       "      <th>latitude</th>\n",
       "      <th>substn_present</th>\n",
       "      <th>total_population</th>\n",
       "    </tr>\n",
       "  </thead>\n",
       "  <tbody>\n",
       "    <tr>\n",
       "      <th>0</th>\n",
       "      <td>APPLE HILL-1103</td>\n",
       "      <td>2018-10-14 21:00:00</td>\n",
       "      <td>2018-10-15 16:29:00.000000000</td>\n",
       "      <td>1169.0</td>\n",
       "      <td>Camino, Placerville</td>\n",
       "      <td>3.0</td>\n",
       "      <td>1809.0</td>\n",
       "      <td>1488.0</td>\n",
       "      <td>95709</td>\n",
       "      <td>-120.677165</td>\n",
       "      <td>38.739683</td>\n",
       "      <td>True</td>\n",
       "      <td>5634.0</td>\n",
       "    </tr>\n",
       "    <tr>\n",
       "      <th>1</th>\n",
       "      <td>APPLE HILL-1104</td>\n",
       "      <td>2018-10-14 21:17:00</td>\n",
       "      <td>2018-10-15 18:37:00.000000000</td>\n",
       "      <td>1280.0</td>\n",
       "      <td>Camino, Placerville, Pollock Pines,</td>\n",
       "      <td>3.0</td>\n",
       "      <td>2261.0</td>\n",
       "      <td>2043.0</td>\n",
       "      <td>95709</td>\n",
       "      <td>-120.677165</td>\n",
       "      <td>38.739683</td>\n",
       "      <td>True</td>\n",
       "      <td>5634.0</td>\n",
       "    </tr>\n",
       "    <tr>\n",
       "      <th>2</th>\n",
       "      <td>APPLE HILL-2102</td>\n",
       "      <td>2018-10-14 21:05:00</td>\n",
       "      <td>2018-10-16 18:04:00.000000000</td>\n",
       "      <td>2699.0</td>\n",
       "      <td>Camino, Grizzly Flats, Mount Aukum, Placervill...</td>\n",
       "      <td>3.0</td>\n",
       "      <td>4489.0</td>\n",
       "      <td>4013.0</td>\n",
       "      <td>95709</td>\n",
       "      <td>-120.677165</td>\n",
       "      <td>38.739683</td>\n",
       "      <td>True</td>\n",
       "      <td>5634.0</td>\n",
       "    </tr>\n",
       "    <tr>\n",
       "      <th>3</th>\n",
       "      <td>BONNIE NOOK-1102</td>\n",
       "      <td>2018-10-14 21:54:00</td>\n",
       "      <td>2018-10-15 18:04:00.000000000</td>\n",
       "      <td>1210.0</td>\n",
       "      <td>Alta</td>\n",
       "      <td>3.0</td>\n",
       "      <td>533.0</td>\n",
       "      <td>454.0</td>\n",
       "      <td>95701</td>\n",
       "      <td>-120.809292</td>\n",
       "      <td>39.214708</td>\n",
       "      <td>True</td>\n",
       "      <td>1064.0</td>\n",
       "    </tr>\n",
       "    <tr>\n",
       "      <th>4</th>\n",
       "      <td>CALISTOGA-1101</td>\n",
       "      <td>2018-10-14 20:34:00</td>\n",
       "      <td>2018-10-15 21:27:00.000000000</td>\n",
       "      <td>1493.0</td>\n",
       "      <td>Calistoga</td>\n",
       "      <td>3.0</td>\n",
       "      <td>1596.0</td>\n",
       "      <td>1216.0</td>\n",
       "      <td>94515</td>\n",
       "      <td>-122.578610</td>\n",
       "      <td>38.592088</td>\n",
       "      <td>True</td>\n",
       "      <td>7525.0</td>\n",
       "    </tr>\n",
       "  </tbody>\n",
       "</table>\n",
       "</div>"
      ],
      "text/plain": [
       "       circuit_name      deenergize_time               restoration_time  \\\n",
       "0   APPLE HILL-1103  2018-10-14 21:00:00  2018-10-15 16:29:00.000000000   \n",
       "1   APPLE HILL-1104  2018-10-14 21:17:00  2018-10-15 18:37:00.000000000   \n",
       "2   APPLE HILL-2102  2018-10-14 21:05:00  2018-10-16 18:04:00.000000000   \n",
       "3  BONNIE NOOK-1102  2018-10-14 21:54:00  2018-10-15 18:04:00.000000000   \n",
       "4    CALISTOGA-1101  2018-10-14 20:34:00  2018-10-15 21:27:00.000000000   \n",
       "\n",
       "   time_out_min                                    key_communities  hftd_tier  \\\n",
       "0        1169.0                                Camino, Placerville        3.0   \n",
       "1        1280.0                Camino, Placerville, Pollock Pines,        3.0   \n",
       "2        2699.0  Camino, Grizzly Flats, Mount Aukum, Placervill...        3.0   \n",
       "3        1210.0                                               Alta        3.0   \n",
       "4        1493.0                                          Calistoga        3.0   \n",
       "\n",
       "   total_affected  residential_affected  zip_code   longitude   latitude  \\\n",
       "0          1809.0                1488.0     95709 -120.677165  38.739683   \n",
       "1          2261.0                2043.0     95709 -120.677165  38.739683   \n",
       "2          4489.0                4013.0     95709 -120.677165  38.739683   \n",
       "3           533.0                 454.0     95701 -120.809292  39.214708   \n",
       "4          1596.0                1216.0     94515 -122.578610  38.592088   \n",
       "\n",
       "   substn_present  total_population  \n",
       "0            True            5634.0  \n",
       "1            True            5634.0  \n",
       "2            True            5634.0  \n",
       "3            True            1064.0  \n",
       "4            True            7525.0  "
      ]
     },
     "execution_count": 8,
     "metadata": {},
     "output_type": "execute_result"
    }
   ],
   "source": [
    "data = pd.read_csv(\"../processed/processed-shutoffs.csv\")\n",
    "data.head()"
   ]
  },
  {
   "cell_type": "code",
   "execution_count": 21,
   "metadata": {},
   "outputs": [],
   "source": [
    "data[\"deenergize_time\"] = pd.to_datetime(data[\"deenergize_time\"])\n",
    "data[\"restoration_time\"] = pd.to_datetime(data[\"restoration_time\"])\n",
    "data[\"deenergize_date\"] = data[\"deenergize_time\"].dt.date\n",
    "data[\"restoration_date\"] = data[\"restoration_time\"].dt.date\n"
   ]
  },
  {
   "cell_type": "code",
   "execution_count": 78,
   "metadata": {},
   "outputs": [
    {
     "data": {
      "text/plain": [
       "Timestamp('2018-10-14 00:00:00')"
      ]
     },
     "execution_count": 78,
     "metadata": {},
     "output_type": "execute_result"
    }
   ],
   "source": [
    "pd.to_datetime(data.loc[i, \"deenergize_date\"])"
   ]
  },
  {
   "cell_type": "code",
   "execution_count": 115,
   "metadata": {},
   "outputs": [],
   "source": [
    "missing = {}\n",
    "full_data = {}\n",
    "weather_present = {}\n",
    "tmin_missing = {}\n",
    "tmax_missing = {}\n",
    "wspd_missing = {}\n",
    "daily = {}\n",
    "for i in range(data.shape[0]):\n",
    "    point_1 = Point(data.loc[i, \"latitude\"], data.loc[i, \"longitude\"])\n",
    "    start = pd.to_datetime(data.loc[i, \"deenergize_date\"]) - timedelta(days=5)\n",
    "    end = pd.to_datetime(data.loc[i, \"deenergize_date\"])\n",
    "    # weather = Hourly(point_1, start, end)\n",
    "    weather = Daily(point_1, start, end)\n",
    "    weather = weather.fetch()\n",
    "    # if weather.shape[0] == 0:\n",
    "    #     weather = Daily(point_1, start, end)\n",
    "    #     weather = weather.fetch()\n",
    "    if weather.shape[0] == 0:\n",
    "        missing[i] = data.loc[i, [\"circuit_name\", \"deenergize_time\", \"latitude\", \"longitude\"]]\n",
    "    #     daily[i] = weather\n",
    "    elif weather.shape[0] >= 5:\n",
    "        if weather.shape[0] > 5:\n",
    "            weather = weather.loc[start.date(): end.date() - timedelta(days=1), :]\n",
    "            assert weather.shape[0] == 5\n",
    "        if sum(weather[\"tmin\"].isna()) > 0:\n",
    "            tmin_missing[i] = data.loc[i, [\"circuit_name\",\n",
    "                                \"deenergize_time\", \"latitude\", \"longitude\"]]\n",
    "        if sum(weather[\"tmax\"].isna()) > 0:\n",
    "            tmax_missing[i] = data.loc[i, [\"circuit_name\",\n",
    "                               \"deenergize_time\", \"latitude\", \"longitude\"]]\n",
    "        if sum(weather[\"wspd\"].isna()) > 0:\n",
    "            wspd_missing[i] = data.loc[i, [\"circuit_name\", \"deenergize_time\", \"latitude\", \"longitude\"]]\n",
    "        if sum(np.sum(weather[[\"tmin\", \"tmax\", \"wspd\"]].isna(), axis=1)) == 0:\n",
    "            full_data[i] = data.loc[i, [\"circuit_name\", \"deenergize_time\", \"latitude\", \"longitude\"]]\n",
    "            daily[i] = weather\n",
    "    else:\n",
    "        weather_present[i] = data.loc[i, [\"circuit_name\", \"deenergize_time\", \"latitude\", \"longitude\"]]\n",
    "        "
   ]
  },
  {
   "cell_type": "code",
   "execution_count": 116,
   "metadata": {},
   "outputs": [],
   "source": [
    "missing = pd.DataFrame(missing)\n",
    "missing.T.to_csv(\"missing_weather.csv\")\n",
    "\n"
   ]
  },
  {
   "cell_type": "code",
   "execution_count": 120,
   "metadata": {},
   "outputs": [],
   "source": [
    "full_data = pd.DataFrame(full_data)\n",
    "full_data.T.to_csv(\"full_weather.csv\")"
   ]
  },
  {
   "cell_type": "code",
   "execution_count": 121,
   "metadata": {},
   "outputs": [],
   "source": [
    "weather_present = pd.DataFrame(weather_present)\n",
    "weather_present.T.to_csv(\"some_missing_weather.csv\")\n",
    "tmin_missing = pd.DataFrame(tmin_missing)\n",
    "tmin_missing.T.to_csv(\"tmin_missing.csv\")\n",
    "tmax_missing = pd.DataFrame(tmax_missing)\n",
    "tmax_missing.T.to_csv(\"tmax_missing.csv\")\n",
    "wspd_missing = pd.DataFrame(wspd_missing)\n",
    "wspd_missing.T.to_csv(\"wspd_missing.csv\")\n"
   ]
  },
  {
   "cell_type": "code",
   "execution_count": 123,
   "metadata": {},
   "outputs": [],
   "source": [
    "for i in list(daily.keys()):\n",
    "    shutoff = data.iloc[i, :]\n",
    "    filename = f\"raw/daily/weather_{shutoff['circuit_name']}_{shutoff['deenergize_date']}.csv\"\n",
    "    weather = daily[i]\n",
    "    weather.to_csv(filename)\n",
    "    "
   ]
  },
  {
   "cell_type": "code",
   "execution_count": 51,
   "metadata": {},
   "outputs": [],
   "source": [
    "# for i in list(hourly.keys()):\n",
    "#     shutoff = data.iloc[i, :]\n",
    "#     filename = f\"raw/hourly/weather_{shutoff['circuit_name']}_{shutoff['deenergize_date']}_hourly.csv\"\n",
    "#     weather = hourly[i]\n",
    "#     weather.to_csv(filename)\n"
   ]
  }
 ],
 "metadata": {
  "kernelspec": {
   "display_name": "Python 3.10.4 ('cs229')",
   "language": "python",
   "name": "python3"
  },
  "language_info": {
   "codemirror_mode": {
    "name": "ipython",
    "version": 3
   },
   "file_extension": ".py",
   "mimetype": "text/x-python",
   "name": "python",
   "nbconvert_exporter": "python",
   "pygments_lexer": "ipython3",
   "version": "3.10.4"
  },
  "orig_nbformat": 4,
  "vscode": {
   "interpreter": {
    "hash": "7186ba56973fd25f07cab8476ab4407a9ee7755128ace21b3d3a9e1bf9b8bced"
   }
  }
 },
 "nbformat": 4,
 "nbformat_minor": 2
}
