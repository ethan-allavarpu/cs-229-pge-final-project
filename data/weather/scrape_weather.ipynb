{
 "cells": [
  {
   "cell_type": "code",
   "execution_count": 344,
   "metadata": {},
   "outputs": [],
   "source": [
    "from datetime import datetime, timedelta\n",
    "import matplotlib.pyplot as plt\n",
    "from meteostat import Point, Daily, Hourly\n",
    "import numpy as np\n",
    "import pandas as pd\n",
    "import geopy.distance\n",
    "import glob"
   ]
  },
  {
   "cell_type": "code",
   "execution_count": 8,
   "metadata": {},
   "outputs": [
    {
     "data": {
      "text/html": [
       "<div>\n",
       "<style scoped>\n",
       "    .dataframe tbody tr th:only-of-type {\n",
       "        vertical-align: middle;\n",
       "    }\n",
       "\n",
       "    .dataframe tbody tr th {\n",
       "        vertical-align: top;\n",
       "    }\n",
       "\n",
       "    .dataframe thead th {\n",
       "        text-align: right;\n",
       "    }\n",
       "</style>\n",
       "<table border=\"1\" class=\"dataframe\">\n",
       "  <thead>\n",
       "    <tr style=\"text-align: right;\">\n",
       "      <th></th>\n",
       "      <th>circuit_name</th>\n",
       "      <th>deenergize_time</th>\n",
       "      <th>restoration_time</th>\n",
       "      <th>time_out_min</th>\n",
       "      <th>key_communities</th>\n",
       "      <th>hftd_tier</th>\n",
       "      <th>total_affected</th>\n",
       "      <th>residential_affected</th>\n",
       "      <th>zip_code</th>\n",
       "      <th>longitude</th>\n",
       "      <th>latitude</th>\n",
       "      <th>substn_present</th>\n",
       "      <th>total_population</th>\n",
       "    </tr>\n",
       "  </thead>\n",
       "  <tbody>\n",
       "    <tr>\n",
       "      <th>0</th>\n",
       "      <td>APPLE HILL-1103</td>\n",
       "      <td>2018-10-14 21:00:00</td>\n",
       "      <td>2018-10-15 16:29:00.000000000</td>\n",
       "      <td>1169.0</td>\n",
       "      <td>Camino, Placerville</td>\n",
       "      <td>3.0</td>\n",
       "      <td>1809.0</td>\n",
       "      <td>1488.0</td>\n",
       "      <td>95709</td>\n",
       "      <td>-120.677165</td>\n",
       "      <td>38.739683</td>\n",
       "      <td>True</td>\n",
       "      <td>5634.0</td>\n",
       "    </tr>\n",
       "    <tr>\n",
       "      <th>1</th>\n",
       "      <td>APPLE HILL-1104</td>\n",
       "      <td>2018-10-14 21:17:00</td>\n",
       "      <td>2018-10-15 18:37:00.000000000</td>\n",
       "      <td>1280.0</td>\n",
       "      <td>Camino, Placerville, Pollock Pines,</td>\n",
       "      <td>3.0</td>\n",
       "      <td>2261.0</td>\n",
       "      <td>2043.0</td>\n",
       "      <td>95709</td>\n",
       "      <td>-120.677165</td>\n",
       "      <td>38.739683</td>\n",
       "      <td>True</td>\n",
       "      <td>5634.0</td>\n",
       "    </tr>\n",
       "    <tr>\n",
       "      <th>2</th>\n",
       "      <td>APPLE HILL-2102</td>\n",
       "      <td>2018-10-14 21:05:00</td>\n",
       "      <td>2018-10-16 18:04:00.000000000</td>\n",
       "      <td>2699.0</td>\n",
       "      <td>Camino, Grizzly Flats, Mount Aukum, Placervill...</td>\n",
       "      <td>3.0</td>\n",
       "      <td>4489.0</td>\n",
       "      <td>4013.0</td>\n",
       "      <td>95709</td>\n",
       "      <td>-120.677165</td>\n",
       "      <td>38.739683</td>\n",
       "      <td>True</td>\n",
       "      <td>5634.0</td>\n",
       "    </tr>\n",
       "    <tr>\n",
       "      <th>3</th>\n",
       "      <td>BONNIE NOOK-1102</td>\n",
       "      <td>2018-10-14 21:54:00</td>\n",
       "      <td>2018-10-15 18:04:00.000000000</td>\n",
       "      <td>1210.0</td>\n",
       "      <td>Alta</td>\n",
       "      <td>3.0</td>\n",
       "      <td>533.0</td>\n",
       "      <td>454.0</td>\n",
       "      <td>95701</td>\n",
       "      <td>-120.809292</td>\n",
       "      <td>39.214708</td>\n",
       "      <td>True</td>\n",
       "      <td>1064.0</td>\n",
       "    </tr>\n",
       "    <tr>\n",
       "      <th>4</th>\n",
       "      <td>CALISTOGA-1101</td>\n",
       "      <td>2018-10-14 20:34:00</td>\n",
       "      <td>2018-10-15 21:27:00.000000000</td>\n",
       "      <td>1493.0</td>\n",
       "      <td>Calistoga</td>\n",
       "      <td>3.0</td>\n",
       "      <td>1596.0</td>\n",
       "      <td>1216.0</td>\n",
       "      <td>94515</td>\n",
       "      <td>-122.578610</td>\n",
       "      <td>38.592088</td>\n",
       "      <td>True</td>\n",
       "      <td>7525.0</td>\n",
       "    </tr>\n",
       "  </tbody>\n",
       "</table>\n",
       "</div>"
      ],
      "text/plain": [
       "       circuit_name      deenergize_time               restoration_time  \\\n",
       "0   APPLE HILL-1103  2018-10-14 21:00:00  2018-10-15 16:29:00.000000000   \n",
       "1   APPLE HILL-1104  2018-10-14 21:17:00  2018-10-15 18:37:00.000000000   \n",
       "2   APPLE HILL-2102  2018-10-14 21:05:00  2018-10-16 18:04:00.000000000   \n",
       "3  BONNIE NOOK-1102  2018-10-14 21:54:00  2018-10-15 18:04:00.000000000   \n",
       "4    CALISTOGA-1101  2018-10-14 20:34:00  2018-10-15 21:27:00.000000000   \n",
       "\n",
       "   time_out_min                                    key_communities  hftd_tier  \\\n",
       "0        1169.0                                Camino, Placerville        3.0   \n",
       "1        1280.0                Camino, Placerville, Pollock Pines,        3.0   \n",
       "2        2699.0  Camino, Grizzly Flats, Mount Aukum, Placervill...        3.0   \n",
       "3        1210.0                                               Alta        3.0   \n",
       "4        1493.0                                          Calistoga        3.0   \n",
       "\n",
       "   total_affected  residential_affected  zip_code   longitude   latitude  \\\n",
       "0          1809.0                1488.0     95709 -120.677165  38.739683   \n",
       "1          2261.0                2043.0     95709 -120.677165  38.739683   \n",
       "2          4489.0                4013.0     95709 -120.677165  38.739683   \n",
       "3           533.0                 454.0     95701 -120.809292  39.214708   \n",
       "4          1596.0                1216.0     94515 -122.578610  38.592088   \n",
       "\n",
       "   substn_present  total_population  \n",
       "0            True            5634.0  \n",
       "1            True            5634.0  \n",
       "2            True            5634.0  \n",
       "3            True            1064.0  \n",
       "4            True            7525.0  "
      ]
     },
     "execution_count": 8,
     "metadata": {},
     "output_type": "execute_result"
    }
   ],
   "source": [
    "data = pd.read_csv(\"../processed/processed-shutoffs.csv\")\n",
    "data.head()"
   ]
  },
  {
   "cell_type": "code",
   "execution_count": 21,
   "metadata": {},
   "outputs": [],
   "source": [
    "data[\"deenergize_time\"] = pd.to_datetime(data[\"deenergize_time\"])\n",
    "data[\"restoration_time\"] = pd.to_datetime(data[\"restoration_time\"])\n",
    "data[\"deenergize_date\"] = data[\"deenergize_time\"].dt.date\n",
    "data[\"restoration_date\"] = data[\"restoration_time\"].dt.date\n"
   ]
  },
  {
   "cell_type": "code",
   "execution_count": 370,
   "metadata": {},
   "outputs": [],
   "source": [
    "missing = {}\n",
    "full_data = {}\n",
    "weather_present = {}\n",
    "tmin_missing = {}\n",
    "tmax_missing = {}\n",
    "wspd_missing = {}\n",
    "daily = {}\n",
    "for i in range(data.shape[0]):\n",
    "    point_1 = Point(data.loc[i, \"latitude\"], data.loc[i, \"longitude\"])\n",
    "    start = pd.to_datetime(data.loc[i, \"deenergize_date\"]) - timedelta(days=5)\n",
    "    end = pd.to_datetime(data.loc[i, \"deenergize_date\"])\n",
    "    # weather = Hourly(point_1, start, end)\n",
    "    weather = Daily(point_1, start, end)\n",
    "    weather = weather.fetch()\n",
    "    # if weather.shape[0] == 0:\n",
    "    #     weather = Daily(point_1, start, end)\n",
    "    #     weather = weather.fetch()\n",
    "    if weather.shape[0] == 0:\n",
    "        missing[i] = data.loc[i, [\"circuit_name\", \"deenergize_time\", \"latitude\", \"longitude\"]]\n",
    "    #     daily[i] = weather\n",
    "    elif weather.shape[0] >= 5:\n",
    "        if weather.shape[0] > 5:\n",
    "            weather = weather.loc[start.date(): end.date() - timedelta(days=1), :]\n",
    "            assert weather.shape[0] == 5\n",
    "        if sum(weather[\"tmin\"].isna()) > 0:\n",
    "            tmin_missing[i] = data.loc[i, [\"circuit_name\",\n",
    "                                \"deenergize_time\", \"latitude\", \"longitude\"]]\n",
    "        if sum(weather[\"tmax\"].isna()) > 0:\n",
    "            tmax_missing[i] = data.loc[i, [\"circuit_name\",\n",
    "                               \"deenergize_time\", \"latitude\", \"longitude\"]]\n",
    "        if sum(weather[\"wspd\"].isna()) > 0:\n",
    "            wspd_missing[i] = data.loc[i, [\"circuit_name\", \"deenergize_time\", \"latitude\", \"longitude\"]]\n",
    "        if sum(np.sum(weather[[\"tmin\", \"tmax\", \"wspd\"]].isna(), axis=1)) == 0:\n",
    "            full_data[i] = data.loc[i, [\"circuit_name\", \"deenergize_time\", \"latitude\", \"longitude\"]]\n",
    "            weather[\"circuit_name\"] = data.loc[i, \"circuit_name\"]\n",
    "            weather[\"deenergize_time\"] = data.loc[i, \"deenergize_time\"]\n",
    "            weather[\"source_circuit_name\"] = data.loc[i, \"circuit_name\"]\n",
    "            weather[\"source_deenergize_time\"] = data.loc[i, \"deenergize_time\"]\n",
    "            weather[\"approximated\"] = False\n",
    "            daily[i] = weather\n",
    "    else:\n",
    "        weather_present[i] = data.loc[i, [\"circuit_name\", \"deenergize_time\", \"latitude\", \"longitude\"]]\n",
    "        "
   ]
  },
  {
   "cell_type": "code",
   "execution_count": 371,
   "metadata": {},
   "outputs": [],
   "source": [
    "full_data = pd.DataFrame(full_data).T\n",
    "full_data.to_csv(\"full_weather.csv\")\n",
    "missing = pd.DataFrame(missing).T\n",
    "missing.to_csv(\"missing_weather.csv\")\n",
    "weather_present = pd.DataFrame(weather_present).T\n",
    "weather_present.to_csv(\"some_missing_weather.csv\")\n",
    "tmin_missing = pd.DataFrame(tmin_missing).T\n",
    "tmin_missing.to_csv(\"tmin_missing.csv\")\n",
    "tmax_missing = pd.DataFrame(tmax_missing).T\n",
    "tmax_missing.to_csv(\"tmax_missing.csv\")\n",
    "wspd_missing = pd.DataFrame(wspd_missing).T\n",
    "wspd_missing.to_csv(\"wspd_missing.csv\")\n"
   ]
  },
  {
   "cell_type": "code",
   "execution_count": 427,
   "metadata": {},
   "outputs": [],
   "source": [
    "for i in list(daily.keys()):\n",
    "    shutoff = data.iloc[i, :]\n",
    "    filename = f\"raw/daily/weather_{i}_{shutoff['circuit_name']}_{shutoff['deenergize_date']}.csv\"\n",
    "    weather = daily[i]\n",
    "    assert os.path.isfile(filename) == False\n",
    "    weather.to_csv(filename)\n",
    "    "
   ]
  },
  {
   "cell_type": "code",
   "execution_count": 373,
   "metadata": {},
   "outputs": [],
   "source": [
    "# for i in list(hourly.keys()):\n",
    "#     shutoff = data.iloc[i, :]\n",
    "#     filename = f\"raw/hourly/weather_{shutoff['circuit_name']}_{shutoff['deenergize_date']}_hourly.csv\"\n",
    "#     weather = hourly[i]\n",
    "#     weather.to_csv(filename)\n"
   ]
  },
  {
   "cell_type": "code",
   "execution_count": 483,
   "metadata": {},
   "outputs": [],
   "source": [
    "# Replace stations that are entirely missing weather data with a copy\n",
    "# of their nearest neighbor's weather\n",
    "\n",
    "knn_missing = {}\n",
    "to_drop = {}\n",
    "for i in missing.index:\n",
    "    de_time = missing.loc[i, \"deenergize_time\"].date()\n",
    "    dist = full_data[full_data[\"deenergize_time\"].dt.date == de_time].apply(lambda row: geopy.distance.geodesic(\n",
    "        (row[\"latitude\"], row[\"longitude\"]),\n",
    "        (missing.loc[i, \"latitude\"],\n",
    "         missing.loc[i, \"longitude\"])).miles,\n",
    "        axis=1)\n",
    "    if len(dist) == 0:\n",
    "        to_drop[i] = missing.loc[i]\n",
    "        continue\n",
    "    min_idx = dist.idxmin()\n",
    "    dist = min(dist)\n",
    "    if dist > 60:\n",
    "        to_drop[i] = missing.loc[i]\n",
    "        continue\n",
    "    knn_missing[i] = {\n",
    "        \"distance\": dist,\n",
    "        \"min_idx\": min_idx,\n",
    "        \"closest_circuit_name\": full_data.loc[min_idx].loc[\"circuit_name\"],\n",
    "        \"closest_deenergize_time\": full_data.loc[min_idx].loc[\"deenergize_time\"],\n",
    "        \"closest_latitude\": full_data.loc[min_idx].loc[\"latitude\"],\n",
    "        \"closest_longitude\": full_data.loc[min_idx].loc[\"longitude\"]\n",
    "    }\n"
   ]
  },
  {
   "cell_type": "code",
   "execution_count": 506,
   "metadata": {},
   "outputs": [],
   "source": [
    "# Join to get rest for information\n",
    "knn_missing = pd.DataFrame(knn_missing).T.join(missing)\n",
    "\n",
    "# Create copy of weather from nearest neighbor, write to disk\n",
    "for i in knn_missing.index:\n",
    "    file_name = glob.glob(\n",
    "        f\"raw/daily/weather_{knn_missing['min_idx'].loc[i]}_{knn_missing['closest_circuit_name'].loc[i]}_{str(knn_missing['closest_deenergize_time'].loc[i].date())}.csv\")\n",
    "    assert len(file_name) == 1\n",
    "    curr_weather = pd.read_csv(file_name[0])\n",
    "    curr_weather[\"circuit_name\"] = knn_missing['circuit_name'].loc[i]\n",
    "    curr_weather[\"deenergize_time\"] = knn_missing['deenergize_time'].loc[i]\n",
    "    curr_weather[\"source_circuit_name\"] = knn_missing['closest_circuit_name'].loc[i]\n",
    "    curr_weather[\"source_deenergize_time\"] = knn_missing['closest_deenergize_time'].loc[i]\n",
    "    curr_weather[\"approximated\"] = True\n",
    "    curr_weather.to_csv(\n",
    "        f\"raw/daily/weather_{i}_{knn_missing['circuit_name'].loc[i]}_{str(knn_missing['deenergize_time'].loc[i].date())}.csv\")\n"
   ]
  },
  {
   "cell_type": "code",
   "execution_count": 509,
   "metadata": {},
   "outputs": [
    {
     "data": {
      "text/plain": [
       "36"
      ]
     },
     "execution_count": 509,
     "metadata": {},
     "output_type": "execute_result"
    }
   ],
   "source": [
    "len(to_drop)"
   ]
  },
  {
   "cell_type": "code",
   "execution_count": 508,
   "metadata": {},
   "outputs": [
    {
     "data": {
      "text/plain": [
       "1556"
      ]
     },
     "execution_count": 508,
     "metadata": {},
     "output_type": "execute_result"
    }
   ],
   "source": [
    "len(os.listdir(\"raw/daily\"))"
   ]
  },
  {
   "cell_type": "code",
   "execution_count": 510,
   "metadata": {},
   "outputs": [
    {
     "data": {
      "text/plain": [
       "2137"
      ]
     },
     "execution_count": 510,
     "metadata": {},
     "output_type": "execute_result"
    }
   ],
   "source": [
    "data.shape[0]"
   ]
  },
  {
   "cell_type": "code",
   "execution_count": 511,
   "metadata": {},
   "outputs": [
    {
     "data": {
      "text/plain": [
       "0.7281235376696303"
      ]
     },
     "execution_count": 511,
     "metadata": {},
     "output_type": "execute_result"
    }
   ],
   "source": [
    "1556/2137"
   ]
  },
  {
   "cell_type": "code",
   "execution_count": 522,
   "metadata": {},
   "outputs": [],
   "source": [
    "remaining_idx = list(tmax_missing.index).append(\n",
    "    list(tmin_missing.index))\n"
   ]
  },
  {
   "cell_type": "code",
   "execution_count": null,
   "metadata": {},
   "outputs": [],
   "source": [
    "remaining_idx.append(list(wspd_missing.index))\n"
   ]
  },
  {
   "cell_type": "code",
   "execution_count": 517,
   "metadata": {},
   "outputs": [
    {
     "data": {
      "text/plain": [
       "{190,\n",
       " 195,\n",
       " 196,\n",
       " 197,\n",
       " 198,\n",
       " 199,\n",
       " 200,\n",
       " 201,\n",
       " 221,\n",
       " 223,\n",
       " 224,\n",
       " 248,\n",
       " 265,\n",
       " 266,\n",
       " 271,\n",
       " 272,\n",
       " 289,\n",
       " 290,\n",
       " 291,\n",
       " 367,\n",
       " 368,\n",
       " 369,\n",
       " 456,\n",
       " 584,\n",
       " 585,\n",
       " 588,\n",
       " 589,\n",
       " 590,\n",
       " 591,\n",
       " 594,\n",
       " 595,\n",
       " 609,\n",
       " 622,\n",
       " 626,\n",
       " 627,\n",
       " 628,\n",
       " 629,\n",
       " 653,\n",
       " 703,\n",
       " 719,\n",
       " 727,\n",
       " 728,\n",
       " 742,\n",
       " 743,\n",
       " 751,\n",
       " 752,\n",
       " 753,\n",
       " 754,\n",
       " 755,\n",
       " 771,\n",
       " 772,\n",
       " 802,\n",
       " 803,\n",
       " 804,\n",
       " 805,\n",
       " 806,\n",
       " 828,\n",
       " 829,\n",
       " 833,\n",
       " 834,\n",
       " 835,\n",
       " 836,\n",
       " 837,\n",
       " 838,\n",
       " 839,\n",
       " 840,\n",
       " 841,\n",
       " 842,\n",
       " 851,\n",
       " 852,\n",
       " 853,\n",
       " 884,\n",
       " 885,\n",
       " 886,\n",
       " 887,\n",
       " 888,\n",
       " 889,\n",
       " 894,\n",
       " 895,\n",
       " 896,\n",
       " 897,\n",
       " 907,\n",
       " 908,\n",
       " 909,\n",
       " 936,\n",
       " 939,\n",
       " 940,\n",
       " 974,\n",
       " 975,\n",
       " 984,\n",
       " 985,\n",
       " 986,\n",
       " 987,\n",
       " 988,\n",
       " 1016,\n",
       " 1065,\n",
       " 1066,\n",
       " 1070,\n",
       " 1076,\n",
       " 1077,\n",
       " 1163,\n",
       " 1164,\n",
       " 1349,\n",
       " 1441,\n",
       " 1442,\n",
       " 1491,\n",
       " 1492,\n",
       " 1506,\n",
       " 1507,\n",
       " 1508,\n",
       " 1509,\n",
       " 1510,\n",
       " 1511,\n",
       " 1512,\n",
       " 1533,\n",
       " 1534,\n",
       " 1563,\n",
       " 1594,\n",
       " 1595,\n",
       " 1596,\n",
       " 1597,\n",
       " 1600,\n",
       " 1601,\n",
       " 1602,\n",
       " 1603,\n",
       " 1604,\n",
       " 1740,\n",
       " 1741,\n",
       " 1787,\n",
       " 1788,\n",
       " 2044,\n",
       " 2101,\n",
       " 2102}"
      ]
     },
     "execution_count": 517,
     "metadata": {},
     "output_type": "execute_result"
    }
   ],
   "source": [
    "set.intersection(*map(set,d))"
   ]
  },
  {
   "cell_type": "code",
   "execution_count": null,
   "metadata": {},
   "outputs": [],
   "source": []
  },
  {
   "cell_type": "code",
   "execution_count": 173,
   "metadata": {},
   "outputs": [],
   "source": [
    "# Replace stations that are missing some rows of weather with:\n",
    "# (a) copy of missing rows from nearest neighbor\n",
    "# (b) copy of missing weather data with a copy\n",
    "# of their nearest neighbor's weather\n",
    "\n",
    "knn_some_missing = {}\n",
    "for i in range(weather_present.shape[0]):\n",
    "    dist = full_data.apply(lambda row: geopy.distance.geodesic(\n",
    "        (row[\"latitude\"], row[\"longitude\"]),\n",
    "        (weather_present.iloc[i, :].loc[\"latitude\"],\n",
    "         weather_present.iloc[i, :].loc[\"longitude\"])),\n",
    "        axis=1)\n",
    "    min_idx = np.argmin(dist)\n",
    "    dist = min(dist)\n",
    "    knn_some_missing[i] = {\n",
    "        \"distance\": dist,\n",
    "        \"min_idx\": min_idx\n",
    "    }\n"
   ]
  }
 ],
 "metadata": {
  "kernelspec": {
   "display_name": "Python 3.10.4 ('cs229')",
   "language": "python",
   "name": "python3"
  },
  "language_info": {
   "codemirror_mode": {
    "name": "ipython",
    "version": 3
   },
   "file_extension": ".py",
   "mimetype": "text/x-python",
   "name": "python",
   "nbconvert_exporter": "python",
   "pygments_lexer": "ipython3",
   "version": "3.10.4"
  },
  "orig_nbformat": 4,
  "vscode": {
   "interpreter": {
    "hash": "7186ba56973fd25f07cab8476ab4407a9ee7755128ace21b3d3a9e1bf9b8bced"
   }
  }
 },
 "nbformat": 4,
 "nbformat_minor": 2
}
