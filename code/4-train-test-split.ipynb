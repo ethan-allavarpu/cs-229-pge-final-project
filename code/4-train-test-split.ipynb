{
 "cells": [
  {
   "cell_type": "code",
   "execution_count": 1,
   "metadata": {},
   "outputs": [],
   "source": [
    "import pandas as pd\n",
    "from sklearn.model_selection import train_test_split"
   ]
  },
  {
   "cell_type": "code",
   "execution_count": 8,
   "metadata": {},
   "outputs": [],
   "source": [
    "psps = pd.read_csv(\n",
    "    '../data/processed/processed-shutoffs-weather.csv', dtype=str\n",
    ").dropna()\n",
    "# Proper datetime conversion\n",
    "for col in ['deenergize_time', 'restoration_time']:\n",
    "    psps[col] = pd.to_datetime(psps[col], format='%Y-%m-%d %H:%M:%S')\n",
    "numeric_cols = [\n",
    "    'time_out_min', 'hftd_tier', 'total_affected', 'residential_affected',\n",
    "    'longitude', 'latitude', 'total_pop', 'median_age', 'median_income',\n",
    "    'white_pct', 'tmin_d-5', 'tmax_d-5', 'wspd_d-5', 'tmin_d-4', 'tmax_d-4',\n",
    "    'wspd_d-4', 'tmin_d-3', 'tmax_d-3', 'wspd_d-3', 'tmin_d-2', 'tmax_d-2',\n",
    "    'wspd_d-2', 'tmin_d-1', 'tmax_d-1', 'wspd_d-1'\n",
    "]\n",
    "# Proper float conversion\n",
    "for col in numeric_cols:\n",
    "    psps[col] = psps[col].astype(float)\n",
    "# Add day in year column (for the possibility of cyclical patterns/fire season)\n",
    "psps['day_in_year'] = [int(day) for day in psps.deenergize_time.dt.day_of_year]"
   ]
  },
  {
   "cell_type": "code",
   "execution_count": 3,
   "metadata": {},
   "outputs": [],
   "source": [
    "# Constant train-test split for reproducibility\n",
    "# 80-20 train-test\n",
    "x_train, x_test, y_train, y_test = train_test_split(\n",
    "    psps.drop(columns='time_out_min'),\n",
    "    psps.time_out_min,\n",
    "    test_size=0.2, random_state=229\n",
    ")"
   ]
  },
  {
   "cell_type": "code",
   "execution_count": 4,
   "metadata": {},
   "outputs": [],
   "source": [
    "x_train.to_csv(\"../data/processed/x_train.csv\")\n",
    "x_test.to_csv(\"../data/processed/x_test.csv\")\n",
    "y_train.to_csv(\"../data/processed/y_train.csv\")\n",
    "y_test.to_csv(\"../data/processed/y_test.csv\")"
   ]
  },
  {
   "cell_type": "code",
   "execution_count": 6,
   "metadata": {},
   "outputs": [],
   "source": [
    "# Make sure preliminary models test on the same features as they did for the milestone\n",
    "drop_cols = ['day_in_year', 'median_age', 'median_income', 'white_pct',\n",
    "             'tmin_d-5', 'tmax_d-5', 'wspd_d-5']\n",
    "x_train.drop(columns=drop_cols).to_csv(\"../data/processed/x_train-prelim.csv\")\n",
    "x_test.drop(columns=drop_cols).to_csv(\"../data/processed/x_test-prelim.csv\")"
   ]
  }
 ],
 "metadata": {
  "kernelspec": {
   "display_name": "Python 3 (ipykernel)",
   "language": "python",
   "name": "python3"
  },
  "language_info": {
   "codemirror_mode": {
    "name": "ipython",
    "version": 3
   },
   "file_extension": ".py",
   "mimetype": "text/x-python",
   "name": "python",
   "nbconvert_exporter": "python",
   "pygments_lexer": "ipython3",
   "version": "3.10.8"
  },
  "vscode": {
   "interpreter": {
    "hash": "aee8b7b246df8f9039afb4144a1f6fd8d2ca17a180786b69acc140d282b71a49"
   }
  }
 },
 "nbformat": 4,
 "nbformat_minor": 4
}
