{
 "cells": [
  {
   "cell_type": "code",
   "execution_count": 8,
   "metadata": {},
   "outputs": [],
   "source": [
    "import os\n",
    "import pandas as pd\n",
    "\n"
   ]
  },
  {
   "cell_type": "code",
   "execution_count": 13,
   "metadata": {},
   "outputs": [
    {
     "name": "stdout",
     "output_type": "stream",
     "text": [
      "                     deenergize_time               restoration_time  \\\n",
      "circuit_name                                                          \n",
      "APPLE HILL-1103  2018-10-14 21:00:00  2018-10-15 16:29:00.000000000   \n",
      "APPLE HILL-1104  2018-10-14 21:17:00  2018-10-15 18:37:00.000000000   \n",
      "APPLE HILL-2102  2018-10-14 21:05:00  2018-10-16 18:04:00.000000000   \n",
      "\n",
      "                time_out_min  \\\n",
      "circuit_name                   \n",
      "APPLE HILL-1103       1169.0   \n",
      "APPLE HILL-1104       1280.0   \n",
      "APPLE HILL-2102       2699.0   \n",
      "\n",
      "                                                   key_communities hftd_tier  \\\n",
      "circuit_name                                                                   \n",
      "APPLE HILL-1103                                Camino, Placerville       3.0   \n",
      "APPLE HILL-1104                Camino, Placerville, Pollock Pines,       3.0   \n",
      "APPLE HILL-2102  Camino, Grizzly Flats, Mount Aukum, Placervill...       3.0   \n",
      "\n",
      "                total_affected residential_affected zip_code  \\\n",
      "circuit_name                                                   \n",
      "APPLE HILL-1103         1809.0               1488.0    95709   \n",
      "APPLE HILL-1104         2261.0               2043.0    95709   \n",
      "APPLE HILL-2102         4489.0               4013.0    95709   \n",
      "\n",
      "                         longitude          latitude substn_present  \\\n",
      "circuit_name                                                          \n",
      "APPLE HILL-1103  -120.677165094886  38.7396829674102           True   \n",
      "APPLE HILL-1104  -120.677165094886  38.7396829674102           True   \n",
      "APPLE HILL-2102  -120.677165094886  38.7396829674102           True   \n",
      "\n",
      "                total_population  \n",
      "circuit_name                      \n",
      "APPLE HILL-1103           5634.0  \n",
      "APPLE HILL-1104           5634.0  \n",
      "APPLE HILL-2102           5634.0  \n"
     ]
    }
   ],
   "source": [
    "processed_shutoffs = pd.read_csv(\n",
    "    '../data/processed/processed-shutoffs.csv', index_col=0, dtype=str)\n",
    "print(processed_shutoffs.head(3))\n",
    "#pd.to_datetime\n",
    "weather = pd.DataFrame(columns = ['circuit_name', 'deenergize_time', 'tmin_d-4', 'tmin_d-3', 'tmin_d-2', \n",
    "'tmin_d-1', 'tmin_d-0', 'tmax_d-4', 'tmax_d-3', 'tmax_d-2','tmax_d-1', 'tmax_d-0', 'wspd_d-4', \n",
    "'wspd_d-3', 'wspd_d-2', 'wspd_d-1', 'wspd_d-0'])\n",
    "\n",
    "#os.listdir() to iterate through files\n",
    "\n",
    "# shutoffs_w_weather = pd.join(processed_shutoffs, weather, on = \"circuit_name\", deenergize_time)\n",
    "\n",
    "# shutoffs_w_weather.to_csv('../data/processed/processed-shutoffs-weather.csv', index=False)\n"
   ]
  },
  {
   "cell_type": "code",
   "execution_count": null,
   "metadata": {},
   "outputs": [],
   "source": []
  }
 ],
 "metadata": {
  "kernelspec": {
   "display_name": "Python 3.10.7 64-bit",
   "language": "python",
   "name": "python3"
  },
  "language_info": {
   "codemirror_mode": {
    "name": "ipython",
    "version": 3
   },
   "file_extension": ".py",
   "mimetype": "text/x-python",
   "name": "python",
   "nbconvert_exporter": "python",
   "pygments_lexer": "ipython3",
   "version": "3.10.7"
  },
  "orig_nbformat": 4,
  "vscode": {
   "interpreter": {
    "hash": "aee8b7b246df8f9039afb4144a1f6fd8d2ca17a180786b69acc140d282b71a49"
   }
  }
 },
 "nbformat": 4,
 "nbformat_minor": 2
}
