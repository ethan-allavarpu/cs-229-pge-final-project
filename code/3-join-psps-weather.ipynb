{
 "cells": [
  {
   "cell_type": "code",
   "execution_count": 8,
   "metadata": {},
   "outputs": [],
   "source": [
    "import os\n",
    "import pandas as pd"
   ]
  },
  {
   "cell_type": "code",
   "execution_count": 9,
   "metadata": {},
   "outputs": [],
   "source": [
    "processed_shutoffs = pd.read_csv(\n",
    "    '../data/processed/processed-shutoffs.csv', index_col=0, dtype=str)\n",
    "processed_shutoffs['deenergize_time_date'] = pd.to_datetime(processed_shutoffs['deenergize_time']).dt.date\n",
    "\n",
    "weather = pd.DataFrame(columns = ['circuit_name', 'deenergize_time_date', 'tmin_d-4', 'tmax_d-4', 'wspd_d-4',\n",
    "'tmin_d-3', 'tmax_d-3', 'wspd_d-3', 'tmin_d-2', 'tmax_d-2', 'wspd_d-2',\n",
    "'tmin_d-1', 'tmax_d-1', 'wspd_d-1', 'tmin_d-0', 'tmax_d-0', 'wspd_d-0'])\n",
    "\n",
    "raw_weather_files = os.listdir('../data/weather/raw/daily/')\n",
    "for i in raw_weather_files:\n",
    "    deenergize_time = pd.to_datetime(i.split('_')[2][0:-4])\n",
    "    new_circuit_row = pd.DataFrame(columns = ['circuit_name', 'deenergize_time_date', 'tmin_d-4', 'tmax_d-4', 'wspd_d-4',\n",
    "    'tmin_d-3', 'tmax_d-3', 'wspd_d-3', 'tmin_d-2', 'tmax_d-2', 'wspd_d-2',\n",
    "    'tmin_d-1', 'tmax_d-1', 'wspd_d-1', 'tmin_d-0', 'tmax_d-0', 'wspd_d-0'], index=range(1))\n",
    "    new_circuit_row['circuit_name'] = i.split('_')[1] \n",
    "    new_circuit_row['deenergize_time_date'] = deenergize_time\n",
    "    temp_df = pd.read_csv('../data/weather/raw/daily/' + i)\n",
    "    temp_df['time'] = pd.to_datetime(temp_df['time'])\n",
    "    for j in range(len(temp_df)):\n",
    "        # print(temp_df.iloc[j]['time'])\n",
    "        if (deenergize_time - temp_df.iloc[j]['time']).days == 4:\n",
    "            new_circuit_row['tmin_d-4'] = temp_df.iloc[j]['tmin']\n",
    "            new_circuit_row['tmax_d-4'] = temp_df.iloc[j]['tmax']\n",
    "            new_circuit_row['wspd_d-4'] = temp_df.iloc[j]['wspd']\n",
    "            # new_circuit_row.extend([temp_df.iloc[j]['tmin'], temp_df.iloc[j]['tmax'], temp_df.iloc[j]['wspd']])\n",
    "        elif (deenergize_time - temp_df.iloc[j]['time']).days == 3:\n",
    "            new_circuit_row['tmin_d-3'] = temp_df.iloc[j]['tmin']\n",
    "            new_circuit_row['tmax_d-3'] = temp_df.iloc[j]['tmax']\n",
    "            new_circuit_row['wspd_d-3'] = temp_df.iloc[j]['wspd']\n",
    "            # new_circuit_row.extend([temp_df.iloc[j]['tmin'], temp_df.iloc[j]['tmax'], temp_df.iloc[j]['wspd']])\n",
    "        elif (deenergize_time - temp_df.iloc[j]['time']).days == 2:\n",
    "            new_circuit_row['tmin_d-2'] = temp_df.iloc[j]['tmin']\n",
    "            new_circuit_row['tmax_d-2'] = temp_df.iloc[j]['tmax']\n",
    "            new_circuit_row['wspd_d-2'] = temp_df.iloc[j]['wspd']\n",
    "            # new_circuit_row.extend([temp_df.iloc[j]['tmin'], temp_df.iloc[j]['tmax'], temp_df.iloc[j]['wspd']])\n",
    "        elif (deenergize_time - temp_df.iloc[j]['time']).days == 1:\n",
    "            new_circuit_row['tmin_d-1'] = temp_df.iloc[j]['tmin']\n",
    "            new_circuit_row['tmax_d-1'] = temp_df.iloc[j]['tmax']\n",
    "            new_circuit_row['wspd_d-1'] = temp_df.iloc[j]['wspd']\n",
    "            # print(temp_df.iloc[j]['time'].date, 'deenergize-1', deenergize_time.date)\n",
    "            # new_circuit_row.extend([temp_df.iloc[j]['tmin'], temp_df.iloc[j]['tmax'], temp_df.iloc[j]['wspd']])\n",
    "        elif temp_df.iloc[j]['time'] == deenergize_time:\n",
    "            new_circuit_row['tmin_d-0'] = temp_df.iloc[j]['tmin']\n",
    "            new_circuit_row['tmax_d-0'] = temp_df.iloc[j]['tmax']\n",
    "            new_circuit_row['wspd_d-0'] = temp_df.iloc[j]['wspd']\n",
    "            # new_circuit_row.extend([temp_df.iloc[j]['tmin'], temp_df.iloc[j]['tmax'], temp_df.iloc[j]['wspd']])\n",
    "    weather = pd.concat([weather, new_circuit_row], ignore_index=True)\n"
   ]
  },
  {
   "cell_type": "code",
   "execution_count": 10,
   "metadata": {},
   "outputs": [],
   "source": [
    "processed_shutoffs.deenergize_time_date = pd.to_datetime(processed_shutoffs.deenergize_time_date, format='%Y-%m-%d %H:%M:%S')"
   ]
  },
  {
   "cell_type": "code",
   "execution_count": 11,
   "metadata": {},
   "outputs": [],
   "source": [
    "# processed_shutoffs.info()"
   ]
  },
  {
   "cell_type": "code",
   "execution_count": 12,
   "metadata": {},
   "outputs": [
    {
     "name": "stdout",
     "output_type": "stream",
     "text": [
      "length of dataframe:  1781\n",
      "circuit_name              0\n",
      "deenergize_time           0\n",
      "restoration_time          0\n",
      "time_out_min              0\n",
      "key_communities           0\n",
      "hftd_tier                 0\n",
      "total_affected            0\n",
      "residential_affected      0\n",
      "zip_code                  0\n",
      "longitude                 0\n",
      "latitude                  0\n",
      "substn_present            0\n",
      "total_population          0\n",
      "deenergize_time_date      0\n",
      "tmin_d-4                 33\n",
      "tmax_d-4                 33\n",
      "wspd_d-4                312\n",
      "tmin_d-3                 44\n",
      "tmax_d-3                 44\n",
      "wspd_d-3                359\n",
      "tmin_d-2                 56\n",
      "tmax_d-2                 56\n",
      "wspd_d-2                310\n",
      "tmin_d-1                113\n",
      "tmax_d-1                113\n",
      "wspd_d-1                363\n",
      "tmin_d-0                208\n",
      "tmax_d-0                208\n",
      "wspd_d-0                460\n",
      "dtype: int64\n"
     ]
    }
   ],
   "source": [
    "# weather.head(3)\n",
    "\n",
    "processed_shutoffs_weather = processed_shutoffs.merge(weather, how = 'inner', left_on = ['circuit_name', 'deenergize_time_date'], \n",
    "right_on = ['circuit_name', 'deenergize_time_date'])\n",
    "\n",
    "print(\"length of dataframe: \", len(processed_shutoffs_weather))\n",
    "print(processed_shutoffs_weather.isna().sum())\n"
   ]
  },
  {
   "cell_type": "code",
   "execution_count": 15,
   "metadata": {},
   "outputs": [],
   "source": [
    "processed_shutoffs_weather.drop(columns='deenergize_time_date').to_csv('../data/processed/processed-shutoffs-weather.csv', index=False)"
   ]
  }
 ],
 "metadata": {
  "kernelspec": {
   "display_name": "Python 3.10.7 64-bit",
   "language": "python",
   "name": "python3"
  },
  "language_info": {
   "codemirror_mode": {
    "name": "ipython",
    "version": 3
   },
   "file_extension": ".py",
   "mimetype": "text/x-python",
   "name": "python",
   "nbconvert_exporter": "python",
   "pygments_lexer": "ipython3",
   "version": "3.10.8"
  },
  "orig_nbformat": 4,
  "vscode": {
   "interpreter": {
    "hash": "aee8b7b246df8f9039afb4144a1f6fd8d2ca17a180786b69acc140d282b71a49"
   }
  }
 },
 "nbformat": 4,
 "nbformat_minor": 2
}
