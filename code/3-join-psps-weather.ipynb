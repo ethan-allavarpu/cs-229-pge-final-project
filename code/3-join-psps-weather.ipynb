{
 "cells": [
  {
   "cell_type": "code",
   "execution_count": 2,
   "metadata": {},
   "outputs": [],
   "source": [
    "import os\n",
    "import pandas as pd"
   ]
  },
  {
   "cell_type": "code",
   "execution_count": 18,
   "metadata": {},
   "outputs": [],
   "source": [
    "from cmath import nan\n",
    "\n",
    "processed_shutoffs = pd.read_csv(\n",
    "    '../data/processed/processed-shutoffs.csv', index_col=0, dtype=str)\n",
    "processed_shutoffs['deenergize_time'] = pd.to_datetime(processed_shutoffs['deenergize_time']).dt.date\n",
    "\n",
    "weather = pd.DataFrame(columns = ['circuit_name', 'deenergize_time', 'tmin_d-4', 'tmax_d-4', 'wspd_d-4',\n",
    "'tmin_d-3', 'tmax_d-3', 'wspd_d-3', 'tmin_d-2', 'tmax_d-2', 'wspd_d-2',\n",
    "'tmin_d-1', 'tmax_d-1', 'wspd_d-1', 'tmin_d-0', 'tmax_d-0', 'wspd_d-0'])\n",
    "\n",
    "raw_weather_files = os.listdir('../data/weather/raw/daily/')\n",
    "for i in raw_weather_files:\n",
    "    deenergize_time = pd.to_datetime(i.split('_')[2][0:-4])\n",
    "    new_circuit_row = pd.DataFrame(columns = ['circuit_name', 'deenergize_time', 'tmin_d-4', 'tmax_d-4', 'wspd_d-4',\n",
    "    'tmin_d-3', 'tmax_d-3', 'wspd_d-3', 'tmin_d-2', 'tmax_d-2', 'wspd_d-2',\n",
    "    'tmin_d-1', 'tmax_d-1', 'wspd_d-1', 'tmin_d-0', 'tmax_d-0', 'wspd_d-0'], index=range(1))\n",
    "    new_circuit_row['circuit_name'] = i.split('_')[1] \n",
    "    new_circuit_row['deenergize_time'] = deenergize_time\n",
    "    temp_df = pd.read_csv('../data/weather/raw/daily/' + i)\n",
    "    temp_df['time'] = pd.to_datetime(temp_df['time'])\n",
    "    for j in range(len(temp_df)):\n",
    "        # print(temp_df.iloc[j]['time'])\n",
    "        if (deenergize_time - temp_df.iloc[j]['time']).days == 4:\n",
    "            new_circuit_row['tmin_d-4'] = temp_df.iloc[j]['tmin']\n",
    "            new_circuit_row['tmax_d-4'] = temp_df.iloc[j]['tmax']\n",
    "            new_circuit_row['wspd_d-4'] = temp_df.iloc[j]['wspd']\n",
    "            # new_circuit_row.extend([temp_df.iloc[j]['tmin'], temp_df.iloc[j]['tmax'], temp_df.iloc[j]['wspd']])\n",
    "        elif (deenergize_time - temp_df.iloc[j]['time']).days == 3:\n",
    "            new_circuit_row['tmin_d-3'] = temp_df.iloc[j]['tmin']\n",
    "            new_circuit_row['tmax_d-3'] = temp_df.iloc[j]['tmax']\n",
    "            new_circuit_row['wspd_d-3'] = temp_df.iloc[j]['wspd']\n",
    "            # new_circuit_row.extend([temp_df.iloc[j]['tmin'], temp_df.iloc[j]['tmax'], temp_df.iloc[j]['wspd']])\n",
    "        elif (deenergize_time - temp_df.iloc[j]['time']).days == 2:\n",
    "            new_circuit_row['tmin_d-2'] = temp_df.iloc[j]['tmin']\n",
    "            new_circuit_row['tmax_d-2'] = temp_df.iloc[j]['tmax']\n",
    "            new_circuit_row['wspd_d-2'] = temp_df.iloc[j]['wspd']\n",
    "            # new_circuit_row.extend([temp_df.iloc[j]['tmin'], temp_df.iloc[j]['tmax'], temp_df.iloc[j]['wspd']])\n",
    "        elif (deenergize_time - temp_df.iloc[j]['time']).days == 1:\n",
    "            new_circuit_row['tmin_d-1'] = temp_df.iloc[j]['tmin']\n",
    "            new_circuit_row['tmax_d-1'] = temp_df.iloc[j]['tmax']\n",
    "            new_circuit_row['wspd_d-1'] = temp_df.iloc[j]['wspd']\n",
    "            # print(temp_df.iloc[j]['time'].date, 'deenergize-1', deenergize_time.date)\n",
    "            # new_circuit_row.extend([temp_df.iloc[j]['tmin'], temp_df.iloc[j]['tmax'], temp_df.iloc[j]['wspd']])\n",
    "        elif temp_df.iloc[j]['time'] == deenergize_time:\n",
    "            new_circuit_row['tmin_d-0'] = temp_df.iloc[j]['tmin']\n",
    "            new_circuit_row['tmax_d-0'] = temp_df.iloc[j]['tmax']\n",
    "            new_circuit_row['wspd_d-0'] = temp_df.iloc[j]['wspd']\n",
    "            # new_circuit_row.extend([temp_df.iloc[j]['tmin'], temp_df.iloc[j]['tmax'], temp_df.iloc[j]['wspd']])\n",
    "    weather = pd.concat([weather, new_circuit_row], ignore_index=True)\n"
   ]
  },
  {
   "cell_type": "code",
   "execution_count": 29,
   "metadata": {},
   "outputs": [
    {
     "ename": "ValueError",
     "evalue": "You are trying to merge on object and datetime64[ns] columns. If you wish to proceed you should use pd.concat",
     "output_type": "error",
     "traceback": [
      "\u001b[0;31m---------------------------------------------------------------------------\u001b[0m",
      "\u001b[0;31mValueError\u001b[0m                                Traceback (most recent call last)",
      "Cell \u001b[0;32mIn [29], line 3\u001b[0m\n\u001b[1;32m      1\u001b[0m \u001b[38;5;66;03m# weather.head(3)\u001b[39;00m\n\u001b[0;32m----> 3\u001b[0m \u001b[43mprocessed_shutoffs\u001b[49m\u001b[38;5;241;43m.\u001b[39;49m\u001b[43mmerge\u001b[49m\u001b[43m(\u001b[49m\u001b[43mweather\u001b[49m\u001b[43m,\u001b[49m\u001b[43m \u001b[49m\u001b[43mhow\u001b[49m\u001b[43m \u001b[49m\u001b[38;5;241;43m=\u001b[39;49m\u001b[43m \u001b[49m\u001b[38;5;124;43m'\u001b[39;49m\u001b[38;5;124;43minner\u001b[39;49m\u001b[38;5;124;43m'\u001b[39;49m\u001b[43m,\u001b[49m\u001b[43m \u001b[49m\u001b[43mleft_on\u001b[49m\u001b[43m \u001b[49m\u001b[38;5;241;43m=\u001b[39;49m\u001b[43m \u001b[49m\u001b[43m[\u001b[49m\u001b[38;5;124;43m'\u001b[39;49m\u001b[38;5;124;43mcircuit_name\u001b[39;49m\u001b[38;5;124;43m'\u001b[39;49m\u001b[43m,\u001b[49m\u001b[43m \u001b[49m\u001b[38;5;124;43m'\u001b[39;49m\u001b[38;5;124;43mdeenergize_time\u001b[39;49m\u001b[38;5;124;43m'\u001b[39;49m\u001b[43m]\u001b[49m\u001b[43m,\u001b[49m\u001b[43m \u001b[49m\n\u001b[1;32m      4\u001b[0m \u001b[43mright_on\u001b[49m\u001b[43m \u001b[49m\u001b[38;5;241;43m=\u001b[39;49m\u001b[43m \u001b[49m\u001b[43m[\u001b[49m\u001b[38;5;124;43m'\u001b[39;49m\u001b[38;5;124;43mcircuit_name\u001b[39;49m\u001b[38;5;124;43m'\u001b[39;49m\u001b[43m,\u001b[49m\u001b[43m \u001b[49m\u001b[38;5;124;43m'\u001b[39;49m\u001b[38;5;124;43mdeenergize_time\u001b[39;49m\u001b[38;5;124;43m'\u001b[39;49m\u001b[43m]\u001b[49m\u001b[43m)\u001b[49m\n",
      "File \u001b[0;32m/Library/Frameworks/Python.framework/Versions/3.10/lib/python3.10/site-packages/pandas/core/frame.py:10080\u001b[0m, in \u001b[0;36mDataFrame.merge\u001b[0;34m(self, right, how, on, left_on, right_on, left_index, right_index, sort, suffixes, copy, indicator, validate)\u001b[0m\n\u001b[1;32m  10061\u001b[0m \u001b[39m@Substitution\u001b[39m(\u001b[39m\"\u001b[39m\u001b[39m\"\u001b[39m)\n\u001b[1;32m  10062\u001b[0m \u001b[39m@Appender\u001b[39m(_merge_doc, indents\u001b[39m=\u001b[39m\u001b[39m2\u001b[39m)\n\u001b[1;32m  10063\u001b[0m \u001b[39mdef\u001b[39;00m \u001b[39mmerge\u001b[39m(\n\u001b[0;32m   (...)\u001b[0m\n\u001b[1;32m  10076\u001b[0m     validate: \u001b[39mstr\u001b[39m \u001b[39m|\u001b[39m \u001b[39mNone\u001b[39;00m \u001b[39m=\u001b[39m \u001b[39mNone\u001b[39;00m,\n\u001b[1;32m  10077\u001b[0m ) \u001b[39m-\u001b[39m\u001b[39m>\u001b[39m DataFrame:\n\u001b[1;32m  10078\u001b[0m     \u001b[39mfrom\u001b[39;00m \u001b[39mpandas\u001b[39;00m\u001b[39m.\u001b[39;00m\u001b[39mcore\u001b[39;00m\u001b[39m.\u001b[39;00m\u001b[39mreshape\u001b[39;00m\u001b[39m.\u001b[39;00m\u001b[39mmerge\u001b[39;00m \u001b[39mimport\u001b[39;00m merge\n\u001b[0;32m> 10080\u001b[0m     \u001b[39mreturn\u001b[39;00m merge(\n\u001b[1;32m  10081\u001b[0m         \u001b[39mself\u001b[39;49m,\n\u001b[1;32m  10082\u001b[0m         right,\n\u001b[1;32m  10083\u001b[0m         how\u001b[39m=\u001b[39;49mhow,\n\u001b[1;32m  10084\u001b[0m         on\u001b[39m=\u001b[39;49mon,\n\u001b[1;32m  10085\u001b[0m         left_on\u001b[39m=\u001b[39;49mleft_on,\n\u001b[1;32m  10086\u001b[0m         right_on\u001b[39m=\u001b[39;49mright_on,\n\u001b[1;32m  10087\u001b[0m         left_index\u001b[39m=\u001b[39;49mleft_index,\n\u001b[1;32m  10088\u001b[0m         right_index\u001b[39m=\u001b[39;49mright_index,\n\u001b[1;32m  10089\u001b[0m         sort\u001b[39m=\u001b[39;49msort,\n\u001b[1;32m  10090\u001b[0m         suffixes\u001b[39m=\u001b[39;49msuffixes,\n\u001b[1;32m  10091\u001b[0m         copy\u001b[39m=\u001b[39;49mcopy,\n\u001b[1;32m  10092\u001b[0m         indicator\u001b[39m=\u001b[39;49mindicator,\n\u001b[1;32m  10093\u001b[0m         validate\u001b[39m=\u001b[39;49mvalidate,\n\u001b[1;32m  10094\u001b[0m     )\n",
      "File \u001b[0;32m/Library/Frameworks/Python.framework/Versions/3.10/lib/python3.10/site-packages/pandas/core/reshape/merge.py:110\u001b[0m, in \u001b[0;36mmerge\u001b[0;34m(left, right, how, on, left_on, right_on, left_index, right_index, sort, suffixes, copy, indicator, validate)\u001b[0m\n\u001b[1;32m     93\u001b[0m \u001b[39m@Substitution\u001b[39m(\u001b[39m\"\u001b[39m\u001b[39m\\n\u001b[39;00m\u001b[39mleft : DataFrame or named Series\u001b[39m\u001b[39m\"\u001b[39m)\n\u001b[1;32m     94\u001b[0m \u001b[39m@Appender\u001b[39m(_merge_doc, indents\u001b[39m=\u001b[39m\u001b[39m0\u001b[39m)\n\u001b[1;32m     95\u001b[0m \u001b[39mdef\u001b[39;00m \u001b[39mmerge\u001b[39m(\n\u001b[0;32m   (...)\u001b[0m\n\u001b[1;32m    108\u001b[0m     validate: \u001b[39mstr\u001b[39m \u001b[39m|\u001b[39m \u001b[39mNone\u001b[39;00m \u001b[39m=\u001b[39m \u001b[39mNone\u001b[39;00m,\n\u001b[1;32m    109\u001b[0m ) \u001b[39m-\u001b[39m\u001b[39m>\u001b[39m DataFrame:\n\u001b[0;32m--> 110\u001b[0m     op \u001b[39m=\u001b[39m _MergeOperation(\n\u001b[1;32m    111\u001b[0m         left,\n\u001b[1;32m    112\u001b[0m         right,\n\u001b[1;32m    113\u001b[0m         how\u001b[39m=\u001b[39;49mhow,\n\u001b[1;32m    114\u001b[0m         on\u001b[39m=\u001b[39;49mon,\n\u001b[1;32m    115\u001b[0m         left_on\u001b[39m=\u001b[39;49mleft_on,\n\u001b[1;32m    116\u001b[0m         right_on\u001b[39m=\u001b[39;49mright_on,\n\u001b[1;32m    117\u001b[0m         left_index\u001b[39m=\u001b[39;49mleft_index,\n\u001b[1;32m    118\u001b[0m         right_index\u001b[39m=\u001b[39;49mright_index,\n\u001b[1;32m    119\u001b[0m         sort\u001b[39m=\u001b[39;49msort,\n\u001b[1;32m    120\u001b[0m         suffixes\u001b[39m=\u001b[39;49msuffixes,\n\u001b[1;32m    121\u001b[0m         indicator\u001b[39m=\u001b[39;49mindicator,\n\u001b[1;32m    122\u001b[0m         validate\u001b[39m=\u001b[39;49mvalidate,\n\u001b[1;32m    123\u001b[0m     )\n\u001b[1;32m    124\u001b[0m     \u001b[39mreturn\u001b[39;00m op\u001b[39m.\u001b[39mget_result(copy\u001b[39m=\u001b[39mcopy)\n",
      "File \u001b[0;32m/Library/Frameworks/Python.framework/Versions/3.10/lib/python3.10/site-packages/pandas/core/reshape/merge.py:707\u001b[0m, in \u001b[0;36m_MergeOperation.__init__\u001b[0;34m(self, left, right, how, on, left_on, right_on, axis, left_index, right_index, sort, suffixes, indicator, validate)\u001b[0m\n\u001b[1;32m    699\u001b[0m (\n\u001b[1;32m    700\u001b[0m     \u001b[39mself\u001b[39m\u001b[39m.\u001b[39mleft_join_keys,\n\u001b[1;32m    701\u001b[0m     \u001b[39mself\u001b[39m\u001b[39m.\u001b[39mright_join_keys,\n\u001b[1;32m    702\u001b[0m     \u001b[39mself\u001b[39m\u001b[39m.\u001b[39mjoin_names,\n\u001b[1;32m    703\u001b[0m ) \u001b[39m=\u001b[39m \u001b[39mself\u001b[39m\u001b[39m.\u001b[39m_get_merge_keys()\n\u001b[1;32m    705\u001b[0m \u001b[39m# validate the merge keys dtypes. We may need to coerce\u001b[39;00m\n\u001b[1;32m    706\u001b[0m \u001b[39m# to avoid incompatible dtypes\u001b[39;00m\n\u001b[0;32m--> 707\u001b[0m \u001b[39mself\u001b[39;49m\u001b[39m.\u001b[39;49m_maybe_coerce_merge_keys()\n\u001b[1;32m    709\u001b[0m \u001b[39m# If argument passed to validate,\u001b[39;00m\n\u001b[1;32m    710\u001b[0m \u001b[39m# check if columns specified as unique\u001b[39;00m\n\u001b[1;32m    711\u001b[0m \u001b[39m# are in fact unique.\u001b[39;00m\n\u001b[1;32m    712\u001b[0m \u001b[39mif\u001b[39;00m validate \u001b[39mis\u001b[39;00m \u001b[39mnot\u001b[39;00m \u001b[39mNone\u001b[39;00m:\n",
      "File \u001b[0;32m/Library/Frameworks/Python.framework/Versions/3.10/lib/python3.10/site-packages/pandas/core/reshape/merge.py:1346\u001b[0m, in \u001b[0;36m_MergeOperation._maybe_coerce_merge_keys\u001b[0;34m(self)\u001b[0m\n\u001b[1;32m   1344\u001b[0m     \u001b[39mraise\u001b[39;00m \u001b[39mValueError\u001b[39;00m(msg)\n\u001b[1;32m   1345\u001b[0m \u001b[39melif\u001b[39;00m \u001b[39mnot\u001b[39;00m needs_i8_conversion(lk\u001b[39m.\u001b[39mdtype) \u001b[39mand\u001b[39;00m needs_i8_conversion(rk\u001b[39m.\u001b[39mdtype):\n\u001b[0;32m-> 1346\u001b[0m     \u001b[39mraise\u001b[39;00m \u001b[39mValueError\u001b[39;00m(msg)\n\u001b[1;32m   1347\u001b[0m \u001b[39melif\u001b[39;00m \u001b[39misinstance\u001b[39m(lk\u001b[39m.\u001b[39mdtype, DatetimeTZDtype) \u001b[39mand\u001b[39;00m \u001b[39mnot\u001b[39;00m \u001b[39misinstance\u001b[39m(\n\u001b[1;32m   1348\u001b[0m     rk\u001b[39m.\u001b[39mdtype, DatetimeTZDtype\n\u001b[1;32m   1349\u001b[0m ):\n\u001b[1;32m   1350\u001b[0m     \u001b[39mraise\u001b[39;00m \u001b[39mValueError\u001b[39;00m(msg)\n",
      "\u001b[0;31mValueError\u001b[0m: You are trying to merge on object and datetime64[ns] columns. If you wish to proceed you should use pd.concat"
     ]
    }
   ],
   "source": [
    "# weather.head(3)\n",
    "\n",
    "processed_shutoffs.merge(weather, how = 'inner', left_on = ['circuit_name', 'deenergize_time'], \n",
    "right_on = ['circuit_name', 'deenergize_time'])\n",
    "\n",
    "# processed_shutoffs.to_csv('../data/processed/processed-shutoffs-weather.csv', index=False)\n"
   ]
  },
  {
   "cell_type": "code",
   "execution_count": null,
   "metadata": {},
   "outputs": [],
   "source": []
  }
 ],
 "metadata": {
  "kernelspec": {
   "display_name": "Python 3.10.7 64-bit",
   "language": "python",
   "name": "python3"
  },
  "language_info": {
   "codemirror_mode": {
    "name": "ipython",
    "version": 3
   },
   "file_extension": ".py",
   "mimetype": "text/x-python",
   "name": "python",
   "nbconvert_exporter": "python",
   "pygments_lexer": "ipython3",
   "version": "3.10.7"
  },
  "orig_nbformat": 4,
  "vscode": {
   "interpreter": {
    "hash": "aee8b7b246df8f9039afb4144a1f6fd8d2ca17a180786b69acc140d282b71a49"
   }
  }
 },
 "nbformat": 4,
 "nbformat_minor": 2
}
