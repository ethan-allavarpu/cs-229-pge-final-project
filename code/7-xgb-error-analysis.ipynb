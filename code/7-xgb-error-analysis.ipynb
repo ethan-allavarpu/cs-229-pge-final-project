{
 "cells": [
  {
   "cell_type": "code",
   "execution_count": 28,
   "metadata": {},
   "outputs": [],
   "source": [
    "import matplotlib.pyplot as plt\n",
    "import numpy as np\n",
    "import pandas as pd\n",
    "import re\n",
    "import seaborn as sns\n",
    "from sklearn.preprocessing import StandardScaler"
   ]
  },
  {
   "cell_type": "code",
   "execution_count": 29,
   "metadata": {},
   "outputs": [],
   "source": [
    "x_train = pd.read_csv(\n",
    "  \"../data/processed/x_train_w_OHE.csv\", index_col=0, dtype=str)\n",
    "x_test = pd.read_csv(\n",
    "  \"../data/processed/x_test_w_OHE.csv\", index_col=0, dtype=str)\n",
    "y_train = pd.read_csv(\n",
    "  \"../data/processed/y_train.csv\", index_col=0, dtype=float\n",
    "  ).squeeze(\"columns\").reset_index(drop=True)\n",
    "y_test = pd.read_csv(\n",
    "  \"../data/processed/y_test.csv\", index_col=0, dtype=float\n",
    ").squeeze(\"columns\").reset_index(drop=True)"
   ]
  },
  {
   "cell_type": "code",
   "execution_count": 30,
   "metadata": {},
   "outputs": [],
   "source": [
    "def get_correct_types_x(df, numeric_cols):\n",
    "    for col in ['deenergize_time', 'restoration_time']:\n",
    "        df[col] = pd.to_datetime(df[col], format='%Y-%m-%d %H:%M:%S')\n",
    "    for col in numeric_cols:\n",
    "        df[col] = df[col].astype(float)\n",
    "    return df\n",
    "numeric_cols = [\n",
    "    'hftd_tier', 'total_affected', 'residential_affected',\n",
    "    'longitude', 'latitude', 'total_pop', 'median_age', 'median_income',\n",
    "    'white_pct', 'tmin_d-5', 'tmax_d-5', 'wspd_d-5', 'tmin_d-4', 'tmax_d-4',\n",
    "    'wspd_d-4', 'tmin_d-3', 'tmax_d-3', 'wspd_d-3', 'tmin_d-2', 'tmax_d-2',\n",
    "    'wspd_d-2', 'tmin_d-1', 'tmax_d-1', 'wspd_d-1', 'day_in_year'\n",
    "]\n",
    "zip_cols = x_train.columns[\n",
    "    [re.search('zip_is', col) is not None for col in x_train.columns]\n",
    "]\n",
    "x_train = get_correct_types_x(x_train, numeric_cols)\n",
    "x_test = get_correct_types_x(x_test, numeric_cols)\n",
    "rel_x_train = x_train[numeric_cols]\n",
    "rel_x_test = x_test[numeric_cols]"
   ]
  },
  {
   "cell_type": "code",
   "execution_count": 31,
   "metadata": {},
   "outputs": [],
   "source": [
    "scaler = StandardScaler()\n",
    "scaler.fit(rel_x_train)\n",
    "scaled_train_x = scaler.transform(rel_x_train)\n",
    "scaled_test_x = scaler.transform(rel_x_test)"
   ]
  },
  {
   "cell_type": "code",
   "execution_count": 32,
   "metadata": {},
   "outputs": [],
   "source": [
    "best_preds = np.loadtxt(\"../data/predictions/xgboost_final_preds.csv\")"
   ]
  },
  {
   "cell_type": "code",
   "execution_count": 33,
   "metadata": {},
   "outputs": [],
   "source": [
    "resids = y_test - best_preds"
   ]
  },
  {
   "cell_type": "code",
   "execution_count": 34,
   "metadata": {},
   "outputs": [],
   "source": [
    "# Take 10% of observations with worst predictions\n",
    "top10_pct_off = np.argsort(np.abs(np.array(resids)))[-int(0.1 * len(resids))::][::-1]\n",
    "extreme_resids = resids[top10_pct_off]\n",
    "extreme_x = x_test.iloc[top10_pct_off, :]\n",
    "extreme_y = y_test[top10_pct_off]\n",
    "\n",
    "# Take remaining 90% predictions for feature comparison\n",
    "other_90_idx = np.argsort(np.abs(np.array(resids)))[ : int(0.9 * len(resids))]\n",
    "other_90_x = x_test.iloc[other_90_idx, :]\n",
    "other_90_y = y_test[other_90_idx]\n"
   ]
  },
  {
   "cell_type": "code",
   "execution_count": 59,
   "metadata": {},
   "outputs": [
    {
     "name": "stdout",
     "output_type": "stream",
     "text": [
      "        extreme       all   pct_diff\n",
      "93647  0.025641  0.002545  10.076923\n",
      "95209  0.025641  0.002545  10.076923\n",
      "95468  0.025641  0.002545  10.076923\n",
      "95987  0.025641  0.002545  10.076923\n",
      "95939  0.025641  0.002545  10.076923\n",
      "96076  0.025641  0.002545  10.076923\n",
      "95327  0.025641  0.002545  10.076923\n",
      "95425  0.025641  0.002545  10.076923\n",
      "92356  0.051282  0.005089  10.076923\n",
      "93660  0.051282  0.005089  10.076923\n",
      "94025  0.051282  0.007634   6.717949\n",
      "96033  0.025641  0.005089   5.038462\n",
      "95663  0.025641  0.005089   5.038462\n",
      "96021  0.025641  0.005089   5.038462\n",
      "95442  0.025641  0.005089   5.038462\n",
      "94803  0.025641  0.005089   5.038462\n",
      "95526  0.025641  0.005089   5.038462\n",
      "95020  0.025641  0.005089   5.038462\n",
      "95966  0.153846  0.035623   4.318681\n",
      "95035  0.025641  0.007634   3.358974\n",
      "95682  0.025641  0.007634   3.358974\n",
      "96069  0.025641  0.007634   3.358974\n",
      "94559  0.025641  0.010178   2.519231\n",
      "95603  0.025641  0.010178   2.519231\n",
      "95667  0.051282  0.020356   2.519231\n"
     ]
    }
   ],
   "source": [
    "# Percentage of zip code resulting in \"extreme\" errors vs. percentage \n",
    "# appearing in the full data set\n",
    "zip_code_errors = pd.merge(\n",
    "  (extreme_x.zip_code.value_counts() /\n",
    "    extreme_x.zip_code.value_counts().sum()),\n",
    "  (x_test.zip_code.value_counts() / \n",
    "    x_test.zip_code.value_counts().sum()),\n",
    "  how='inner', left_index=True, right_index=True, \n",
    ").rename(columns={'zip_code_x': 'extreme', 'zip_code_y': 'all'})\n",
    "zip_code_errors['pct_diff'] = zip_code_errors['extreme']/ zip_code_errors['all']\n",
    "# zip_code_errors['total_pop'] =  # ADD TOTAL_POP FROM X_TEST TO THIS DATAFRAME?\n",
    "\n",
    "print(zip_code_errors.sort_values('pct_diff', ascending=False).iloc[0:25,])"
   ]
  },
  {
   "cell_type": "code",
   "execution_count": 36,
   "metadata": {},
   "outputs": [
    {
     "data": {
      "image/png": "[encoded data removed]",
      "text/plain": [
       "<Figure size 640x480 with 1 Axes>"
      ]
     },
     "metadata": {},
     "output_type": "display_data"
    }
   ],
   "source": [
    "sns.histplot(resids)\n",
    "plt.title(\"Histogram of Errors\")\n",
    "plt.xlabel(\"Actual - Predicted Outage\")\n",
    "plt.savefig(\"../data/predictions/xgb_errors.png\")\n",
    "plt.show()"
   ]
  },
  {
   "cell_type": "code",
   "execution_count": 38,
   "metadata": {},
   "outputs": [],
   "source": [
    "# extreme_x"
   ]
  },
  {
   "cell_type": "code",
   "execution_count": 52,
   "metadata": {},
   "outputs": [
    {
     "name": "stdout",
     "output_type": "stream",
     "text": [
      "                 feature  extreme_median  other_90_median  pct_diff\n",
      "0               wspd_d-2       10.100000         7.100000  0.422535\n",
      "1              total_pop    26062.000000     20681.000000  0.260191\n",
      "2               wspd_d-1        5.300000         6.900000 -0.231884\n",
      "3               tmin_d-4        8.300000        10.000000 -0.170000\n",
      "4               tmin_d-2       12.200000        10.600000  0.150943\n",
      "5               wspd_d-4        6.000000         7.000000 -0.142857\n",
      "6         total_affected      731.000000       822.000000 -0.110706\n",
      "7               wspd_d-5        8.200000         7.600000  0.078947\n",
      "8   residential_affected      650.000000       704.000000 -0.076705\n",
      "9          median_income    65417.000000     70656.000000 -0.074148\n",
      "10              tmin_d-1        8.900000         9.600000 -0.072917\n",
      "11              tmax_d-3       30.000000        28.300000  0.060071\n",
      "12              tmin_d-3       10.000000        10.600000 -0.056604\n",
      "13              tmin_d-5        8.900000         9.400000 -0.053191\n",
      "14              tmax_d-5       28.900000        27.800000  0.039568\n",
      "15              tmax_d-1       30.000000        28.900000  0.038062\n",
      "16             white_pct        0.771940         0.796449 -0.030773\n",
      "17              tmax_d-4       29.000000        28.300000  0.024735\n",
      "18              tmax_d-2       30.600000        30.000000  0.020000\n",
      "19           day_in_year      299.000000       296.000000  0.010135\n",
      "20             longitude     -121.540947      -121.980501 -0.003603\n",
      "21              wspd_d-3        7.100000         7.100000  0.000000\n",
      "22            median_age       45.200000        45.200000  0.000000\n",
      "23              latitude       38.693412        38.693412  0.000000\n",
      "24             hftd_tier        2.000000         2.000000  0.000000\n"
     ]
    }
   ],
   "source": [
    "numeric_diffs = pd.DataFrame(\n",
    "  [(feat, np.median(extreme_x[feat]), np.median(other_90_x[feat]))\n",
    "   for feat in numeric_cols],\n",
    "  columns=['feature', 'extreme_median', 'other_90_median']\n",
    ")\n",
    "numeric_diffs['pct_diff'] = (\n",
    "  (numeric_diffs.extreme_median - numeric_diffs.other_90_median) / \n",
    "   numeric_diffs.other_90_median)\n",
    "numeric_diffs['abs_diff'] = np.abs(numeric_diffs.pct_diff)\n",
    "print(\n",
    "  numeric_diffs.sort_values('abs_diff', ascending=False). \\\n",
    "    drop(columns=['abs_diff']).reset_index(drop=True)\n",
    ")\n"
   ]
  },
  {
   "cell_type": "code",
   "execution_count": null,
   "metadata": {},
   "outputs": [],
   "source": []
  }
 ],
 "metadata": {
  "kernelspec": {
   "display_name": "Python 3.10.8 64-bit",
   "language": "python",
   "name": "python3"
  },
  "language_info": {
   "codemirror_mode": {
    "name": "ipython",
    "version": 3
   },
   "file_extension": ".py",
   "mimetype": "text/x-python",
   "name": "python",
   "nbconvert_exporter": "python",
   "pygments_lexer": "ipython3",
   "version": "3.10.7"
  },
  "orig_nbformat": 4,
  "vscode": {
   "interpreter": {
    "hash": "aee8b7b246df8f9039afb4144a1f6fd8d2ca17a180786b69acc140d282b71a49"
   }
  }
 },
 "nbformat": 4,
 "nbformat_minor": 2
}
