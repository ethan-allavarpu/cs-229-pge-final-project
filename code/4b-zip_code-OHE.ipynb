{
 "cells": [
  {
   "cell_type": "code",
   "execution_count": 1,
   "metadata": {},
   "outputs": [],
   "source": [
    "import numpy as np\n",
    "import pandas as pd\n",
    "import warnings\n",
    "warnings.filterwarnings('ignore')"
   ]
  },
  {
   "cell_type": "code",
   "execution_count": 2,
   "metadata": {},
   "outputs": [
    {
     "name": "stdout",
     "output_type": "stream",
     "text": [
      "<class 'pandas.core.frame.DataFrame'>\n",
      "Int64Index: 1570 entries, 1642 to 363\n",
      "Data columns (total 31 columns):\n",
      " #   Column                Non-Null Count  Dtype \n",
      "---  ------                --------------  ----- \n",
      " 0   circuit_name          1570 non-null   object\n",
      " 1   deenergize_time       1570 non-null   object\n",
      " 2   restoration_time      1570 non-null   object\n",
      " 3   key_communities       1570 non-null   object\n",
      " 4   hftd_tier             1570 non-null   object\n",
      " 5   total_affected        1570 non-null   object\n",
      " 6   residential_affected  1570 non-null   object\n",
      " 7   zip_code              1570 non-null   object\n",
      " 8   longitude             1570 non-null   object\n",
      " 9   latitude              1570 non-null   object\n",
      " 10  substn_present        1570 non-null   object\n",
      " 11  total_pop             1570 non-null   object\n",
      " 12  median_age            1570 non-null   object\n",
      " 13  median_income         1570 non-null   object\n",
      " 14  white_pct             1570 non-null   object\n",
      " 15  tmin_d-5              1570 non-null   object\n",
      " 16  tmax_d-5              1570 non-null   object\n",
      " 17  wspd_d-5              1570 non-null   object\n",
      " 18  tmin_d-4              1570 non-null   object\n",
      " 19  tmax_d-4              1570 non-null   object\n",
      " 20  wspd_d-4              1570 non-null   object\n",
      " 21  tmin_d-3              1570 non-null   object\n",
      " 22  tmax_d-3              1570 non-null   object\n",
      " 23  wspd_d-3              1570 non-null   object\n",
      " 24  tmin_d-2              1570 non-null   object\n",
      " 25  tmax_d-2              1570 non-null   object\n",
      " 26  wspd_d-2              1570 non-null   object\n",
      " 27  tmin_d-1              1570 non-null   object\n",
      " 28  tmax_d-1              1570 non-null   object\n",
      " 29  wspd_d-1              1570 non-null   object\n",
      " 30  day_in_year           1570 non-null   object\n",
      "dtypes: object(31)\n",
      "memory usage: 392.5+ KB\n"
     ]
    }
   ],
   "source": [
    "train_data = pd.read_csv(\n",
    "    '../data/processed/x_train.csv', index_col=0, dtype=str\n",
    ")\n",
    "train_data.info()"
   ]
  },
  {
   "cell_type": "code",
   "execution_count": 3,
   "metadata": {},
   "outputs": [],
   "source": [
    "zips_OHE = pd.get_dummies(train_data.zip_code, prefix='zip_is')\n",
    "train_w_OHE = train_data.merge(\n",
    "  zips_OHE, how = 'inner', left_index=True, right_index=True\n",
    ")"
   ]
  },
  {
   "cell_type": "code",
   "execution_count": 4,
   "metadata": {},
   "outputs": [
    {
     "name": "stdout",
     "output_type": "stream",
     "text": [
      "31\n",
      "285\n",
      "285\n",
      "285\n"
     ]
    }
   ],
   "source": [
    "test_data_w_OHE = pd.read_csv(\n",
    "    '../data/processed/x_test.csv', index_col=0, dtype=str\n",
    ")\n",
    "print(test_data_w_OHE.columns.size)\n",
    "print(train_w_OHE.columns.size)\n",
    "for i in train_w_OHE.columns:\n",
    "    if i not in test_data_w_OHE.columns:\n",
    "        new_col = np.zeros(len(test_data_w_OHE))\n",
    "        for j in range(len(test_data_w_OHE)):\n",
    "            if test_data_w_OHE.iloc[j]['zip_code'] == i[7:]:\n",
    "                new_col[j] = 1\n",
    "        test_data_w_OHE[i] = new_col[:]\n",
    "print(test_data_w_OHE.columns.size)\n",
    "print(train_w_OHE.columns.size)"
   ]
  },
  {
   "cell_type": "code",
   "execution_count": 5,
   "metadata": {},
   "outputs": [
    {
     "name": "stdout",
     "output_type": "stream",
     "text": [
      "0.04071246819338423\n"
     ]
    }
   ],
   "source": [
    "# Percent of test observations without ZIP code in training\n",
    "print(np.mean(np.array(test_data_w_OHE.iloc[:, -254:]).sum(axis = 1) == 0))"
   ]
  },
  {
   "cell_type": "code",
   "execution_count": 6,
   "metadata": {},
   "outputs": [],
   "source": [
    "train_w_OHE.to_csv(\"../data/processed/x_train_w_OHE.csv\")\n",
    "test_data_w_OHE.to_csv(\"../data/processed/x_test_w_OHE.csv\")"
   ]
  }
 ],
 "metadata": {
  "kernelspec": {
   "display_name": "Python 3.10.7 64-bit",
   "language": "python",
   "name": "python3"
  },
  "language_info": {
   "codemirror_mode": {
    "name": "ipython",
    "version": 3
   },
   "file_extension": ".py",
   "mimetype": "text/x-python",
   "name": "python",
   "nbconvert_exporter": "python",
   "pygments_lexer": "ipython3",
   "version": "3.10.8"
  },
  "orig_nbformat": 4,
  "vscode": {
   "interpreter": {
    "hash": "aee8b7b246df8f9039afb4144a1f6fd8d2ca17a180786b69acc140d282b71a49"
   }
  }
 },
 "nbformat": 4,
 "nbformat_minor": 2
}
