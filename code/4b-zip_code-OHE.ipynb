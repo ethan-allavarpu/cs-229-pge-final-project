{
 "cells": [
  {
   "cell_type": "code",
   "execution_count": 1,
   "metadata": {},
   "outputs": [],
   "source": [
    "import numpy as np\n",
    "import pandas as pd\n",
    "import warnings\n",
    "warnings.filterwarnings('ignore')"
   ]
  },
  {
   "cell_type": "code",
   "execution_count": 2,
   "metadata": {},
   "outputs": [
    {
     "name": "stdout",
     "output_type": "stream",
     "text": [
      "<class 'pandas.core.frame.DataFrame'>\n",
      "RangeIndex: 1570 entries, 0 to 1569\n",
      "Data columns (total 31 columns):\n",
      " #   Column                Non-Null Count  Dtype \n",
      "---  ------                --------------  ----- \n",
      " 0   Unnamed: 0            1570 non-null   object\n",
      " 1   circuit_name          1570 non-null   object\n",
      " 2   deenergize_time       1570 non-null   object\n",
      " 3   restoration_time      1570 non-null   object\n",
      " 4   key_communities       1570 non-null   object\n",
      " 5   hftd_tier             1570 non-null   object\n",
      " 6   total_affected        1570 non-null   object\n",
      " 7   residential_affected  1570 non-null   object\n",
      " 8   zip_code              1570 non-null   object\n",
      " 9   longitude             1570 non-null   object\n",
      " 10  latitude              1570 non-null   object\n",
      " 11  substn_present        1570 non-null   object\n",
      " 12  total_pop             1570 non-null   object\n",
      " 13  median_age            1570 non-null   object\n",
      " 14  median_income         1570 non-null   object\n",
      " 15  white_pct             1570 non-null   object\n",
      " 16  tmin_d-5              1570 non-null   object\n",
      " 17  tmax_d-5              1570 non-null   object\n",
      " 18  wspd_d-5              1570 non-null   object\n",
      " 19  tmin_d-4              1570 non-null   object\n",
      " 20  tmax_d-4              1570 non-null   object\n",
      " 21  wspd_d-4              1570 non-null   object\n",
      " 22  tmin_d-3              1570 non-null   object\n",
      " 23  tmax_d-3              1570 non-null   object\n",
      " 24  wspd_d-3              1570 non-null   object\n",
      " 25  tmin_d-2              1570 non-null   object\n",
      " 26  tmax_d-2              1570 non-null   object\n",
      " 27  wspd_d-2              1570 non-null   object\n",
      " 28  tmin_d-1              1570 non-null   object\n",
      " 29  tmax_d-1              1570 non-null   object\n",
      " 30  wspd_d-1              1570 non-null   object\n",
      "dtypes: object(31)\n",
      "memory usage: 380.4+ KB\n"
     ]
    }
   ],
   "source": [
    "train_data = pd.read_csv(\n",
    "    '../data/processed/x_train.csv', dtype=str)\n",
    "train_data.info()"
   ]
  },
  {
   "cell_type": "code",
   "execution_count": 3,
   "metadata": {},
   "outputs": [],
   "source": [
    "zips_OHE = pd.get_dummies(train_data.zip_code, prefix='zip_is')\n",
    "train_w_OHE = train_data.merge(zips_OHE, how = 'inner', left_index=True, right_index=True)"
   ]
  },
  {
   "cell_type": "code",
   "execution_count": 4,
   "metadata": {},
   "outputs": [
    {
     "name": "stdout",
     "output_type": "stream",
     "text": [
      "31\n",
      "285\n",
      "285\n",
      "285\n"
     ]
    }
   ],
   "source": [
    "test_data_w_OHE = pd.read_csv(\n",
    "    '../data/processed/x_test.csv', dtype=str)\n",
    "print(test_data_w_OHE.columns.size)\n",
    "print(train_w_OHE.columns.size)\n",
    "for i in train_w_OHE.columns:\n",
    "    if i not in test_data_w_OHE.columns:\n",
    "        test_data_w_OHE[i] = 0\n",
    "        for j in range(len(test_data_w_OHE)):\n",
    "            if test_data_w_OHE.iloc[j]['zip_code'] == i[7:]:\n",
    "                test_data_w_OHE[i][j] = 1\n",
    "print(test_data_w_OHE.columns.size)\n",
    "print(train_w_OHE.columns.size)"
   ]
  },
  {
   "cell_type": "code",
   "execution_count": 5,
   "metadata": {},
   "outputs": [
    {
     "name": "stdout",
     "output_type": "stream",
     "text": [
      "0.04071246819338423\n"
     ]
    }
   ],
   "source": [
    "# Percent of test observations without ZIP code in training\n",
    "print(np.mean(test_data_w_OHE.iloc[:, -254:].sum(axis = 1) == 0))"
   ]
  },
  {
   "cell_type": "code",
   "execution_count": 6,
   "metadata": {},
   "outputs": [],
   "source": [
    "train_w_OHE.to_csv(\"../data/processed/x_train_w_OHE.csv\")\n",
    "test_data_w_OHE.to_csv(\"../data/processed/x_test_w_OHE.csv\")"
   ]
  }
 ],
 "metadata": {
  "kernelspec": {
   "display_name": "Python 3.10.7 64-bit",
   "language": "python",
   "name": "python3"
  },
  "language_info": {
   "codemirror_mode": {
    "name": "ipython",
    "version": 3
   },
   "file_extension": ".py",
   "mimetype": "text/x-python",
   "name": "python",
   "nbconvert_exporter": "python",
   "pygments_lexer": "ipython3",
   "version": "3.10.8"
  },
  "orig_nbformat": 4,
  "vscode": {
   "interpreter": {
    "hash": "aee8b7b246df8f9039afb4144a1f6fd8d2ca17a180786b69acc140d282b71a49"
   }
  }
 },
 "nbformat": 4,
 "nbformat_minor": 2
}
