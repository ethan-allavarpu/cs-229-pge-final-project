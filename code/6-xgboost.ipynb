{
 "cells": [
  {
   "cell_type": "code",
   "execution_count": 33,
   "metadata": {},
   "outputs": [],
   "source": [
    "import numpy as np\n",
    "import optuna\n",
    "from optuna.samplers import TPESampler\n",
    "import pandas as pd\n",
    "import re\n",
    "from sklearn.metrics import mean_absolute_error, mean_squared_error\n",
    "from sklearn.model_selection import train_test_split\n",
    "from sklearn.preprocessing import StandardScaler\n",
    "import warnings\n",
    "import xgboost as xgb"
   ]
  },
  {
   "cell_type": "markdown",
   "metadata": {},
   "source": [
    "## Reading in Data"
   ]
  },
  {
   "cell_type": "code",
   "execution_count": 34,
   "metadata": {},
   "outputs": [],
   "source": [
    "x_train = pd.read_csv(\n",
    "  \"../data/processed/x_train_w_OHE.csv\", index_col=0, dtype=str\n",
    ")\n",
    "x_test = pd.read_csv(\n",
    "  \"../data/processed/x_test_w_OHE.csv\", index_col=0, dtype=str\n",
    ")\n",
    "y_train = pd.read_csv(\n",
    "  \"../data/processed/y_train.csv\", index_col=0, dtype=float\n",
    ").squeeze(\"columns\").reset_index(drop=True)\n",
    "y_test = pd.read_csv(\n",
    "  \"../data/processed/y_test.csv\", index_col=0, dtype=float\n",
    ").squeeze(\"columns\").reset_index(drop=True)\n",
    "\n",
    "x_train, x_valid, y_train, y_valid = train_test_split(\n",
    "    x_train, y_train, test_size=0.2, random_state=42)"
   ]
  },
  {
   "cell_type": "code",
   "execution_count": 35,
   "metadata": {},
   "outputs": [],
   "source": [
    "def get_correct_types_x(df, numeric_cols):\n",
    "    for col in ['deenergize_time', 'restoration_time']:\n",
    "        df[col] = pd.to_datetime(df[col], format='%Y-%m-%d %H:%M:%S')\n",
    "    for col in numeric_cols:\n",
    "        df[col] = df[col].astype(float)\n",
    "    return df\n",
    "numeric_cols = [\n",
    "    'hftd_tier', 'total_affected', 'residential_affected',\n",
    "    'longitude', 'latitude', 'total_pop', 'median_age', 'median_income',\n",
    "    'white_pct', 'tmin_d-5', 'tmax_d-5', 'wspd_d-5', 'tmin_d-4', 'tmax_d-4',\n",
    "    'wspd_d-4', 'tmin_d-3', 'tmax_d-3', 'wspd_d-3', 'tmin_d-2', 'tmax_d-2',\n",
    "    'wspd_d-2', 'tmin_d-1', 'tmax_d-1', 'wspd_d-1', 'day_in_year'\n",
    "]"
   ]
  },
  {
   "cell_type": "code",
   "execution_count": 36,
   "metadata": {},
   "outputs": [],
   "source": [
    "#Scale all numeric columns then add back in zip columns\n",
    "zip_cols = x_train.columns[\n",
    "    [re.search('zip_is', col) is not None for col in x_train.columns]\n",
    "]\n",
    "x_train = get_correct_types_x(x_train, numeric_cols)\n",
    "x_valid = get_correct_types_x(x_valid, numeric_cols)\n",
    "x_test = get_correct_types_x(x_test, numeric_cols)\n",
    "rel_x_train = x_train[numeric_cols]\n",
    "rel_x_valid = x_valid[numeric_cols]\n",
    "rel_x_test = x_test[numeric_cols]\n",
    "\n",
    "scaler = StandardScaler()\n",
    "scaler.fit(rel_x_train)\n",
    "scaled_x_train = np.hstack([\n",
    "    scaler.transform(rel_x_train), np.array(x_train[zip_cols])\n",
    "])\n",
    "scaled_x_valid = np.hstack([\n",
    "    scaler.transform(rel_x_valid), np.array(x_valid[zip_cols])\n",
    "])\n",
    "scaled_x_test = np.hstack([\n",
    "    scaler.transform(rel_x_test), np.array(x_test[zip_cols])\n",
    "])"
   ]
  },
  {
   "cell_type": "markdown",
   "metadata": {},
   "source": [
    "## Baseline Model"
   ]
  },
  {
   "cell_type": "code",
   "execution_count": 37,
   "metadata": {},
   "outputs": [
    {
     "name": "stdout",
     "output_type": "stream",
     "text": [
      "RMSE =  1070.4475962877377\n"
     ]
    }
   ],
   "source": [
    "baseline_params = {'max_depth':6, 'eta':.3, 'objective':'reg:squarederror'}\n",
    "num_round = 5\n",
    "baseline_d_train = xgb.DMatrix(scaled_x_train, label = y_train)\n",
    "xgb_model = xgb.train(baseline_params, baseline_d_train, num_round)\n",
    "d_test = xgb.DMatrix(scaled_x_test, label = y_test)\n",
    "baseline_preds = xgb_model.predict(d_test)\n",
    "print(\"RMSE = \", np.sqrt(mean_squared_error(baseline_preds, y_test)))"
   ]
  },
  {
   "cell_type": "markdown",
   "metadata": {},
   "source": [
    "## Optimizing Hyperparameters"
   ]
  },
  {
   "cell_type": "code",
   "execution_count": 38,
   "metadata": {},
   "outputs": [],
   "source": [
    "def objective(trial):\n",
    "    \"\"\"Define the objective function\"\"\"\n",
    "\n",
    "    params = {\n",
    "        'max_depth': trial.suggest_int('max_depth', 3, 10),\n",
    "        'learning_rate': trial.suggest_loguniform('learning_rate', 0.01, 1.0),\n",
    "        'n_estimators': trial.suggest_int('n_estimators', 50, 550),\n",
    "        'min_child_weight': trial.suggest_int('min_child_weight', 4, 11),\n",
    "        'gamma': trial.suggest_loguniform('gamma', 1e-8, 1.0),\n",
    "        'subsample': trial.suggest_loguniform('subsample', 0.5, 1.0),\n",
    "        'colsample_bytree': trial.suggest_loguniform('colsample_bytree', 0.5, 1.0),\n",
    "        'reg_alpha': trial.suggest_loguniform('reg_alpha', 1e-8, 1.0),\n",
    "        'reg_lambda': trial.suggest_loguniform('reg_lambda', 1e-5, 1.0),\n",
    "        'eval_metric': 'mlogloss',\n",
    "        'use_label_encoder': False\n",
    "    }\n",
    "\n",
    "    # Fit the model\n",
    "    optuna_model = xgb.XGBRegressor(**params)\n",
    "    optuna_model.fit(scaled_x_train, y_train)\n",
    "\n",
    "    # Make predictions\n",
    "    y_valid_pred = optuna_model.predict(scaled_x_valid)\n",
    "\n",
    "    # Evaluate predictions\n",
    "    accuracy = np.sqrt(mean_squared_error(y_valid_pred, y_valid))\n",
    "    return accuracy"
   ]
  },
  {
   "cell_type": "code",
   "execution_count": 39,
   "metadata": {},
   "outputs": [
    {
     "name": "stderr",
     "output_type": "stream",
     "text": [
      "\u001b[32m[I 2022-12-01 12:08:52,036]\u001b[0m A new study created in memory with name: no-name-dec917cd-030b-4b81-8109-cc899c7b57ac\u001b[0m\n"
     ]
    }
   ],
   "source": [
    "sampler = TPESampler(seed=24)\n",
    "study = optuna.create_study(sampler=sampler, direction='minimize')"
   ]
  },
  {
   "cell_type": "code",
   "execution_count": 40,
   "metadata": {},
   "outputs": [
    {
     "name": "stderr",
     "output_type": "stream",
     "text": [
      "\u001b[32m[I 2022-12-01 12:08:54,502]\u001b[0m Trial 0 finished with value: 766.2528087067009 and parameters: {'max_depth': 10, 'learning_rate': 0.25062483260772184, 'n_estimators': 550, 'min_child_weight': 5, 'gamma': 7.734831045731682e-06, 'subsample': 0.8349958834582148, 'colsample_bytree': 0.9975463110663673, 'reg_alpha': 3.3945000728029564e-06, 'reg_lambda': 4.8164038970374645e-05}. Best is trial 0 with value: 766.2528087067009.\u001b[0m\n",
      "\u001b[32m[I 2022-12-01 12:08:54,997]\u001b[0m Trial 1 finished with value: 712.7297440268345 and parameters: {'max_depth': 6, 'learning_rate': 0.04375609606400527, 'n_estimators': 233, 'min_child_weight': 9, 'gamma': 0.1589056884427075, 'subsample': 0.7240270178744838, 'colsample_bytree': 0.5934892341796716, 'reg_alpha': 0.002368386083982432, 'reg_lambda': 0.006436437205135026}. Best is trial 1 with value: 712.7297440268345.\u001b[0m\n",
      "\u001b[32m[I 2022-12-01 12:08:56,471]\u001b[0m Trial 2 finished with value: 834.239876901807 and parameters: {'max_depth': 7, 'learning_rate': 0.6122026531342296, 'n_estimators': 472, 'min_child_weight': 6, 'gamma': 0.001120361611674933, 'subsample': 0.8012025180602571, 'colsample_bytree': 0.9797106038376682, 'reg_alpha': 0.14077878587134174, 'reg_lambda': 0.5153820715562412}. Best is trial 1 with value: 712.7297440268345.\u001b[0m\n",
      "\u001b[32m[I 2022-12-01 12:08:56,902]\u001b[0m Trial 3 finished with value: 737.2036371792241 and parameters: {'max_depth': 8, 'learning_rate': 0.16954901367627806, 'n_estimators': 164, 'min_child_weight': 7, 'gamma': 0.028691575394722654, 'subsample': 0.8976470200683994, 'colsample_bytree': 0.7243108371645479, 'reg_alpha': 0.011544746439737626, 'reg_lambda': 0.003150535884064952}. Best is trial 1 with value: 712.7297440268345.\u001b[0m\n",
      "\u001b[32m[I 2022-12-01 12:08:58,104]\u001b[0m Trial 4 finished with value: 754.6318044933275 and parameters: {'max_depth': 9, 'learning_rate': 0.1735375855289961, 'n_estimators': 481, 'min_child_weight': 5, 'gamma': 1.651000925238707e-05, 'subsample': 0.7707714622980948, 'colsample_bytree': 0.5521134705939591, 'reg_alpha': 9.602578557176833e-08, 'reg_lambda': 0.0012138067654622997}. Best is trial 1 with value: 712.7297440268345.\u001b[0m\n",
      "\u001b[32m[I 2022-12-01 12:08:58,613]\u001b[0m Trial 5 finished with value: 848.2037675506439 and parameters: {'max_depth': 7, 'learning_rate': 0.7635515285110249, 'n_estimators': 255, 'min_child_weight': 9, 'gamma': 0.9196136202904934, 'subsample': 0.9438727965018452, 'colsample_bytree': 0.5007017047764326, 'reg_alpha': 0.5897304407946311, 'reg_lambda': 0.27876669325895276}. Best is trial 1 with value: 712.7297440268345.\u001b[0m\n",
      "\u001b[32m[I 2022-12-01 12:08:59,452]\u001b[0m Trial 6 finished with value: 718.5323496211054 and parameters: {'max_depth': 8, 'learning_rate': 0.015669290676232024, 'n_estimators': 337, 'min_child_weight': 10, 'gamma': 0.00030699295213061824, 'subsample': 0.637617203726284, 'colsample_bytree': 0.7287519562073573, 'reg_alpha': 0.10882100531253283, 'reg_lambda': 3.7194851091356594e-05}. Best is trial 1 with value: 712.7297440268345.\u001b[0m\n",
      "\u001b[32m[I 2022-12-01 12:08:59,678]\u001b[0m Trial 7 finished with value: 840.0931805069964 and parameters: {'max_depth': 3, 'learning_rate': 0.8046742812183808, 'n_estimators': 194, 'min_child_weight': 7, 'gamma': 1.1807888896039976e-06, 'subsample': 0.7562270938345982, 'colsample_bytree': 0.7874640931432119, 'reg_alpha': 1.6053276469092024e-06, 'reg_lambda': 0.1949226422144482}. Best is trial 1 with value: 712.7297440268345.\u001b[0m\n",
      "\u001b[32m[I 2022-12-01 12:09:00,784]\u001b[0m Trial 8 finished with value: 708.6520788118949 and parameters: {'max_depth': 10, 'learning_rate': 0.03716389138424815, 'n_estimators': 380, 'min_child_weight': 11, 'gamma': 0.023713349403827157, 'subsample': 0.5662316907786552, 'colsample_bytree': 0.8613508913376862, 'reg_alpha': 0.5767971536818037, 'reg_lambda': 0.00065171669272875}. Best is trial 8 with value: 708.6520788118949.\u001b[0m\n",
      "\u001b[32m[I 2022-12-01 12:09:01,180]\u001b[0m Trial 9 finished with value: 740.5446364945817 and parameters: {'max_depth': 3, 'learning_rate': 0.04871546445206028, 'n_estimators': 336, 'min_child_weight': 5, 'gamma': 0.001129607353356018, 'subsample': 0.5232475423164189, 'colsample_bytree': 0.9413963674219562, 'reg_alpha': 5.119550529633963e-08, 'reg_lambda': 9.929751761695476e-05}. Best is trial 8 with value: 708.6520788118949.\u001b[0m\n",
      "\u001b[32m[I 2022-12-01 12:09:02,224]\u001b[0m Trial 10 finished with value: 720.0136450932517 and parameters: {'max_depth': 10, 'learning_rate': 0.01065678851909937, 'n_estimators': 400, 'min_child_weight': 11, 'gamma': 1.2597705863445068e-08, 'subsample': 0.5041493676963003, 'colsample_bytree': 0.8422565908760091, 'reg_alpha': 0.0003862031825924762, 'reg_lambda': 0.00047607439872591795}. Best is trial 8 with value: 708.6520788118949.\u001b[0m\n",
      "\u001b[32m[I 2022-12-01 12:09:02,414]\u001b[0m Trial 11 finished with value: 747.2645802812848 and parameters: {'max_depth': 5, 'learning_rate': 0.03964123655484938, 'n_estimators': 117, 'min_child_weight': 9, 'gamma': 0.9518395333099758, 'subsample': 0.635754481822442, 'colsample_bytree': 0.6170855453774319, 'reg_alpha': 0.0008387397242126647, 'reg_lambda': 0.0189242155849787}. Best is trial 8 with value: 708.6520788118949.\u001b[0m\n",
      "\u001b[32m[I 2022-12-01 12:09:02,843]\u001b[0m Trial 12 finished with value: 713.5301462756003 and parameters: {'max_depth': 5, 'learning_rate': 0.03906751272528048, 'n_estimators': 265, 'min_child_weight': 11, 'gamma': 0.023629012217059528, 'subsample': 0.6377232544700937, 'colsample_bytree': 0.665235334378077, 'reg_alpha': 0.005107883596827664, 'reg_lambda': 0.011470444823353838}. Best is trial 8 with value: 708.6520788118949.\u001b[0m\n",
      "\u001b[32m[I 2022-12-01 12:09:02,964]\u001b[0m Trial 13 finished with value: 752.5989390039588 and parameters: {'max_depth': 5, 'learning_rate': 0.07683127546362828, 'n_estimators': 67, 'min_child_weight': 9, 'gamma': 0.02198765957739297, 'subsample': 0.573918116293264, 'colsample_bytree': 0.6070396294024245, 'reg_alpha': 5.011624656593059e-05, 'reg_lambda': 0.030189025568020778}. Best is trial 8 with value: 708.6520788118949.\u001b[0m\n",
      "\u001b[32m[I 2022-12-01 12:09:03,815]\u001b[0m Trial 14 finished with value: 722.7865351811281 and parameters: {'max_depth': 6, 'learning_rate': 0.01915056008788198, 'n_estimators': 408, 'min_child_weight': 10, 'gamma': 0.1090800904696137, 'subsample': 0.6900758127999573, 'colsample_bytree': 0.8470915530765886, 'reg_alpha': 0.015774893012300662, 'reg_lambda': 0.00035643452193758824}. Best is trial 8 with value: 708.6520788118949.\u001b[0m\n",
      "\u001b[32m[I 2022-12-01 12:09:04,252]\u001b[0m Trial 15 finished with value: 722.2698675564483 and parameters: {'max_depth': 6, 'learning_rate': 0.02680521737993103, 'n_estimators': 255, 'min_child_weight': 8, 'gamma': 0.0032224279597683515, 'subsample': 0.5641227946662833, 'colsample_bytree': 0.6442698204191957, 'reg_alpha': 0.9509760240333571, 'reg_lambda': 0.003406437720392723}. Best is trial 8 with value: 708.6520788118949.\u001b[0m\n",
      "\u001b[32m[I 2022-12-01 12:09:04,670]\u001b[0m Trial 16 finished with value: 732.2579106985103 and parameters: {'max_depth': 8, 'learning_rate': 0.07555656017677015, 'n_estimators': 193, 'min_child_weight': 10, 'gamma': 0.16479158232047852, 'subsample': 0.6981521780288419, 'colsample_bytree': 0.5723216857888398, 'reg_alpha': 1.8180478995832526e-05, 'reg_lambda': 0.061018702350617016}. Best is trial 8 with value: 708.6520788118949.\u001b[0m\n",
      "\u001b[32m[I 2022-12-01 12:09:05,254]\u001b[0m Trial 17 finished with value: 740.4178331265728 and parameters: {'max_depth': 4, 'learning_rate': 0.10707210335692767, 'n_estimators': 387, 'min_child_weight': 11, 'gamma': 0.006624049776811211, 'subsample': 0.5833972507214281, 'colsample_bytree': 0.9005244343011272, 'reg_alpha': 0.001110282261854135, 'reg_lambda': 0.00020524788217433644}. Best is trial 8 with value: 708.6520788118949.\u001b[0m\n",
      "\u001b[32m[I 2022-12-01 12:09:06,170]\u001b[0m Trial 18 finished with value: 713.0649562409567 and parameters: {'max_depth': 9, 'learning_rate': 0.025672989863961528, 'n_estimators': 300, 'min_child_weight': 8, 'gamma': 4.1729607634195096e-05, 'subsample': 0.7411696397283462, 'colsample_bytree': 0.7734749248709153, 'reg_alpha': 0.05840709265158996, 'reg_lambda': 0.005777233499085366}. Best is trial 8 with value: 708.6520788118949.\u001b[0m\n",
      "\u001b[32m[I 2022-12-01 12:09:07,204]\u001b[0m Trial 19 finished with value: 792.8817149300266 and parameters: {'max_depth': 9, 'learning_rate': 0.3813294609487084, 'n_estimators': 464, 'min_child_weight': 10, 'gamma': 0.15413978408904086, 'subsample': 0.863699775619289, 'colsample_bytree': 0.5019248194298201, 'reg_alpha': 0.003203418548378517, 'reg_lambda': 1.217155391659078e-05}. Best is trial 8 with value: 708.6520788118949.\u001b[0m\n",
      "\u001b[32m[I 2022-12-01 12:09:07,996]\u001b[0m Trial 20 finished with value: 723.9067687297688 and parameters: {'max_depth': 7, 'learning_rate': 0.061788996633489086, 'n_estimators': 349, 'min_child_weight': 9, 'gamma': 0.0002794741334706039, 'subsample': 0.9858070037233185, 'colsample_bytree': 0.6690891163417819, 'reg_alpha': 0.00011139888101646367, 'reg_lambda': 0.001081943841605474}. Best is trial 8 with value: 708.6520788118949.\u001b[0m\n",
      "\u001b[32m[I 2022-12-01 12:09:08,861]\u001b[0m Trial 21 finished with value: 700.5227285931812 and parameters: {'max_depth': 9, 'learning_rate': 0.026340050296437437, 'n_estimators': 295, 'min_child_weight': 8, 'gamma': 2.3854251214328235e-05, 'subsample': 0.7386283666925861, 'colsample_bytree': 0.770136446487342, 'reg_alpha': 0.062324790737119065, 'reg_lambda': 0.005162094943440896}. Best is trial 21 with value: 700.5227285931812.\u001b[0m\n",
      "\u001b[32m[I 2022-12-01 12:09:09,757]\u001b[0m Trial 22 finished with value: 711.1314351021856 and parameters: {'max_depth': 10, 'learning_rate': 0.02523454484509658, 'n_estimators': 292, 'min_child_weight': 8, 'gamma': 1.255315948880237e-06, 'subsample': 0.6758621849386539, 'colsample_bytree': 0.8121973270266583, 'reg_alpha': 0.036732895257355666, 'reg_lambda': 0.001586432480944926}. Best is trial 21 with value: 700.5227285931812.\u001b[0m\n",
      "\u001b[32m[I 2022-12-01 12:09:10,847]\u001b[0m Trial 23 finished with value: 728.1246349502636 and parameters: {'max_depth': 10, 'learning_rate': 0.010081829240590548, 'n_estimators': 309, 'min_child_weight': 4, 'gamma': 5.289519453236969e-07, 'subsample': 0.6715865278662059, 'colsample_bytree': 0.8302306391848454, 'reg_alpha': 0.032929225819222994, 'reg_lambda': 0.0012908778094112394}. Best is trial 21 with value: 700.5227285931812.\u001b[0m\n",
      "\u001b[32m[I 2022-12-01 12:09:12,096]\u001b[0m Trial 24 finished with value: 721.6265235052477 and parameters: {'max_depth': 10, 'learning_rate': 0.028829592857172546, 'n_estimators': 374, 'min_child_weight': 7, 'gamma': 7.469682952201215e-07, 'subsample': 0.5426828813486513, 'colsample_bytree': 0.7724519582023864, 'reg_alpha': 0.23046938213124443, 'reg_lambda': 0.0005849112376714131}. Best is trial 21 with value: 700.5227285931812.\u001b[0m\n",
      "\u001b[32m[I 2022-12-01 12:09:13,332]\u001b[0m Trial 25 finished with value: 708.1341330584471 and parameters: {'max_depth': 9, 'learning_rate': 0.017058443966123372, 'n_estimators': 421, 'min_child_weight': 8, 'gamma': 9.694160205433484e-08, 'subsample': 0.6186163851322517, 'colsample_bytree': 0.8961844681405826, 'reg_alpha': 0.43476280649580895, 'reg_lambda': 0.06216009853087359}. Best is trial 21 with value: 700.5227285931812.\u001b[0m\n",
      "\u001b[32m[I 2022-12-01 12:09:14,618]\u001b[0m Trial 26 finished with value: 706.8904645651961 and parameters: {'max_depth': 9, 'learning_rate': 0.015076899526322312, 'n_estimators': 434, 'min_child_weight': 6, 'gamma': 1.192993075856764e-08, 'subsample': 0.6049077846997085, 'colsample_bytree': 0.9130701878302473, 'reg_alpha': 0.8785956401578482, 'reg_lambda': 0.05812339378774962}. Best is trial 21 with value: 700.5227285931812.\u001b[0m\n",
      "\u001b[32m[I 2022-12-01 12:09:15,987]\u001b[0m Trial 27 finished with value: 711.1664601065713 and parameters: {'max_depth': 9, 'learning_rate': 0.014851922392171226, 'n_estimators': 441, 'min_child_weight': 6, 'gamma': 1.0555233277865447e-08, 'subsample': 0.5909216276495018, 'colsample_bytree': 0.8982162516895877, 'reg_alpha': 0.2289127885472163, 'reg_lambda': 0.07044432961026309}. Best is trial 21 with value: 700.5227285931812.\u001b[0m\n",
      "\u001b[32m[I 2022-12-01 12:09:17,387]\u001b[0m Trial 28 finished with value: 699.7707774468471 and parameters: {'max_depth': 8, 'learning_rate': 0.01754340699667038, 'n_estimators': 508, 'min_child_weight': 6, 'gamma': 6.094324023812037e-08, 'subsample': 0.6176853798622061, 'colsample_bytree': 0.9085792851595483, 'reg_alpha': 0.904345427777624, 'reg_lambda': 0.10700540067295154}. Best is trial 28 with value: 699.7707774468471.\u001b[0m\n",
      "\u001b[32m[I 2022-12-01 12:09:18,951]\u001b[0m Trial 29 finished with value: 711.9246973273375 and parameters: {'max_depth': 8, 'learning_rate': 0.013575411344504955, 'n_estimators': 544, 'min_child_weight': 6, 'gamma': 6.902100131515553e-08, 'subsample': 0.6108066460875672, 'colsample_bytree': 0.9948824329502841, 'reg_alpha': 1.0866039385007938e-06, 'reg_lambda': 0.14685787689401084}. Best is trial 28 with value: 699.7707774468471.\u001b[0m\n",
      "\u001b[32m[I 2022-12-01 12:09:20,612]\u001b[0m Trial 30 finished with value: 696.0994199553038 and parameters: {'max_depth': 8, 'learning_rate': 0.011592848172307444, 'n_estimators': 541, 'min_child_weight': 4, 'gamma': 5.704592135237904e-06, 'subsample': 0.6551854217446456, 'colsample_bytree': 0.919958602737086, 'reg_alpha': 0.9811197710000061, 'reg_lambda': 0.025303068907866263}. Best is trial 30 with value: 696.0994199553038.\u001b[0m\n",
      "\u001b[32m[I 2022-12-01 12:09:22,172]\u001b[0m Trial 31 finished with value: 703.7540603755776 and parameters: {'max_depth': 8, 'learning_rate': 0.020342036718051522, 'n_estimators': 540, 'min_child_weight': 4, 'gamma': 6.442561152565561e-08, 'subsample': 0.6583306253380534, 'colsample_bytree': 0.9437920592763593, 'reg_alpha': 0.10207967044891397, 'reg_lambda': 0.7845063248768362}. Best is trial 30 with value: 696.0994199553038.\u001b[0m\n",
      "\u001b[32m[I 2022-12-01 12:09:23,839]\u001b[0m Trial 32 finished with value: 706.8191218857872 and parameters: {'max_depth': 8, 'learning_rate': 0.011413803990905353, 'n_estimators': 548, 'min_child_weight': 4, 'gamma': 3.968604205254713e-06, 'subsample': 0.6630175818682131, 'colsample_bytree': 0.9601857471002504, 'reg_alpha': 0.062374094618383245, 'reg_lambda': 0.7608328474984649}. Best is trial 30 with value: 696.0994199553038.\u001b[0m\n",
      "\u001b[32m[I 2022-12-01 12:09:25,400]\u001b[0m Trial 33 finished with value: 715.5716056402533 and parameters: {'max_depth': 7, 'learning_rate': 0.02028922579904274, 'n_estimators': 514, 'min_child_weight': 4, 'gamma': 1.3604302810365496e-07, 'subsample': 0.802705934200621, 'colsample_bytree': 0.9349044753253112, 'reg_alpha': 0.011628254490909594, 'reg_lambda': 0.9117900363680178}. Best is trial 30 with value: 696.0994199553038.\u001b[0m\n",
      "\u001b[32m[I 2022-12-01 12:09:26,933]\u001b[0m Trial 34 finished with value: 710.6366697106023 and parameters: {'max_depth': 8, 'learning_rate': 0.02139874873208723, 'n_estimators': 508, 'min_child_weight': 5, 'gamma': 5.486096518923942e-06, 'subsample': 0.6497432660733263, 'colsample_bytree': 0.9992530553253846, 'reg_alpha': 0.17191971068104545, 'reg_lambda': 0.35905287248853013}. Best is trial 30 with value: 696.0994199553038.\u001b[0m\n",
      "\u001b[32m[I 2022-12-01 12:09:28,407]\u001b[0m Trial 35 finished with value: 708.9298968122453 and parameters: {'max_depth': 7, 'learning_rate': 0.012535491871459508, 'n_estimators': 511, 'min_child_weight': 4, 'gamma': 4.8087407581595274e-05, 'subsample': 0.7192297463930669, 'colsample_bytree': 0.8794941120589832, 'reg_alpha': 0.1916270866950825, 'reg_lambda': 0.11729773327246504}. Best is trial 30 with value: 696.0994199553038.\u001b[0m\n",
      "\u001b[32m[I 2022-12-01 12:09:29,745]\u001b[0m Trial 36 finished with value: 711.6564503568414 and parameters: {'max_depth': 8, 'learning_rate': 0.03152071167767488, 'n_estimators': 482, 'min_child_weight': 5, 'gamma': 2.758080859793205e-07, 'subsample': 0.7945752080297388, 'colsample_bytree': 0.7343548404881401, 'reg_alpha': 1.2148467934717279e-08, 'reg_lambda': 0.0264727543364536}. Best is trial 30 with value: 696.0994199553038.\u001b[0m\n",
      "\u001b[32m[I 2022-12-01 12:09:31,139]\u001b[0m Trial 37 finished with value: 748.5627442352144 and parameters: {'max_depth': 7, 'learning_rate': 0.12721805062202363, 'n_estimators': 528, 'min_child_weight': 4, 'gamma': 4.5565639669206334e-08, 'subsample': 0.7149202572893595, 'colsample_bytree': 0.9478477598964027, 'reg_alpha': 0.027615562637397714, 'reg_lambda': 0.01067498763974014}. Best is trial 30 with value: 696.0994199553038.\u001b[0m\n",
      "\u001b[32m[I 2022-12-01 12:09:32,988]\u001b[0m Trial 38 finished with value: 728.1261815069306 and parameters: {'max_depth': 9, 'learning_rate': 0.04928631654618575, 'n_estimators': 457, 'min_child_weight': 5, 'gamma': 1.6164097421509187e-05, 'subsample': 0.8352628394760313, 'colsample_bytree': 0.8021029727930388, 'reg_alpha': 0.10807611178454644, 'reg_lambda': 0.4132246606288291}. Best is trial 30 with value: 696.0994199553038.\u001b[0m\n",
      "\u001b[32m[I 2022-12-01 12:09:34,315]\u001b[0m Trial 39 finished with value: 728.5462969947114 and parameters: {'max_depth': 8, 'learning_rate': 0.303252509894431, 'n_estimators': 490, 'min_child_weight': 7, 'gamma': 2.297270122934725e-06, 'subsample': 0.7463269317401221, 'colsample_bytree': 0.7492226915121594, 'reg_alpha': 0.007816279541543987, 'reg_lambda': 0.19401717976928567}. Best is trial 30 with value: 696.0994199553038.\u001b[0m\n",
      "\u001b[32m[I 2022-12-01 12:09:35,793]\u001b[0m Trial 40 finished with value: 708.7400337907853 and parameters: {'max_depth': 8, 'learning_rate': 0.020009900899514058, 'n_estimators': 550, 'min_child_weight': 6, 'gamma': 1.345838964346148e-05, 'subsample': 0.6868234296362815, 'colsample_bytree': 0.6988801146828049, 'reg_alpha': 0.3961494244826285, 'reg_lambda': 0.00417456778571978}. Best is trial 30 with value: 696.0994199553038.\u001b[0m\n",
      "\u001b[32m[I 2022-12-01 12:09:37,243]\u001b[0m Trial 41 finished with value: 708.1075717577448 and parameters: {'max_depth': 7, 'learning_rate': 0.011928642002499905, 'n_estimators': 532, 'min_child_weight': 4, 'gamma': 4.598679767465116e-06, 'subsample': 0.6593356934337627, 'colsample_bytree': 0.9566755213524132, 'reg_alpha': 0.07102499766344818, 'reg_lambda': 0.9814679258090386}. Best is trial 30 with value: 696.0994199553038.\u001b[0m\n",
      "\u001b[32m[I 2022-12-01 12:09:38,745]\u001b[0m Trial 42 finished with value: 703.2853088666853 and parameters: {'max_depth': 8, 'learning_rate': 0.01671191819262335, 'n_estimators': 495, 'min_child_weight': 5, 'gamma': 0.00013325423429834174, 'subsample': 0.6249792931674969, 'colsample_bytree': 0.9616398558448724, 'reg_alpha': 0.9859611318970162, 'reg_lambda': 0.5824247772499158}. Best is trial 30 with value: 696.0994199553038.\u001b[0m\n",
      "\u001b[32m[I 2022-12-01 12:09:40,311]\u001b[0m Trial 43 finished with value: 704.9672277198279 and parameters: {'max_depth': 9, 'learning_rate': 0.016649436195708814, 'n_estimators': 495, 'min_child_weight': 5, 'gamma': 7.487222205508735e-05, 'subsample': 0.625322161904335, 'colsample_bytree': 0.865406631688987, 'reg_alpha': 0.42322038694738734, 'reg_lambda': 0.5011177311941442}. Best is trial 30 with value: 696.0994199553038.\u001b[0m\n",
      "\u001b[32m[I 2022-12-01 12:09:41,642]\u001b[0m Trial 44 finished with value: 699.4302577644171 and parameters: {'max_depth': 8, 'learning_rate': 0.022552863696198557, 'n_estimators': 454, 'min_child_weight': 5, 'gamma': 0.0002097134136710771, 'subsample': 0.5984772209498846, 'colsample_bytree': 0.9193388416287359, 'reg_alpha': 0.8619549262936173, 'reg_lambda': 0.25772848851482705}. Best is trial 30 with value: 696.0994199553038.\u001b[0m\n",
      "\u001b[32m[I 2022-12-01 12:09:43,123]\u001b[0m Trial 45 finished with value: 719.0503041542553 and parameters: {'max_depth': 9, 'learning_rate': 0.0314827798518358, 'n_estimators': 455, 'min_child_weight': 5, 'gamma': 0.0002525843596357831, 'subsample': 0.5992967769538617, 'colsample_bytree': 0.9185212773827086, 'reg_alpha': 0.750527301162322, 'reg_lambda': 0.10415162072512799}. Best is trial 30 with value: 696.0994199553038.\u001b[0m\n",
      "\u001b[32m[I 2022-12-01 12:09:44,576]\u001b[0m Trial 46 finished with value: 720.7017924105238 and parameters: {'max_depth': 8, 'learning_rate': 0.05249197388019739, 'n_estimators': 471, 'min_child_weight': 6, 'gamma': 0.000729181818871194, 'subsample': 0.550673866135712, 'colsample_bytree': 0.8268759329705937, 'reg_alpha': 0.3684015863134203, 'reg_lambda': 0.2607867612376142}. Best is trial 30 with value: 696.0994199553038.\u001b[0m\n",
      "\u001b[32m[I 2022-12-01 12:09:45,686]\u001b[0m Trial 47 finished with value: 708.6640601381378 and parameters: {'max_depth': 7, 'learning_rate': 0.02324854891210618, 'n_estimators': 350, 'min_child_weight': 7, 'gamma': 0.00012018113850733571, 'subsample': 0.6356978001418725, 'colsample_bytree': 0.9740378071913955, 'reg_alpha': 0.9332008542618103, 'reg_lambda': 0.03182484521086814}. Best is trial 30 with value: 696.0994199553038.\u001b[0m\n",
      "\u001b[32m[I 2022-12-01 12:09:46,221]\u001b[0m Trial 48 finished with value: 771.848967535653 and parameters: {'max_depth': 6, 'learning_rate': 0.01348190723149714, 'n_estimators': 205, 'min_child_weight': 6, 'gamma': 0.0011269920204524096, 'subsample': 0.531050128728313, 'colsample_bytree': 0.8748907302677583, 'reg_alpha': 0.24994163747142353, 'reg_lambda': 0.012282000617219053}. Best is trial 30 with value: 696.0994199553038.\u001b[0m\n",
      "\u001b[32m[I 2022-12-01 12:09:47,093]\u001b[0m Trial 49 finished with value: 715.5172589396584 and parameters: {'max_depth': 9, 'learning_rate': 0.03431664903337724, 'n_estimators': 226, 'min_child_weight': 5, 'gamma': 2.7782954589019047e-05, 'subsample': 0.7739709322194246, 'colsample_bytree': 0.8534783368792829, 'reg_alpha': 0.13889438995124492, 'reg_lambda': 0.038328090497573845}. Best is trial 30 with value: 696.0994199553038.\u001b[0m\n",
      "\u001b[32m[I 2022-12-01 12:09:47,543]\u001b[0m Trial 50 finished with value: 784.0278299385958 and parameters: {'max_depth': 6, 'learning_rate': 0.017367058688117835, 'n_estimators': 149, 'min_child_weight': 5, 'gamma': 0.00013495149582304808, 'subsample': 0.5783756582659823, 'colsample_bytree': 0.9204821397900127, 'reg_alpha': 0.019410740435536776, 'reg_lambda': 0.017359892209611063}. Best is trial 30 with value: 696.0994199553038.\u001b[0m\n",
      "\u001b[32m[I 2022-12-01 12:09:49,363]\u001b[0m Trial 51 finished with value: 712.7294027023355 and parameters: {'max_depth': 8, 'learning_rate': 0.023992728422268846, 'n_estimators': 514, 'min_child_weight': 4, 'gamma': 2.3797793068549916e-08, 'subsample': 0.6457786005334781, 'colsample_bytree': 0.9688287577856847, 'reg_alpha': 0.07966311997723306, 'reg_lambda': 0.24692472072170335}. Best is trial 30 with value: 696.0994199553038.\u001b[0m\n",
      "\u001b[32m[I 2022-12-01 12:09:51,068]\u001b[0m Trial 52 finished with value: 700.8713667776387 and parameters: {'max_depth': 8, 'learning_rate': 0.010117345114447708, 'n_estimators': 498, 'min_child_weight': 4, 'gamma': 0.0004914441623632633, 'subsample': 0.623888308950685, 'colsample_bytree': 0.9333344159291245, 'reg_alpha': 0.4577128635378134, 'reg_lambda': 0.583590840701711}. Best is trial 30 with value: 696.0994199553038.\u001b[0m\n",
      "\u001b[32m[I 2022-12-01 12:09:53,156]\u001b[0m Trial 53 finished with value: 702.1320382482941 and parameters: {'max_depth': 8, 'learning_rate': 0.010516438280323998, 'n_estimators': 495, 'min_child_weight': 5, 'gamma': 0.002711380696283543, 'subsample': 0.6218146623975416, 'colsample_bytree': 0.875631791540996, 'reg_alpha': 0.9383409903921613, 'reg_lambda': 0.17020037980141012}. Best is trial 30 with value: 696.0994199553038.\u001b[0m\n",
      "\u001b[32m[I 2022-12-01 12:09:54,375]\u001b[0m Trial 54 finished with value: 711.8402007947834 and parameters: {'max_depth': 7, 'learning_rate': 0.010316588966199438, 'n_estimators': 436, 'min_child_weight': 4, 'gamma': 0.0034503412600730104, 'subsample': 0.5961045332897219, 'colsample_bytree': 0.8863658490419991, 'reg_alpha': 0.4305653675124625, 'reg_lambda': 0.09896192292810357}. Best is trial 30 with value: 696.0994199553038.\u001b[0m\n",
      "\u001b[32m[I 2022-12-01 12:09:55,384]\u001b[0m Trial 55 finished with value: 718.715213798449 and parameters: {'max_depth': 9, 'learning_rate': 0.012656488377454799, 'n_estimators': 278, 'min_child_weight': 5, 'gamma': 0.008462810916892851, 'subsample': 0.5581471581272137, 'colsample_bytree': 0.8472336457310857, 'reg_alpha': 8.804585544820222e-06, 'reg_lambda': 0.14586028391371714}. Best is trial 30 with value: 696.0994199553038.\u001b[0m\n",
      "\u001b[32m[I 2022-12-01 12:09:56,412]\u001b[0m Trial 56 finished with value: 725.6568004929948 and parameters: {'max_depth': 8, 'learning_rate': 0.01034412612471223, 'n_estimators': 316, 'min_child_weight': 7, 'gamma': 0.0009038404466216411, 'subsample': 0.6895016712421949, 'colsample_bytree': 0.7976120274468035, 'reg_alpha': 0.278060007872672, 'reg_lambda': 0.04653932068525556}. Best is trial 30 with value: 696.0994199553038.\u001b[0m\n",
      "\u001b[32m[I 2022-12-01 12:09:58,035]\u001b[0m Trial 57 finished with value: 708.0569406871613 and parameters: {'max_depth': 10, 'learning_rate': 0.01421341460699473, 'n_estimators': 406, 'min_child_weight': 4, 'gamma': 0.0004777062664680971, 'subsample': 0.6093259399906409, 'colsample_bytree': 0.9251726228947299, 'reg_alpha': 0.5363286062770763, 'reg_lambda': 0.2084988428146511}. Best is trial 30 with value: 696.0994199553038.\u001b[0m\n",
      "\u001b[32m[I 2022-12-01 12:09:59,526]\u001b[0m Trial 58 finished with value: 702.9060020048013 and parameters: {'max_depth': 7, 'learning_rate': 0.011953330396114719, 'n_estimators': 521, 'min_child_weight': 5, 'gamma': 0.0031842307211624567, 'subsample': 0.7320965844191577, 'colsample_bytree': 0.8161588248961773, 'reg_alpha': 0.00024766531108111036, 'reg_lambda': 0.008468941504296626}. Best is trial 30 with value: 696.0994199553038.\u001b[0m\n",
      "\u001b[32m[I 2022-12-01 12:10:00,887]\u001b[0m Trial 59 finished with value: 785.7808096293398 and parameters: {'max_depth': 9, 'learning_rate': 0.18403507483555215, 'n_estimators': 476, 'min_child_weight': 8, 'gamma': 0.0004198315328495149, 'subsample': 0.5096447536415631, 'colsample_bytree': 0.7717059166392698, 'reg_alpha': 0.05138371660110975, 'reg_lambda': 0.019629915347334256}. Best is trial 30 with value: 696.0994199553038.\u001b[0m\n",
      "\u001b[32m[I 2022-12-01 12:10:02,167]\u001b[0m Trial 60 finished with value: 702.4895157119728 and parameters: {'max_depth': 8, 'learning_rate': 0.018288061367062975, 'n_estimators': 450, 'min_child_weight': 6, 'gamma': 0.0020636481736457588, 'subsample': 0.7048182994566848, 'colsample_bytree': 0.6973907837917879, 'reg_alpha': 0.0017019542733620065, 'reg_lambda': 0.34168789076765427}. Best is trial 30 with value: 696.0994199553038.\u001b[0m\n",
      "\u001b[32m[I 2022-12-01 12:10:03,362]\u001b[0m Trial 61 finished with value: 707.1084303280876 and parameters: {'max_depth': 8, 'learning_rate': 0.01761986520209675, 'n_estimators': 449, 'min_child_weight': 6, 'gamma': 0.0020735867081957647, 'subsample': 0.704941112236808, 'colsample_bytree': 0.6778627383562382, 'reg_alpha': 0.0026992199987428797, 'reg_lambda': 0.002300677811362775}. Best is trial 30 with value: 696.0994199553038.\u001b[0m\n",
      "\u001b[32m[I 2022-12-01 12:10:04,621]\u001b[0m Trial 62 finished with value: 706.1408981151379 and parameters: {'max_depth': 8, 'learning_rate': 0.015061657094211624, 'n_estimators': 504, 'min_child_weight': 6, 'gamma': 0.011763176229889954, 'subsample': 0.6775704566116812, 'colsample_bytree': 0.6397922985247252, 'reg_alpha': 0.1539659721832234, 'reg_lambda': 0.3375826104558668}. Best is trial 30 with value: 696.0994199553038.\u001b[0m\n",
      "\u001b[32m[I 2022-12-01 12:10:05,659]\u001b[0m Trial 63 finished with value: 709.7111947364405 and parameters: {'max_depth': 8, 'learning_rate': 0.04190645880592843, 'n_estimators': 417, 'min_child_weight': 7, 'gamma': 0.0017599710076061999, 'subsample': 0.626899851852847, 'colsample_bytree': 0.6848444624874229, 'reg_alpha': 0.0009735936174470052, 'reg_lambda': 0.07626275100507894}. Best is trial 30 with value: 696.0994199553038.\u001b[0m\n",
      "\u001b[32m[I 2022-12-01 12:10:06,522]\u001b[0m Trial 64 finished with value: 1252.4500126432179 and parameters: {'max_depth': 7, 'learning_rate': 0.9981835442887674, 'n_estimators': 389, 'min_child_weight': 8, 'gamma': 0.00022269462897254717, 'subsample': 0.5848863705045027, 'colsample_bytree': 0.7187066642150457, 'reg_alpha': 0.5947091560407817, 'reg_lambda': 0.17122963493429594}. Best is trial 30 with value: 696.0994199553038.\u001b[0m\n",
      "\u001b[32m[I 2022-12-01 12:10:07,276]\u001b[0m Trial 65 finished with value: 733.4128036416371 and parameters: {'max_depth': 4, 'learning_rate': 0.02788794524710188, 'n_estimators': 468, 'min_child_weight': 4, 'gamma': 2.844217662260297e-05, 'subsample': 0.6475162525642493, 'colsample_bytree': 0.9060451283852725, 'reg_alpha': 0.9741701724876766, 'reg_lambda': 0.49236896681378317}. Best is trial 30 with value: 696.0994199553038.\u001b[0m\n",
      "\u001b[32m[I 2022-12-01 12:10:08,659]\u001b[0m Trial 66 finished with value: 713.7106686229388 and parameters: {'max_depth': 9, 'learning_rate': 0.021994718661898758, 'n_estimators': 372, 'min_child_weight': 6, 'gamma': 1.1296244630126006e-05, 'subsample': 0.5722550139419604, 'colsample_bytree': 0.8748888770010332, 'reg_alpha': 0.007604599153105298, 'reg_lambda': 0.2714536343566208}. Best is trial 30 with value: 696.0994199553038.\u001b[0m\n",
      "\u001b[32m[I 2022-12-01 12:10:10,000]\u001b[0m Trial 67 finished with value: 716.2159117362322 and parameters: {'max_depth': 8, 'learning_rate': 0.010019168776902085, 'n_estimators': 486, 'min_child_weight': 9, 'gamma': 5.84312158832636e-05, 'subsample': 0.7549404942670437, 'colsample_bytree': 0.6429022800658423, 'reg_alpha': 0.037822866171949826, 'reg_lambda': 0.09202766033943821}. Best is trial 30 with value: 696.0994199553038.\u001b[0m\n",
      "\u001b[32m[I 2022-12-01 12:10:11,625]\u001b[0m Trial 68 finished with value: 706.7948479594725 and parameters: {'max_depth': 9, 'learning_rate': 0.014155026698029089, 'n_estimators': 529, 'min_child_weight': 5, 'gamma': 0.06585900319851783, 'subsample': 0.6139662220123021, 'colsample_bytree': 0.7042551664641467, 'reg_alpha': 4.819257668579053e-07, 'reg_lambda': 0.13037624745387208}. Best is trial 30 with value: 696.0994199553038.\u001b[0m\n",
      "\u001b[32m[I 2022-12-01 12:10:12,736]\u001b[0m Trial 69 finished with value: 842.2528733272094 and parameters: {'max_depth': 7, 'learning_rate': 0.4863149065961598, 'n_estimators': 429, 'min_child_weight': 7, 'gamma': 0.000598424400537584, 'subsample': 0.668258099754428, 'colsample_bytree': 0.7397134602329182, 'reg_alpha': 0.26922792171415616, 'reg_lambda': 0.6869459108751381}. Best is trial 30 with value: 696.0994199553038.\u001b[0m\n",
      "\u001b[32m[I 2022-12-01 12:10:13,854]\u001b[0m Trial 70 finished with value: 706.4567820586931 and parameters: {'max_depth': 10, 'learning_rate': 0.018922576794988256, 'n_estimators': 330, 'min_child_weight': 4, 'gamma': 0.004788278792091092, 'subsample': 0.6373123734052362, 'colsample_bytree': 0.7581293452413924, 'reg_alpha': 3.5820537048791925e-05, 'reg_lambda': 0.00621130966586292}. Best is trial 30 with value: 696.0994199553038.\u001b[0m\n",
      "\u001b[32m[I 2022-12-01 12:10:15,467]\u001b[0m Trial 71 finished with value: 703.0118282158221 and parameters: {'max_depth': 8, 'learning_rate': 0.01212552529031809, 'n_estimators': 519, 'min_child_weight': 5, 'gamma': 0.002166608979759614, 'subsample': 0.7308851881513537, 'colsample_bytree': 0.830142146652787, 'reg_alpha': 0.0005824513625021298, 'reg_lambda': 0.0022538340510454874}. Best is trial 30 with value: 696.0994199553038.\u001b[0m\n",
      "\u001b[32m[I 2022-12-01 12:10:16,818]\u001b[0m Trial 72 finished with value: 706.5463441338487 and parameters: {'max_depth': 7, 'learning_rate': 0.011618101995070703, 'n_estimators': 499, 'min_child_weight': 5, 'gamma': 0.013505691953147513, 'subsample': 0.7298782221983613, 'colsample_bytree': 0.8122381650396265, 'reg_alpha': 0.00016781447078976583, 'reg_lambda': 0.00458077409504449}. Best is trial 30 with value: 696.0994199553038.\u001b[0m\n",
      "\u001b[32m[I 2022-12-01 12:10:18,536]\u001b[0m Trial 73 finished with value: 715.9727374227851 and parameters: {'max_depth': 8, 'learning_rate': 0.015876909132659704, 'n_estimators': 526, 'min_child_weight': 6, 'gamma': 0.04665549289082049, 'subsample': 0.7796822325044117, 'colsample_bytree': 0.8947356697678264, 'reg_alpha': 0.0014209742753229625, 'reg_lambda': 0.00868259405362544}. Best is trial 30 with value: 696.0994199553038.\u001b[0m\n",
      "\u001b[32m[I 2022-12-01 12:10:19,932]\u001b[0m Trial 74 finished with value: 709.0175439327683 and parameters: {'max_depth': 7, 'learning_rate': 0.01309029768705128, 'n_estimators': 477, 'min_child_weight': 4, 'gamma': 0.0015008888368474806, 'subsample': 0.7046410511079041, 'colsample_bytree': 0.9420647869484494, 'reg_alpha': 0.00028172116838776285, 'reg_lambda': 0.007330477559715236}. Best is trial 30 with value: 696.0994199553038.\u001b[0m\n",
      "\u001b[32m[I 2022-12-01 12:10:21,571]\u001b[0m Trial 75 finished with value: 704.3393035809465 and parameters: {'max_depth': 8, 'learning_rate': 0.011585837363161676, 'n_estimators': 538, 'min_child_weight': 5, 'gamma': 0.006092232265218849, 'subsample': 0.6927648396522688, 'colsample_bytree': 0.8603714009791991, 'reg_alpha': 8.197672433854099e-05, 'reg_lambda': 0.38834860590989617}. Best is trial 30 with value: 696.0994199553038.\u001b[0m\n",
      "\u001b[32m[I 2022-12-01 12:10:22,285]\u001b[0m Trial 76 finished with value: 725.0872662928837 and parameters: {'max_depth': 6, 'learning_rate': 0.01903651275710233, 'n_estimators': 264, 'min_child_weight': 4, 'gamma': 0.00296789152255491, 'subsample': 0.7382643580811649, 'colsample_bytree': 0.9815149683522914, 'reg_alpha': 0.00031494302284962625, 'reg_lambda': 0.04980699112950654}. Best is trial 30 with value: 696.0994199553038.\u001b[0m\n",
      "\u001b[32m[I 2022-12-01 12:10:23,738]\u001b[0m Trial 77 finished with value: 711.4589788119891 and parameters: {'max_depth': 8, 'learning_rate': 0.024492224465463917, 'n_estimators': 503, 'min_child_weight': 9, 'gamma': 0.0003063072536873215, 'subsample': 0.7549233270948632, 'colsample_bytree': 0.7905564907915332, 'reg_alpha': 0.5762437106715127, 'reg_lambda': 0.18794780350588144}. Best is trial 30 with value: 696.0994199553038.\u001b[0m\n",
      "\u001b[32m[I 2022-12-01 12:10:25,087]\u001b[0m Trial 78 finished with value: 713.7277409946953 and parameters: {'max_depth': 7, 'learning_rate': 0.015255904126511158, 'n_estimators': 459, 'min_child_weight': 5, 'gamma': 0.42976577896646906, 'subsample': 0.8131838478258687, 'colsample_bytree': 0.817295033373905, 'reg_alpha': 0.11620639536252166, 'reg_lambda': 0.02223804996764229}. Best is trial 30 with value: 696.0994199553038.\u001b[0m\n",
      "\u001b[32m[I 2022-12-01 12:10:26,983]\u001b[0m Trial 79 finished with value: 707.8192255137526 and parameters: {'max_depth': 9, 'learning_rate': 0.01138882460990475, 'n_estimators': 520, 'min_child_weight': 6, 'gamma': 2.4150024888461144e-07, 'subsample': 0.7163850098139287, 'colsample_bytree': 0.9254971693183983, 'reg_alpha': 0.3077395494972113, 'reg_lambda': 0.015120711628453272}. Best is trial 30 with value: 696.0994199553038.\u001b[0m\n",
      "\u001b[32m[I 2022-12-01 12:10:27,962]\u001b[0m Trial 80 finished with value: 723.0023510818273 and parameters: {'max_depth': 8, 'learning_rate': 0.030252757347240596, 'n_estimators': 446, 'min_child_weight': 5, 'gamma': 0.00018496932479411237, 'subsample': 0.6513914810426107, 'colsample_bytree': 0.5149242009128835, 'reg_alpha': 0.0017716468430891803, 'reg_lambda': 0.0025475905250631993}. Best is trial 30 with value: 696.0994199553038.\u001b[0m\n",
      "\u001b[32m[I 2022-12-01 12:10:29,605]\u001b[0m Trial 81 finished with value: 701.5522729098944 and parameters: {'max_depth': 8, 'learning_rate': 0.01313269506184202, 'n_estimators': 518, 'min_child_weight': 5, 'gamma': 0.0019065138268246277, 'subsample': 0.7284747517807887, 'colsample_bytree': 0.8343158819351741, 'reg_alpha': 0.0005438210096608593, 'reg_lambda': 0.0022237504459626943}. Best is trial 30 with value: 696.0994199553038.\u001b[0m\n",
      "\u001b[32m[I 2022-12-01 12:10:31,086]\u001b[0m Trial 82 finished with value: 700.7263735414467 and parameters: {'max_depth': 8, 'learning_rate': 0.01353024124337179, 'n_estimators': 489, 'min_child_weight': 5, 'gamma': 0.001040112736515308, 'subsample': 0.6778663610022948, 'colsample_bytree': 0.83611822478069, 'reg_alpha': 0.0005672208564454377, 'reg_lambda': 0.0015968242034140687}. Best is trial 30 with value: 696.0994199553038.\u001b[0m\n",
      "\u001b[32m[I 2022-12-01 12:10:32,962]\u001b[0m Trial 83 finished with value: 706.9995105642791 and parameters: {'max_depth': 8, 'learning_rate': 0.01836326412242526, 'n_estimators': 486, 'min_child_weight': 8, 'gamma': 2.3819435458270077e-06, 'subsample': 0.6798162789330867, 'colsample_bytree': 0.8408330113791264, 'reg_alpha': 0.004610713069637239, 'reg_lambda': 0.00021696473672494528}. Best is trial 30 with value: 696.0994199553038.\u001b[0m\n",
      "\u001b[32m[I 2022-12-01 12:10:33,308]\u001b[0m Trial 84 finished with value: 1246.911092175417 and parameters: {'max_depth': 9, 'learning_rate': 0.013643761854769907, 'n_estimators': 81, 'min_child_weight': 4, 'gamma': 3.32161645630057e-05, 'subsample': 0.621993618196835, 'colsample_bytree': 0.9080566687303029, 'reg_alpha': 0.00045114225017094486, 'reg_lambda': 0.0008199546499672389}. Best is trial 30 with value: 696.0994199553038.\u001b[0m\n",
      "\u001b[32m[I 2022-12-01 12:10:35,072]\u001b[0m Trial 85 finished with value: 721.5867432069788 and parameters: {'max_depth': 8, 'learning_rate': 0.03563170587588742, 'n_estimators': 540, 'min_child_weight': 5, 'gamma': 0.000998360225612545, 'subsample': 0.6618271173239664, 'colsample_bytree': 0.8867189925696872, 'reg_alpha': 0.6122197672821427, 'reg_lambda': 0.0015341127881205246}. Best is trial 30 with value: 696.0994199553038.\u001b[0m\n",
      "\u001b[32m[I 2022-12-01 12:10:36,642]\u001b[0m Trial 86 finished with value: 702.5037852471146 and parameters: {'max_depth': 8, 'learning_rate': 0.016184251941746733, 'n_estimators': 494, 'min_child_weight': 6, 'gamma': 0.0006009302668092385, 'subsample': 0.5965372342855408, 'colsample_bytree': 0.8613929028776235, 'reg_alpha': 0.19475382621514217, 'reg_lambda': 0.003571992973808669}. Best is trial 30 with value: 696.0994199553038.\u001b[0m\n",
      "\u001b[32m[I 2022-12-01 12:10:38,296]\u001b[0m Trial 87 finished with value: 752.5174794641075 and parameters: {'max_depth': 9, 'learning_rate': 0.07461698048223996, 'n_estimators': 465, 'min_child_weight': 4, 'gamma': 0.00046233373320687444, 'subsample': 0.6303585035625805, 'colsample_bytree': 0.9363735641823, 'reg_alpha': 0.0008354951373489037, 'reg_lambda': 0.0009509755237750397}. Best is trial 30 with value: 696.0994199553038.\u001b[0m\n",
      "\u001b[32m[I 2022-12-01 12:10:40,629]\u001b[0m Trial 88 finished with value: 704.1187625363099 and parameters: {'max_depth': 8, 'learning_rate': 0.02151836514298255, 'n_estimators': 510, 'min_child_weight': 5, 'gamma': 8.273533040795963e-05, 'subsample': 0.6049988363869377, 'colsample_bytree': 0.8402216821013149, 'reg_alpha': 0.01778282516869359, 'reg_lambda': 4.347847084763619e-05}. Best is trial 30 with value: 696.0994199553038.\u001b[0m\n",
      "\u001b[32m[I 2022-12-01 12:10:43,227]\u001b[0m Trial 89 finished with value: 705.6113562527989 and parameters: {'max_depth': 8, 'learning_rate': 0.013557826909938252, 'n_estimators': 479, 'min_child_weight': 8, 'gamma': 6.915437464863559e-06, 'subsample': 0.7138940695328199, 'colsample_bytree': 0.7816015911175506, 'reg_alpha': 0.0001512933665470099, 'reg_lambda': 0.6397313515261203}. Best is trial 30 with value: 696.0994199553038.\u001b[0m\n",
      "\u001b[32m[I 2022-12-01 12:10:44,385]\u001b[0m Trial 90 finished with value: 738.6262575201831 and parameters: {'max_depth': 9, 'learning_rate': 0.010723940619169155, 'n_estimators': 286, 'min_child_weight': 4, 'gamma': 0.004798072949112219, 'subsample': 0.6971914009057193, 'colsample_bytree': 0.6584649926779215, 'reg_alpha': 6.798056540164176e-05, 'reg_lambda': 0.0005489303824973018}. Best is trial 30 with value: 696.0994199553038.\u001b[0m\n",
      "\u001b[32m[I 2022-12-01 12:10:45,948]\u001b[0m Trial 91 finished with value: 706.2267006452113 and parameters: {'max_depth': 8, 'learning_rate': 0.015068259680501067, 'n_estimators': 498, 'min_child_weight': 6, 'gamma': 0.0014743283114841141, 'subsample': 0.5922931972652649, 'colsample_bytree': 0.8722006965740737, 'reg_alpha': 0.18541884742583792, 'reg_lambda': 0.00393098486459465}. Best is trial 30 with value: 696.0994199553038.\u001b[0m\n",
      "\u001b[32m[I 2022-12-01 12:10:47,647]\u001b[0m Trial 92 finished with value: 706.8552082322238 and parameters: {'max_depth': 8, 'learning_rate': 0.01621026530501165, 'n_estimators': 550, 'min_child_weight': 6, 'gamma': 0.0007776156950574827, 'subsample': 0.5835505475917862, 'colsample_bytree': 0.8608667967706216, 'reg_alpha': 0.32640079587537546, 'reg_lambda': 0.0017459453501877857}. Best is trial 30 with value: 696.0994199553038.\u001b[0m\n",
      "\u001b[32m[I 2022-12-01 12:10:49,436]\u001b[0m Trial 93 finished with value: 712.4097373589161 and parameters: {'max_depth': 8, 'learning_rate': 0.02644273054466074, 'n_estimators': 493, 'min_child_weight': 6, 'gamma': 0.00036730822546015684, 'subsample': 0.6158730558983513, 'colsample_bytree': 0.8884086065602984, 'reg_alpha': 0.4185116840717177, 'reg_lambda': 0.0003912843939249625}. Best is trial 30 with value: 696.0994199553038.\u001b[0m\n",
      "\u001b[32m[I 2022-12-01 12:10:50,908]\u001b[0m Trial 94 finished with value: 701.9810412287636 and parameters: {'max_depth': 7, 'learning_rate': 0.017776461494663165, 'n_estimators': 530, 'min_child_weight': 7, 'gamma': 0.0001622639703892166, 'subsample': 0.6014199384346984, 'colsample_bytree': 0.9037923573859002, 'reg_alpha': 0.09906047881330377, 'reg_lambda': 0.0030477283693447154}. Best is trial 30 with value: 696.0994199553038.\u001b[0m\n",
      "\u001b[32m[I 2022-12-01 12:10:52,699]\u001b[0m Trial 95 finished with value: 709.488269532756 and parameters: {'max_depth': 7, 'learning_rate': 0.02029632399042699, 'n_estimators': 536, 'min_child_weight': 7, 'gamma': 0.0001769595416302396, 'subsample': 0.6385136184768124, 'colsample_bytree': 0.9053899410702664, 'reg_alpha': 0.08804317960875543, 'reg_lambda': 0.005323090156792835}. Best is trial 30 with value: 696.0994199553038.\u001b[0m\n",
      "\u001b[32m[I 2022-12-01 12:10:54,367]\u001b[0m Trial 96 finished with value: 705.1666441237477 and parameters: {'max_depth': 7, 'learning_rate': 0.01799308793968361, 'n_estimators': 514, 'min_child_weight': 7, 'gamma': 7.90231570750401e-05, 'subsample': 0.6821713826977327, 'colsample_bytree': 0.9481369749732566, 'reg_alpha': 0.7260094208548339, 'reg_lambda': 0.3096416734432431}. Best is trial 30 with value: 696.0994199553038.\u001b[0m\n",
      "\u001b[32m[I 2022-12-01 12:10:54,881]\u001b[0m Trial 97 finished with value: 774.7193171368484 and parameters: {'max_depth': 5, 'learning_rate': 0.012921640922199993, 'n_estimators': 235, 'min_child_weight': 5, 'gamma': 2.0383452284277655e-05, 'subsample': 0.5640455456489823, 'colsample_bytree': 0.7190367107759044, 'reg_alpha': 0.04377145764858296, 'reg_lambda': 0.0028337746731369267}. Best is trial 30 with value: 696.0994199553038.\u001b[0m\n",
      "\u001b[32m[I 2022-12-01 12:10:56,780]\u001b[0m Trial 98 finished with value: 710.2855433108277 and parameters: {'max_depth': 9, 'learning_rate': 0.022539998181592552, 'n_estimators': 527, 'min_child_weight': 8, 'gamma': 2.1582045395141454e-08, 'subsample': 0.6562128358283402, 'colsample_bytree': 0.9267987872543376, 'reg_alpha': 0.024174980578875283, 'reg_lambda': 0.45091161556584347}. Best is trial 30 with value: 696.0994199553038.\u001b[0m\n",
      "\u001b[32m[I 2022-12-01 12:10:57,916]\u001b[0m Trial 99 finished with value: 715.514641691671 and parameters: {'max_depth': 7, 'learning_rate': 0.010733617013381396, 'n_estimators': 472, 'min_child_weight': 5, 'gamma': 1.021701499853765e-05, 'subsample': 0.6698404258868689, 'colsample_bytree': 0.6911560961450154, 'reg_alpha': 0.13292594392511559, 'reg_lambda': 0.001799918902532209}. Best is trial 30 with value: 696.0994199553038.\u001b[0m\n"
     ]
    },
    {
     "name": "stdout",
     "output_type": "stream",
     "text": [
      "Number of finished trials: 100\n",
      "Best trial:\n",
      "  RMSE: 696.0994199553038\n",
      "  Params: \n",
      "    max_depth: 8\n",
      "    learning_rate: 0.011592848172307444\n",
      "    n_estimators: 541\n",
      "    min_child_weight: 4\n",
      "    gamma: 5.704592135237904e-06\n",
      "    subsample: 0.6551854217446456\n",
      "    colsample_bytree: 0.919958602737086\n",
      "    reg_alpha: 0.9811197710000061\n",
      "    reg_lambda: 0.025303068907866263\n"
     ]
    }
   ],
   "source": [
    "study.optimize(objective, n_trials=100)\n",
    "warnings.filterwarnings('ignore')\n",
    "\n",
    "print('Number of finished trials: {}'.format(len(study.trials)))\n",
    "print('Best trial:')\n",
    "trial = study.best_trial\n",
    "\n",
    "print('  RMSE: {}'.format(trial.value))\n",
    "print('  Params: ')\n",
    "\n",
    "for key, value in trial.params.items():\n",
    "    print('    {}: {}'.format(key, value))"
   ]
  },
  {
   "cell_type": "markdown",
   "metadata": {},
   "source": [
    "## Fit model with best parameters and predict"
   ]
  },
  {
   "cell_type": "code",
   "execution_count": 41,
   "metadata": {},
   "outputs": [],
   "source": [
    "def calc_test_r2(pred_vals, true_vals, baseline_rmse):\n",
    "    sse = mean_squared_error(pred_vals, true_vals) * len(true_vals)\n",
    "    sst = (baseline_rmse ** 2) * len(true_vals)\n",
    "    return (\n",
    "        1 - sse / sst, np.sqrt(sse / len(true_vals)),\n",
    "        mean_absolute_error(pred_vals, true_vals)\n",
    "    )"
   ]
  },
  {
   "cell_type": "code",
   "execution_count": 42,
   "metadata": {},
   "outputs": [
    {
     "name": "stdout",
     "output_type": "stream",
     "text": [
      "Test R-Squared: 0.7840977049573588\n",
      "RMSE: 734.1466364065583\n",
      "MAE: 497.71040169519324\n"
     ]
    }
   ],
   "source": [
    "best_params = trial.params\n",
    "best_model = xgb.XGBRegressor(**best_params)\n",
    "best_model.fit(scaled_x_train, y_train)\n",
    "final_preds = best_model.predict(scaled_x_test)\n",
    "# print(\"RMSE = \", np.sqrt(mean_squared_error(final_preds, y_test)))\n",
    "baseline_rmse = np.sqrt(((y_test - y_test.mean()) ** 2).mean())\n",
    "test_r2, rmse, mae = calc_test_r2(final_preds, y_test, baseline_rmse)\n",
    "print('Test R-Squared:', test_r2)\n",
    "print('RMSE:', rmse)\n",
    "print('MAE:', mae)"
   ]
  },
  {
   "cell_type": "code",
   "execution_count": 43,
   "metadata": {},
   "outputs": [],
   "source": [
    "pd.DataFrame(final_preds).to_csv('../data/predictions/xgboost_final_preds.csv', index=False)"
   ]
  }
 ],
 "metadata": {
  "kernelspec": {
   "display_name": "Python 3.10.7 64-bit",
   "language": "python",
   "name": "python3"
  },
  "language_info": {
   "codemirror_mode": {
    "name": "ipython",
    "version": 3
   },
   "file_extension": ".py",
   "mimetype": "text/x-python",
   "name": "python",
   "nbconvert_exporter": "python",
   "pygments_lexer": "ipython3",
   "version": "3.10.7"
  },
  "orig_nbformat": 4,
  "vscode": {
   "interpreter": {
    "hash": "aee8b7b246df8f9039afb4144a1f6fd8d2ca17a180786b69acc140d282b71a49"
   }
  }
 },
 "nbformat": 4,
 "nbformat_minor": 2
}
