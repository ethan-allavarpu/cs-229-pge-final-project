{
 "cells": [
  {
   "cell_type": "code",
   "execution_count": 73,
   "metadata": {},
   "outputs": [],
   "source": [
    "import numpy as np\n",
    "import optuna\n",
    "import pandas as pd\n",
    "import re\n",
    "from sklearn.metrics import mean_squared_error\n",
    "from sklearn.model_selection import train_test_split\n",
    "from sklearn.preprocessing import StandardScaler\n",
    "import warnings\n",
    "import xgboost as xgb\n"
   ]
  },
  {
   "cell_type": "markdown",
   "metadata": {},
   "source": [
    "## Reading in Data"
   ]
  },
  {
   "cell_type": "code",
   "execution_count": 74,
   "metadata": {},
   "outputs": [],
   "source": [
    "x_train = pd.read_csv(\n",
    "  \"../data/processed/x_train_w_OHE.csv\", index_col=0, dtype=str\n",
    ")\n",
    "x_test = pd.read_csv(\n",
    "  \"../data/processed/x_test_w_OHE.csv\", index_col=0, dtype=str\n",
    ")\n",
    "y_train = pd.read_csv(\n",
    "  \"../data/processed/y_train.csv\", index_col=0, dtype=float\n",
    ").squeeze(\"columns\").reset_index(drop=True)\n",
    "y_test = pd.read_csv(\n",
    "  \"../data/processed/y_test.csv\", index_col=0, dtype=float\n",
    ").squeeze(\"columns\").reset_index(drop=True)\n",
    "\n",
    "x_train, x_valid, y_train, y_valid = train_test_split(\n",
    "    x_train, y_train, test_size=0.2, random_state=42)"
   ]
  },
  {
   "cell_type": "code",
   "execution_count": 75,
   "metadata": {},
   "outputs": [],
   "source": [
    "def get_correct_types_x(df, numeric_cols):\n",
    "    for col in ['deenergize_time', 'restoration_time']:\n",
    "        df[col] = pd.to_datetime(df[col], format='%Y-%m-%d %H:%M:%S')\n",
    "    for col in numeric_cols:\n",
    "        df[col] = df[col].astype(float)\n",
    "    return df\n",
    "numeric_cols = [\n",
    "    'hftd_tier', 'total_affected', 'residential_affected',\n",
    "    'longitude', 'latitude', 'total_pop', 'median_age', 'median_income',\n",
    "    'white_pct', 'tmin_d-5', 'tmax_d-5', 'wspd_d-5', 'tmin_d-4', 'tmax_d-4',\n",
    "    'wspd_d-4', 'tmin_d-3', 'tmax_d-3', 'wspd_d-3', 'tmin_d-2', 'tmax_d-2',\n",
    "    'wspd_d-2', 'tmin_d-1', 'tmax_d-1', 'wspd_d-1'\n",
    "]"
   ]
  },
  {
   "cell_type": "code",
   "execution_count": 76,
   "metadata": {},
   "outputs": [],
   "source": [
    "#Scale all numeric columns then add back in zip columns\n",
    "zip_cols = x_train.columns[\n",
    "    [re.search('zip_is', col) is not None for col in x_train.columns]\n",
    "]\n",
    "x_train = get_correct_types_x(x_train, numeric_cols)\n",
    "x_valid = get_correct_types_x(x_valid, numeric_cols)\n",
    "x_test = get_correct_types_x(x_test, numeric_cols)\n",
    "rel_x_train = x_train[numeric_cols]\n",
    "rel_x_valid = x_valid[numeric_cols]\n",
    "rel_x_test = x_test[numeric_cols]\n",
    "\n",
    "scaler = StandardScaler()\n",
    "scaler.fit(rel_x_train)\n",
    "scaled_x_train = scaler.transform(rel_x_train)\n",
    "scaled_x_valid = scaler.transform(rel_x_valid)\n",
    "scaled_x_test = scaler.transform(rel_x_test)"
   ]
  },
  {
   "cell_type": "markdown",
   "metadata": {},
   "source": [
    "## Baseline Model"
   ]
  },
  {
   "cell_type": "code",
   "execution_count": 77,
   "metadata": {},
   "outputs": [
    {
     "name": "stdout",
     "output_type": "stream",
     "text": [
      "RMSE =  1091.158592436061\n"
     ]
    }
   ],
   "source": [
    "baseline_params = {'max_depth':6, 'eta':.3, 'objective':'reg:squarederror'}\n",
    "num_round = 5\n",
    "baseline_d_train = xgb.DMatrix(scaled_x_train, label = y_train)\n",
    "xgb_model = xgb.train(baseline_params, baseline_d_train, num_round)\n",
    "d_test = xgb.DMatrix(scaled_x_test, label = y_test)\n",
    "baseline_preds = xgb_model.predict(d_test)\n",
    "print(\"RMSE = \", np.sqrt(mean_squared_error(baseline_preds, y_test)))"
   ]
  },
  {
   "cell_type": "markdown",
   "metadata": {},
   "source": [
    "## Optimizing Hyperparameters"
   ]
  },
  {
   "cell_type": "code",
   "execution_count": 78,
   "metadata": {},
   "outputs": [],
   "source": [
    "def objective(trial):\n",
    "    \"\"\"Define the objective function\"\"\"\n",
    "\n",
    "    params = {\n",
    "        'max_depth': trial.suggest_int('max_depth', 1, 9),\n",
    "        'learning_rate': trial.suggest_loguniform('learning_rate', 0.01, 1.0),\n",
    "        'n_estimators': trial.suggest_int('n_estimators', 50, 500),\n",
    "        'min_child_weight': trial.suggest_int('min_child_weight', 1, 10),\n",
    "        'gamma': trial.suggest_loguniform('gamma', 1e-8, 1.0),\n",
    "        'subsample': trial.suggest_loguniform('subsample', 0.01, 1.0),\n",
    "        'colsample_bytree': trial.suggest_loguniform('colsample_bytree', 0.01, 1.0),\n",
    "        'reg_alpha': trial.suggest_loguniform('reg_alpha', 1e-8, 1.0),\n",
    "        'reg_lambda': trial.suggest_loguniform('reg_lambda', 1e-8, 1.0),\n",
    "        'eval_metric': 'mlogloss',\n",
    "        'use_label_encoder': False\n",
    "    }\n",
    "\n",
    "    # Fit the model\n",
    "    optuna_model = xgb.XGBRegressor(**params)\n",
    "    optuna_model.fit(scaled_x_train, y_train)\n",
    "\n",
    "    # Make predictions\n",
    "    y_valid_pred = optuna_model.predict(scaled_x_valid)\n",
    "\n",
    "    # Evaluate predictions\n",
    "    accuracy = np.sqrt(mean_squared_error(y_valid_pred, y_valid))\n",
    "    return accuracy"
   ]
  },
  {
   "cell_type": "code",
   "execution_count": 79,
   "metadata": {},
   "outputs": [
    {
     "name": "stderr",
     "output_type": "stream",
     "text": [
      "\u001b[32m[I 2022-11-26 18:16:34,708]\u001b[0m A new study created in memory with name: no-name-5a4bfb0b-682f-4a20-a3f4-dc011100d362\u001b[0m\n"
     ]
    }
   ],
   "source": [
    "study = optuna.create_study(direction='minimize')"
   ]
  },
  {
   "cell_type": "code",
   "execution_count": 80,
   "metadata": {},
   "outputs": [
    {
     "name": "stderr",
     "output_type": "stream",
     "text": [
      "\u001b[32m[I 2022-11-26 18:16:34,974]\u001b[0m Trial 0 finished with value: 725.9818387602426 and parameters: {'max_depth': 7, 'learning_rate': 0.03248464712791111, 'n_estimators': 304, 'min_child_weight': 5, 'gamma': 1.4182761007612066e-07, 'subsample': 0.9704910651418149, 'colsample_bytree': 0.13124642958552749, 'reg_alpha': 0.001900487203428946, 'reg_lambda': 0.0027834283322071976}. Best is trial 0 with value: 725.9818387602426.\u001b[0m\n",
      "\u001b[32m[I 2022-11-26 18:16:35,143]\u001b[0m Trial 1 finished with value: 903.5100122820469 and parameters: {'max_depth': 6, 'learning_rate': 0.0772691964328607, 'n_estimators': 490, 'min_child_weight': 4, 'gamma': 0.02799117593178613, 'subsample': 0.08644301450628056, 'colsample_bytree': 0.05900231955498274, 'reg_alpha': 0.004699638079366631, 'reg_lambda': 0.00037186051867927494}. Best is trial 0 with value: 725.9818387602426.\u001b[0m\n",
      "\u001b[32m[I 2022-11-26 18:16:35,199]\u001b[0m Trial 2 finished with value: 1229.646620942435 and parameters: {'max_depth': 4, 'learning_rate': 0.014921958943203818, 'n_estimators': 328, 'min_child_weight': 7, 'gamma': 2.012850977012987e-06, 'subsample': 0.01219998446434231, 'colsample_bytree': 0.17427205378340746, 'reg_alpha': 0.0014544010060907053, 'reg_lambda': 5.470038397951933e-07}. Best is trial 0 with value: 725.9818387602426.\u001b[0m\n",
      "\u001b[32m[I 2022-11-26 18:16:35,279]\u001b[0m Trial 3 finished with value: 6467.596908028047 and parameters: {'max_depth': 6, 'learning_rate': 0.4268560620114334, 'n_estimators': 346, 'min_child_weight': 6, 'gamma': 0.0001375618577554878, 'subsample': 0.016918004320571667, 'colsample_bytree': 0.21539608831762072, 'reg_alpha': 3.9701312441440895e-05, 'reg_lambda': 1.0994155900491756e-06}. Best is trial 0 with value: 725.9818387602426.\u001b[0m\n",
      "\u001b[32m[I 2022-11-26 18:16:35,429]\u001b[0m Trial 4 finished with value: 20084.913318959116 and parameters: {'max_depth': 6, 'learning_rate': 0.8829581008340976, 'n_estimators': 257, 'min_child_weight': 10, 'gamma': 0.04969711807081801, 'subsample': 0.22730753964727635, 'colsample_bytree': 0.4351269790180772, 'reg_alpha': 6.726477196841899e-07, 'reg_lambda': 1.0410140583093821e-07}. Best is trial 0 with value: 725.9818387602426.\u001b[0m\n",
      "\u001b[32m[I 2022-11-26 18:16:35,726]\u001b[0m Trial 5 finished with value: 776.2399004361977 and parameters: {'max_depth': 8, 'learning_rate': 0.029685593109655715, 'n_estimators': 409, 'min_child_weight': 6, 'gamma': 0.001843945023090297, 'subsample': 0.1511025905866773, 'colsample_bytree': 0.9473551668813232, 'reg_alpha': 0.00024453522056485174, 'reg_lambda': 0.0003155675463939835}. Best is trial 0 with value: 725.9818387602426.\u001b[0m\n",
      "\u001b[32m[I 2022-11-26 18:16:35,751]\u001b[0m Trial 6 finished with value: 887.0007641383901 and parameters: {'max_depth': 2, 'learning_rate': 0.14971645205545372, 'n_estimators': 70, 'min_child_weight': 10, 'gamma': 3.9342519300112447e-07, 'subsample': 0.38883554866188896, 'colsample_bytree': 0.19939514006031503, 'reg_alpha': 3.8266528549468097e-07, 'reg_lambda': 2.0210612775557416e-08}. Best is trial 0 with value: 725.9818387602426.\u001b[0m\n",
      "\u001b[32m[I 2022-11-26 18:16:35,935]\u001b[0m Trial 7 finished with value: 771.9134906056429 and parameters: {'max_depth': 4, 'learning_rate': 0.039377040277439546, 'n_estimators': 322, 'min_child_weight': 7, 'gamma': 0.0009123608796118138, 'subsample': 0.30495365809415054, 'colsample_bytree': 0.17517741864501585, 'reg_alpha': 2.2906387570594435e-06, 'reg_lambda': 1.225730080947218e-06}. Best is trial 0 with value: 725.9818387602426.\u001b[0m\n",
      "\u001b[32m[I 2022-11-26 18:16:36,102]\u001b[0m Trial 8 finished with value: 810.6610403125435 and parameters: {'max_depth': 6, 'learning_rate': 0.1982205312110769, 'n_estimators': 148, 'min_child_weight': 7, 'gamma': 0.5211336028500462, 'subsample': 0.2660093610759315, 'colsample_bytree': 0.47352173917639523, 'reg_alpha': 0.16956990289166796, 'reg_lambda': 9.342656112964907e-07}. Best is trial 0 with value: 725.9818387602426.\u001b[0m\n",
      "\u001b[32m[I 2022-11-26 18:16:36,183]\u001b[0m Trial 9 finished with value: 1058.5746231435653 and parameters: {'max_depth': 2, 'learning_rate': 0.044416342032036295, 'n_estimators': 266, 'min_child_weight': 9, 'gamma': 1.3235584128717077e-07, 'subsample': 0.04313497489480061, 'colsample_bytree': 0.053031568470365865, 'reg_alpha': 0.011709174284522611, 'reg_lambda': 0.00017258099539061}. Best is trial 0 with value: 725.9818387602426.\u001b[0m\n",
      "\u001b[32m[I 2022-11-26 18:16:36,307]\u001b[0m Trial 10 finished with value: 1016.8524670097903 and parameters: {'max_depth': 9, 'learning_rate': 0.014367010760939243, 'n_estimators': 182, 'min_child_weight': 1, 'gamma': 2.3295157601435795e-08, 'subsample': 0.8878337802098764, 'colsample_bytree': 0.01148125002604791, 'reg_alpha': 1.3174897050865368e-08, 'reg_lambda': 0.16258666877633896}. Best is trial 0 with value: 725.9818387602426.\u001b[0m\n",
      "\u001b[32m[I 2022-11-26 18:16:36,452]\u001b[0m Trial 11 finished with value: 835.1669159138658 and parameters: {'max_depth': 4, 'learning_rate': 0.04203172768145035, 'n_estimators': 373, 'min_child_weight': 4, 'gamma': 1.7109803490822892e-05, 'subsample': 0.9635498900459731, 'colsample_bytree': 0.07567704111184664, 'reg_alpha': 1.4631773986454757e-05, 'reg_lambda': 0.028049693331182155}. Best is trial 0 with value: 725.9818387602426.\u001b[0m\n",
      "\u001b[32m[I 2022-11-26 18:16:36,758]\u001b[0m Trial 12 finished with value: 865.3238325445859 and parameters: {'max_depth': 8, 'learning_rate': 0.021597056240859468, 'n_estimators': 440, 'min_child_weight': 4, 'gamma': 0.000280840131122766, 'subsample': 0.4257291168800032, 'colsample_bytree': 0.028197730765368162, 'reg_alpha': 1.825616989243834e-06, 'reg_lambda': 0.004766596715778038}. Best is trial 0 with value: 725.9818387602426.\u001b[0m\n",
      "\u001b[32m[I 2022-11-26 18:16:36,866]\u001b[0m Trial 13 finished with value: 782.0042481947958 and parameters: {'max_depth': 4, 'learning_rate': 0.0826569966813282, 'n_estimators': 218, 'min_child_weight': 2, 'gamma': 9.50656459567778e-06, 'subsample': 0.4733132839523033, 'colsample_bytree': 0.12441746779225399, 'reg_alpha': 0.06508022642369843, 'reg_lambda': 1.2538966565862099e-05}. Best is trial 0 with value: 725.9818387602426.\u001b[0m\n",
      "\u001b[32m[I 2022-11-26 18:16:36,940]\u001b[0m Trial 14 finished with value: 1155.1081694996114 and parameters: {'max_depth': 1, 'learning_rate': 0.01098097415583426, 'n_estimators': 298, 'min_child_weight': 8, 'gamma': 0.002726334424020633, 'subsample': 0.08875068958812121, 'colsample_bytree': 0.37122311887768417, 'reg_alpha': 0.0003852016214801366, 'reg_lambda': 1.4633615357185469e-05}. Best is trial 0 with value: 725.9818387602426.\u001b[0m\n",
      "\u001b[32m[I 2022-11-26 18:16:37,208]\u001b[0m Trial 15 finished with value: 814.2601233470641 and parameters: {'max_depth': 7, 'learning_rate': 0.04743779338666237, 'n_estimators': 397, 'min_child_weight': 5, 'gamma': 1.5385734992882965e-05, 'subsample': 0.649189902620192, 'colsample_bytree': 0.03162742363624926, 'reg_alpha': 2.9636613980035697e-08, 'reg_lambda': 0.004327736254973474}. Best is trial 0 with value: 725.9818387602426.\u001b[0m\n",
      "\u001b[32m[I 2022-11-26 18:16:37,339]\u001b[0m Trial 16 finished with value: 888.8507412350551 and parameters: {'max_depth': 3, 'learning_rate': 0.02758746055099412, 'n_estimators': 311, 'min_child_weight': 3, 'gamma': 2.0668587731475232e-08, 'subsample': 0.2124399430221485, 'colsample_bytree': 0.11200409272986661, 'reg_alpha': 2.6165958887061387e-06, 'reg_lambda': 0.7472150779587238}. Best is trial 0 with value: 725.9818387602426.\u001b[0m\n",
      "\u001b[32m[I 2022-11-26 18:16:37,444]\u001b[0m Trial 17 finished with value: 927.9534844625394 and parameters: {'max_depth': 5, 'learning_rate': 0.13152519866423154, 'n_estimators': 228, 'min_child_weight': 8, 'gamma': 0.0011192435851869074, 'subsample': 0.04608957269982119, 'colsample_bytree': 0.294327820625164, 'reg_alpha': 0.9440384070358073, 'reg_lambda': 8.149490819184094e-06}. Best is trial 0 with value: 725.9818387602426.\u001b[0m\n",
      "\u001b[32m[I 2022-11-26 18:16:37,534]\u001b[0m Trial 18 finished with value: 897.3711041028921 and parameters: {'max_depth': 9, 'learning_rate': 0.06207865433071383, 'n_estimators': 130, 'min_child_weight': 5, 'gamma': 1.8536144572818087e-06, 'subsample': 0.5741803546142609, 'colsample_bytree': 0.038433979751880995, 'reg_alpha': 1.0753859940235665e-05, 'reg_lambda': 0.002362728541805738}. Best is trial 0 with value: 725.9818387602426.\u001b[0m\n",
      "\u001b[32m[I 2022-11-26 18:16:37,776]\u001b[0m Trial 19 finished with value: 790.7925480973558 and parameters: {'max_depth': 5, 'learning_rate': 0.02079354664474543, 'n_estimators': 455, 'min_child_weight': 7, 'gamma': 0.013567970910178162, 'subsample': 0.1280283953205927, 'colsample_bytree': 0.8101956767970679, 'reg_alpha': 0.00014006491026420754, 'reg_lambda': 1.2477108996761935e-08}. Best is trial 0 with value: 725.9818387602426.\u001b[0m\n",
      "\u001b[32m[I 2022-11-26 18:16:37,937]\u001b[0m Trial 20 finished with value: 871.521974201715 and parameters: {'max_depth': 7, 'learning_rate': 0.31276572805517966, 'n_estimators': 341, 'min_child_weight': 8, 'gamma': 4.2766326778984646e-05, 'subsample': 0.3194040917672905, 'colsample_bytree': 0.018652887165705564, 'reg_alpha': 1.1411276968080778e-07, 'reg_lambda': 3.855044352678927e-05}. Best is trial 0 with value: 725.9818387602426.\u001b[0m\n",
      "\u001b[32m[I 2022-11-26 18:16:38,227]\u001b[0m Trial 21 finished with value: 769.203275550107 and parameters: {'max_depth': 8, 'learning_rate': 0.03843505941121798, 'n_estimators': 390, 'min_child_weight': 6, 'gamma': 0.000660238569021173, 'subsample': 0.15434549835857064, 'colsample_bytree': 0.6304195129351318, 'reg_alpha': 0.0004280512455298363, 'reg_lambda': 0.0008752110113494164}. Best is trial 0 with value: 725.9818387602426.\u001b[0m\n",
      "\u001b[32m[I 2022-11-26 18:16:38,409]\u001b[0m Trial 22 finished with value: 807.8388290363366 and parameters: {'max_depth': 8, 'learning_rate': 0.031701266446142656, 'n_estimators': 374, 'min_child_weight': 6, 'gamma': 0.0002647809242197462, 'subsample': 0.058594198057676204, 'colsample_bytree': 0.6332463271948172, 'reg_alpha': 0.0012100190479233336, 'reg_lambda': 0.0009865084446038057}. Best is trial 0 with value: 725.9818387602426.\u001b[0m\n",
      "\u001b[32m[I 2022-11-26 18:16:38,575]\u001b[0m Trial 23 finished with value: 775.0864579860047 and parameters: {'max_depth': 7, 'learning_rate': 0.06441697092555039, 'n_estimators': 280, 'min_child_weight': 5, 'gamma': 0.1335008108482409, 'subsample': 0.14293847918615776, 'colsample_bytree': 0.146568482121755, 'reg_alpha': 0.007243780333934561, 'reg_lambda': 0.08136619205533016}. Best is trial 0 with value: 725.9818387602426.\u001b[0m\n",
      "\u001b[32m[I 2022-11-26 18:16:38,975]\u001b[0m Trial 24 finished with value: 746.6251231247272 and parameters: {'max_depth': 9, 'learning_rate': 0.11482352222301509, 'n_estimators': 426, 'min_child_weight': 3, 'gamma': 0.004583471266390618, 'subsample': 0.6700293549973891, 'colsample_bytree': 0.29827375092671315, 'reg_alpha': 5.557455003699563e-05, 'reg_lambda': 0.01915534986259115}. Best is trial 0 with value: 725.9818387602426.\u001b[0m\n",
      "\u001b[32m[I 2022-11-26 18:16:39,384]\u001b[0m Trial 25 finished with value: 759.3358354167731 and parameters: {'max_depth': 9, 'learning_rate': 0.10323526038836402, 'n_estimators': 434, 'min_child_weight': 3, 'gamma': 0.008454884237794783, 'subsample': 0.7138029404368077, 'colsample_bytree': 0.28740832394855326, 'reg_alpha': 4.378037351952331e-05, 'reg_lambda': 0.01993965975653781}. Best is trial 0 with value: 725.9818387602426.\u001b[0m\n",
      "\u001b[32m[I 2022-11-26 18:16:39,972]\u001b[0m Trial 26 finished with value: 736.9018190947673 and parameters: {'max_depth': 9, 'learning_rate': 0.12639993993907223, 'n_estimators': 496, 'min_child_weight': 2, 'gamma': 0.00590683662483503, 'subsample': 0.7067470378789844, 'colsample_bytree': 0.27584750662343477, 'reg_alpha': 3.681989858155465e-05, 'reg_lambda': 0.024247704146972523}. Best is trial 0 with value: 725.9818387602426.\u001b[0m\n",
      "\u001b[32m[I 2022-11-26 18:16:40,362]\u001b[0m Trial 27 finished with value: 825.4250361042539 and parameters: {'max_depth': 9, 'learning_rate': 0.25086707510970824, 'n_estimators': 499, 'min_child_weight': 1, 'gamma': 0.6502250393373605, 'subsample': 0.7773304837064667, 'colsample_bytree': 0.08847703490901744, 'reg_alpha': 1.0703107415937033e-05, 'reg_lambda': 0.015780893320136102}. Best is trial 0 with value: 725.9818387602426.\u001b[0m\n",
      "\u001b[32m[I 2022-11-26 18:16:40,794]\u001b[0m Trial 28 finished with value: 746.8490984827667 and parameters: {'max_depth': 8, 'learning_rate': 0.11674857631510344, 'n_estimators': 468, 'min_child_weight': 2, 'gamma': 0.0050547607202526676, 'subsample': 0.5250689809047682, 'colsample_bytree': 0.23930846914122486, 'reg_alpha': 6.0089281775374626e-05, 'reg_lambda': 0.7506471164530174}. Best is trial 0 with value: 725.9818387602426.\u001b[0m\n",
      "\u001b[32m[I 2022-11-26 18:16:41,156]\u001b[0m Trial 29 finished with value: 747.4798919132334 and parameters: {'max_depth': 7, 'learning_rate': 0.20105810082155587, 'n_estimators': 479, 'min_child_weight': 3, 'gamma': 0.06160776799623028, 'subsample': 0.9882873663788954, 'colsample_bytree': 0.3466556568707473, 'reg_alpha': 0.002099152045990461, 'reg_lambda': 0.1757913279261029}. Best is trial 0 with value: 725.9818387602426.\u001b[0m\n",
      "\u001b[32m[I 2022-11-26 18:16:41,314]\u001b[0m Trial 30 finished with value: 982999214.0000856 and parameters: {'max_depth': 9, 'learning_rate': 0.5683547204688185, 'n_estimators': 422, 'min_child_weight': 2, 'gamma': 1.439873097990786e-07, 'subsample': 0.027342660701458632, 'colsample_bytree': 0.06560480548615395, 'reg_alpha': 0.03202320115753764, 'reg_lambda': 0.008410170698249932}. Best is trial 0 with value: 725.9818387602426.\u001b[0m\n",
      "\u001b[32m[I 2022-11-26 18:16:41,724]\u001b[0m Trial 31 finished with value: 774.5712308601494 and parameters: {'max_depth': 8, 'learning_rate': 0.1128225619564006, 'n_estimators': 471, 'min_child_weight': 2, 'gamma': 0.005901673963229614, 'subsample': 0.5206517957493441, 'colsample_bytree': 0.25721074618625767, 'reg_alpha': 7.977634363564714e-05, 'reg_lambda': 0.49493227041396404}. Best is trial 0 with value: 725.9818387602426.\u001b[0m\n",
      "\u001b[32m[I 2022-11-26 18:16:42,275]\u001b[0m Trial 32 finished with value: 769.0405565621312 and parameters: {'max_depth': 8, 'learning_rate': 0.07490067133171803, 'n_estimators': 497, 'min_child_weight': 3, 'gamma': 0.01851229455283887, 'subsample': 0.603093877481864, 'colsample_bytree': 0.13905349499945735, 'reg_alpha': 0.0007247602971820832, 'reg_lambda': 0.06037597126627916}. Best is trial 0 with value: 725.9818387602426.\u001b[0m\n",
      "\u001b[32m[I 2022-11-26 18:16:42,671]\u001b[0m Trial 33 finished with value: 834.6090475695851 and parameters: {'max_depth': 9, 'learning_rate': 0.16018694442332868, 'n_estimators': 459, 'min_child_weight': 2, 'gamma': 0.004041080608055699, 'subsample': 0.3959133872090478, 'colsample_bytree': 0.23306635145925816, 'reg_alpha': 2.7913490988973262e-05, 'reg_lambda': 0.28860367465819603}. Best is trial 0 with value: 725.9818387602426.\u001b[0m\n",
      "\u001b[32m[I 2022-11-26 18:16:42,972]\u001b[0m Trial 34 finished with value: 724.1874173831411 and parameters: {'max_depth': 7, 'learning_rate': 0.10800688686628157, 'n_estimators': 358, 'min_child_weight': 4, 'gamma': 0.1187535550060787, 'subsample': 0.6786210042545011, 'colsample_bytree': 0.4469569525785593, 'reg_alpha': 0.0030429926713088314, 'reg_lambda': 0.9814757613322443}. Best is trial 34 with value: 724.1874173831411.\u001b[0m\n",
      "\u001b[32m[I 2022-11-26 18:16:43,309]\u001b[0m Trial 35 finished with value: 739.334057281362 and parameters: {'max_depth': 7, 'learning_rate': 0.08705194678995853, 'n_estimators': 367, 'min_child_weight': 4, 'gamma': 0.12730311115055676, 'subsample': 0.7372596234565669, 'colsample_bytree': 0.5011535175146978, 'reg_alpha': 0.004496512103407476, 'reg_lambda': 0.047340763701146024}. Best is trial 34 with value: 724.1874173831411.\u001b[0m\n",
      "\u001b[32m[I 2022-11-26 18:16:43,632]\u001b[0m Trial 36 finished with value: 790.1297260100525 and parameters: {'max_depth': 6, 'learning_rate': 0.37282308958438387, 'n_estimators': 352, 'min_child_weight': 4, 'gamma': 0.1273842925300331, 'subsample': 0.7761558974542695, 'colsample_bytree': 0.5109671466961591, 'reg_alpha': 0.004818778276604818, 'reg_lambda': 0.10517059286090026}. Best is trial 34 with value: 724.1874173831411.\u001b[0m\n",
      "\u001b[32m[I 2022-11-26 18:16:43,727]\u001b[0m Trial 37 finished with value: 1041.9782366900265 and parameters: {'max_depth': 7, 'learning_rate': 0.0842131450791761, 'n_estimators': 230, 'min_child_weight': 4, 'gamma': 0.2433173758467257, 'subsample': 0.016230772039440487, 'colsample_bytree': 0.6412310529861162, 'reg_alpha': 0.0024549680619369275, 'reg_lambda': 0.04290303694752158}. Best is trial 34 with value: 724.1874173831411.\u001b[0m\n",
      "\u001b[32m[I 2022-11-26 18:16:43,996]\u001b[0m Trial 38 finished with value: 739.1514869958776 and parameters: {'max_depth': 6, 'learning_rate': 0.05495389003019338, 'n_estimators': 363, 'min_child_weight': 5, 'gamma': 0.04547238586080061, 'subsample': 0.3475043495635044, 'colsample_bytree': 0.41285647906641837, 'reg_alpha': 0.021572537687359245, 'reg_lambda': 0.0009535264832417623}. Best is trial 34 with value: 724.1874173831411.\u001b[0m\n",
      "\u001b[32m[I 2022-11-26 18:16:44,192]\u001b[0m Trial 39 finished with value: 771.2014031231548 and parameters: {'max_depth': 6, 'learning_rate': 0.06225840129249217, 'n_estimators': 290, 'min_child_weight': 5, 'gamma': 0.050987741534595316, 'subsample': 0.21172684350008258, 'colsample_bytree': 0.17390842474755439, 'reg_alpha': 0.022106712534075337, 'reg_lambda': 0.0008792477557950227}. Best is trial 34 with value: 724.1874173831411.\u001b[0m\n",
      "\u001b[32m[I 2022-11-26 18:16:44,463]\u001b[0m Trial 40 finished with value: 732.4315542835013 and parameters: {'max_depth': 5, 'learning_rate': 0.05351128619114911, 'n_estimators': 326, 'min_child_weight': 6, 'gamma': 0.027165640837406926, 'subsample': 0.37566682921393274, 'colsample_bytree': 0.37181210034782064, 'reg_alpha': 0.17827403513660703, 'reg_lambda': 0.00011158742622365992}. Best is trial 34 with value: 724.1874173831411.\u001b[0m\n",
      "\u001b[32m[I 2022-11-26 18:16:44,732]\u001b[0m Trial 41 finished with value: 737.3093858842357 and parameters: {'max_depth': 5, 'learning_rate': 0.05040113476990872, 'n_estimators': 337, 'min_child_weight': 6, 'gamma': 0.3102553714618758, 'subsample': 0.3173311688881631, 'colsample_bytree': 0.4093274581451037, 'reg_alpha': 0.4165870172759047, 'reg_lambda': 0.00019735251082474516}. Best is trial 34 with value: 724.1874173831411.\u001b[0m\n",
      "\u001b[32m[I 2022-11-26 18:16:45,011]\u001b[0m Trial 42 finished with value: 750.5936291657397 and parameters: {'max_depth': 5, 'learning_rate': 0.03176989898039023, 'n_estimators': 329, 'min_child_weight': 6, 'gamma': 0.7371823765251344, 'subsample': 0.23704491620104842, 'colsample_bytree': 0.8862097489498751, 'reg_alpha': 0.49059468908994136, 'reg_lambda': 7.33750471963858e-05}. Best is trial 34 with value: 724.1874173831411.\u001b[0m\n",
      "\u001b[32m[I 2022-11-26 18:16:45,208]\u001b[0m Trial 43 finished with value: 801.4178821334907 and parameters: {'max_depth': 5, 'learning_rate': 0.022006146469619146, 'n_estimators': 261, 'min_child_weight': 6, 'gamma': 0.26811663279548603, 'subsample': 0.4404046755111738, 'colsample_bytree': 0.18343059978407678, 'reg_alpha': 0.12400406595660933, 'reg_lambda': 0.00021267723289855522}. Best is trial 34 with value: 724.1874173831411.\u001b[0m\n",
      "\u001b[32m[I 2022-11-26 18:16:45,408]\u001b[0m Trial 44 finished with value: 834.3089829287832 and parameters: {'max_depth': 4, 'learning_rate': 0.1783563519173346, 'n_estimators': 316, 'min_child_weight': 7, 'gamma': 2.0682536981490487e-06, 'subsample': 0.33105378789573253, 'colsample_bytree': 0.4083322784480726, 'reg_alpha': 0.1755998973750022, 'reg_lambda': 8.322535863901515e-05}. Best is trial 34 with value: 724.1874173831411.\u001b[0m\n",
      "\u001b[32m[I 2022-11-26 18:16:45,505]\u001b[0m Trial 45 finished with value: 777.0308932725247 and parameters: {'max_depth': 3, 'learning_rate': 0.05326600392247869, 'n_estimators': 243, 'min_child_weight': 6, 'gamma': 0.014925856054266688, 'subsample': 0.9427878849284977, 'colsample_bytree': 0.3496881049048895, 'reg_alpha': 0.336118409828556, 'reg_lambda': 2.8217511166144266e-06}. Best is trial 34 with value: 724.1874173831411.\u001b[0m\n",
      "\u001b[32m[I 2022-11-26 18:16:45,550]\u001b[0m Trial 46 finished with value: 1555.8980633481412 and parameters: {'max_depth': 6, 'learning_rate': 0.01680113584895743, 'n_estimators': 50, 'min_child_weight': 5, 'gamma': 0.027613415790844146, 'subsample': 0.291135378466475, 'colsample_bytree': 0.5581917543502892, 'reg_alpha': 0.05683196673452456, 'reg_lambda': 0.0004918273035356941}. Best is trial 34 with value: 724.1874173831411.\u001b[0m\n",
      "\u001b[32m[I 2022-11-26 18:16:45,655]\u001b[0m Trial 47 finished with value: 807.2220976018956 and parameters: {'max_depth': 3, 'learning_rate': 0.039187868902334874, 'n_estimators': 197, 'min_child_weight': 7, 'gamma': 0.2531167603468784, 'subsample': 0.4954552046812567, 'colsample_bytree': 0.7573975059053605, 'reg_alpha': 0.012322455863256905, 'reg_lambda': 0.0021581536628095784}. Best is trial 34 with value: 724.1874173831411.\u001b[0m\n",
      "\u001b[32m[I 2022-11-26 18:16:45,803]\u001b[0m Trial 48 finished with value: 762.3940381601575 and parameters: {'max_depth': 5, 'learning_rate': 0.02534345590009337, 'n_estimators': 304, 'min_child_weight': 1, 'gamma': 0.0001183108315527403, 'subsample': 0.4026406397848939, 'colsample_bytree': 0.21422856620329428, 'reg_alpha': 0.000197066943196406, 'reg_lambda': 0.000369289936693052}. Best is trial 34 with value: 724.1874173831411.\u001b[0m\n",
      "\u001b[32m[I 2022-11-26 18:16:45,931]\u001b[0m Trial 49 finished with value: 808.0265886584277 and parameters: {'max_depth': 4, 'learning_rate': 0.07699768743367824, 'n_estimators': 340, 'min_child_weight': 6, 'gamma': 0.0017020067305208494, 'subsample': 0.19683913287338622, 'colsample_bytree': 0.09358656319794922, 'reg_alpha': 0.0734198481146609, 'reg_lambda': 6.435796160359993e-08}. Best is trial 34 with value: 724.1874173831411.\u001b[0m\n",
      "\u001b[32m[I 2022-11-26 18:16:46,176]\u001b[0m Trial 50 finished with value: 715.6753790740288 and parameters: {'max_depth': 6, 'learning_rate': 0.04887976022773066, 'n_estimators': 405, 'min_child_weight': 9, 'gamma': 4.3943388978946884e-08, 'subsample': 0.8023269903801729, 'colsample_bytree': 0.3191861075930742, 'reg_alpha': 0.6161780536171264, 'reg_lambda': 2.7645610660768202e-05}. Best is trial 50 with value: 715.6753790740288.\u001b[0m\n",
      "\u001b[32m[I 2022-11-26 18:16:46,401]\u001b[0m Trial 51 finished with value: 721.1126730805462 and parameters: {'max_depth': 6, 'learning_rate': 0.04972883922262224, 'n_estimators': 393, 'min_child_weight': 9, 'gamma': 4.874025829886961e-08, 'subsample': 0.7994264397189506, 'colsample_bytree': 0.32685724671224525, 'reg_alpha': 0.7414178794727497, 'reg_lambda': 4.208096620350982e-05}. Best is trial 50 with value: 715.6753790740288.\u001b[0m\n",
      "\u001b[32m[I 2022-11-26 18:16:46,639]\u001b[0m Trial 52 finished with value: 729.1971270157575 and parameters: {'max_depth': 6, 'learning_rate': 0.03501542427826986, 'n_estimators': 401, 'min_child_weight': 10, 'gamma': 1.0300935991452402e-08, 'subsample': 0.8316997791422546, 'colsample_bytree': 0.30413542113231995, 'reg_alpha': 0.8553359739970154, 'reg_lambda': 4.617760638421678e-06}. Best is trial 50 with value: 715.6753790740288.\u001b[0m\n",
      "\u001b[32m[I 2022-11-26 18:16:46,905]\u001b[0m Trial 53 finished with value: 719.9832208759996 and parameters: {'max_depth': 6, 'learning_rate': 0.03621097922989841, 'n_estimators': 401, 'min_child_weight': 10, 'gamma': 1.2326687219178002e-08, 'subsample': 0.8279478242728304, 'colsample_bytree': 0.3260849319095233, 'reg_alpha': 0.9982419778177679, 'reg_lambda': 4.187524061617491e-06}. Best is trial 50 with value: 715.6753790740288.\u001b[0m\n",
      "\u001b[32m[I 2022-11-26 18:16:47,147]\u001b[0m Trial 54 finished with value: 741.3994017793016 and parameters: {'max_depth': 6, 'learning_rate': 0.035635026180287126, 'n_estimators': 400, 'min_child_weight': 10, 'gamma': 1.1634273271671514e-08, 'subsample': 0.8427564309035579, 'colsample_bytree': 0.1644323075541803, 'reg_alpha': 0.8932185373003304, 'reg_lambda': 3.764898832428782e-06}. Best is trial 50 with value: 715.6753790740288.\u001b[0m\n",
      "\u001b[32m[I 2022-11-26 18:16:47,402]\u001b[0m Trial 55 finished with value: 734.4565484050124 and parameters: {'max_depth': 7, 'learning_rate': 0.016594819280184168, 'n_estimators': 384, 'min_child_weight': 9, 'gamma': 6.498221803126715e-08, 'subsample': 0.9903392792557725, 'colsample_bytree': 0.3163943832391349, 'reg_alpha': 0.9914973012887917, 'reg_lambda': 1.8776503228301397e-05}. Best is trial 50 with value: 715.6753790740288.\u001b[0m\n",
      "\u001b[32m[I 2022-11-26 18:16:47,664]\u001b[0m Trial 56 finished with value: 738.1241940934091 and parameters: {'max_depth': 6, 'learning_rate': 0.024432849961548406, 'n_estimators': 412, 'min_child_weight': 10, 'gamma': 5.5527909074383753e-08, 'subsample': 0.6055066286706776, 'colsample_bytree': 0.19524914304381635, 'reg_alpha': 0.2534871623026231, 'reg_lambda': 5.067935186350127e-07}. Best is trial 50 with value: 715.6753790740288.\u001b[0m\n",
      "\u001b[32m[I 2022-11-26 18:16:47,900]\u001b[0m Trial 57 finished with value: 825.4044447451123 and parameters: {'max_depth': 6, 'learning_rate': 0.011898675433085738, 'n_estimators': 444, 'min_child_weight': 9, 'gamma': 7.617252388571875e-07, 'subsample': 0.8444088747571078, 'colsample_bytree': 0.10834642377543624, 'reg_alpha': 0.10008007799547973, 'reg_lambda': 3.747883736127375e-05}. Best is trial 50 with value: 715.6753790740288.\u001b[0m\n",
      "\u001b[32m[I 2022-11-26 18:16:48,349]\u001b[0m Trial 58 finished with value: 733.4293462530613 and parameters: {'max_depth': 7, 'learning_rate': 0.04548773863637891, 'n_estimators': 412, 'min_child_weight': 9, 'gamma': 4.5449565707591634e-08, 'subsample': 0.6015921476039001, 'colsample_bytree': 0.9936997147683979, 'reg_alpha': 0.4693125915844758, 'reg_lambda': 4.652018255130014e-06}. Best is trial 50 with value: 715.6753790740288.\u001b[0m\n",
      "\u001b[32m[I 2022-11-26 18:16:48,543]\u001b[0m Trial 59 finished with value: 845.8307017153802 and parameters: {'max_depth': 7, 'learning_rate': 0.033767937166970734, 'n_estimators': 356, 'min_child_weight': 9, 'gamma': 1.8071378139161222e-07, 'subsample': 0.8611665801408857, 'colsample_bytree': 0.043797309771992955, 'reg_alpha': 0.033326087701944535, 'reg_lambda': 4.6272814095062173e-07}. Best is trial 50 with value: 715.6753790740288.\u001b[0m\n",
      "\u001b[32m[I 2022-11-26 18:16:48,844]\u001b[0m Trial 60 finished with value: 737.7708592185717 and parameters: {'max_depth': 6, 'learning_rate': 0.02787875308557434, 'n_estimators': 384, 'min_child_weight': 10, 'gamma': 2.317187961274258e-08, 'subsample': 0.4648207665668148, 'colsample_bytree': 0.4883437784326189, 'reg_alpha': 0.5258860513634647, 'reg_lambda': 1.4395573903020803e-06}. Best is trial 50 with value: 715.6753790740288.\u001b[0m\n",
      "\u001b[32m[I 2022-11-26 18:16:49,067]\u001b[0m Trial 61 finished with value: 739.0569712454321 and parameters: {'max_depth': 5, 'learning_rate': 0.044344048428716906, 'n_estimators': 399, 'min_child_weight': 8, 'gamma': 1.2805513049778766e-08, 'subsample': 0.6827185238382564, 'colsample_bytree': 0.3479975545751249, 'reg_alpha': 0.20920272555096278, 'reg_lambda': 2.7926326692181967e-05}. Best is trial 50 with value: 715.6753790740288.\u001b[0m\n",
      "\u001b[32m[I 2022-11-26 18:16:49,235]\u001b[0m Trial 62 finished with value: 727.8990083394268 and parameters: {'max_depth': 5, 'learning_rate': 0.06301401957502793, 'n_estimators': 276, 'min_child_weight': 10, 'gamma': 3.8213640624201965e-07, 'subsample': 0.8013280006733747, 'colsample_bytree': 0.44008113390233095, 'reg_alpha': 0.15361959771500966, 'reg_lambda': 2.1235062765167024e-07}. Best is trial 50 with value: 715.6753790740288.\u001b[0m\n",
      "\u001b[32m[I 2022-11-26 18:16:49,447]\u001b[0m Trial 63 finished with value: 734.5926109067057 and parameters: {'max_depth': 6, 'learning_rate': 0.06279345762202947, 'n_estimators': 275, 'min_child_weight': 10, 'gamma': 3.722506267495625e-07, 'subsample': 0.5540339804271993, 'colsample_bytree': 0.6048889566523226, 'reg_alpha': 0.7121434059268692, 'reg_lambda': 8.727543560532283e-06}. Best is trial 50 with value: 715.6753790740288.\u001b[0m\n",
      "\u001b[32m[I 2022-11-26 18:16:49,807]\u001b[0m Trial 64 finished with value: 728.399618661915 and parameters: {'max_depth': 7, 'learning_rate': 0.09355847973128689, 'n_estimators': 371, 'min_child_weight': 10, 'gamma': 3.5381388134219467e-08, 'subsample': 0.8149838265736704, 'colsample_bytree': 0.7665299065667774, 'reg_alpha': 0.05356903449465533, 'reg_lambda': 1.909257355471357e-06}. Best is trial 50 with value: 715.6753790740288.\u001b[0m\n",
      "\u001b[32m[I 2022-11-26 18:16:50,180]\u001b[0m Trial 65 finished with value: 755.7263861873549 and parameters: {'max_depth': 7, 'learning_rate': 0.09568074180422093, 'n_estimators': 377, 'min_child_weight': 9, 'gamma': 8.527182922574114e-08, 'subsample': 0.6741139599823495, 'colsample_bytree': 0.7511615349724143, 'reg_alpha': 0.04865999599799729, 'reg_lambda': 2.469366096261297e-07}. Best is trial 50 with value: 715.6753790740288.\u001b[0m\n",
      "\u001b[32m[I 2022-11-26 18:16:50,462]\u001b[0m Trial 66 finished with value: 720.4402980569598 and parameters: {'max_depth': 7, 'learning_rate': 0.07295127686133482, 'n_estimators': 299, 'min_child_weight': 10, 'gamma': 3.3169287025525265e-08, 'subsample': 0.9944545619255171, 'colsample_bytree': 0.709809265495086, 'reg_alpha': 0.015837045160297204, 'reg_lambda': 6.951504069585179e-08}. Best is trial 50 with value: 715.6753790740288.\u001b[0m\n",
      "\u001b[32m[I 2022-11-26 18:16:50,752]\u001b[0m Trial 67 finished with value: 727.5696554118496 and parameters: {'max_depth': 8, 'learning_rate': 0.06792287188623211, 'n_estimators': 284, 'min_child_weight': 8, 'gamma': 2.670340619244876e-07, 'subsample': 0.9048828755893543, 'colsample_bytree': 0.46548471711995065, 'reg_alpha': 0.012546663039114695, 'reg_lambda': 1.2433963614393704e-07}. Best is trial 50 with value: 715.6753790740288.\u001b[0m\n",
      "\u001b[32m[I 2022-11-26 18:16:50,816]\u001b[0m Trial 68 finished with value: 1189.0939502067786 and parameters: {'max_depth': 8, 'learning_rate': 0.07347490032341507, 'n_estimators': 308, 'min_child_weight': 8, 'gamma': 2.224540967507439e-07, 'subsample': 0.010202522546462764, 'colsample_bytree': 0.5575014934144225, 'reg_alpha': 0.009817762097091487, 'reg_lambda': 3.771356705458358e-08}. Best is trial 50 with value: 715.6753790740288.\u001b[0m\n",
      "\u001b[32m[I 2022-11-26 18:16:50,939]\u001b[0m Trial 69 finished with value: 902.5023396633325 and parameters: {'max_depth': 8, 'learning_rate': 0.14521156250819744, 'n_estimators': 290, 'min_child_weight': 8, 'gamma': 1.4570759525591072e-06, 'subsample': 0.06576387523385997, 'colsample_bytree': 0.24714072346658228, 'reg_alpha': 0.0013230433448505438, 'reg_lambda': 1.2286668214600642e-08}. Best is trial 50 with value: 715.6753790740288.\u001b[0m\n",
      "\u001b[32m[I 2022-11-26 18:16:51,302]\u001b[0m Trial 70 finished with value: 728.6111886037784 and parameters: {'max_depth': 7, 'learning_rate': 0.07043891554681922, 'n_estimators': 350, 'min_child_weight': 9, 'gamma': 4.77080594797321e-06, 'subsample': 0.9812768375020113, 'colsample_bytree': 0.6825983163640741, 'reg_alpha': 0.000535433138139441, 'reg_lambda': 3.077966199179098e-08}. Best is trial 50 with value: 715.6753790740288.\u001b[0m\n",
      "\u001b[32m[I 2022-11-26 18:16:51,536]\u001b[0m Trial 71 finished with value: 715.9052796097756 and parameters: {'max_depth': 7, 'learning_rate': 0.045401192867692695, 'n_estimators': 248, 'min_child_weight': 10, 'gamma': 1.025662169333755e-07, 'subsample': 0.739107993527549, 'colsample_bytree': 0.49584431612387925, 'reg_alpha': 0.0038597212149486444, 'reg_lambda': 1.7616030439522393e-07}. Best is trial 50 with value: 715.6753790740288.\u001b[0m\n",
      "\u001b[32m[I 2022-11-26 18:16:51,807]\u001b[0m Trial 72 finished with value: 728.7981287046475 and parameters: {'max_depth': 7, 'learning_rate': 0.042789134098526735, 'n_estimators': 248, 'min_child_weight': 9, 'gamma': 9.617635562912758e-08, 'subsample': 0.6498021723392321, 'colsample_bytree': 0.46735370954116223, 'reg_alpha': 0.0027163478239574674, 'reg_lambda': 7.151218606957481e-08}. Best is trial 50 with value: 715.6753790740288.\u001b[0m\n",
      "\u001b[32m[I 2022-11-26 18:16:52,110]\u001b[0m Trial 73 finished with value: 725.2519839562507 and parameters: {'max_depth': 8, 'learning_rate': 0.050350585307173644, 'n_estimators': 203, 'min_child_weight': 10, 'gamma': 2.4704448538453922e-08, 'subsample': 0.5484685672734725, 'colsample_bytree': 0.5746509404740021, 'reg_alpha': 0.0044004357473750476, 'reg_lambda': 2.0206238010757528e-07}. Best is trial 50 with value: 715.6753790740288.\u001b[0m\n",
      "\u001b[32m[I 2022-11-26 18:16:52,299]\u001b[0m Trial 74 finished with value: 735.8838011229865 and parameters: {'max_depth': 8, 'learning_rate': 0.039003083335519155, 'n_estimators': 170, 'min_child_weight': 10, 'gamma': 3.151939877826508e-08, 'subsample': 0.5218404504921261, 'colsample_bytree': 0.5587940097252918, 'reg_alpha': 0.004432332716963107, 'reg_lambda': 2.1962602716781835e-07}. Best is trial 50 with value: 715.6753790740288.\u001b[0m\n",
      "\u001b[32m[I 2022-11-26 18:16:52,578]\u001b[0m Trial 75 finished with value: 710.4238831081979 and parameters: {'max_depth': 7, 'learning_rate': 0.0547911567232148, 'n_estimators': 207, 'min_child_weight': 10, 'gamma': 1.922462279885794e-08, 'subsample': 0.7178893191802521, 'colsample_bytree': 0.9007442711243528, 'reg_alpha': 0.0011997971573313505, 'reg_lambda': 7.558153977091154e-07}. Best is trial 75 with value: 710.4238831081979.\u001b[0m\n",
      "\u001b[32m[I 2022-11-26 18:16:52,818]\u001b[0m Trial 76 finished with value: 703.2232083132906 and parameters: {'max_depth': 7, 'learning_rate': 0.05486946254183157, 'n_estimators': 212, 'min_child_weight': 10, 'gamma': 2.163425403087385e-08, 'subsample': 0.7306303686779471, 'colsample_bytree': 0.8826965695361724, 'reg_alpha': 0.0014225927303242439, 'reg_lambda': 8.07358757093701e-07}. Best is trial 76 with value: 703.2232083132906.\u001b[0m\n",
      "\u001b[32m[I 2022-11-26 18:16:53,000]\u001b[0m Trial 77 finished with value: 718.4979553584357 and parameters: {'max_depth': 7, 'learning_rate': 0.05638763053121189, 'n_estimators': 155, 'min_child_weight': 9, 'gamma': 1.831914778520389e-08, 'subsample': 0.7117859245242691, 'colsample_bytree': 0.8871336938347171, 'reg_alpha': 0.0007520570437965547, 'reg_lambda': 1.0334158934273604e-06}. Best is trial 76 with value: 703.2232083132906.\u001b[0m\n",
      "\u001b[32m[I 2022-11-26 18:16:53,128]\u001b[0m Trial 78 finished with value: 706.4459852978554 and parameters: {'max_depth': 7, 'learning_rate': 0.05433355477833208, 'n_estimators': 109, 'min_child_weight': 9, 'gamma': 1.8766322126808288e-08, 'subsample': 0.7266648991558531, 'colsample_bytree': 0.9508955160065758, 'reg_alpha': 0.00030225114517344804, 'reg_lambda': 9.071087680484985e-07}. Best is trial 76 with value: 703.2232083132906.\u001b[0m\n",
      "\u001b[32m[I 2022-11-26 18:16:53,260]\u001b[0m Trial 79 finished with value: 717.2381656278073 and parameters: {'max_depth': 7, 'learning_rate': 0.05574217744723544, 'n_estimators': 106, 'min_child_weight': 10, 'gamma': 1.750512481688207e-08, 'subsample': 0.7312672799037165, 'colsample_bytree': 0.876244412229848, 'reg_alpha': 0.0009342557010261159, 'reg_lambda': 7.920245211438481e-07}. Best is trial 76 with value: 703.2232083132906.\u001b[0m\n",
      "\u001b[32m[I 2022-11-26 18:16:53,408]\u001b[0m Trial 80 finished with value: 746.628677301078 and parameters: {'max_depth': 7, 'learning_rate': 0.05573955473076537, 'n_estimators': 122, 'min_child_weight': 9, 'gamma': 1.8493375545403574e-08, 'subsample': 0.44393543015992293, 'colsample_bytree': 0.9297161827857116, 'reg_alpha': 0.00027462966861225885, 'reg_lambda': 8.372264721647287e-07}. Best is trial 76 with value: 703.2232083132906.\u001b[0m\n",
      "\u001b[32m[I 2022-11-26 18:16:53,531]\u001b[0m Trial 81 finished with value: 730.5632285274037 and parameters: {'max_depth': 7, 'learning_rate': 0.05709803212504991, 'n_estimators': 104, 'min_child_weight': 10, 'gamma': 1.2068157143443918e-07, 'subsample': 0.7336536267065926, 'colsample_bytree': 0.8321539672497714, 'reg_alpha': 0.0007763791486565539, 'reg_lambda': 6.16944505244819e-07}. Best is trial 76 with value: 703.2232083132906.\u001b[0m\n",
      "\u001b[32m[I 2022-11-26 18:16:53,639]\u001b[0m Trial 82 finished with value: 731.8177814940493 and parameters: {'max_depth': 7, 'learning_rate': 0.04576785510081834, 'n_estimators': 96, 'min_child_weight': 10, 'gamma': 1.5886352366418757e-08, 'subsample': 0.5929449366873988, 'colsample_bytree': 0.697984471771087, 'reg_alpha': 0.00012363019240347673, 'reg_lambda': 3.842436136772037e-07}. Best is trial 76 with value: 703.2232083132906.\u001b[0m\n",
      "\u001b[32m[I 2022-11-26 18:16:53,698]\u001b[0m Trial 83 finished with value: 984.2658465058383 and parameters: {'max_depth': 7, 'learning_rate': 0.08585391227439432, 'n_estimators': 174, 'min_child_weight': 10, 'gamma': 3.483737362810713e-08, 'subsample': 0.031641163655333655, 'colsample_bytree': 0.8700574133172555, 'reg_alpha': 0.0010002361684367269, 'reg_lambda': 1.0306858014126162e-06}. Best is trial 76 with value: 703.2232083132906.\u001b[0m\n",
      "\u001b[32m[I 2022-11-26 18:16:53,867]\u001b[0m Trial 84 finished with value: 727.1509374004003 and parameters: {'max_depth': 7, 'learning_rate': 0.029838357946259553, 'n_estimators': 143, 'min_child_weight': 10, 'gamma': 7.863297085863707e-08, 'subsample': 0.7158937554361331, 'colsample_bytree': 0.9379972078211339, 'reg_alpha': 0.00038689823445302134, 'reg_lambda': 2.238354975322597e-06}. Best is trial 76 with value: 703.2232083132906.\u001b[0m\n",
      "\u001b[32m[I 2022-11-26 18:16:54,120]\u001b[0m Trial 85 finished with value: 721.80689112179 and parameters: {'max_depth': 8, 'learning_rate': 0.03971359970124361, 'n_estimators': 206, 'min_child_weight': 9, 'gamma': 1.8842010541496183e-08, 'subsample': 0.6255410111596967, 'colsample_bytree': 0.7069026807861619, 'reg_alpha': 0.0018321032388880442, 'reg_lambda': 1.1643026201673899e-07}. Best is trial 76 with value: 703.2232083132906.\u001b[0m\n",
      "\u001b[32m[I 2022-11-26 18:16:54,280]\u001b[0m Trial 86 finished with value: 728.5843687532085 and parameters: {'max_depth': 7, 'learning_rate': 0.05722536833797348, 'n_estimators': 159, 'min_child_weight': 10, 'gamma': 1.0578499225280824e-08, 'subsample': 0.4911561012539543, 'colsample_bytree': 0.8324465213494299, 'reg_alpha': 0.0005672089375700863, 'reg_lambda': 1.338563140724942e-06}. Best is trial 76 with value: 703.2232083132906.\u001b[0m\n",
      "\u001b[32m[I 2022-11-26 18:16:54,383]\u001b[0m Trial 87 finished with value: 722.799781280344 and parameters: {'max_depth': 6, 'learning_rate': 0.07531709362102149, 'n_estimators': 78, 'min_child_weight': 9, 'gamma': 3.2447666361171275e-08, 'subsample': 0.7528719739555825, 'colsample_bytree': 0.6609879295755203, 'reg_alpha': 0.00021535358262173652, 'reg_lambda': 7.074100554135807e-06}. Best is trial 76 with value: 703.2232083132906.\u001b[0m\n",
      "\u001b[32m[I 2022-11-26 18:16:54,445]\u001b[0m Trial 88 finished with value: 1046.2994689878926 and parameters: {'max_depth': 1, 'learning_rate': 0.03621437257982213, 'n_estimators': 228, 'min_child_weight': 10, 'gamma': 5.6904322907655083e-08, 'subsample': 0.8937529043834649, 'colsample_bytree': 0.7725793581088273, 'reg_alpha': 0.0012007105158091033, 'reg_lambda': 3.1059370380280265e-07}. Best is trial 76 with value: 703.2232083132906.\u001b[0m\n",
      "\u001b[32m[I 2022-11-26 18:16:54,502]\u001b[0m Trial 89 finished with value: 975.3872171765513 and parameters: {'max_depth': 6, 'learning_rate': 0.04797850688182059, 'n_estimators': 108, 'min_child_weight': 9, 'gamma': 1.6111574045551224e-08, 'subsample': 0.5717949158620693, 'colsample_bytree': 0.010698339735254992, 'reg_alpha': 0.0002918710338490924, 'reg_lambda': 6.972289923692859e-07}. Best is trial 76 with value: 703.2232083132906.\u001b[0m\n",
      "\u001b[32m[I 2022-11-26 18:16:54,712]\u001b[0m Trial 90 finished with value: 714.8074089885451 and parameters: {'max_depth': 7, 'learning_rate': 0.05912709605447423, 'n_estimators': 135, 'min_child_weight': 10, 'gamma': 1.2923796858256192e-07, 'subsample': 0.9182982524937268, 'colsample_bytree': 0.9536788448136462, 'reg_alpha': 0.007268105448497459, 'reg_lambda': 6.825173469464288e-08}. Best is trial 76 with value: 703.2232083132906.\u001b[0m\n",
      "\u001b[32m[I 2022-11-26 18:16:54,939]\u001b[0m Trial 91 finished with value: 728.4830167381832 and parameters: {'max_depth': 7, 'learning_rate': 0.0667994620188236, 'n_estimators': 188, 'min_child_weight': 10, 'gamma': 1.0843183226834861e-07, 'subsample': 0.9816137064720458, 'colsample_bytree': 0.995609072919742, 'reg_alpha': 0.0017139356587530334, 'reg_lambda': 5.5743951882928186e-08}. Best is trial 76 with value: 703.2232083132906.\u001b[0m\n",
      "\u001b[32m[I 2022-11-26 18:16:55,025]\u001b[0m Trial 92 finished with value: 23634.265308949358 and parameters: {'max_depth': 7, 'learning_rate': 0.8003871277409762, 'n_estimators': 126, 'min_child_weight': 10, 'gamma': 2.6364515249854635e-08, 'subsample': 0.11124361762589081, 'colsample_bytree': 0.8617705607342493, 'reg_alpha': 0.0008075022302464424, 'reg_lambda': 2.2895700810082666e-08}. Best is trial 76 with value: 703.2232083132906.\u001b[0m\n",
      "\u001b[32m[I 2022-11-26 18:16:55,175]\u001b[0m Trial 93 finished with value: 716.8458563364612 and parameters: {'max_depth': 7, 'learning_rate': 0.05718998204629705, 'n_estimators': 146, 'min_child_weight': 9, 'gamma': 5.568068365679531e-05, 'subsample': 0.7573578708838145, 'colsample_bytree': 0.7175991989804298, 'reg_alpha': 0.008581772664577861, 'reg_lambda': 8.814145772218488e-08}. Best is trial 76 with value: 703.2232083132906.\u001b[0m\n",
      "\u001b[32m[I 2022-11-26 18:16:55,308]\u001b[0m Trial 94 finished with value: 721.3439556239277 and parameters: {'max_depth': 6, 'learning_rate': 0.05864948605884366, 'n_estimators': 148, 'min_child_weight': 9, 'gamma': 6.329039753227774e-05, 'subsample': 0.7561576511613584, 'colsample_bytree': 0.6204683959221158, 'reg_alpha': 0.005722955737839421, 'reg_lambda': 1.2408572289495234e-07}. Best is trial 76 with value: 703.2232083132906.\u001b[0m\n",
      "\u001b[32m[I 2022-11-26 18:16:55,451]\u001b[0m Trial 95 finished with value: 716.5570663930132 and parameters: {'max_depth': 7, 'learning_rate': 0.04323936436121341, 'n_estimators': 138, 'min_child_weight': 8, 'gamma': 0.00021700401603911242, 'subsample': 0.6166122851003242, 'colsample_bytree': 0.8034282596151973, 'reg_alpha': 0.0032021096354575233, 'reg_lambda': 3.287839458422745e-06}. Best is trial 76 with value: 703.2232083132906.\u001b[0m\n",
      "\u001b[32m[I 2022-11-26 18:16:55,609]\u001b[0m Trial 96 finished with value: 712.4357705997556 and parameters: {'max_depth': 7, 'learning_rate': 0.041030535690850335, 'n_estimators': 138, 'min_child_weight': 8, 'gamma': 0.00045368254032717304, 'subsample': 0.655191283206728, 'colsample_bytree': 0.995499676130227, 'reg_alpha': 0.007737147145071974, 'reg_lambda': 2.0373709919288475e-06}. Best is trial 76 with value: 703.2232083132906.\u001b[0m\n",
      "\u001b[32m[I 2022-11-26 18:16:55,726]\u001b[0m Trial 97 finished with value: 740.916030562126 and parameters: {'max_depth': 8, 'learning_rate': 0.043393010480542143, 'n_estimators': 85, 'min_child_weight': 8, 'gamma': 2.7407853685337082e-05, 'subsample': 0.6306672022622588, 'colsample_bytree': 0.8046367465202097, 'reg_alpha': 0.00828413103897734, 'reg_lambda': 1.83545870525981e-06}. Best is trial 76 with value: 703.2232083132906.\u001b[0m\n",
      "\u001b[32m[I 2022-11-26 18:16:55,878]\u001b[0m Trial 98 finished with value: 727.4921998618636 and parameters: {'max_depth': 8, 'learning_rate': 0.050408839573895976, 'n_estimators': 133, 'min_child_weight': 8, 'gamma': 0.0003264027698626738, 'subsample': 0.3689868387460252, 'colsample_bytree': 0.9887915458671479, 'reg_alpha': 0.0024018846792951093, 'reg_lambda': 2.8362823075581334e-06}. Best is trial 76 with value: 703.2232083132906.\u001b[0m\n",
      "\u001b[32m[I 2022-11-26 18:16:56,016]\u001b[0m Trial 99 finished with value: 751.202336018758 and parameters: {'max_depth': 7, 'learning_rate': 0.04146094654347443, 'n_estimators': 114, 'min_child_weight': 7, 'gamma': 0.0004814470798680042, 'subsample': 0.5261177468913045, 'colsample_bytree': 0.5340960115936785, 'reg_alpha': 0.02040233673157642, 'reg_lambda': 1.5246175779264308e-07}. Best is trial 76 with value: 703.2232083132906.\u001b[0m\n"
     ]
    },
    {
     "name": "stdout",
     "output_type": "stream",
     "text": [
      "Number of finished trials: 100\n",
      "Best trial:\n",
      "  RMSE: 703.2232083132906\n",
      "  Params: \n",
      "    max_depth: 7\n",
      "    learning_rate: 0.05486946254183157\n",
      "    n_estimators: 212\n",
      "    min_child_weight: 10\n",
      "    gamma: 2.163425403087385e-08\n",
      "    subsample: 0.7306303686779471\n",
      "    colsample_bytree: 0.8826965695361724\n",
      "    reg_alpha: 0.0014225927303242439\n",
      "    reg_lambda: 8.07358757093701e-07\n"
     ]
    }
   ],
   "source": [
    "study.optimize(objective, n_trials=100)\n",
    "warnings.filterwarnings('ignore')\n",
    "\n",
    "print('Number of finished trials: {}'.format(len(study.trials)))\n",
    "print('Best trial:')\n",
    "trial = study.best_trial\n",
    "\n",
    "print('  RMSE: {}'.format(trial.value))\n",
    "print('  Params: ')\n",
    "\n",
    "for key, value in trial.params.items():\n",
    "    print('    {}: {}'.format(key, value))"
   ]
  },
  {
   "cell_type": "markdown",
   "metadata": {},
   "source": [
    "## Fit model with best parameters and predict"
   ]
  },
  {
   "cell_type": "code",
   "execution_count": 81,
   "metadata": {},
   "outputs": [],
   "source": [
    "def calc_test_r2(pred_vals, true_vals, baseline_rmse):\n",
    "    sse = mean_squared_error(pred_vals, true_vals) * len(true_vals)\n",
    "    sst = (baseline_rmse ** 2) * len(true_vals)\n",
    "    return 1 - sse / sst, np.sqrt(sse / len(true_vals))"
   ]
  },
  {
   "cell_type": "code",
   "execution_count": 82,
   "metadata": {},
   "outputs": [
    {
     "name": "stdout",
     "output_type": "stream",
     "text": [
      "Test R-Squared: 0.7682088317177024\n",
      "RMSE: 760.6811004762943\n"
     ]
    }
   ],
   "source": [
    "best_params = trial.params\n",
    "best_model = xgb.XGBRegressor(**best_params)\n",
    "best_model.fit(scaled_x_train, y_train)\n",
    "final_preds = best_model.predict(scaled_x_test)\n",
    "# print(\"RMSE = \", np.sqrt(mean_squared_error(final_preds, y_test)))\n",
    "baseline_rmse = np.sqrt(((y_test - y_test.mean()) ** 2).mean())\n",
    "test_r2, rmse = calc_test_r2(final_preds, y_test, baseline_rmse)\n",
    "print('Test R-Squared:', test_r2)\n",
    "print('RMSE:', rmse)"
   ]
  }
 ],
 "metadata": {
  "kernelspec": {
   "display_name": "Python 3.10.7 64-bit",
   "language": "python",
   "name": "python3"
  },
  "language_info": {
   "codemirror_mode": {
    "name": "ipython",
    "version": 3
   },
   "file_extension": ".py",
   "mimetype": "text/x-python",
   "name": "python",
   "nbconvert_exporter": "python",
   "pygments_lexer": "ipython3",
   "version": "3.10.7"
  },
  "orig_nbformat": 4,
  "vscode": {
   "interpreter": {
    "hash": "aee8b7b246df8f9039afb4144a1f6fd8d2ca17a180786b69acc140d282b71a49"
   }
  }
 },
 "nbformat": 4,
 "nbformat_minor": 2
}
