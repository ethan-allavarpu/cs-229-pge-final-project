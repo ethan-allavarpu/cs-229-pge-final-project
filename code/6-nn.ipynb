{
 "cells": [
  {
   "cell_type": "code",
   "execution_count": 1,
   "metadata": {},
   "outputs": [
    {
     "data": {
      "text/plain": [
       "<torch._C.Generator at 0x10543c2d0>"
      ]
     },
     "execution_count": 1,
     "metadata": {},
     "output_type": "execute_result"
    }
   ],
   "source": [
    "import numpy as np\n",
    "import pandas as pd\n",
    "import re\n",
    "from sklearn.metrics import mean_squared_error, mean_absolute_error\n",
    "from sklearn.preprocessing import StandardScaler\n",
    "from sklearn.model_selection import train_test_split\n",
    "import optuna\n",
    "import torch\n",
    "from torch.autograd import Variable\n",
    "from torchviz import make_dot\n",
    "\n",
    "torch.manual_seed(0)\n"
   ]
  },
  {
   "cell_type": "markdown",
   "metadata": {},
   "source": [
    "## Loading dataset"
   ]
  },
  {
   "cell_type": "code",
   "execution_count": 2,
   "metadata": {},
   "outputs": [],
   "source": [
    "x_train = pd.read_csv(\n",
    "    \"../data/processed/x_train_w_OHE.csv\", index_col=0, dtype=str\n",
    ")\n",
    "x_test = pd.read_csv(\n",
    "    \"../data/processed/x_test_w_OHE.csv\", index_col=0, dtype=str\n",
    ")\n",
    "y_train = pd.read_csv(\n",
    "    \"../data/processed/y_train.csv\", index_col=0, dtype=float\n",
    ").squeeze(\"columns\").reset_index(drop=True)\n",
    "y_test = pd.read_csv(\n",
    "    \"../data/processed/y_test.csv\", index_col=0, dtype=float\n",
    ").squeeze(\"columns\").reset_index(drop=True)\n",
    "\n",
    "x_train, x_valid, y_train, y_valid = train_test_split(\n",
    "    x_train, y_train, test_size=0.2, random_state=42)\n",
    "\n",
    "zip_cols = x_train.columns[\n",
    "    [re.search('zip_is', col) is not None for col in x_train.columns]\n",
    "]\n"
   ]
  },
  {
   "cell_type": "code",
   "execution_count": 3,
   "metadata": {},
   "outputs": [],
   "source": [
    "def get_correct_types_x(df, numeric_cols):\n",
    "    for col in ['deenergize_time', 'restoration_time']:\n",
    "        df[col] = pd.to_datetime(df[col], format='%Y-%m-%d %H:%M:%S')\n",
    "    for col in numeric_cols:\n",
    "        df[col] = df[col].astype(float)\n",
    "    return df\n",
    "\n",
    "\n",
    "numeric_cols = [\n",
    "    'hftd_tier', 'total_affected', 'residential_affected',\n",
    "    'longitude', 'latitude', 'total_pop', 'median_age', 'median_income',\n",
    "    'white_pct', 'tmin_d-5', 'tmax_d-5', 'wspd_d-5', 'tmin_d-4', 'tmax_d-4',\n",
    "    'wspd_d-4', 'tmin_d-3', 'tmax_d-3', 'wspd_d-3', 'tmin_d-2', 'tmax_d-2',\n",
    "    'wspd_d-2', 'tmin_d-1', 'tmax_d-1', 'wspd_d-1', 'day_in_year'\n",
    "]\n",
    "x_train = get_correct_types_x(x_train, numeric_cols)\n",
    "x_valid = get_correct_types_x(x_valid, numeric_cols)\n",
    "x_test = get_correct_types_x(x_test, numeric_cols)\n",
    "rel_x_train = x_train[numeric_cols]\n",
    "rel_x_valid = x_valid[numeric_cols]\n",
    "rel_x_test = x_test[numeric_cols]\n",
    "\n",
    "scaler = StandardScaler()\n",
    "scaler.fit(rel_x_train)\n",
    "scaled_x_train = scaler.transform(rel_x_train)\n",
    "scaled_x_valid = scaler.transform(rel_x_valid)\n",
    "scaled_x_test = scaler.transform(rel_x_test)\n"
   ]
  },
  {
   "cell_type": "markdown",
   "metadata": {},
   "source": [
    "## Defining the Neural Network Model"
   ]
  },
  {
   "cell_type": "code",
   "execution_count": 34,
   "metadata": {},
   "outputs": [],
   "source": [
    "class base_model(torch.nn.Module):\n",
    "\n",
    "    def __init__(self, n_hidden_layers, n_hidden_units, p=0.1, activation=torch.nn.ReLU()):\n",
    "        super(base_model, self).__init__()\n",
    "        if n_hidden_layers == 0:\n",
    "            self.linears = torch.nn.ModuleList([\n",
    "                torch.nn.Linear(scaled_x_train.shape[1], 1)\n",
    "            ])\n",
    "            self.activation = activation\n",
    "            self.dropout = torch.nn.Dropout(p)\n",
    "        else:\n",
    "            assert len(n_hidden_units) == n_hidden_layers\n",
    "            self.layers = []\n",
    "\n",
    "            for layer, n_units in enumerate(n_hidden_units):\n",
    "                if layer == 0:\n",
    "                    curr_layer = torch.nn.Linear(\n",
    "                        scaled_x_train.shape[1], n_units)\n",
    "                else:\n",
    "                    curr_layer = torch.nn.Linear(\n",
    "                        n_hidden_units[layer - 1], n_units)\n",
    "                self.layers.append(curr_layer)\n",
    "            self.layers.append(torch.nn.Linear(n_hidden_units[-1], 1))\n",
    "            self.linears = torch.nn.ModuleList(self.layers)\n",
    "            self.activation = activation\n",
    "            self.dropout = torch.nn.Dropout(p)\n",
    "\n",
    "    def forward(self, x):\n",
    "        for layer in self.linears:\n",
    "            x = self.dropout(self.activation(layer(x)))\n",
    "        return x\n"
   ]
  },
  {
   "cell_type": "markdown",
   "metadata": {},
   "source": [
    "## Hyper-parameter Optimization using Optuna"
   ]
  },
  {
   "cell_type": "code",
   "execution_count": 37,
   "metadata": {},
   "outputs": [],
   "source": [
    "device = torch.device(\"cuda:0\" if torch.cuda.is_available() else \"cpu\")\n",
    "\n",
    "# 1. Define an objective function to be maximized.\n",
    "\n",
    "\n",
    "def objective(trial):\n",
    "\n",
    "    # 2. Suggest values of the hyperparameters using a trial object.\n",
    "    n_layers = trial.suggest_int('n_layers', 0, 4)\n",
    "    n_hidden_units = [0] * n_layers\n",
    "    print(n_layers)\n",
    "    for i in range(n_layers):\n",
    "        n_hidden_units[i] = trial.suggest_int(f\"n_h_{i}\", 1, 50)\n",
    "    lr = trial.suggest_float(\"lr\", 1e-5, 5e-1, log=True)\n",
    "    n_epochs = trial.suggest_int(\"n_epochs\", 1000, 100000)\n",
    "    activation_functions = [torch.nn.ReLU(), torch.nn.Tanh()]\n",
    "    act_idx = trial.suggest_categorical(\"act_function\", [0, 1])\n",
    "    dropout_p = trial.suggest_float(\"dropout\", 0, 1)\n",
    "    params = f\"\"\"Params:\n",
    "          n_layers: {n_layers}\n",
    "          n_hidden_units: {n_hidden_units}\n",
    "          lr: {lr}\n",
    "          n_epochs: {n_epochs}\n",
    "          act_function: {activation_functions[act_idx]}\n",
    "          dropout: {dropout_p}\"\"\"\n",
    "    print(params)\n",
    "\n",
    "    x = torch.from_numpy(scaled_x_train).float().to(device)\n",
    "    y = torch.from_numpy(y_train.values.reshape(-1, 1)).float().to(device)\n",
    "\n",
    "    inputs = Variable(x)\n",
    "    targets = Variable(y)\n",
    "\n",
    "    # base = base_model(1, [1], activation=torch.nn.Tanh())\n",
    "    base = base_model(n_layers, n_hidden_units, p=dropout_p,\n",
    "                      activation=activation_functions[act_idx])\n",
    "    base.to(device)\n",
    "    optimizer = torch.optim.Adagrad(base.parameters(), lr=lr)\n",
    "    loss_func = torch.nn.MSELoss()\n",
    "    prev_loss = torch.from_numpy(np.array([0])).to(device)\n",
    "\n",
    "    for i in range(n_epochs):\n",
    "        prediction = base(inputs)\n",
    "        loss = loss_func(prediction, targets)\n",
    "        if i % 1000 == 0:\n",
    "            print(loss)\n",
    "        if np.abs(loss.cpu().detach().numpy() - prev_loss.cpu().detach().numpy()) < 1e-8:\n",
    "          break\n",
    "        prev_loss = loss\n",
    "        optimizer.zero_grad()\n",
    "        loss.backward()\n",
    "        optimizer.step()\n",
    "\n",
    "    valid_x = Variable(torch.from_numpy(scaled_x_valid).float()).to(device)\n",
    "    valid_y = Variable(torch.from_numpy(\n",
    "        y_valid.values.reshape(-1, 1)).float()).to(device)\n",
    "    valid_predictions = base(valid_x)\n",
    "    loss = loss_func(valid_predictions, valid_y)\n",
    "    print(f\"Final valid loss: {loss}\")\n",
    "    print(\"#################\")\n",
    "    if loss < 1000000:\n",
    "      with open(f\"gdrive/MyDrive/CS229_Final_Project/nn_hpo/run_2/{time.time()}.txt\", \"w+\") as f:\n",
    "        f.write(f\"Loss: {np.sqrt(loss.cpu().detach().numpy())}\\n\")\n",
    "        f.write(params)\n",
    "    return np.sqrt(loss.cpu().detach().numpy())\n"
   ]
  },
  {
   "cell_type": "code",
   "execution_count": 38,
   "metadata": {},
   "outputs": [],
   "source": [
    "# 3. Create a study object and optimize the objective function.\n",
    "torch.manual_seed(0)\n",
    "study = optuna.create_study(direction='minimize')\n",
    "study.optimize(objective, n_trials=100)\n",
    "pd.DataFrame.from_dict({\"value\": study.best_trial.values, \"params\": str(\n",
    "    study.best_trial.params)}).to_csv(\"gdrive/MyDrive/CS229_Final_Project/nn_hpo/run_4.csv\", index=False)\n",
    "\n",
    "# fig = optuna.visualization.plot_optimization_history(study)\n",
    "# fig.show()\n",
    "# fig.write_image(\"gdrive/MyDrive/CS229_Final_Project/nn_hpo/run_1.png\")\n"
   ]
  },
  {
   "cell_type": "markdown",
   "metadata": {},
   "source": [
    "## Running best models on test data"
   ]
  },
  {
   "cell_type": "code",
   "execution_count": 39,
   "metadata": {},
   "outputs": [
    {
     "data": {
      "text/plain": [
       "{'n_layers': 2,\n",
       " 'n_h_0': 46,\n",
       " 'n_h_1': 96,\n",
       " 'lr': 0.011578444404576697,\n",
       " 'n_epochs': 44718,\n",
       " 'act_function': 0,\n",
       " 'dropout': 0.05}"
      ]
     },
     "execution_count": 39,
     "metadata": {},
     "output_type": "execute_result"
    }
   ],
   "source": [
    "# Load best hyperparams\n",
    "best_params = pd.read_csv(\"nn_hpo/run_1.csv\")\n",
    "best_params_dict = eval(best_params[\"params\"].values[0])\n",
    "best_params_dict\n"
   ]
  },
  {
   "cell_type": "markdown",
   "metadata": {},
   "source": [
    "### Baseline Model"
   ]
  },
  {
   "cell_type": "code",
   "execution_count": null,
   "metadata": {},
   "outputs": [],
   "source": [
    "x = torch.from_numpy(scaled_x_train).float()\n",
    "y = torch.from_numpy(y_train.values.reshape(-1, 1)).float()\n",
    "\n",
    "inputs = Variable(x)\n",
    "targets = Variable(y)\n",
    "\n",
    "base = base_model(1, [20])\n",
    "print(base)\n",
    "optimizer = torch.optim.Adagrad(base.parameters())\n",
    "loss_func = torch.nn.MSELoss()\n",
    "\n",
    "for i in range(100000):\n",
    "   prediction = base(inputs)\n",
    "   loss_base = loss_func(prediction, targets)\n",
    "   if i % 1000 == 0:\n",
    "      print(loss_base)\n",
    "   optimizer.zero_grad()\n",
    "   loss_base.backward()\n",
    "   optimizer.step()"
   ]
  },
  {
   "cell_type": "code",
   "execution_count": 41,
   "metadata": {},
   "outputs": [
    {
     "data": {
      "text/plain": [
       "1625.2429"
      ]
     },
     "execution_count": 41,
     "metadata": {},
     "output_type": "execute_result"
    }
   ],
   "source": [
    "# Baseline loss\n",
    "test_x = Variable(torch.from_numpy(scaled_x_test).float())\n",
    "test_y = Variable(torch.from_numpy(y_test.values.reshape(-1, 1)).float())\n",
    "test_predictions_base = base(test_x)\n",
    "loss_base = loss_func(test_predictions_base, test_y)\n",
    "baseline_rmse = np.sqrt(loss_base.detach().numpy())\n",
    "baseline_rmse\n"
   ]
  },
  {
   "cell_type": "markdown",
   "metadata": {},
   "source": [
    "### Model with best hyperparameters"
   ]
  },
  {
   "cell_type": "code",
   "execution_count": null,
   "metadata": {},
   "outputs": [],
   "source": [
    "x = torch.from_numpy(scaled_x_train).float()\n",
    "y = torch.from_numpy(y_train.values.reshape(-1, 1)).float()\n",
    "\n",
    "inputs = Variable(x)\n",
    "targets = Variable(y)\n",
    "\n",
    "best = base_model(best_params_dict[\"n_layers\"], \n",
    "                  [46, 96],\n",
    "                  # best_params_dict[\"n_hidden_units\"], \n",
    "                  # activation=best_params_dict[\"act_function\"],\n",
    "                  p=best_params_dict[\"dropout\"]\n",
    ")\n",
    "print(best)\n",
    "optimizer = torch.optim.Adagrad(best.parameters(), lr=best_params_dict[\"lr\"])\n",
    "loss_func = torch.nn.MSELoss()\n",
    "\n",
    "for i in range(best_params_dict[\"n_epochs\"]):\n",
    "   prediction = best(inputs)\n",
    "   loss = loss_func(prediction, targets)\n",
    "   if i % 1000 == 0:\n",
    "      print(loss)\n",
    "   optimizer.zero_grad()\n",
    "   loss.backward()\n",
    "   optimizer.step()\n"
   ]
  },
  {
   "cell_type": "code",
   "execution_count": 43,
   "metadata": {},
   "outputs": [
    {
     "data": {
      "text/plain": [
       "1081.0851"
      ]
     },
     "execution_count": 43,
     "metadata": {},
     "output_type": "execute_result"
    }
   ],
   "source": [
    "# Best model loss\n",
    "test_predictions = best(test_x)\n",
    "loss = loss_func(test_predictions, test_y)\n",
    "best_rmse = np.sqrt(loss.detach().numpy())\n",
    "best_rmse"
   ]
  },
  {
   "cell_type": "markdown",
   "metadata": {},
   "source": [
    "## Model Visualization"
   ]
  },
  {
   "cell_type": "code",
   "execution_count": 19,
   "metadata": {},
   "outputs": [
    {
     "data": {
      "image/svg+xml": "<?xml version=\"1.0\" encoding=\"UTF-8\" standalone=\"no\"?>\n<!DOCTYPE svg PUBLIC \"-//W3C//DTD SVG 1.1//EN\"\n \"http://www.w3.org/Graphics/SVG/1.1/DTD/svg11.dtd\">\n<!-- Generated by graphviz version 2.50.0 (0)\n -->\n<!-- Pages: 1 -->\n<svg width=\"451pt\" height=\"600pt\"\n viewBox=\"0.00 0.00 451.00 600.00\" xmlns=\"http://www.w3.org/2000/svg\" xmlns:xlink=\"http://www.w3.org/1999/xlink\">\n<g id=\"graph0\" class=\"graph\" transform=\"scale(1 1) rotate(0) translate(4 596)\">\n<polygon fill=\"white\" stroke=\"transparent\" points=\"-4,4 -4,-596 447,-596 447,4 -4,4\"/>\n<!-- 10941862592 -->\n<g id=\"node1\" class=\"node\">\n<title>10941862592</title>\n<polygon fill=\"#caff70\" stroke=\"black\" points=\"229,-31 158,-31 158,0 229,0 229,-31\"/>\n<text text-anchor=\"middle\" x=\"193.5\" y=\"-7\" font-family=\"monospace\" font-size=\"10.00\"> (393, 1)</text>\n</g>\n<!-- 10943196272 -->\n<g id=\"node2\" class=\"node\">\n<title>10943196272</title>\n<polygon fill=\"lightgrey\" stroke=\"black\" points=\"241,-86 146,-86 146,-67 241,-67 241,-86\"/>\n<text text-anchor=\"middle\" x=\"193.5\" y=\"-74\" font-family=\"monospace\" font-size=\"10.00\">ReluBackward0</text>\n</g>\n<!-- 10943196272&#45;&gt;10941862592 -->\n<g id=\"edge21\" class=\"edge\">\n<title>10943196272&#45;&gt;10941862592</title>\n<path fill=\"none\" stroke=\"black\" d=\"M193.5,-66.79C193.5,-60.07 193.5,-50.4 193.5,-41.34\"/>\n<polygon fill=\"black\" stroke=\"black\" points=\"197,-41.19 193.5,-31.19 190,-41.19 197,-41.19\"/>\n</g>\n<!-- 10943196752 -->\n<g id=\"node3\" class=\"node\">\n<title>10943196752</title>\n<polygon fill=\"lightgrey\" stroke=\"black\" points=\"244,-141 143,-141 143,-122 244,-122 244,-141\"/>\n<text text-anchor=\"middle\" x=\"193.5\" y=\"-129\" font-family=\"monospace\" font-size=\"10.00\">AddmmBackward0</text>\n</g>\n<!-- 10943196752&#45;&gt;10943196272 -->\n<g id=\"edge1\" class=\"edge\">\n<title>10943196752&#45;&gt;10943196272</title>\n<path fill=\"none\" stroke=\"black\" d=\"M193.5,-121.75C193.5,-114.8 193.5,-104.85 193.5,-96.13\"/>\n<polygon fill=\"black\" stroke=\"black\" points=\"197,-96.09 193.5,-86.09 190,-96.09 197,-96.09\"/>\n</g>\n<!-- 4891769824 -->\n<g id=\"node4\" class=\"node\">\n<title>4891769824</title>\n<polygon fill=\"lightgrey\" stroke=\"black\" points=\"127,-196 26,-196 26,-177 127,-177 127,-196\"/>\n<text text-anchor=\"middle\" x=\"76.5\" y=\"-184\" font-family=\"monospace\" font-size=\"10.00\">AccumulateGrad</text>\n</g>\n<!-- 4891769824&#45;&gt;10943196752 -->\n<g id=\"edge2\" class=\"edge\">\n<title>4891769824&#45;&gt;10943196752</title>\n<path fill=\"none\" stroke=\"black\" d=\"M95.3,-176.98C114.12,-168.46 143.32,-155.23 165,-145.41\"/>\n<polygon fill=\"black\" stroke=\"black\" points=\"166.7,-148.48 174.36,-141.17 163.81,-142.11 166.7,-148.48\"/>\n</g>\n<!-- 10943108576 -->\n<g id=\"node5\" class=\"node\">\n<title>10943108576</title>\n<polygon fill=\"lightblue\" stroke=\"black\" points=\"125,-262 24,-262 24,-232 125,-232 125,-262\"/>\n<text text-anchor=\"middle\" x=\"74.5\" y=\"-250\" font-family=\"monospace\" font-size=\"10.00\">linears.2.bias</text>\n<text text-anchor=\"middle\" x=\"74.5\" y=\"-239\" font-family=\"monospace\" font-size=\"10.00\"> (1)</text>\n</g>\n<!-- 10943108576&#45;&gt;4891769824 -->\n<g id=\"edge3\" class=\"edge\">\n<title>10943108576&#45;&gt;4891769824</title>\n<path fill=\"none\" stroke=\"black\" d=\"M74.98,-231.84C75.24,-224.21 75.57,-214.7 75.85,-206.45\"/>\n<polygon fill=\"black\" stroke=\"black\" points=\"79.36,-206.38 76.2,-196.27 72.36,-206.14 79.36,-206.38\"/>\n</g>\n<!-- 4891767472 -->\n<g id=\"node6\" class=\"node\">\n<title>4891767472</title>\n<polygon fill=\"lightgrey\" stroke=\"black\" points=\"241,-196 146,-196 146,-177 241,-177 241,-196\"/>\n<text text-anchor=\"middle\" x=\"193.5\" y=\"-184\" font-family=\"monospace\" font-size=\"10.00\">ReluBackward0</text>\n</g>\n<!-- 4891767472&#45;&gt;10943196752 -->\n<g id=\"edge4\" class=\"edge\">\n<title>4891767472&#45;&gt;10943196752</title>\n<path fill=\"none\" stroke=\"black\" d=\"M193.5,-176.75C193.5,-169.8 193.5,-159.85 193.5,-151.13\"/>\n<polygon fill=\"black\" stroke=\"black\" points=\"197,-151.09 193.5,-141.09 190,-151.09 197,-151.09\"/>\n</g>\n<!-- 4891767376 -->\n<g id=\"node7\" class=\"node\">\n<title>4891767376</title>\n<polygon fill=\"lightgrey\" stroke=\"black\" points=\"244,-256.5 143,-256.5 143,-237.5 244,-237.5 244,-256.5\"/>\n<text text-anchor=\"middle\" x=\"193.5\" y=\"-244.5\" font-family=\"monospace\" font-size=\"10.00\">AddmmBackward0</text>\n</g>\n<!-- 4891767376&#45;&gt;4891767472 -->\n<g id=\"edge5\" class=\"edge\">\n<title>4891767376&#45;&gt;4891767472</title>\n<path fill=\"none\" stroke=\"black\" d=\"M193.5,-237.37C193.5,-229.25 193.5,-216.81 193.5,-206.39\"/>\n<polygon fill=\"black\" stroke=\"black\" points=\"197,-206.17 193.5,-196.17 190,-206.17 197,-206.17\"/>\n</g>\n<!-- 4891768192 -->\n<g id=\"node8\" class=\"node\">\n<title>4891768192</title>\n<polygon fill=\"lightgrey\" stroke=\"black\" points=\"102,-322.5 1,-322.5 1,-303.5 102,-303.5 102,-322.5\"/>\n<text text-anchor=\"middle\" x=\"51.5\" y=\"-310.5\" font-family=\"monospace\" font-size=\"10.00\">AccumulateGrad</text>\n</g>\n<!-- 4891768192&#45;&gt;4891767376 -->\n<g id=\"edge6\" class=\"edge\">\n<title>4891768192&#45;&gt;4891767376</title>\n<path fill=\"none\" stroke=\"black\" d=\"M70.65,-303.37C94.89,-292.44 136.87,-273.52 164.91,-260.88\"/>\n<polygon fill=\"black\" stroke=\"black\" points=\"166.52,-264 174.2,-256.7 163.64,-257.62 166.52,-264\"/>\n</g>\n<!-- 10942822736 -->\n<g id=\"node9\" class=\"node\">\n<title>10942822736</title>\n<polygon fill=\"lightblue\" stroke=\"black\" points=\"101,-394 0,-394 0,-364 101,-364 101,-394\"/>\n<text text-anchor=\"middle\" x=\"50.5\" y=\"-382\" font-family=\"monospace\" font-size=\"10.00\">linears.1.bias</text>\n<text text-anchor=\"middle\" x=\"50.5\" y=\"-371\" font-family=\"monospace\" font-size=\"10.00\"> (96)</text>\n</g>\n<!-- 10942822736&#45;&gt;4891768192 -->\n<g id=\"edge7\" class=\"edge\">\n<title>10942822736&#45;&gt;4891768192</title>\n<path fill=\"none\" stroke=\"black\" d=\"M50.72,-363.8C50.86,-354.7 51.05,-342.79 51.2,-332.9\"/>\n<polygon fill=\"black\" stroke=\"black\" points=\"54.71,-332.9 51.36,-322.84 47.71,-332.79 54.71,-332.9\"/>\n</g>\n<!-- 4891770496 -->\n<g id=\"node10\" class=\"node\">\n<title>4891770496</title>\n<polygon fill=\"lightgrey\" stroke=\"black\" points=\"217,-322.5 122,-322.5 122,-303.5 217,-303.5 217,-322.5\"/>\n<text text-anchor=\"middle\" x=\"169.5\" y=\"-310.5\" font-family=\"monospace\" font-size=\"10.00\">ReluBackward0</text>\n</g>\n<!-- 4891770496&#45;&gt;4891767376 -->\n<g id=\"edge8\" class=\"edge\">\n<title>4891770496&#45;&gt;4891767376</title>\n<path fill=\"none\" stroke=\"black\" d=\"M172.74,-303.37C176.26,-293.97 182,-278.67 186.55,-266.53\"/>\n<polygon fill=\"black\" stroke=\"black\" points=\"189.93,-267.5 190.16,-256.91 183.37,-265.04 189.93,-267.5\"/>\n</g>\n<!-- 4891767808 -->\n<g id=\"node11\" class=\"node\">\n<title>4891767808</title>\n<polygon fill=\"lightgrey\" stroke=\"black\" points=\"220,-388.5 119,-388.5 119,-369.5 220,-369.5 220,-388.5\"/>\n<text text-anchor=\"middle\" x=\"169.5\" y=\"-376.5\" font-family=\"monospace\" font-size=\"10.00\">AddmmBackward0</text>\n</g>\n<!-- 4891767808&#45;&gt;4891770496 -->\n<g id=\"edge9\" class=\"edge\">\n<title>4891767808&#45;&gt;4891770496</title>\n<path fill=\"none\" stroke=\"black\" d=\"M169.5,-369.37C169.5,-360.16 169.5,-345.29 169.5,-333.27\"/>\n<polygon fill=\"black\" stroke=\"black\" points=\"173,-332.91 169.5,-322.91 166,-332.91 173,-332.91\"/>\n</g>\n<!-- 4891769728 -->\n<g id=\"node12\" class=\"node\">\n<title>4891769728</title>\n<polygon fill=\"lightgrey\" stroke=\"black\" points=\"110,-454.5 9,-454.5 9,-435.5 110,-435.5 110,-454.5\"/>\n<text text-anchor=\"middle\" x=\"59.5\" y=\"-442.5\" font-family=\"monospace\" font-size=\"10.00\">AccumulateGrad</text>\n</g>\n<!-- 4891769728&#45;&gt;4891767808 -->\n<g id=\"edge10\" class=\"edge\">\n<title>4891769728&#45;&gt;4891767808</title>\n<path fill=\"none\" stroke=\"black\" d=\"M74.34,-435.37C92.62,-424.73 123.94,-406.51 145.63,-393.89\"/>\n<polygon fill=\"black\" stroke=\"black\" points=\"147.67,-396.75 154.55,-388.7 144.14,-390.7 147.67,-396.75\"/>\n</g>\n<!-- 10942821456 -->\n<g id=\"node13\" class=\"node\">\n<title>10942821456</title>\n<polygon fill=\"lightblue\" stroke=\"black\" points=\"107,-526 6,-526 6,-496 107,-496 107,-526\"/>\n<text text-anchor=\"middle\" x=\"56.5\" y=\"-514\" font-family=\"monospace\" font-size=\"10.00\">linears.0.bias</text>\n<text text-anchor=\"middle\" x=\"56.5\" y=\"-503\" font-family=\"monospace\" font-size=\"10.00\"> (46)</text>\n</g>\n<!-- 10942821456&#45;&gt;4891769728 -->\n<g id=\"edge11\" class=\"edge\">\n<title>10942821456&#45;&gt;4891769728</title>\n<path fill=\"none\" stroke=\"black\" d=\"M57.17,-495.8C57.59,-486.7 58.15,-474.79 58.61,-464.9\"/>\n<polygon fill=\"black\" stroke=\"black\" points=\"62.11,-465 59.09,-454.84 55.12,-464.67 62.11,-465\"/>\n</g>\n<!-- 4891769584 -->\n<g id=\"node14\" class=\"node\">\n<title>4891769584</title>\n<polygon fill=\"lightgrey\" stroke=\"black\" points=\"211,-454.5 134,-454.5 134,-435.5 211,-435.5 211,-454.5\"/>\n<text text-anchor=\"middle\" x=\"172.5\" y=\"-442.5\" font-family=\"monospace\" font-size=\"10.00\">TBackward0</text>\n</g>\n<!-- 4891769584&#45;&gt;4891767808 -->\n<g id=\"edge12\" class=\"edge\">\n<title>4891769584&#45;&gt;4891767808</title>\n<path fill=\"none\" stroke=\"black\" d=\"M172.1,-435.37C171.66,-426.07 170.95,-410.98 170.39,-398.9\"/>\n<polygon fill=\"black\" stroke=\"black\" points=\"173.88,-398.73 169.92,-388.91 166.89,-399.06 173.88,-398.73\"/>\n</g>\n<!-- 4891768912 -->\n<g id=\"node15\" class=\"node\">\n<title>4891768912</title>\n<polygon fill=\"lightgrey\" stroke=\"black\" points=\"226,-520.5 125,-520.5 125,-501.5 226,-501.5 226,-520.5\"/>\n<text text-anchor=\"middle\" x=\"175.5\" y=\"-508.5\" font-family=\"monospace\" font-size=\"10.00\">AccumulateGrad</text>\n</g>\n<!-- 4891768912&#45;&gt;4891769584 -->\n<g id=\"edge13\" class=\"edge\">\n<title>4891768912&#45;&gt;4891769584</title>\n<path fill=\"none\" stroke=\"black\" d=\"M175.1,-501.37C174.66,-492.07 173.95,-476.98 173.39,-464.9\"/>\n<polygon fill=\"black\" stroke=\"black\" points=\"176.88,-464.73 172.92,-454.91 169.89,-465.06 176.88,-464.73\"/>\n</g>\n<!-- 10943110576 -->\n<g id=\"node16\" class=\"node\">\n<title>10943110576</title>\n<polygon fill=\"lightblue\" stroke=\"black\" points=\"232,-592 119,-592 119,-562 232,-562 232,-592\"/>\n<text text-anchor=\"middle\" x=\"175.5\" y=\"-580\" font-family=\"monospace\" font-size=\"10.00\">linears.0.weight</text>\n<text text-anchor=\"middle\" x=\"175.5\" y=\"-569\" font-family=\"monospace\" font-size=\"10.00\"> (46, 25)</text>\n</g>\n<!-- 10943110576&#45;&gt;4891768912 -->\n<g id=\"edge14\" class=\"edge\">\n<title>10943110576&#45;&gt;4891768912</title>\n<path fill=\"none\" stroke=\"black\" d=\"M175.5,-561.8C175.5,-552.7 175.5,-540.79 175.5,-530.9\"/>\n<polygon fill=\"black\" stroke=\"black\" points=\"179,-530.84 175.5,-520.84 172,-530.84 179,-530.84\"/>\n</g>\n<!-- 4891770112 -->\n<g id=\"node17\" class=\"node\">\n<title>4891770112</title>\n<polygon fill=\"lightgrey\" stroke=\"black\" points=\"312,-322.5 235,-322.5 235,-303.5 312,-303.5 312,-322.5\"/>\n<text text-anchor=\"middle\" x=\"273.5\" y=\"-310.5\" font-family=\"monospace\" font-size=\"10.00\">TBackward0</text>\n</g>\n<!-- 4891770112&#45;&gt;4891767376 -->\n<g id=\"edge15\" class=\"edge\">\n<title>4891770112&#45;&gt;4891767376</title>\n<path fill=\"none\" stroke=\"black\" d=\"M262.71,-303.37C249.83,-293.06 228.06,-275.65 212.37,-263.09\"/>\n<polygon fill=\"black\" stroke=\"black\" points=\"214.37,-260.21 204.37,-256.7 210,-265.68 214.37,-260.21\"/>\n</g>\n<!-- 4891769344 -->\n<g id=\"node18\" class=\"node\">\n<title>4891769344</title>\n<polygon fill=\"lightgrey\" stroke=\"black\" points=\"339,-388.5 238,-388.5 238,-369.5 339,-369.5 339,-388.5\"/>\n<text text-anchor=\"middle\" x=\"288.5\" y=\"-376.5\" font-family=\"monospace\" font-size=\"10.00\">AccumulateGrad</text>\n</g>\n<!-- 4891769344&#45;&gt;4891770112 -->\n<g id=\"edge16\" class=\"edge\">\n<title>4891769344&#45;&gt;4891770112</title>\n<path fill=\"none\" stroke=\"black\" d=\"M286.48,-369.37C284.3,-360.07 280.76,-344.98 277.93,-332.9\"/>\n<polygon fill=\"black\" stroke=\"black\" points=\"281.28,-331.84 275.59,-322.91 274.46,-333.44 281.28,-331.84\"/>\n</g>\n<!-- 10942821696 -->\n<g id=\"node19\" class=\"node\">\n<title>10942821696</title>\n<polygon fill=\"lightblue\" stroke=\"black\" points=\"345,-460 232,-460 232,-430 345,-430 345,-460\"/>\n<text text-anchor=\"middle\" x=\"288.5\" y=\"-448\" font-family=\"monospace\" font-size=\"10.00\">linears.1.weight</text>\n<text text-anchor=\"middle\" x=\"288.5\" y=\"-437\" font-family=\"monospace\" font-size=\"10.00\"> (96, 46)</text>\n</g>\n<!-- 10942821696&#45;&gt;4891769344 -->\n<g id=\"edge17\" class=\"edge\">\n<title>10942821696&#45;&gt;4891769344</title>\n<path fill=\"none\" stroke=\"black\" d=\"M288.5,-429.8C288.5,-420.7 288.5,-408.79 288.5,-398.9\"/>\n<polygon fill=\"black\" stroke=\"black\" points=\"292,-398.84 288.5,-388.84 285,-398.84 292,-398.84\"/>\n</g>\n<!-- 4891769680 -->\n<g id=\"node20\" class=\"node\">\n<title>4891769680</title>\n<polygon fill=\"lightgrey\" stroke=\"black\" points=\"368,-196 291,-196 291,-177 368,-177 368,-196\"/>\n<text text-anchor=\"middle\" x=\"329.5\" y=\"-184\" font-family=\"monospace\" font-size=\"10.00\">TBackward0</text>\n</g>\n<!-- 4891769680&#45;&gt;10943196752 -->\n<g id=\"edge18\" class=\"edge\">\n<title>4891769680&#45;&gt;10943196752</title>\n<path fill=\"none\" stroke=\"black\" d=\"M307.65,-176.98C285.38,-168.3 250.6,-154.75 225.28,-144.88\"/>\n<polygon fill=\"black\" stroke=\"black\" points=\"226.34,-141.54 215.75,-141.17 223.79,-148.06 226.34,-141.54\"/>\n</g>\n<!-- 4891770016 -->\n<g id=\"node21\" class=\"node\">\n<title>4891770016</title>\n<polygon fill=\"lightgrey\" stroke=\"black\" points=\"412,-256.5 311,-256.5 311,-237.5 412,-237.5 412,-256.5\"/>\n<text text-anchor=\"middle\" x=\"361.5\" y=\"-244.5\" font-family=\"monospace\" font-size=\"10.00\">AccumulateGrad</text>\n</g>\n<!-- 4891770016&#45;&gt;4891769680 -->\n<g id=\"edge19\" class=\"edge\">\n<title>4891770016&#45;&gt;4891769680</title>\n<path fill=\"none\" stroke=\"black\" d=\"M356.78,-237.37C352.15,-228.9 344.95,-215.74 339.11,-205.07\"/>\n<polygon fill=\"black\" stroke=\"black\" points=\"342.11,-203.26 334.24,-196.17 335.97,-206.62 342.11,-203.26\"/>\n</g>\n<!-- 10943109296 -->\n<g id=\"node22\" class=\"node\">\n<title>10943109296</title>\n<polygon fill=\"lightblue\" stroke=\"black\" points=\"443,-328 330,-328 330,-298 443,-298 443,-328\"/>\n<text text-anchor=\"middle\" x=\"386.5\" y=\"-316\" font-family=\"monospace\" font-size=\"10.00\">linears.2.weight</text>\n<text text-anchor=\"middle\" x=\"386.5\" y=\"-305\" font-family=\"monospace\" font-size=\"10.00\"> (1, 96)</text>\n</g>\n<!-- 10943109296&#45;&gt;4891770016 -->\n<g id=\"edge20\" class=\"edge\">\n<title>10943109296&#45;&gt;4891770016</title>\n<path fill=\"none\" stroke=\"black\" d=\"M380.95,-297.8C377.32,-288.5 372.54,-276.27 368.63,-266.26\"/>\n<polygon fill=\"black\" stroke=\"black\" points=\"371.85,-264.89 364.95,-256.84 365.33,-267.43 371.85,-264.89\"/>\n</g>\n</g>\n</svg>\n",
      "text/plain": [
       "<graphviz.graphs.Digraph at 0x28c43ef70>"
      ]
     },
     "execution_count": 19,
     "metadata": {},
     "output_type": "execute_result"
    }
   ],
   "source": [
    "make_dot(test_predictions, params=dict(best.named_parameters()))\n"
   ]
  },
  {
   "cell_type": "markdown",
   "metadata": {},
   "source": [
    "## Evaluation Metrics"
   ]
  },
  {
   "cell_type": "code",
   "execution_count": 14,
   "metadata": {},
   "outputs": [],
   "source": [
    "def calc_test_r2(pred_vals, true_vals, baseline_rmse):\n",
    "    sse = mean_squared_error(pred_vals, true_vals) * len(true_vals)\n",
    "    sst = (baseline_rmse ** 2) * len(true_vals)\n",
    "    return (\n",
    "        1 - sse / sst, np.sqrt(sse / len(true_vals)),\n",
    "        mean_absolute_error(pred_vals, true_vals)\n",
    "    )\n"
   ]
  },
  {
   "cell_type": "code",
   "execution_count": 21,
   "metadata": {},
   "outputs": [
    {
     "data": {
      "text/plain": [
       "(0.7087489089518462, 852.6837065281679, 600.8200379971026)"
      ]
     },
     "execution_count": 21,
     "metadata": {},
     "output_type": "execute_result"
    }
   ],
   "source": [
    "calc_test_r2(test_predictions.detach().numpy(), y_test.values.reshape(-1, 1), np.sqrt(np.var(y_test)))"
   ]
  },
  {
   "cell_type": "markdown",
   "metadata": {},
   "source": [
    "## Error Analysis"
   ]
  },
  {
   "cell_type": "code",
   "execution_count": 16,
   "metadata": {},
   "outputs": [],
   "source": [
    "test_predictions_np = test_predictions.detach().numpy()\n"
   ]
  },
  {
   "cell_type": "code",
   "execution_count": 17,
   "metadata": {},
   "outputs": [
    {
     "data": {
      "text/plain": [
       "18766839.538250506"
      ]
     },
     "execution_count": 17,
     "metadata": {},
     "output_type": "execute_result"
    }
   ],
   "source": [
    "np.max((test_predictions_np - y_test.values.reshape(-1, 1)) ** 2)"
   ]
  },
  {
   "cell_type": "code",
   "execution_count": 18,
   "metadata": {},
   "outputs": [
    {
     "data": {
      "text/plain": [
       "183"
      ]
     },
     "execution_count": 18,
     "metadata": {},
     "output_type": "execute_result"
    }
   ],
   "source": [
    "largest_error = np.argmax((test_predictions_np - y_test.values.reshape(-1, 1)) ** 2)\n",
    "largest_error"
   ]
  },
  {
   "cell_type": "code",
   "execution_count": 19,
   "metadata": {},
   "outputs": [
    {
     "data": {
      "text/plain": [
       "circuit_name                  WYANDOTTE\n",
       "deenergize_time     2020-09-07 22:20:00\n",
       "restoration_time    2020-09-13 08:52:00\n",
       "key_communities                OROVILLE\n",
       "hftd_tier                           3.0\n",
       "                           ...         \n",
       "zip_is_96073                        0.0\n",
       "zip_is_96076                        0.0\n",
       "zip_is_96080                        0.0\n",
       "zip_is_96096                        0.0\n",
       "zip_is_96137                        0.0\n",
       "Name: 1221, Length: 285, dtype: object"
      ]
     },
     "execution_count": 19,
     "metadata": {},
     "output_type": "execute_result"
    }
   ],
   "source": [
    "x_test.iloc[largest_error, :]"
   ]
  },
  {
   "cell_type": "code",
   "execution_count": null,
   "metadata": {},
   "outputs": [],
   "source": []
  }
 ],
 "metadata": {
  "kernelspec": {
   "display_name": "Python 3.9.13 ('base')",
   "language": "python",
   "name": "python3"
  },
  "language_info": {
   "codemirror_mode": {
    "name": "ipython",
    "version": 3
   },
   "file_extension": ".py",
   "mimetype": "text/x-python",
   "name": "python",
   "nbconvert_exporter": "python",
   "pygments_lexer": "ipython3",
   "version": "3.9.13"
  },
  "orig_nbformat": 4,
  "vscode": {
   "interpreter": {
    "hash": "95ef66565be0ab37caf8d705f94b2ba6fd3ff1d5242a0930694c635ab854b36c"
   }
  }
 },
 "nbformat": 4,
 "nbformat_minor": 2
}
