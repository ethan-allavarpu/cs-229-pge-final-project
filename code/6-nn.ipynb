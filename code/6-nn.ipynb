{
 "cells": [
  {
   "cell_type": "code",
   "execution_count": 1,
   "metadata": {},
   "outputs": [
    {
     "name": "stderr",
     "output_type": "stream",
     "text": [
      "/Users/user/opt/miniconda3/lib/python3.9/site-packages/tqdm/auto.py:22: TqdmWarning: IProgress not found. Please update jupyter and ipywidgets. See https://ipywidgets.readthedocs.io/en/stable/user_install.html\n",
      "  from .autonotebook import tqdm as notebook_tqdm\n"
     ]
    }
   ],
   "source": [
    "import numpy as np\n",
    "import pandas as pd\n",
    "import re\n",
    "from sklearn.metrics import mean_squared_error\n",
    "from sklearn.preprocessing import StandardScaler\n",
    "from sklearn.model_selection import train_test_split\n",
    "import optuna\n",
    "import torch\n",
    "from torch.autograd import Variable\n",
    "import plotly\n"
   ]
  },
  {
   "cell_type": "code",
   "execution_count": 2,
   "metadata": {},
   "outputs": [],
   "source": [
    "x_train = pd.read_csv(\n",
    "    \"../data/processed/x_train_w_OHE.csv\", index_col=0, dtype=str\n",
    ")\n",
    "x_test = pd.read_csv(\n",
    "    \"../data/processed/x_test_w_OHE.csv\", index_col=0, dtype=str\n",
    ")\n",
    "y_train = pd.read_csv(\n",
    "    \"../data/processed/y_train.csv\", index_col=0, dtype=float\n",
    ").squeeze(\"columns\").reset_index(drop=True)\n",
    "y_test = pd.read_csv(\n",
    "    \"../data/processed/y_test.csv\", index_col=0, dtype=float\n",
    ").squeeze(\"columns\").reset_index(drop=True)\n",
    "\n",
    "x_train, x_valid, y_train, y_valid = train_test_split(\n",
    "    x_train, y_train, test_size=0.2, random_state=42)\n"
   ]
  },
  {
   "cell_type": "code",
   "execution_count": 3,
   "metadata": {},
   "outputs": [
    {
     "data": {
      "text/html": [
       "<div>\n",
       "<style scoped>\n",
       "    .dataframe tbody tr th:only-of-type {\n",
       "        vertical-align: middle;\n",
       "    }\n",
       "\n",
       "    .dataframe tbody tr th {\n",
       "        vertical-align: top;\n",
       "    }\n",
       "\n",
       "    .dataframe thead th {\n",
       "        text-align: right;\n",
       "    }\n",
       "</style>\n",
       "<table border=\"1\" class=\"dataframe\">\n",
       "  <thead>\n",
       "    <tr style=\"text-align: right;\">\n",
       "      <th></th>\n",
       "      <th>circuit_name</th>\n",
       "      <th>deenergize_time</th>\n",
       "      <th>restoration_time</th>\n",
       "      <th>key_communities</th>\n",
       "      <th>hftd_tier</th>\n",
       "      <th>total_affected</th>\n",
       "      <th>residential_affected</th>\n",
       "      <th>zip_code</th>\n",
       "      <th>longitude</th>\n",
       "      <th>latitude</th>\n",
       "      <th>...</th>\n",
       "      <th>zip_is_96035</th>\n",
       "      <th>zip_is_96051</th>\n",
       "      <th>zip_is_96055</th>\n",
       "      <th>zip_is_96059</th>\n",
       "      <th>zip_is_96069</th>\n",
       "      <th>zip_is_96073</th>\n",
       "      <th>zip_is_96076</th>\n",
       "      <th>zip_is_96080</th>\n",
       "      <th>zip_is_96096</th>\n",
       "      <th>zip_is_96137</th>\n",
       "    </tr>\n",
       "  </thead>\n",
       "  <tbody>\n",
       "    <tr>\n",
       "      <th>452</th>\n",
       "      <td>SWIFT2110</td>\n",
       "      <td>2019-10-10 00:05:00</td>\n",
       "      <td>2019-10-11 14:17:00</td>\n",
       "      <td>SAN JOSE, LIVERMORE</td>\n",
       "      <td>2.0</td>\n",
       "      <td>2232.0</td>\n",
       "      <td>2047.0</td>\n",
       "      <td>95148</td>\n",
       "      <td>-121.796959988177</td>\n",
       "      <td>37.3225680192999</td>\n",
       "      <td>...</td>\n",
       "      <td>0</td>\n",
       "      <td>0</td>\n",
       "      <td>0</td>\n",
       "      <td>0</td>\n",
       "      <td>0</td>\n",
       "      <td>0</td>\n",
       "      <td>0</td>\n",
       "      <td>0</td>\n",
       "      <td>0</td>\n",
       "      <td>0</td>\n",
       "    </tr>\n",
       "    <tr>\n",
       "      <th>443</th>\n",
       "      <td>STATION E EUREKA1105</td>\n",
       "      <td>2019-10-09 01:20:00</td>\n",
       "      <td>2019-10-09 23:10:00</td>\n",
       "      <td>EUREKA</td>\n",
       "      <td>0.0</td>\n",
       "      <td>1618.0</td>\n",
       "      <td>1264.0</td>\n",
       "      <td>95501</td>\n",
       "      <td>-124.180313467792</td>\n",
       "      <td>40.7934324220744</td>\n",
       "      <td>...</td>\n",
       "      <td>0</td>\n",
       "      <td>0</td>\n",
       "      <td>0</td>\n",
       "      <td>0</td>\n",
       "      <td>0</td>\n",
       "      <td>0</td>\n",
       "      <td>0</td>\n",
       "      <td>0</td>\n",
       "      <td>0</td>\n",
       "      <td>0</td>\n",
       "    </tr>\n",
       "    <tr>\n",
       "      <th>1804</th>\n",
       "      <td>SILVERADO</td>\n",
       "      <td>2021-08-17 18:22:00</td>\n",
       "      <td>2021-08-18 23:55:00</td>\n",
       "      <td>NAPA</td>\n",
       "      <td>3.0</td>\n",
       "      <td>1815.0</td>\n",
       "      <td>1516.0</td>\n",
       "      <td>94574</td>\n",
       "      <td>-122.459110675812</td>\n",
       "      <td>38.4998179385502</td>\n",
       "      <td>...</td>\n",
       "      <td>0</td>\n",
       "      <td>0</td>\n",
       "      <td>0</td>\n",
       "      <td>0</td>\n",
       "      <td>0</td>\n",
       "      <td>0</td>\n",
       "      <td>0</td>\n",
       "      <td>0</td>\n",
       "      <td>0</td>\n",
       "      <td>0</td>\n",
       "    </tr>\n",
       "    <tr>\n",
       "      <th>340</th>\n",
       "      <td>OREGON TRAIL1103</td>\n",
       "      <td>2019-10-09 01:39:00</td>\n",
       "      <td>2019-10-11 11:32:00</td>\n",
       "      <td>REDDING, BELLA VISTA</td>\n",
       "      <td>2.0</td>\n",
       "      <td>1706.0</td>\n",
       "      <td>1599.0</td>\n",
       "      <td>96003</td>\n",
       "      <td>-122.322060242415</td>\n",
       "      <td>40.619045588007</td>\n",
       "      <td>...</td>\n",
       "      <td>0</td>\n",
       "      <td>0</td>\n",
       "      <td>0</td>\n",
       "      <td>0</td>\n",
       "      <td>0</td>\n",
       "      <td>0</td>\n",
       "      <td>0</td>\n",
       "      <td>0</td>\n",
       "      <td>0</td>\n",
       "      <td>0</td>\n",
       "    </tr>\n",
       "    <tr>\n",
       "      <th>1390</th>\n",
       "      <td>OREGON TRAIL</td>\n",
       "      <td>2020-10-22 03:23:00</td>\n",
       "      <td>2020-10-23 11:30:00</td>\n",
       "      <td>PALO CEDRO, REDDING</td>\n",
       "      <td>2.0</td>\n",
       "      <td>952.0</td>\n",
       "      <td>843.0</td>\n",
       "      <td>96003</td>\n",
       "      <td>-122.322060242415</td>\n",
       "      <td>40.619045588007</td>\n",
       "      <td>...</td>\n",
       "      <td>0</td>\n",
       "      <td>0</td>\n",
       "      <td>0</td>\n",
       "      <td>0</td>\n",
       "      <td>0</td>\n",
       "      <td>0</td>\n",
       "      <td>0</td>\n",
       "      <td>0</td>\n",
       "      <td>0</td>\n",
       "      <td>0</td>\n",
       "    </tr>\n",
       "  </tbody>\n",
       "</table>\n",
       "<p>5 rows × 284 columns</p>\n",
       "</div>"
      ],
      "text/plain": [
       "              circuit_name      deenergize_time     restoration_time  \\\n",
       "452              SWIFT2110  2019-10-10 00:05:00  2019-10-11 14:17:00   \n",
       "443   STATION E EUREKA1105  2019-10-09 01:20:00  2019-10-09 23:10:00   \n",
       "1804             SILVERADO  2021-08-17 18:22:00  2021-08-18 23:55:00   \n",
       "340       OREGON TRAIL1103  2019-10-09 01:39:00  2019-10-11 11:32:00   \n",
       "1390          OREGON TRAIL  2020-10-22 03:23:00  2020-10-23 11:30:00   \n",
       "\n",
       "           key_communities hftd_tier total_affected residential_affected  \\\n",
       "452    SAN JOSE, LIVERMORE       2.0         2232.0               2047.0   \n",
       "443                 EUREKA       0.0         1618.0               1264.0   \n",
       "1804                  NAPA       3.0         1815.0               1516.0   \n",
       "340   REDDING, BELLA VISTA       2.0         1706.0               1599.0   \n",
       "1390   PALO CEDRO, REDDING       2.0          952.0                843.0   \n",
       "\n",
       "     zip_code          longitude          latitude  ... zip_is_96035  \\\n",
       "452     95148  -121.796959988177  37.3225680192999  ...            0   \n",
       "443     95501  -124.180313467792  40.7934324220744  ...            0   \n",
       "1804    94574  -122.459110675812  38.4998179385502  ...            0   \n",
       "340     96003  -122.322060242415   40.619045588007  ...            0   \n",
       "1390    96003  -122.322060242415   40.619045588007  ...            0   \n",
       "\n",
       "     zip_is_96051 zip_is_96055 zip_is_96059 zip_is_96069 zip_is_96073  \\\n",
       "452             0            0            0            0            0   \n",
       "443             0            0            0            0            0   \n",
       "1804            0            0            0            0            0   \n",
       "340             0            0            0            0            0   \n",
       "1390            0            0            0            0            0   \n",
       "\n",
       "     zip_is_96076 zip_is_96080 zip_is_96096 zip_is_96137  \n",
       "452             0            0            0            0  \n",
       "443             0            0            0            0  \n",
       "1804            0            0            0            0  \n",
       "340             0            0            0            0  \n",
       "1390            0            0            0            0  \n",
       "\n",
       "[5 rows x 284 columns]"
      ]
     },
     "execution_count": 3,
     "metadata": {},
     "output_type": "execute_result"
    }
   ],
   "source": [
    "x_train.head()"
   ]
  },
  {
   "cell_type": "code",
   "execution_count": 4,
   "metadata": {},
   "outputs": [],
   "source": [
    "zip_cols = x_train.columns[\n",
    "    [re.search('zip_is', col) is not None for col in x_train.columns]\n",
    "]\n"
   ]
  },
  {
   "cell_type": "code",
   "execution_count": 5,
   "metadata": {},
   "outputs": [],
   "source": [
    "def get_correct_types_x(df, numeric_cols):\n",
    "    for col in ['deenergize_time', 'restoration_time']:\n",
    "        df[col] = pd.to_datetime(df[col], format='%Y-%m-%d %H:%M:%S')\n",
    "    for col in numeric_cols:\n",
    "        df[col] = df[col].astype(float)\n",
    "    return df\n",
    "\n",
    "\n",
    "numeric_cols = [\n",
    "    'hftd_tier', 'total_affected', 'residential_affected',\n",
    "    'longitude', 'latitude', 'total_pop', 'median_age', 'median_income',\n",
    "    'white_pct', 'tmin_d-5', 'tmax_d-5', 'wspd_d-5', 'tmin_d-4', 'tmax_d-4',\n",
    "    'wspd_d-4', 'tmin_d-3', 'tmax_d-3', 'wspd_d-3', 'tmin_d-2', 'tmax_d-2',\n",
    "    'wspd_d-2', 'tmin_d-1', 'tmax_d-1', 'wspd_d-1'\n",
    "]\n",
    "x_train = get_correct_types_x(x_train, numeric_cols)\n",
    "x_valid = get_correct_types_x(x_valid, numeric_cols)\n",
    "x_test = get_correct_types_x(x_test, numeric_cols)\n",
    "rel_x_train = x_train[numeric_cols]\n",
    "rel_x_valid = x_valid[numeric_cols]\n",
    "rel_x_test = x_test[numeric_cols]\n",
    "\n",
    "scaler = StandardScaler()\n",
    "scaler.fit(rel_x_train)\n",
    "scaled_x_train = scaler.transform(rel_x_train)\n",
    "scaled_x_valid = scaler.transform(rel_x_valid)\n",
    "scaled_x_test = scaler.transform(rel_x_test)\n"
   ]
  },
  {
   "cell_type": "code",
   "execution_count": 6,
   "metadata": {},
   "outputs": [],
   "source": [
    "class base_model(torch.nn.Module):\n",
    "\n",
    "    def __init__(self, n_hidden_layers, n_hidden_units, activation=torch.nn.ReLU()):\n",
    "        super(base_model, self).__init__()\n",
    "        if n_hidden_layers == 0:\n",
    "            self.linears =torch.nn.ModuleList([\n",
    "                torch.nn.Linear(scaled_x_train.shape[1], 1)\n",
    "            ])\n",
    "            self.activation = activation\n",
    "        else:\n",
    "            assert len(n_hidden_units) == n_hidden_layers\n",
    "            self.layers = []\n",
    "            \n",
    "            for layer, n_units in enumerate(n_hidden_units):\n",
    "                if layer == 0:\n",
    "                    curr_layer = torch.nn.Linear(scaled_x_train.shape[1], n_units)\n",
    "                else:\n",
    "                    curr_layer = torch.nn.Linear(n_hidden_units[layer - 1], n_units)\n",
    "                self.layers.append(curr_layer)\n",
    "            self.layers.append(torch.nn.Linear(n_hidden_units[-1], 1))\n",
    "            self.linears = torch.nn.ModuleList(self.layers)\n",
    "            self.activation = activation\n",
    "\n",
    "    def forward(self, x):\n",
    "        for layer in self.linears:\n",
    "            x = self.activation(layer(x))\n",
    "        return x\n"
   ]
  },
  {
   "cell_type": "code",
   "execution_count": 8,
   "metadata": {},
   "outputs": [],
   "source": [
    "# x = torch.from_numpy(scaled_x_train).float()\n",
    "# y = torch.from_numpy(y_train.values.reshape(-1, 1)).float()\n",
    "\n",
    "# inputs = Variable(x)\n",
    "# targets = Variable(y)\n",
    "\n",
    "# # base = base_model(1, [1], activation=torch.nn.Tanh())\n",
    "# base = base_model(2, [6, 3])\n",
    "# print(base)\n",
    "# optimizer = torch.optim.Adagrad(base.parameters(), lr=0.2)\n",
    "# loss_func = torch.nn.MSELoss()\n",
    "\n",
    "# for i in range(100000):\n",
    "#    prediction = base(inputs)\n",
    "#    loss = loss_func(prediction, targets)\n",
    "#    if i % 100 == 0:\n",
    "#       print(loss)\n",
    "#    optimizer.zero_grad()\n",
    "#    loss.backward()\n",
    "#    optimizer.step()\n"
   ]
  },
  {
   "cell_type": "markdown",
   "metadata": {},
   "source": [
    "- Used TanH instead of ReLU\n",
    "- Adagrad instead of SGD -> SGD just returned 0 for all predictions\n",
    "- More layers -> more overfitting, run simpler networks for more epochs gets better test error"
   ]
  },
  {
   "cell_type": "code",
   "execution_count": 9,
   "metadata": {},
   "outputs": [],
   "source": [
    "# pd.Series(prediction.detach().numpy().reshape(-1))"
   ]
  },
  {
   "cell_type": "code",
   "execution_count": 10,
   "metadata": {},
   "outputs": [],
   "source": [
    "# np.sqrt(loss.detach().numpy())"
   ]
  },
  {
   "cell_type": "code",
   "execution_count": 11,
   "metadata": {},
   "outputs": [],
   "source": [
    "# test_x = Variable(torch.from_numpy(scaled_x_test).float())\n",
    "# test_y = Variable(torch.from_numpy(y_test.values.reshape(-1, 1)).float())\n",
    "# test_predictions = base(test_x)\n",
    "# valid_x = Variable(torch.from_numpy(scaled_x_valid).float())\n",
    "# valid_y = Variable(torch.from_numpy(y_valid.values.reshape(-1, 1)).float())\n",
    "# valid_predictions = base(valid_x)"
   ]
  },
  {
   "cell_type": "code",
   "execution_count": 12,
   "metadata": {},
   "outputs": [],
   "source": [
    "# loss = loss_func(valid_predictions, valid_y)\n",
    "# print(np.sqrt(loss.detach().numpy()))\n"
   ]
  },
  {
   "cell_type": "code",
   "execution_count": 17,
   "metadata": {},
   "outputs": [],
   "source": [
    "# 1. Define an objective function to be maximized.\n",
    "def objective(trial):\n",
    "\n",
    "    # 2. Suggest values of the hyperparameters using a trial object.\n",
    "    n_layers = trial.suggest_int('n_layers', 0, 5)\n",
    "    n_hidden_units = [0] * n_layers\n",
    "    print(n_layers)\n",
    "    for i in range(n_layers):\n",
    "        n_hidden_units[i] = trial.suggest_int(f\"n_h_{i}\", 1, 100)\n",
    "    lr = trial.suggest_float(\"lr\", 1e-5, 1e-1, log=True)\n",
    "    n_epochs = trial.suggest_int(\"n_epochs\", 100, 100000)\n",
    "    print(f\"\"\"Params:\n",
    "          n_layers: {n_layers}\n",
    "          n_hidden_units: {n_hidden_units}\n",
    "          lr: {lr}\n",
    "          n_epochs: {n_epochs}\"\"\")\n",
    "        \n",
    "    x = torch.from_numpy(scaled_x_train).float()\n",
    "    y = torch.from_numpy(y_train.values.reshape(-1, 1)).float()\n",
    "\n",
    "    inputs = Variable(x)\n",
    "    targets = Variable(y)\n",
    "\n",
    "    # base = base_model(1, [1], activation=torch.nn.Tanh())\n",
    "    base = base_model(n_layers, n_hidden_units)\n",
    "    print(base)\n",
    "    optimizer = torch.optim.Adagrad(base.parameters(), lr=lr)\n",
    "    loss_func = torch.nn.MSELoss()\n",
    "\n",
    "    for i in range(n_epochs):\n",
    "        prediction = base(inputs)\n",
    "        loss = loss_func(prediction, targets)\n",
    "        if i % 1000 == 0:\n",
    "            print(loss)\n",
    "        optimizer.zero_grad()\n",
    "        loss.backward()\n",
    "        optimizer.step()\n",
    "        \n",
    "    valid_x = Variable(torch.from_numpy(scaled_x_valid).float())\n",
    "    valid_y = Variable(torch.from_numpy(y_valid.values.reshape(-1, 1)).float())\n",
    "    valid_predictions = base(valid_x)\n",
    "    loss = loss_func(valid_predictions, valid_y)\n",
    "    return np.sqrt(loss.detach().numpy())\n"
   ]
  },
  {
   "cell_type": "code",
   "execution_count": 33,
   "metadata": {},
   "outputs": [
    {
     "data": {
      "application/vnd.plotly.v1+json": {
       "config": {
        "plotlyServerURL": "https://plot.ly"
       },
       "data": [
        {
         "mode": "markers",
         "name": "Objective Value",
         "type": "scatter",
         "x": [
          0,
          1,
          2,
          3,
          4,
          5,
          6,
          7,
          8,
          9
         ],
         "y": [
          915.4677124023438,
          3057.548095703125,
          950.7656860351562,
          3057.548095703125,
          2844.079345703125,
          894.4140014648438,
          941.136962890625,
          3057.548095703125,
          2955.663818359375,
          3057.548095703125
         ]
        },
        {
         "name": "Best Value",
         "type": "scatter",
         "x": [
          0,
          1,
          2,
          3,
          4,
          5,
          6,
          7,
          8,
          9
         ],
         "y": [
          915.4677124023438,
          915.4677124023438,
          915.4677124023438,
          915.4677124023438,
          915.4677124023438,
          894.4140014648438,
          894.4140014648438,
          894.4140014648438,
          894.4140014648438,
          894.4140014648438
         ]
        }
       ],
       "layout": {
        "template": {
         "data": {
          "bar": [
           {
            "error_x": {
             "color": "#2a3f5f"
            },
            "error_y": {
             "color": "#2a3f5f"
            },
            "marker": {
             "line": {
              "color": "#E5ECF6",
              "width": 0.5
             },
             "pattern": {
              "fillmode": "overlay",
              "size": 10,
              "solidity": 0.2
             }
            },
            "type": "bar"
           }
          ],
          "barpolar": [
           {
            "marker": {
             "line": {
              "color": "#E5ECF6",
              "width": 0.5
             },
             "pattern": {
              "fillmode": "overlay",
              "size": 10,
              "solidity": 0.2
             }
            },
            "type": "barpolar"
           }
          ],
          "carpet": [
           {
            "aaxis": {
             "endlinecolor": "#2a3f5f",
             "gridcolor": "white",
             "linecolor": "white",
             "minorgridcolor": "white",
             "startlinecolor": "#2a3f5f"
            },
            "baxis": {
             "endlinecolor": "#2a3f5f",
             "gridcolor": "white",
             "linecolor": "white",
             "minorgridcolor": "white",
             "startlinecolor": "#2a3f5f"
            },
            "type": "carpet"
           }
          ],
          "choropleth": [
           {
            "colorbar": {
             "outlinewidth": 0,
             "ticks": ""
            },
            "type": "choropleth"
           }
          ],
          "contour": [
           {
            "colorbar": {
             "outlinewidth": 0,
             "ticks": ""
            },
            "colorscale": [
             [
              0,
              "#0d0887"
             ],
             [
              0.1111111111111111,
              "#46039f"
             ],
             [
              0.2222222222222222,
              "#7201a8"
             ],
             [
              0.3333333333333333,
              "#9c179e"
             ],
             [
              0.4444444444444444,
              "#bd3786"
             ],
             [
              0.5555555555555556,
              "#d8576b"
             ],
             [
              0.6666666666666666,
              "#ed7953"
             ],
             [
              0.7777777777777778,
              "#fb9f3a"
             ],
             [
              0.8888888888888888,
              "#fdca26"
             ],
             [
              1,
              "#f0f921"
             ]
            ],
            "type": "contour"
           }
          ],
          "contourcarpet": [
           {
            "colorbar": {
             "outlinewidth": 0,
             "ticks": ""
            },
            "type": "contourcarpet"
           }
          ],
          "heatmap": [
           {
            "colorbar": {
             "outlinewidth": 0,
             "ticks": ""
            },
            "colorscale": [
             [
              0,
              "#0d0887"
             ],
             [
              0.1111111111111111,
              "#46039f"
             ],
             [
              0.2222222222222222,
              "#7201a8"
             ],
             [
              0.3333333333333333,
              "#9c179e"
             ],
             [
              0.4444444444444444,
              "#bd3786"
             ],
             [
              0.5555555555555556,
              "#d8576b"
             ],
             [
              0.6666666666666666,
              "#ed7953"
             ],
             [
              0.7777777777777778,
              "#fb9f3a"
             ],
             [
              0.8888888888888888,
              "#fdca26"
             ],
             [
              1,
              "#f0f921"
             ]
            ],
            "type": "heatmap"
           }
          ],
          "heatmapgl": [
           {
            "colorbar": {
             "outlinewidth": 0,
             "ticks": ""
            },
            "colorscale": [
             [
              0,
              "#0d0887"
             ],
             [
              0.1111111111111111,
              "#46039f"
             ],
             [
              0.2222222222222222,
              "#7201a8"
             ],
             [
              0.3333333333333333,
              "#9c179e"
             ],
             [
              0.4444444444444444,
              "#bd3786"
             ],
             [
              0.5555555555555556,
              "#d8576b"
             ],
             [
              0.6666666666666666,
              "#ed7953"
             ],
             [
              0.7777777777777778,
              "#fb9f3a"
             ],
             [
              0.8888888888888888,
              "#fdca26"
             ],
             [
              1,
              "#f0f921"
             ]
            ],
            "type": "heatmapgl"
           }
          ],
          "histogram": [
           {
            "marker": {
             "pattern": {
              "fillmode": "overlay",
              "size": 10,
              "solidity": 0.2
             }
            },
            "type": "histogram"
           }
          ],
          "histogram2d": [
           {
            "colorbar": {
             "outlinewidth": 0,
             "ticks": ""
            },
            "colorscale": [
             [
              0,
              "#0d0887"
             ],
             [
              0.1111111111111111,
              "#46039f"
             ],
             [
              0.2222222222222222,
              "#7201a8"
             ],
             [
              0.3333333333333333,
              "#9c179e"
             ],
             [
              0.4444444444444444,
              "#bd3786"
             ],
             [
              0.5555555555555556,
              "#d8576b"
             ],
             [
              0.6666666666666666,
              "#ed7953"
             ],
             [
              0.7777777777777778,
              "#fb9f3a"
             ],
             [
              0.8888888888888888,
              "#fdca26"
             ],
             [
              1,
              "#f0f921"
             ]
            ],
            "type": "histogram2d"
           }
          ],
          "histogram2dcontour": [
           {
            "colorbar": {
             "outlinewidth": 0,
             "ticks": ""
            },
            "colorscale": [
             [
              0,
              "#0d0887"
             ],
             [
              0.1111111111111111,
              "#46039f"
             ],
             [
              0.2222222222222222,
              "#7201a8"
             ],
             [
              0.3333333333333333,
              "#9c179e"
             ],
             [
              0.4444444444444444,
              "#bd3786"
             ],
             [
              0.5555555555555556,
              "#d8576b"
             ],
             [
              0.6666666666666666,
              "#ed7953"
             ],
             [
              0.7777777777777778,
              "#fb9f3a"
             ],
             [
              0.8888888888888888,
              "#fdca26"
             ],
             [
              1,
              "#f0f921"
             ]
            ],
            "type": "histogram2dcontour"
           }
          ],
          "mesh3d": [
           {
            "colorbar": {
             "outlinewidth": 0,
             "ticks": ""
            },
            "type": "mesh3d"
           }
          ],
          "parcoords": [
           {
            "line": {
             "colorbar": {
              "outlinewidth": 0,
              "ticks": ""
             }
            },
            "type": "parcoords"
           }
          ],
          "pie": [
           {
            "automargin": true,
            "type": "pie"
           }
          ],
          "scatter": [
           {
            "fillpattern": {
             "fillmode": "overlay",
             "size": 10,
             "solidity": 0.2
            },
            "type": "scatter"
           }
          ],
          "scatter3d": [
           {
            "line": {
             "colorbar": {
              "outlinewidth": 0,
              "ticks": ""
             }
            },
            "marker": {
             "colorbar": {
              "outlinewidth": 0,
              "ticks": ""
             }
            },
            "type": "scatter3d"
           }
          ],
          "scattercarpet": [
           {
            "marker": {
             "colorbar": {
              "outlinewidth": 0,
              "ticks": ""
             }
            },
            "type": "scattercarpet"
           }
          ],
          "scattergeo": [
           {
            "marker": {
             "colorbar": {
              "outlinewidth": 0,
              "ticks": ""
             }
            },
            "type": "scattergeo"
           }
          ],
          "scattergl": [
           {
            "marker": {
             "colorbar": {
              "outlinewidth": 0,
              "ticks": ""
             }
            },
            "type": "scattergl"
           }
          ],
          "scattermapbox": [
           {
            "marker": {
             "colorbar": {
              "outlinewidth": 0,
              "ticks": ""
             }
            },
            "type": "scattermapbox"
           }
          ],
          "scatterpolar": [
           {
            "marker": {
             "colorbar": {
              "outlinewidth": 0,
              "ticks": ""
             }
            },
            "type": "scatterpolar"
           }
          ],
          "scatterpolargl": [
           {
            "marker": {
             "colorbar": {
              "outlinewidth": 0,
              "ticks": ""
             }
            },
            "type": "scatterpolargl"
           }
          ],
          "scatterternary": [
           {
            "marker": {
             "colorbar": {
              "outlinewidth": 0,
              "ticks": ""
             }
            },
            "type": "scatterternary"
           }
          ],
          "surface": [
           {
            "colorbar": {
             "outlinewidth": 0,
             "ticks": ""
            },
            "colorscale": [
             [
              0,
              "#0d0887"
             ],
             [
              0.1111111111111111,
              "#46039f"
             ],
             [
              0.2222222222222222,
              "#7201a8"
             ],
             [
              0.3333333333333333,
              "#9c179e"
             ],
             [
              0.4444444444444444,
              "#bd3786"
             ],
             [
              0.5555555555555556,
              "#d8576b"
             ],
             [
              0.6666666666666666,
              "#ed7953"
             ],
             [
              0.7777777777777778,
              "#fb9f3a"
             ],
             [
              0.8888888888888888,
              "#fdca26"
             ],
             [
              1,
              "#f0f921"
             ]
            ],
            "type": "surface"
           }
          ],
          "table": [
           {
            "cells": {
             "fill": {
              "color": "#EBF0F8"
             },
             "line": {
              "color": "white"
             }
            },
            "header": {
             "fill": {
              "color": "#C8D4E3"
             },
             "line": {
              "color": "white"
             }
            },
            "type": "table"
           }
          ]
         },
         "layout": {
          "annotationdefaults": {
           "arrowcolor": "#2a3f5f",
           "arrowhead": 0,
           "arrowwidth": 1
          },
          "autotypenumbers": "strict",
          "coloraxis": {
           "colorbar": {
            "outlinewidth": 0,
            "ticks": ""
           }
          },
          "colorscale": {
           "diverging": [
            [
             0,
             "#8e0152"
            ],
            [
             0.1,
             "#c51b7d"
            ],
            [
             0.2,
             "#de77ae"
            ],
            [
             0.3,
             "#f1b6da"
            ],
            [
             0.4,
             "#fde0ef"
            ],
            [
             0.5,
             "#f7f7f7"
            ],
            [
             0.6,
             "#e6f5d0"
            ],
            [
             0.7,
             "#b8e186"
            ],
            [
             0.8,
             "#7fbc41"
            ],
            [
             0.9,
             "#4d9221"
            ],
            [
             1,
             "#276419"
            ]
           ],
           "sequential": [
            [
             0,
             "#0d0887"
            ],
            [
             0.1111111111111111,
             "#46039f"
            ],
            [
             0.2222222222222222,
             "#7201a8"
            ],
            [
             0.3333333333333333,
             "#9c179e"
            ],
            [
             0.4444444444444444,
             "#bd3786"
            ],
            [
             0.5555555555555556,
             "#d8576b"
            ],
            [
             0.6666666666666666,
             "#ed7953"
            ],
            [
             0.7777777777777778,
             "#fb9f3a"
            ],
            [
             0.8888888888888888,
             "#fdca26"
            ],
            [
             1,
             "#f0f921"
            ]
           ],
           "sequentialminus": [
            [
             0,
             "#0d0887"
            ],
            [
             0.1111111111111111,
             "#46039f"
            ],
            [
             0.2222222222222222,
             "#7201a8"
            ],
            [
             0.3333333333333333,
             "#9c179e"
            ],
            [
             0.4444444444444444,
             "#bd3786"
            ],
            [
             0.5555555555555556,
             "#d8576b"
            ],
            [
             0.6666666666666666,
             "#ed7953"
            ],
            [
             0.7777777777777778,
             "#fb9f3a"
            ],
            [
             0.8888888888888888,
             "#fdca26"
            ],
            [
             1,
             "#f0f921"
            ]
           ]
          },
          "colorway": [
           "#636efa",
           "#EF553B",
           "#00cc96",
           "#ab63fa",
           "#FFA15A",
           "#19d3f3",
           "#FF6692",
           "#B6E880",
           "#FF97FF",
           "#FECB52"
          ],
          "font": {
           "color": "#2a3f5f"
          },
          "geo": {
           "bgcolor": "white",
           "lakecolor": "white",
           "landcolor": "#E5ECF6",
           "showlakes": true,
           "showland": true,
           "subunitcolor": "white"
          },
          "hoverlabel": {
           "align": "left"
          },
          "hovermode": "closest",
          "mapbox": {
           "style": "light"
          },
          "paper_bgcolor": "white",
          "plot_bgcolor": "#E5ECF6",
          "polar": {
           "angularaxis": {
            "gridcolor": "white",
            "linecolor": "white",
            "ticks": ""
           },
           "bgcolor": "#E5ECF6",
           "radialaxis": {
            "gridcolor": "white",
            "linecolor": "white",
            "ticks": ""
           }
          },
          "scene": {
           "xaxis": {
            "backgroundcolor": "#E5ECF6",
            "gridcolor": "white",
            "gridwidth": 2,
            "linecolor": "white",
            "showbackground": true,
            "ticks": "",
            "zerolinecolor": "white"
           },
           "yaxis": {
            "backgroundcolor": "#E5ECF6",
            "gridcolor": "white",
            "gridwidth": 2,
            "linecolor": "white",
            "showbackground": true,
            "ticks": "",
            "zerolinecolor": "white"
           },
           "zaxis": {
            "backgroundcolor": "#E5ECF6",
            "gridcolor": "white",
            "gridwidth": 2,
            "linecolor": "white",
            "showbackground": true,
            "ticks": "",
            "zerolinecolor": "white"
           }
          },
          "shapedefaults": {
           "line": {
            "color": "#2a3f5f"
           }
          },
          "ternary": {
           "aaxis": {
            "gridcolor": "white",
            "linecolor": "white",
            "ticks": ""
           },
           "baxis": {
            "gridcolor": "white",
            "linecolor": "white",
            "ticks": ""
           },
           "bgcolor": "#E5ECF6",
           "caxis": {
            "gridcolor": "white",
            "linecolor": "white",
            "ticks": ""
           }
          },
          "title": {
           "x": 0.05
          },
          "xaxis": {
           "automargin": true,
           "gridcolor": "white",
           "linecolor": "white",
           "ticks": "",
           "title": {
            "standoff": 15
           },
           "zerolinecolor": "white",
           "zerolinewidth": 2
          },
          "yaxis": {
           "automargin": true,
           "gridcolor": "white",
           "linecolor": "white",
           "ticks": "",
           "title": {
            "standoff": 15
           },
           "zerolinecolor": "white",
           "zerolinewidth": 2
          }
         }
        },
        "title": {
         "text": "Optimization History Plot"
        },
        "xaxis": {
         "title": {
          "text": "Trial"
         }
        },
        "yaxis": {
         "title": {
          "text": "Objective Value"
         }
        }
       }
      }
     },
     "metadata": {},
     "output_type": "display_data"
    }
   ],
   "source": [
    "fig.write_image(\"nn_hpo/run_1.png\")"
   ]
  },
  {
   "cell_type": "code",
   "execution_count": 15,
   "metadata": {},
   "outputs": [
    {
     "name": "stderr",
     "output_type": "stream",
     "text": [
      "\u001b[32m[I 2022-11-25 14:25:19,656]\u001b[0m A new study created in memory with name: no-name-40487ac1-e520-466e-8b1e-074a1145bd3f\u001b[0m\n"
     ]
    },
    {
     "name": "stdout",
     "output_type": "stream",
     "text": [
      "2\n",
      "Params:\n",
      "          n_layers: 2\n",
      "          n_hidden_units: [87, 55]\n",
      "          lr: 0.05787055677815427\n",
      "          n_epochs: 1347\n",
      "base_model(\n",
      "  (linears): ModuleList(\n",
      "    (0): Linear(in_features=24, out_features=87, bias=True)\n",
      "    (1): Linear(in_features=87, out_features=55, bias=True)\n",
      "    (2): Linear(in_features=55, out_features=1, bias=True)\n",
      "  )\n",
      "  (activation): ReLU()\n",
      ")\n",
      "tensor(9497073., grad_fn=<MseLossBackward0>)\n",
      "tensor(1044370.4375, grad_fn=<MseLossBackward0>)\n",
      "tensor(886137.3750, grad_fn=<MseLossBackward0>)\n",
      "tensor(819015.3125, grad_fn=<MseLossBackward0>)\n",
      "tensor(780284.3125, grad_fn=<MseLossBackward0>)\n",
      "tensor(752925.9375, grad_fn=<MseLossBackward0>)\n",
      "tensor(732037.3750, grad_fn=<MseLossBackward0>)\n",
      "tensor(715010.1250, grad_fn=<MseLossBackward0>)\n",
      "tensor(700812.2500, grad_fn=<MseLossBackward0>)\n",
      "tensor(689068.8125, grad_fn=<MseLossBackward0>)\n",
      "tensor(678620.5625, grad_fn=<MseLossBackward0>)\n"
     ]
    },
    {
     "name": "stderr",
     "output_type": "stream",
     "text": [
      "\u001b[32m[I 2022-11-25 14:25:20,552]\u001b[0m Trial 0 finished with value: 915.4677124023438 and parameters: {'n_layers': 2, 'n_h_0': 87, 'n_h_1': 55, 'lr': 0.05787055677815427, 'n_epochs': 1347}. Best is trial 0 with value: 915.4677124023438.\u001b[0m\n"
     ]
    },
    {
     "name": "stdout",
     "output_type": "stream",
     "text": [
      "tensor(669382.3125, grad_fn=<MseLossBackward0>)\n",
      "tensor(660984.4375, grad_fn=<MseLossBackward0>)\n",
      "tensor(652955.8750, grad_fn=<MseLossBackward0>)\n",
      "3\n",
      "Params:\n",
      "          n_layers: 3\n",
      "          n_hidden_units: [68, 71, 95]\n",
      "          lr: 0.45873270769849556\n",
      "          n_epochs: 4290\n",
      "base_model(\n",
      "  (linears): ModuleList(\n",
      "    (0): Linear(in_features=24, out_features=68, bias=True)\n",
      "    (1): Linear(in_features=68, out_features=71, bias=True)\n",
      "    (2): Linear(in_features=71, out_features=95, bias=True)\n",
      "    (3): Linear(in_features=95, out_features=1, bias=True)\n",
      "  )\n",
      "  (activation): ReLU()\n",
      ")\n",
      "tensor(9496928., grad_fn=<MseLossBackward0>)\n",
      "tensor(9497148., grad_fn=<MseLossBackward0>)\n",
      "tensor(9497148., grad_fn=<MseLossBackward0>)\n",
      "tensor(9497148., grad_fn=<MseLossBackward0>)\n",
      "tensor(9497148., grad_fn=<MseLossBackward0>)\n",
      "tensor(9497148., grad_fn=<MseLossBackward0>)\n",
      "tensor(9497148., grad_fn=<MseLossBackward0>)\n",
      "tensor(9497148., grad_fn=<MseLossBackward0>)\n",
      "tensor(9497148., grad_fn=<MseLossBackward0>)\n",
      "tensor(9497148., grad_fn=<MseLossBackward0>)\n",
      "tensor(9497148., grad_fn=<MseLossBackward0>)\n",
      "tensor(9497148., grad_fn=<MseLossBackward0>)\n",
      "tensor(9497148., grad_fn=<MseLossBackward0>)\n",
      "tensor(9497148., grad_fn=<MseLossBackward0>)\n",
      "tensor(9497148., grad_fn=<MseLossBackward0>)\n",
      "tensor(9497148., grad_fn=<MseLossBackward0>)\n",
      "tensor(9497148., grad_fn=<MseLossBackward0>)\n",
      "tensor(9497148., grad_fn=<MseLossBackward0>)\n",
      "tensor(9497148., grad_fn=<MseLossBackward0>)\n",
      "tensor(9497148., grad_fn=<MseLossBackward0>)\n",
      "tensor(9497148., grad_fn=<MseLossBackward0>)\n",
      "tensor(9497148., grad_fn=<MseLossBackward0>)\n",
      "tensor(9497148., grad_fn=<MseLossBackward0>)\n",
      "tensor(9497148., grad_fn=<MseLossBackward0>)\n",
      "tensor(9497148., grad_fn=<MseLossBackward0>)\n",
      "tensor(9497148., grad_fn=<MseLossBackward0>)\n",
      "tensor(9497148., grad_fn=<MseLossBackward0>)\n",
      "tensor(9497148., grad_fn=<MseLossBackward0>)\n",
      "tensor(9497148., grad_fn=<MseLossBackward0>)\n",
      "tensor(9497148., grad_fn=<MseLossBackward0>)\n",
      "tensor(9497148., grad_fn=<MseLossBackward0>)\n",
      "tensor(9497148., grad_fn=<MseLossBackward0>)\n",
      "tensor(9497148., grad_fn=<MseLossBackward0>)\n",
      "tensor(9497148., grad_fn=<MseLossBackward0>)\n",
      "tensor(9497148., grad_fn=<MseLossBackward0>)\n",
      "tensor(9497148., grad_fn=<MseLossBackward0>)\n",
      "tensor(9497148., grad_fn=<MseLossBackward0>)\n",
      "tensor(9497148., grad_fn=<MseLossBackward0>)\n",
      "tensor(9497148., grad_fn=<MseLossBackward0>)\n",
      "tensor(9497148., grad_fn=<MseLossBackward0>)\n",
      "tensor(9497148., grad_fn=<MseLossBackward0>)\n",
      "tensor(9497148., grad_fn=<MseLossBackward0>)\n"
     ]
    },
    {
     "name": "stderr",
     "output_type": "stream",
     "text": [
      "\u001b[32m[I 2022-11-25 14:25:24,408]\u001b[0m Trial 1 finished with value: 3057.548095703125 and parameters: {'n_layers': 3, 'n_h_0': 68, 'n_h_1': 71, 'n_h_2': 95, 'lr': 0.45873270769849556, 'n_epochs': 4290}. Best is trial 0 with value: 915.4677124023438.\u001b[0m\n"
     ]
    },
    {
     "name": "stdout",
     "output_type": "stream",
     "text": [
      "tensor(9497148., grad_fn=<MseLossBackward0>)\n",
      "1\n",
      "Params:\n",
      "          n_layers: 1\n",
      "          n_hidden_units: [16]\n",
      "          lr: 0.20662951081511668\n",
      "          n_epochs: 7041\n",
      "base_model(\n",
      "  (linears): ModuleList(\n",
      "    (0): Linear(in_features=24, out_features=16, bias=True)\n",
      "    (1): Linear(in_features=16, out_features=1, bias=True)\n",
      "  )\n",
      "  (activation): ReLU()\n",
      ")\n",
      "tensor(9496977., grad_fn=<MseLossBackward0>)\n",
      "tensor(3396010.2500, grad_fn=<MseLossBackward0>)\n",
      "tensor(2088741.8750, grad_fn=<MseLossBackward0>)\n",
      "tensor(1690245.5000, grad_fn=<MseLossBackward0>)\n",
      "tensor(1495504., grad_fn=<MseLossBackward0>)\n",
      "tensor(1368100.7500, grad_fn=<MseLossBackward0>)\n",
      "tensor(1273337.6250, grad_fn=<MseLossBackward0>)\n",
      "tensor(1201072., grad_fn=<MseLossBackward0>)\n",
      "tensor(1149981.3750, grad_fn=<MseLossBackward0>)\n",
      "tensor(1111975.7500, grad_fn=<MseLossBackward0>)\n",
      "tensor(1082755.8750, grad_fn=<MseLossBackward0>)\n",
      "tensor(1058824.7500, grad_fn=<MseLossBackward0>)\n",
      "tensor(1038465.6250, grad_fn=<MseLossBackward0>)\n",
      "tensor(1021172., grad_fn=<MseLossBackward0>)\n",
      "tensor(1006172.5625, grad_fn=<MseLossBackward0>)\n",
      "tensor(992785.3125, grad_fn=<MseLossBackward0>)\n",
      "tensor(980904.9375, grad_fn=<MseLossBackward0>)\n",
      "tensor(970471.2500, grad_fn=<MseLossBackward0>)\n",
      "tensor(961143.0625, grad_fn=<MseLossBackward0>)\n",
      "tensor(952273.7500, grad_fn=<MseLossBackward0>)\n",
      "tensor(944420.3750, grad_fn=<MseLossBackward0>)\n",
      "tensor(937356.8125, grad_fn=<MseLossBackward0>)\n",
      "tensor(930791.2500, grad_fn=<MseLossBackward0>)\n",
      "tensor(924554.6875, grad_fn=<MseLossBackward0>)\n",
      "tensor(918623.3125, grad_fn=<MseLossBackward0>)\n",
      "tensor(912834.0625, grad_fn=<MseLossBackward0>)\n",
      "tensor(907218.4375, grad_fn=<MseLossBackward0>)\n",
      "tensor(901675.9375, grad_fn=<MseLossBackward0>)\n",
      "tensor(896228.3750, grad_fn=<MseLossBackward0>)\n",
      "tensor(890994.3750, grad_fn=<MseLossBackward0>)\n",
      "tensor(885999.8125, grad_fn=<MseLossBackward0>)\n",
      "tensor(881170.2500, grad_fn=<MseLossBackward0>)\n",
      "tensor(876554.6250, grad_fn=<MseLossBackward0>)\n",
      "tensor(872130.6250, grad_fn=<MseLossBackward0>)\n",
      "tensor(867958.4375, grad_fn=<MseLossBackward0>)\n",
      "tensor(863835.5000, grad_fn=<MseLossBackward0>)\n",
      "tensor(859913.0625, grad_fn=<MseLossBackward0>)\n",
      "tensor(856178.9375, grad_fn=<MseLossBackward0>)\n",
      "tensor(852576., grad_fn=<MseLossBackward0>)\n",
      "tensor(849093.3125, grad_fn=<MseLossBackward0>)\n",
      "tensor(845739., grad_fn=<MseLossBackward0>)\n",
      "tensor(842539.1875, grad_fn=<MseLossBackward0>)\n",
      "tensor(839402.3125, grad_fn=<MseLossBackward0>)\n",
      "tensor(836284.9375, grad_fn=<MseLossBackward0>)\n",
      "tensor(833346.5000, grad_fn=<MseLossBackward0>)\n",
      "tensor(830465.3750, grad_fn=<MseLossBackward0>)\n",
      "tensor(827621.0625, grad_fn=<MseLossBackward0>)\n",
      "tensor(824747.2500, grad_fn=<MseLossBackward0>)\n",
      "tensor(821937.0625, grad_fn=<MseLossBackward0>)\n",
      "tensor(819168.6250, grad_fn=<MseLossBackward0>)\n",
      "tensor(816425.8125, grad_fn=<MseLossBackward0>)\n",
      "tensor(813748.6875, grad_fn=<MseLossBackward0>)\n",
      "tensor(811158.9375, grad_fn=<MseLossBackward0>)\n",
      "tensor(808550.6250, grad_fn=<MseLossBackward0>)\n",
      "tensor(805898.4375, grad_fn=<MseLossBackward0>)\n",
      "tensor(803296.1250, grad_fn=<MseLossBackward0>)\n",
      "tensor(800772.5625, grad_fn=<MseLossBackward0>)\n",
      "tensor(798264.2500, grad_fn=<MseLossBackward0>)\n",
      "tensor(795852.9375, grad_fn=<MseLossBackward0>)\n",
      "tensor(793547.1250, grad_fn=<MseLossBackward0>)\n",
      "tensor(791236.3750, grad_fn=<MseLossBackward0>)\n",
      "tensor(789018.6250, grad_fn=<MseLossBackward0>)\n",
      "tensor(786861.8750, grad_fn=<MseLossBackward0>)\n",
      "tensor(784806., grad_fn=<MseLossBackward0>)\n"
     ]
    },
    {
     "name": "stderr",
     "output_type": "stream",
     "text": [
      "\u001b[32m[I 2022-11-25 14:25:25,469]\u001b[0m Trial 2 finished with value: 950.7656860351562 and parameters: {'n_layers': 1, 'n_h_0': 16, 'lr': 0.20662951081511668, 'n_epochs': 7041}. Best is trial 0 with value: 915.4677124023438.\u001b[0m\n"
     ]
    },
    {
     "name": "stdout",
     "output_type": "stream",
     "text": [
      "tensor(782762.0625, grad_fn=<MseLossBackward0>)\n",
      "tensor(780670.7500, grad_fn=<MseLossBackward0>)\n",
      "tensor(778563.8750, grad_fn=<MseLossBackward0>)\n",
      "tensor(776573., grad_fn=<MseLossBackward0>)\n",
      "tensor(774627.7500, grad_fn=<MseLossBackward0>)\n",
      "tensor(772722.2500, grad_fn=<MseLossBackward0>)\n",
      "tensor(770825.3125, grad_fn=<MseLossBackward0>)\n",
      "3\n",
      "Params:\n",
      "          n_layers: 3\n",
      "          n_hidden_units: [46, 34, 32]\n",
      "          lr: 0.2838823225467899\n",
      "          n_epochs: 4725\n",
      "base_model(\n",
      "  (linears): ModuleList(\n",
      "    (0): Linear(in_features=24, out_features=46, bias=True)\n",
      "    (1): Linear(in_features=46, out_features=34, bias=True)\n",
      "    (2): Linear(in_features=34, out_features=32, bias=True)\n",
      "    (3): Linear(in_features=32, out_features=1, bias=True)\n",
      "  )\n",
      "  (activation): ReLU()\n",
      ")\n",
      "tensor(9497148., grad_fn=<MseLossBackward0>)\n",
      "tensor(9497148., grad_fn=<MseLossBackward0>)\n",
      "tensor(9497148., grad_fn=<MseLossBackward0>)\n",
      "tensor(9497148., grad_fn=<MseLossBackward0>)\n",
      "tensor(9497148., grad_fn=<MseLossBackward0>)\n",
      "tensor(9497148., grad_fn=<MseLossBackward0>)\n",
      "tensor(9497148., grad_fn=<MseLossBackward0>)\n",
      "tensor(9497148., grad_fn=<MseLossBackward0>)\n",
      "tensor(9497148., grad_fn=<MseLossBackward0>)\n",
      "tensor(9497148., grad_fn=<MseLossBackward0>)\n",
      "tensor(9497148., grad_fn=<MseLossBackward0>)\n",
      "tensor(9497148., grad_fn=<MseLossBackward0>)\n",
      "tensor(9497148., grad_fn=<MseLossBackward0>)\n",
      "tensor(9497148., grad_fn=<MseLossBackward0>)\n",
      "tensor(9497148., grad_fn=<MseLossBackward0>)\n",
      "tensor(9497148., grad_fn=<MseLossBackward0>)\n",
      "tensor(9497148., grad_fn=<MseLossBackward0>)\n",
      "tensor(9497148., grad_fn=<MseLossBackward0>)\n",
      "tensor(9497148., grad_fn=<MseLossBackward0>)\n",
      "tensor(9497148., grad_fn=<MseLossBackward0>)\n",
      "tensor(9497148., grad_fn=<MseLossBackward0>)\n",
      "tensor(9497148., grad_fn=<MseLossBackward0>)\n",
      "tensor(9497148., grad_fn=<MseLossBackward0>)\n",
      "tensor(9497148., grad_fn=<MseLossBackward0>)\n",
      "tensor(9497148., grad_fn=<MseLossBackward0>)\n",
      "tensor(9497148., grad_fn=<MseLossBackward0>)\n",
      "tensor(9497148., grad_fn=<MseLossBackward0>)\n",
      "tensor(9497148., grad_fn=<MseLossBackward0>)\n",
      "tensor(9497148., grad_fn=<MseLossBackward0>)\n",
      "tensor(9497148., grad_fn=<MseLossBackward0>)\n",
      "tensor(9497148., grad_fn=<MseLossBackward0>)\n",
      "tensor(9497148., grad_fn=<MseLossBackward0>)\n",
      "tensor(9497148., grad_fn=<MseLossBackward0>)\n",
      "tensor(9497148., grad_fn=<MseLossBackward0>)\n",
      "tensor(9497148., grad_fn=<MseLossBackward0>)\n",
      "tensor(9497148., grad_fn=<MseLossBackward0>)\n",
      "tensor(9497148., grad_fn=<MseLossBackward0>)\n",
      "tensor(9497148., grad_fn=<MseLossBackward0>)\n",
      "tensor(9497148., grad_fn=<MseLossBackward0>)\n",
      "tensor(9497148., grad_fn=<MseLossBackward0>)\n",
      "tensor(9497148., grad_fn=<MseLossBackward0>)\n",
      "tensor(9497148., grad_fn=<MseLossBackward0>)\n",
      "tensor(9497148., grad_fn=<MseLossBackward0>)\n",
      "tensor(9497148., grad_fn=<MseLossBackward0>)\n",
      "tensor(9497148., grad_fn=<MseLossBackward0>)\n",
      "tensor(9497148., grad_fn=<MseLossBackward0>)\n"
     ]
    },
    {
     "name": "stderr",
     "output_type": "stream",
     "text": [
      "\u001b[32m[I 2022-11-25 14:25:28,333]\u001b[0m Trial 3 finished with value: 3057.548095703125 and parameters: {'n_layers': 3, 'n_h_0': 46, 'n_h_1': 34, 'n_h_2': 32, 'lr': 0.2838823225467899, 'n_epochs': 4725}. Best is trial 0 with value: 915.4677124023438.\u001b[0m\n"
     ]
    },
    {
     "name": "stdout",
     "output_type": "stream",
     "text": [
      "tensor(9497148., grad_fn=<MseLossBackward0>)\n",
      "tensor(9497148., grad_fn=<MseLossBackward0>)\n",
      "0\n",
      "Params:\n",
      "          n_layers: 0\n",
      "          n_hidden_units: []\n",
      "          lr: 0.29126389004441006\n",
      "          n_epochs: 8441\n",
      "base_model(\n",
      "  (linears): ModuleList(\n",
      "    (0): Linear(in_features=24, out_features=1, bias=True)\n",
      "  )\n",
      "  (activation): ReLU()\n",
      ")\n",
      "tensor(9495504., grad_fn=<MseLossBackward0>)\n",
      "tensor(9357723., grad_fn=<MseLossBackward0>)\n",
      "tensor(9295922., grad_fn=<MseLossBackward0>)\n",
      "tensor(9247503., grad_fn=<MseLossBackward0>)\n",
      "tensor(9206941., grad_fn=<MseLossBackward0>)\n",
      "tensor(9171508., grad_fn=<MseLossBackward0>)\n",
      "tensor(9139728., grad_fn=<MseLossBackward0>)\n",
      "tensor(9110805., grad_fn=<MseLossBackward0>)\n",
      "tensor(9084098., grad_fn=<MseLossBackward0>)\n",
      "tensor(9059110., grad_fn=<MseLossBackward0>)\n",
      "tensor(9035633., grad_fn=<MseLossBackward0>)\n",
      "tensor(9013414., grad_fn=<MseLossBackward0>)\n",
      "tensor(8992280., grad_fn=<MseLossBackward0>)\n",
      "tensor(8972098., grad_fn=<MseLossBackward0>)\n",
      "tensor(8952758., grad_fn=<MseLossBackward0>)\n",
      "tensor(8934177., grad_fn=<MseLossBackward0>)\n",
      "tensor(8916285., grad_fn=<MseLossBackward0>)\n",
      "tensor(8899015., grad_fn=<MseLossBackward0>)\n",
      "tensor(8882303., grad_fn=<MseLossBackward0>)\n",
      "tensor(8866111., grad_fn=<MseLossBackward0>)\n",
      "tensor(8850392., grad_fn=<MseLossBackward0>)\n",
      "tensor(8835109., grad_fn=<MseLossBackward0>)\n",
      "tensor(8820209., grad_fn=<MseLossBackward0>)\n",
      "tensor(8805689., grad_fn=<MseLossBackward0>)\n",
      "tensor(8791520., grad_fn=<MseLossBackward0>)\n",
      "tensor(8777688., grad_fn=<MseLossBackward0>)\n",
      "tensor(8764173., grad_fn=<MseLossBackward0>)\n",
      "tensor(8750956., grad_fn=<MseLossBackward0>)\n",
      "tensor(8738020., grad_fn=<MseLossBackward0>)\n",
      "tensor(8725349., grad_fn=<MseLossBackward0>)\n",
      "tensor(8712930., grad_fn=<MseLossBackward0>)\n",
      "tensor(8700749., grad_fn=<MseLossBackward0>)\n",
      "tensor(8688792., grad_fn=<MseLossBackward0>)\n",
      "tensor(8677052., grad_fn=<MseLossBackward0>)\n",
      "tensor(8665518., grad_fn=<MseLossBackward0>)\n",
      "tensor(8654179., grad_fn=<MseLossBackward0>)\n",
      "tensor(8643029., grad_fn=<MseLossBackward0>)\n",
      "tensor(8632056., grad_fn=<MseLossBackward0>)\n",
      "tensor(8621257., grad_fn=<MseLossBackward0>)\n",
      "tensor(8610623., grad_fn=<MseLossBackward0>)\n",
      "tensor(8600149., grad_fn=<MseLossBackward0>)\n",
      "tensor(8589817., grad_fn=<MseLossBackward0>)\n",
      "tensor(8579628., grad_fn=<MseLossBackward0>)\n",
      "tensor(8569584., grad_fn=<MseLossBackward0>)\n",
      "tensor(8559672., grad_fn=<MseLossBackward0>)\n",
      "tensor(8549895., grad_fn=<MseLossBackward0>)\n",
      "tensor(8540247., grad_fn=<MseLossBackward0>)\n",
      "tensor(8530725., grad_fn=<MseLossBackward0>)\n",
      "tensor(8521323., grad_fn=<MseLossBackward0>)\n",
      "tensor(8512039., grad_fn=<MseLossBackward0>)\n",
      "tensor(8502869., grad_fn=<MseLossBackward0>)\n",
      "tensor(8493810., grad_fn=<MseLossBackward0>)\n",
      "tensor(8484857., grad_fn=<MseLossBackward0>)\n",
      "tensor(8476006., grad_fn=<MseLossBackward0>)\n",
      "tensor(8467252., grad_fn=<MseLossBackward0>)\n",
      "tensor(8458595., grad_fn=<MseLossBackward0>)\n",
      "tensor(8450035., grad_fn=<MseLossBackward0>)\n",
      "tensor(8441566., grad_fn=<MseLossBackward0>)\n",
      "tensor(8433187., grad_fn=<MseLossBackward0>)\n",
      "tensor(8424895., grad_fn=<MseLossBackward0>)\n",
      "tensor(8416688., grad_fn=<MseLossBackward0>)\n",
      "tensor(8408566., grad_fn=<MseLossBackward0>)\n",
      "tensor(8400524., grad_fn=<MseLossBackward0>)\n",
      "tensor(8392561., grad_fn=<MseLossBackward0>)\n",
      "tensor(8384673.5000, grad_fn=<MseLossBackward0>)\n",
      "tensor(8376855.5000, grad_fn=<MseLossBackward0>)\n",
      "tensor(8369111., grad_fn=<MseLossBackward0>)\n"
     ]
    },
    {
     "name": "stderr",
     "output_type": "stream",
     "text": [
      "\u001b[32m[I 2022-11-25 14:25:29,005]\u001b[0m Trial 4 finished with value: 2844.079345703125 and parameters: {'n_layers': 0, 'lr': 0.29126389004441006, 'n_epochs': 8441}. Best is trial 0 with value: 915.4677124023438.\u001b[0m\n"
     ]
    },
    {
     "name": "stdout",
     "output_type": "stream",
     "text": [
      "tensor(8361440., grad_fn=<MseLossBackward0>)\n",
      "tensor(8353839.5000, grad_fn=<MseLossBackward0>)\n",
      "tensor(8346307.5000, grad_fn=<MseLossBackward0>)\n",
      "tensor(8338843., grad_fn=<MseLossBackward0>)\n",
      "tensor(8331445., grad_fn=<MseLossBackward0>)\n",
      "tensor(8324110.5000, grad_fn=<MseLossBackward0>)\n",
      "tensor(8316840., grad_fn=<MseLossBackward0>)\n",
      "tensor(8309629.5000, grad_fn=<MseLossBackward0>)\n",
      "tensor(8302481., grad_fn=<MseLossBackward0>)\n",
      "tensor(8295391.5000, grad_fn=<MseLossBackward0>)\n",
      "tensor(8288359.5000, grad_fn=<MseLossBackward0>)\n",
      "tensor(8281385.5000, grad_fn=<MseLossBackward0>)\n",
      "tensor(8274467., grad_fn=<MseLossBackward0>)\n",
      "tensor(8267601.5000, grad_fn=<MseLossBackward0>)\n",
      "tensor(8260791.5000, grad_fn=<MseLossBackward0>)\n",
      "tensor(8254033.5000, grad_fn=<MseLossBackward0>)\n",
      "tensor(8247327., grad_fn=<MseLossBackward0>)\n",
      "tensor(8240671., grad_fn=<MseLossBackward0>)\n",
      "1\n",
      "Params:\n",
      "          n_layers: 1\n",
      "          n_hidden_units: [55]\n",
      "          lr: 0.4052954218938756\n",
      "          n_epochs: 9100\n",
      "base_model(\n",
      "  (linears): ModuleList(\n",
      "    (0): Linear(in_features=24, out_features=55, bias=True)\n",
      "    (1): Linear(in_features=55, out_features=1, bias=True)\n",
      "  )\n",
      "  (activation): ReLU()\n",
      ")\n",
      "tensor(9496334., grad_fn=<MseLossBackward0>)\n",
      "tensor(1006423.0625, grad_fn=<MseLossBackward0>)\n",
      "tensor(871703.1250, grad_fn=<MseLossBackward0>)\n",
      "tensor(812056.3750, grad_fn=<MseLossBackward0>)\n",
      "tensor(776953.0625, grad_fn=<MseLossBackward0>)\n",
      "tensor(751773.4375, grad_fn=<MseLossBackward0>)\n",
      "tensor(731720.6875, grad_fn=<MseLossBackward0>)\n",
      "tensor(714852.5625, grad_fn=<MseLossBackward0>)\n",
      "tensor(701435.1250, grad_fn=<MseLossBackward0>)\n",
      "tensor(690031.5000, grad_fn=<MseLossBackward0>)\n",
      "tensor(680567.4375, grad_fn=<MseLossBackward0>)\n",
      "tensor(672321.8125, grad_fn=<MseLossBackward0>)\n",
      "tensor(664584.6875, grad_fn=<MseLossBackward0>)\n",
      "tensor(657914.5625, grad_fn=<MseLossBackward0>)\n",
      "tensor(651634.3125, grad_fn=<MseLossBackward0>)\n",
      "tensor(645692.5000, grad_fn=<MseLossBackward0>)\n",
      "tensor(639775.0625, grad_fn=<MseLossBackward0>)\n",
      "tensor(633672.9375, grad_fn=<MseLossBackward0>)\n",
      "tensor(628424.7500, grad_fn=<MseLossBackward0>)\n",
      "tensor(623401.3125, grad_fn=<MseLossBackward0>)\n",
      "tensor(618784.5625, grad_fn=<MseLossBackward0>)\n",
      "tensor(614535.9375, grad_fn=<MseLossBackward0>)\n",
      "tensor(610678.5000, grad_fn=<MseLossBackward0>)\n",
      "tensor(607144.4375, grad_fn=<MseLossBackward0>)\n",
      "tensor(603327.8750, grad_fn=<MseLossBackward0>)\n",
      "tensor(599825.5625, grad_fn=<MseLossBackward0>)\n",
      "tensor(596660.8125, grad_fn=<MseLossBackward0>)\n",
      "tensor(593643.4375, grad_fn=<MseLossBackward0>)\n",
      "tensor(590475.4375, grad_fn=<MseLossBackward0>)\n",
      "tensor(587666.6875, grad_fn=<MseLossBackward0>)\n",
      "tensor(584994.1250, grad_fn=<MseLossBackward0>)\n",
      "tensor(582228.6875, grad_fn=<MseLossBackward0>)\n",
      "tensor(579430.6250, grad_fn=<MseLossBackward0>)\n",
      "tensor(576965.3750, grad_fn=<MseLossBackward0>)\n",
      "tensor(574598.0625, grad_fn=<MseLossBackward0>)\n",
      "tensor(572163.2500, grad_fn=<MseLossBackward0>)\n",
      "tensor(569661.1250, grad_fn=<MseLossBackward0>)\n",
      "tensor(567346.1250, grad_fn=<MseLossBackward0>)\n",
      "tensor(565277.3750, grad_fn=<MseLossBackward0>)\n",
      "tensor(563345.2500, grad_fn=<MseLossBackward0>)\n",
      "tensor(561437.2500, grad_fn=<MseLossBackward0>)\n",
      "tensor(559450.9375, grad_fn=<MseLossBackward0>)\n",
      "tensor(557746.0625, grad_fn=<MseLossBackward0>)\n",
      "tensor(556161.4375, grad_fn=<MseLossBackward0>)\n",
      "tensor(554596.9375, grad_fn=<MseLossBackward0>)\n",
      "tensor(553004.6250, grad_fn=<MseLossBackward0>)\n",
      "tensor(551555.1875, grad_fn=<MseLossBackward0>)\n",
      "tensor(550183.4375, grad_fn=<MseLossBackward0>)\n",
      "tensor(548950.1875, grad_fn=<MseLossBackward0>)\n",
      "tensor(547712.1250, grad_fn=<MseLossBackward0>)\n",
      "tensor(546406., grad_fn=<MseLossBackward0>)\n",
      "tensor(545103.8125, grad_fn=<MseLossBackward0>)\n",
      "tensor(543813.7500, grad_fn=<MseLossBackward0>)\n",
      "tensor(542541.3750, grad_fn=<MseLossBackward0>)\n",
      "tensor(541465.2500, grad_fn=<MseLossBackward0>)\n",
      "tensor(540466.0625, grad_fn=<MseLossBackward0>)\n",
      "tensor(539515.1250, grad_fn=<MseLossBackward0>)\n",
      "tensor(538622., grad_fn=<MseLossBackward0>)\n",
      "tensor(537665.2500, grad_fn=<MseLossBackward0>)\n",
      "tensor(536788.8125, grad_fn=<MseLossBackward0>)\n",
      "tensor(535916.1250, grad_fn=<MseLossBackward0>)\n",
      "tensor(535073.7500, grad_fn=<MseLossBackward0>)\n",
      "tensor(534272.0625, grad_fn=<MseLossBackward0>)\n",
      "tensor(533524.1875, grad_fn=<MseLossBackward0>)\n",
      "tensor(532808.2500, grad_fn=<MseLossBackward0>)\n",
      "tensor(532092.5625, grad_fn=<MseLossBackward0>)\n",
      "tensor(531435.2500, grad_fn=<MseLossBackward0>)\n",
      "tensor(530782.1250, grad_fn=<MseLossBackward0>)\n",
      "tensor(530162.5000, grad_fn=<MseLossBackward0>)\n",
      "tensor(529490.4375, grad_fn=<MseLossBackward0>)\n",
      "tensor(528808.7500, grad_fn=<MseLossBackward0>)\n",
      "tensor(527925.9375, grad_fn=<MseLossBackward0>)\n",
      "tensor(527085.8750, grad_fn=<MseLossBackward0>)\n",
      "tensor(526303.5000, grad_fn=<MseLossBackward0>)\n",
      "tensor(525528., grad_fn=<MseLossBackward0>)\n",
      "tensor(524776.9375, grad_fn=<MseLossBackward0>)\n",
      "tensor(524056.6562, grad_fn=<MseLossBackward0>)\n",
      "tensor(523356.3750, grad_fn=<MseLossBackward0>)\n",
      "tensor(522629.7188, grad_fn=<MseLossBackward0>)\n",
      "tensor(521865.8438, grad_fn=<MseLossBackward0>)\n",
      "tensor(521209.7188, grad_fn=<MseLossBackward0>)\n",
      "tensor(520647.8438, grad_fn=<MseLossBackward0>)\n",
      "tensor(520129.1250, grad_fn=<MseLossBackward0>)\n",
      "tensor(519576.5000, grad_fn=<MseLossBackward0>)\n",
      "tensor(518909.5000, grad_fn=<MseLossBackward0>)\n",
      "tensor(518202.2500, grad_fn=<MseLossBackward0>)\n",
      "tensor(517376.5625, grad_fn=<MseLossBackward0>)\n",
      "tensor(516489.2188, grad_fn=<MseLossBackward0>)\n",
      "tensor(515370.9062, grad_fn=<MseLossBackward0>)\n",
      "tensor(514416.8750, grad_fn=<MseLossBackward0>)\n"
     ]
    },
    {
     "name": "stderr",
     "output_type": "stream",
     "text": [
      "\u001b[32m[I 2022-11-25 14:25:31,569]\u001b[0m Trial 5 finished with value: 894.4140014648438 and parameters: {'n_layers': 1, 'n_h_0': 55, 'lr': 0.4052954218938756, 'n_epochs': 9100}. Best is trial 5 with value: 894.4140014648438.\u001b[0m\n"
     ]
    },
    {
     "name": "stdout",
     "output_type": "stream",
     "text": [
      "tensor(513250.2500, grad_fn=<MseLossBackward0>)\n",
      "3\n",
      "Params:\n",
      "          n_layers: 3\n",
      "          n_hidden_units: [50, 11, 32]\n",
      "          lr: 0.33889983545149355\n",
      "          n_epochs: 3325\n",
      "base_model(\n",
      "  (linears): ModuleList(\n",
      "    (0): Linear(in_features=24, out_features=50, bias=True)\n",
      "    (1): Linear(in_features=50, out_features=11, bias=True)\n",
      "    (2): Linear(in_features=11, out_features=32, bias=True)\n",
      "    (3): Linear(in_features=32, out_features=1, bias=True)\n",
      "  )\n",
      "  (activation): ReLU()\n",
      ")\n",
      "tensor(9496552., grad_fn=<MseLossBackward0>)\n",
      "tensor(755602.5000, grad_fn=<MseLossBackward0>)\n",
      "tensor(682822.1250, grad_fn=<MseLossBackward0>)\n",
      "tensor(646079.5625, grad_fn=<MseLossBackward0>)\n",
      "tensor(618317.8125, grad_fn=<MseLossBackward0>)\n",
      "tensor(584816.8750, grad_fn=<MseLossBackward0>)\n",
      "tensor(560306.6875, grad_fn=<MseLossBackward0>)\n",
      "tensor(541148.8125, grad_fn=<MseLossBackward0>)\n",
      "tensor(524715.4375, grad_fn=<MseLossBackward0>)\n",
      "tensor(507570.5938, grad_fn=<MseLossBackward0>)\n",
      "tensor(487956.4688, grad_fn=<MseLossBackward0>)\n",
      "tensor(474191.8438, grad_fn=<MseLossBackward0>)\n",
      "tensor(444073.8750, grad_fn=<MseLossBackward0>)\n",
      "tensor(442943.2812, grad_fn=<MseLossBackward0>)\n",
      "tensor(426295.3750, grad_fn=<MseLossBackward0>)\n",
      "tensor(406633.3750, grad_fn=<MseLossBackward0>)\n",
      "tensor(372757.9062, grad_fn=<MseLossBackward0>)\n",
      "tensor(370825.4375, grad_fn=<MseLossBackward0>)\n",
      "tensor(347803.6875, grad_fn=<MseLossBackward0>)\n",
      "tensor(336237.1875, grad_fn=<MseLossBackward0>)\n",
      "tensor(329603.5000, grad_fn=<MseLossBackward0>)\n",
      "tensor(324968.9062, grad_fn=<MseLossBackward0>)\n",
      "tensor(320611.9688, grad_fn=<MseLossBackward0>)\n",
      "tensor(309421.8125, grad_fn=<MseLossBackward0>)\n",
      "tensor(297042.5625, grad_fn=<MseLossBackward0>)\n",
      "tensor(285835.6562, grad_fn=<MseLossBackward0>)\n",
      "tensor(299393.1250, grad_fn=<MseLossBackward0>)\n",
      "tensor(283085.8125, grad_fn=<MseLossBackward0>)\n",
      "tensor(279521.7188, grad_fn=<MseLossBackward0>)\n",
      "tensor(256558.2188, grad_fn=<MseLossBackward0>)\n",
      "tensor(256122.7188, grad_fn=<MseLossBackward0>)\n",
      "tensor(263546.5625, grad_fn=<MseLossBackward0>)\n"
     ]
    },
    {
     "name": "stderr",
     "output_type": "stream",
     "text": [
      "\u001b[32m[I 2022-11-25 14:25:33,256]\u001b[0m Trial 6 finished with value: 941.136962890625 and parameters: {'n_layers': 3, 'n_h_0': 50, 'n_h_1': 11, 'n_h_2': 32, 'lr': 0.33889983545149355, 'n_epochs': 3325}. Best is trial 5 with value: 894.4140014648438.\u001b[0m\n"
     ]
    },
    {
     "name": "stdout",
     "output_type": "stream",
     "text": [
      "tensor(251464.9688, grad_fn=<MseLossBackward0>)\n",
      "tensor(238147.5938, grad_fn=<MseLossBackward0>)\n",
      "3\n",
      "Params:\n",
      "          n_layers: 3\n",
      "          n_hidden_units: [62, 46, 74]\n",
      "          lr: 0.20557297914630485\n",
      "          n_epochs: 6440\n",
      "base_model(\n",
      "  (linears): ModuleList(\n",
      "    (0): Linear(in_features=24, out_features=62, bias=True)\n",
      "    (1): Linear(in_features=62, out_features=46, bias=True)\n",
      "    (2): Linear(in_features=46, out_features=74, bias=True)\n",
      "    (3): Linear(in_features=74, out_features=1, bias=True)\n",
      "  )\n",
      "  (activation): ReLU()\n",
      ")\n",
      "tensor(9497148., grad_fn=<MseLossBackward0>)\n",
      "tensor(9497148., grad_fn=<MseLossBackward0>)\n",
      "tensor(9497148., grad_fn=<MseLossBackward0>)\n",
      "tensor(9497148., grad_fn=<MseLossBackward0>)\n",
      "tensor(9497148., grad_fn=<MseLossBackward0>)\n",
      "tensor(9497148., grad_fn=<MseLossBackward0>)\n",
      "tensor(9497148., grad_fn=<MseLossBackward0>)\n",
      "tensor(9497148., grad_fn=<MseLossBackward0>)\n",
      "tensor(9497148., grad_fn=<MseLossBackward0>)\n",
      "tensor(9497148., grad_fn=<MseLossBackward0>)\n",
      "tensor(9497148., grad_fn=<MseLossBackward0>)\n",
      "tensor(9497148., grad_fn=<MseLossBackward0>)\n",
      "tensor(9497148., grad_fn=<MseLossBackward0>)\n",
      "tensor(9497148., grad_fn=<MseLossBackward0>)\n",
      "tensor(9497148., grad_fn=<MseLossBackward0>)\n",
      "tensor(9497148., grad_fn=<MseLossBackward0>)\n",
      "tensor(9497148., grad_fn=<MseLossBackward0>)\n",
      "tensor(9497148., grad_fn=<MseLossBackward0>)\n",
      "tensor(9497148., grad_fn=<MseLossBackward0>)\n",
      "tensor(9497148., grad_fn=<MseLossBackward0>)\n",
      "tensor(9497148., grad_fn=<MseLossBackward0>)\n",
      "tensor(9497148., grad_fn=<MseLossBackward0>)\n",
      "tensor(9497148., grad_fn=<MseLossBackward0>)\n",
      "tensor(9497148., grad_fn=<MseLossBackward0>)\n",
      "tensor(9497148., grad_fn=<MseLossBackward0>)\n",
      "tensor(9497148., grad_fn=<MseLossBackward0>)\n",
      "tensor(9497148., grad_fn=<MseLossBackward0>)\n",
      "tensor(9497148., grad_fn=<MseLossBackward0>)\n",
      "tensor(9497148., grad_fn=<MseLossBackward0>)\n",
      "tensor(9497148., grad_fn=<MseLossBackward0>)\n",
      "tensor(9497148., grad_fn=<MseLossBackward0>)\n",
      "tensor(9497148., grad_fn=<MseLossBackward0>)\n",
      "tensor(9497148., grad_fn=<MseLossBackward0>)\n",
      "tensor(9497148., grad_fn=<MseLossBackward0>)\n",
      "tensor(9497148., grad_fn=<MseLossBackward0>)\n",
      "tensor(9497148., grad_fn=<MseLossBackward0>)\n",
      "tensor(9497148., grad_fn=<MseLossBackward0>)\n",
      "tensor(9497148., grad_fn=<MseLossBackward0>)\n",
      "tensor(9497148., grad_fn=<MseLossBackward0>)\n",
      "tensor(9497148., grad_fn=<MseLossBackward0>)\n",
      "tensor(9497148., grad_fn=<MseLossBackward0>)\n",
      "tensor(9497148., grad_fn=<MseLossBackward0>)\n",
      "tensor(9497148., grad_fn=<MseLossBackward0>)\n",
      "tensor(9497148., grad_fn=<MseLossBackward0>)\n",
      "tensor(9497148., grad_fn=<MseLossBackward0>)\n",
      "tensor(9497148., grad_fn=<MseLossBackward0>)\n",
      "tensor(9497148., grad_fn=<MseLossBackward0>)\n",
      "tensor(9497148., grad_fn=<MseLossBackward0>)\n",
      "tensor(9497148., grad_fn=<MseLossBackward0>)\n",
      "tensor(9497148., grad_fn=<MseLossBackward0>)\n",
      "tensor(9497148., grad_fn=<MseLossBackward0>)\n",
      "tensor(9497148., grad_fn=<MseLossBackward0>)\n",
      "tensor(9497148., grad_fn=<MseLossBackward0>)\n",
      "tensor(9497148., grad_fn=<MseLossBackward0>)\n",
      "tensor(9497148., grad_fn=<MseLossBackward0>)\n",
      "tensor(9497148., grad_fn=<MseLossBackward0>)\n",
      "tensor(9497148., grad_fn=<MseLossBackward0>)\n",
      "tensor(9497148., grad_fn=<MseLossBackward0>)\n",
      "tensor(9497148., grad_fn=<MseLossBackward0>)\n",
      "tensor(9497148., grad_fn=<MseLossBackward0>)\n",
      "tensor(9497148., grad_fn=<MseLossBackward0>)\n",
      "tensor(9497148., grad_fn=<MseLossBackward0>)\n"
     ]
    },
    {
     "name": "stderr",
     "output_type": "stream",
     "text": [
      "\u001b[32m[I 2022-11-25 14:25:38,084]\u001b[0m Trial 7 finished with value: 3057.548095703125 and parameters: {'n_layers': 3, 'n_h_0': 62, 'n_h_1': 46, 'n_h_2': 74, 'lr': 0.20557297914630485, 'n_epochs': 6440}. Best is trial 5 with value: 894.4140014648438.\u001b[0m\n"
     ]
    },
    {
     "name": "stdout",
     "output_type": "stream",
     "text": [
      "tensor(9497148., grad_fn=<MseLossBackward0>)\n",
      "tensor(9497148., grad_fn=<MseLossBackward0>)\n",
      "tensor(9497148., grad_fn=<MseLossBackward0>)\n",
      "0\n",
      "Params:\n",
      "          n_layers: 0\n",
      "          n_hidden_units: []\n",
      "          lr: 0.3562370967403257\n",
      "          n_epochs: 1265\n",
      "base_model(\n",
      "  (linears): ModuleList(\n",
      "    (0): Linear(in_features=24, out_features=1, bias=True)\n",
      "  )\n",
      "  (activation): ReLU()\n",
      ")\n",
      "tensor(9496436., grad_fn=<MseLossBackward0>)\n",
      "tensor(9331908., grad_fn=<MseLossBackward0>)\n",
      "tensor(9260991., grad_fn=<MseLossBackward0>)\n",
      "tensor(9207479., grad_fn=<MseLossBackward0>)\n"
     ]
    },
    {
     "name": "stderr",
     "output_type": "stream",
     "text": [
      "\u001b[32m[I 2022-11-25 14:25:38,186]\u001b[0m Trial 8 finished with value: 2955.663818359375 and parameters: {'n_layers': 0, 'lr': 0.3562370967403257, 'n_epochs': 1265}. Best is trial 5 with value: 894.4140014648438.\u001b[0m\n"
     ]
    },
    {
     "name": "stdout",
     "output_type": "stream",
     "text": [
      "tensor(9162967., grad_fn=<MseLossBackward0>)\n",
      "tensor(9124219., grad_fn=<MseLossBackward0>)\n",
      "tensor(9089587., grad_fn=<MseLossBackward0>)\n",
      "tensor(9058059., grad_fn=<MseLossBackward0>)\n",
      "tensor(9028965., grad_fn=<MseLossBackward0>)\n",
      "tensor(9001849., grad_fn=<MseLossBackward0>)\n",
      "tensor(8976383., grad_fn=<MseLossBackward0>)\n",
      "tensor(8952290., grad_fn=<MseLossBackward0>)\n",
      "tensor(8929379., grad_fn=<MseLossBackward0>)\n",
      "5\n",
      "Params:\n",
      "          n_layers: 5\n",
      "          n_hidden_units: [20, 71, 49, 21, 42]\n",
      "          lr: 0.13984338139968042\n",
      "          n_epochs: 9950\n",
      "base_model(\n",
      "  (linears): ModuleList(\n",
      "    (0): Linear(in_features=24, out_features=20, bias=True)\n",
      "    (1): Linear(in_features=20, out_features=71, bias=True)\n",
      "    (2): Linear(in_features=71, out_features=49, bias=True)\n",
      "    (3): Linear(in_features=49, out_features=21, bias=True)\n",
      "    (4): Linear(in_features=21, out_features=42, bias=True)\n",
      "    (5): Linear(in_features=42, out_features=1, bias=True)\n",
      "  )\n",
      "  (activation): ReLU()\n",
      ")\n",
      "tensor(9497148., grad_fn=<MseLossBackward0>)\n",
      "tensor(9497148., grad_fn=<MseLossBackward0>)\n",
      "tensor(9497148., grad_fn=<MseLossBackward0>)\n",
      "tensor(9497148., grad_fn=<MseLossBackward0>)\n",
      "tensor(9497148., grad_fn=<MseLossBackward0>)\n",
      "tensor(9497148., grad_fn=<MseLossBackward0>)\n",
      "tensor(9497148., grad_fn=<MseLossBackward0>)\n",
      "tensor(9497148., grad_fn=<MseLossBackward0>)\n",
      "tensor(9497148., grad_fn=<MseLossBackward0>)\n",
      "tensor(9497148., grad_fn=<MseLossBackward0>)\n",
      "tensor(9497148., grad_fn=<MseLossBackward0>)\n",
      "tensor(9497148., grad_fn=<MseLossBackward0>)\n",
      "tensor(9497148., grad_fn=<MseLossBackward0>)\n",
      "tensor(9497148., grad_fn=<MseLossBackward0>)\n",
      "tensor(9497148., grad_fn=<MseLossBackward0>)\n",
      "tensor(9497148., grad_fn=<MseLossBackward0>)\n",
      "tensor(9497148., grad_fn=<MseLossBackward0>)\n",
      "tensor(9497148., grad_fn=<MseLossBackward0>)\n",
      "tensor(9497148., grad_fn=<MseLossBackward0>)\n",
      "tensor(9497148., grad_fn=<MseLossBackward0>)\n",
      "tensor(9497148., grad_fn=<MseLossBackward0>)\n",
      "tensor(9497148., grad_fn=<MseLossBackward0>)\n",
      "tensor(9497148., grad_fn=<MseLossBackward0>)\n",
      "tensor(9497148., grad_fn=<MseLossBackward0>)\n",
      "tensor(9497148., grad_fn=<MseLossBackward0>)\n",
      "tensor(9497148., grad_fn=<MseLossBackward0>)\n",
      "tensor(9497148., grad_fn=<MseLossBackward0>)\n",
      "tensor(9497148., grad_fn=<MseLossBackward0>)\n",
      "tensor(9497148., grad_fn=<MseLossBackward0>)\n",
      "tensor(9497148., grad_fn=<MseLossBackward0>)\n",
      "tensor(9497148., grad_fn=<MseLossBackward0>)\n",
      "tensor(9497148., grad_fn=<MseLossBackward0>)\n",
      "tensor(9497148., grad_fn=<MseLossBackward0>)\n",
      "tensor(9497148., grad_fn=<MseLossBackward0>)\n",
      "tensor(9497148., grad_fn=<MseLossBackward0>)\n",
      "tensor(9497148., grad_fn=<MseLossBackward0>)\n",
      "tensor(9497148., grad_fn=<MseLossBackward0>)\n",
      "tensor(9497148., grad_fn=<MseLossBackward0>)\n",
      "tensor(9497148., grad_fn=<MseLossBackward0>)\n",
      "tensor(9497148., grad_fn=<MseLossBackward0>)\n",
      "tensor(9497148., grad_fn=<MseLossBackward0>)\n",
      "tensor(9497148., grad_fn=<MseLossBackward0>)\n",
      "tensor(9497148., grad_fn=<MseLossBackward0>)\n",
      "tensor(9497148., grad_fn=<MseLossBackward0>)\n",
      "tensor(9497148., grad_fn=<MseLossBackward0>)\n",
      "tensor(9497148., grad_fn=<MseLossBackward0>)\n",
      "tensor(9497148., grad_fn=<MseLossBackward0>)\n",
      "tensor(9497148., grad_fn=<MseLossBackward0>)\n",
      "tensor(9497148., grad_fn=<MseLossBackward0>)\n",
      "tensor(9497148., grad_fn=<MseLossBackward0>)\n",
      "tensor(9497148., grad_fn=<MseLossBackward0>)\n",
      "tensor(9497148., grad_fn=<MseLossBackward0>)\n",
      "tensor(9497148., grad_fn=<MseLossBackward0>)\n",
      "tensor(9497148., grad_fn=<MseLossBackward0>)\n",
      "tensor(9497148., grad_fn=<MseLossBackward0>)\n",
      "tensor(9497148., grad_fn=<MseLossBackward0>)\n",
      "tensor(9497148., grad_fn=<MseLossBackward0>)\n",
      "tensor(9497148., grad_fn=<MseLossBackward0>)\n",
      "tensor(9497148., grad_fn=<MseLossBackward0>)\n",
      "tensor(9497148., grad_fn=<MseLossBackward0>)\n",
      "tensor(9497148., grad_fn=<MseLossBackward0>)\n",
      "tensor(9497148., grad_fn=<MseLossBackward0>)\n",
      "tensor(9497148., grad_fn=<MseLossBackward0>)\n",
      "tensor(9497148., grad_fn=<MseLossBackward0>)\n",
      "tensor(9497148., grad_fn=<MseLossBackward0>)\n",
      "tensor(9497148., grad_fn=<MseLossBackward0>)\n",
      "tensor(9497148., grad_fn=<MseLossBackward0>)\n",
      "tensor(9497148., grad_fn=<MseLossBackward0>)\n",
      "tensor(9497148., grad_fn=<MseLossBackward0>)\n",
      "tensor(9497148., grad_fn=<MseLossBackward0>)\n",
      "tensor(9497148., grad_fn=<MseLossBackward0>)\n",
      "tensor(9497148., grad_fn=<MseLossBackward0>)\n",
      "tensor(9497148., grad_fn=<MseLossBackward0>)\n",
      "tensor(9497148., grad_fn=<MseLossBackward0>)\n",
      "tensor(9497148., grad_fn=<MseLossBackward0>)\n",
      "tensor(9497148., grad_fn=<MseLossBackward0>)\n",
      "tensor(9497148., grad_fn=<MseLossBackward0>)\n",
      "tensor(9497148., grad_fn=<MseLossBackward0>)\n",
      "tensor(9497148., grad_fn=<MseLossBackward0>)\n",
      "tensor(9497148., grad_fn=<MseLossBackward0>)\n",
      "tensor(9497148., grad_fn=<MseLossBackward0>)\n",
      "tensor(9497148., grad_fn=<MseLossBackward0>)\n",
      "tensor(9497148., grad_fn=<MseLossBackward0>)\n",
      "tensor(9497148., grad_fn=<MseLossBackward0>)\n",
      "tensor(9497148., grad_fn=<MseLossBackward0>)\n",
      "tensor(9497148., grad_fn=<MseLossBackward0>)\n",
      "tensor(9497148., grad_fn=<MseLossBackward0>)\n",
      "tensor(9497148., grad_fn=<MseLossBackward0>)\n",
      "tensor(9497148., grad_fn=<MseLossBackward0>)\n",
      "tensor(9497148., grad_fn=<MseLossBackward0>)\n",
      "tensor(9497148., grad_fn=<MseLossBackward0>)\n",
      "tensor(9497148., grad_fn=<MseLossBackward0>)\n",
      "tensor(9497148., grad_fn=<MseLossBackward0>)\n",
      "tensor(9497148., grad_fn=<MseLossBackward0>)\n",
      "tensor(9497148., grad_fn=<MseLossBackward0>)\n",
      "tensor(9497148., grad_fn=<MseLossBackward0>)\n",
      "tensor(9497148., grad_fn=<MseLossBackward0>)\n",
      "tensor(9497148., grad_fn=<MseLossBackward0>)\n",
      "tensor(9497148., grad_fn=<MseLossBackward0>)\n"
     ]
    },
    {
     "name": "stderr",
     "output_type": "stream",
     "text": [
      "\u001b[32m[I 2022-11-25 14:25:47,477]\u001b[0m Trial 9 finished with value: 3057.548095703125 and parameters: {'n_layers': 5, 'n_h_0': 20, 'n_h_1': 71, 'n_h_2': 49, 'n_h_3': 21, 'n_h_4': 42, 'lr': 0.13984338139968042, 'n_epochs': 9950}. Best is trial 5 with value: 894.4140014648438.\u001b[0m\n"
     ]
    },
    {
     "name": "stdout",
     "output_type": "stream",
     "text": [
      "tensor(9497148., grad_fn=<MseLossBackward0>)\n"
     ]
    },
    {
     "data": {
      "application/vnd.plotly.v1+json": {
       "config": {
        "plotlyServerURL": "https://plot.ly"
       },
       "data": [
        {
         "mode": "markers",
         "name": "Objective Value",
         "type": "scatter",
         "x": [
          0,
          1,
          2,
          3,
          4,
          5,
          6,
          7,
          8,
          9
         ],
         "y": [
          915.4677124023438,
          3057.548095703125,
          950.7656860351562,
          3057.548095703125,
          2844.079345703125,
          894.4140014648438,
          941.136962890625,
          3057.548095703125,
          2955.663818359375,
          3057.548095703125
         ]
        },
        {
         "name": "Best Value",
         "type": "scatter",
         "x": [
          0,
          1,
          2,
          3,
          4,
          5,
          6,
          7,
          8,
          9
         ],
         "y": [
          915.4677124023438,
          915.4677124023438,
          915.4677124023438,
          915.4677124023438,
          915.4677124023438,
          894.4140014648438,
          894.4140014648438,
          894.4140014648438,
          894.4140014648438,
          894.4140014648438
         ]
        }
       ],
       "layout": {
        "template": {
         "data": {
          "bar": [
           {
            "error_x": {
             "color": "#2a3f5f"
            },
            "error_y": {
             "color": "#2a3f5f"
            },
            "marker": {
             "line": {
              "color": "#E5ECF6",
              "width": 0.5
             },
             "pattern": {
              "fillmode": "overlay",
              "size": 10,
              "solidity": 0.2
             }
            },
            "type": "bar"
           }
          ],
          "barpolar": [
           {
            "marker": {
             "line": {
              "color": "#E5ECF6",
              "width": 0.5
             },
             "pattern": {
              "fillmode": "overlay",
              "size": 10,
              "solidity": 0.2
             }
            },
            "type": "barpolar"
           }
          ],
          "carpet": [
           {
            "aaxis": {
             "endlinecolor": "#2a3f5f",
             "gridcolor": "white",
             "linecolor": "white",
             "minorgridcolor": "white",
             "startlinecolor": "#2a3f5f"
            },
            "baxis": {
             "endlinecolor": "#2a3f5f",
             "gridcolor": "white",
             "linecolor": "white",
             "minorgridcolor": "white",
             "startlinecolor": "#2a3f5f"
            },
            "type": "carpet"
           }
          ],
          "choropleth": [
           {
            "colorbar": {
             "outlinewidth": 0,
             "ticks": ""
            },
            "type": "choropleth"
           }
          ],
          "contour": [
           {
            "colorbar": {
             "outlinewidth": 0,
             "ticks": ""
            },
            "colorscale": [
             [
              0,
              "#0d0887"
             ],
             [
              0.1111111111111111,
              "#46039f"
             ],
             [
              0.2222222222222222,
              "#7201a8"
             ],
             [
              0.3333333333333333,
              "#9c179e"
             ],
             [
              0.4444444444444444,
              "#bd3786"
             ],
             [
              0.5555555555555556,
              "#d8576b"
             ],
             [
              0.6666666666666666,
              "#ed7953"
             ],
             [
              0.7777777777777778,
              "#fb9f3a"
             ],
             [
              0.8888888888888888,
              "#fdca26"
             ],
             [
              1,
              "#f0f921"
             ]
            ],
            "type": "contour"
           }
          ],
          "contourcarpet": [
           {
            "colorbar": {
             "outlinewidth": 0,
             "ticks": ""
            },
            "type": "contourcarpet"
           }
          ],
          "heatmap": [
           {
            "colorbar": {
             "outlinewidth": 0,
             "ticks": ""
            },
            "colorscale": [
             [
              0,
              "#0d0887"
             ],
             [
              0.1111111111111111,
              "#46039f"
             ],
             [
              0.2222222222222222,
              "#7201a8"
             ],
             [
              0.3333333333333333,
              "#9c179e"
             ],
             [
              0.4444444444444444,
              "#bd3786"
             ],
             [
              0.5555555555555556,
              "#d8576b"
             ],
             [
              0.6666666666666666,
              "#ed7953"
             ],
             [
              0.7777777777777778,
              "#fb9f3a"
             ],
             [
              0.8888888888888888,
              "#fdca26"
             ],
             [
              1,
              "#f0f921"
             ]
            ],
            "type": "heatmap"
           }
          ],
          "heatmapgl": [
           {
            "colorbar": {
             "outlinewidth": 0,
             "ticks": ""
            },
            "colorscale": [
             [
              0,
              "#0d0887"
             ],
             [
              0.1111111111111111,
              "#46039f"
             ],
             [
              0.2222222222222222,
              "#7201a8"
             ],
             [
              0.3333333333333333,
              "#9c179e"
             ],
             [
              0.4444444444444444,
              "#bd3786"
             ],
             [
              0.5555555555555556,
              "#d8576b"
             ],
             [
              0.6666666666666666,
              "#ed7953"
             ],
             [
              0.7777777777777778,
              "#fb9f3a"
             ],
             [
              0.8888888888888888,
              "#fdca26"
             ],
             [
              1,
              "#f0f921"
             ]
            ],
            "type": "heatmapgl"
           }
          ],
          "histogram": [
           {
            "marker": {
             "pattern": {
              "fillmode": "overlay",
              "size": 10,
              "solidity": 0.2
             }
            },
            "type": "histogram"
           }
          ],
          "histogram2d": [
           {
            "colorbar": {
             "outlinewidth": 0,
             "ticks": ""
            },
            "colorscale": [
             [
              0,
              "#0d0887"
             ],
             [
              0.1111111111111111,
              "#46039f"
             ],
             [
              0.2222222222222222,
              "#7201a8"
             ],
             [
              0.3333333333333333,
              "#9c179e"
             ],
             [
              0.4444444444444444,
              "#bd3786"
             ],
             [
              0.5555555555555556,
              "#d8576b"
             ],
             [
              0.6666666666666666,
              "#ed7953"
             ],
             [
              0.7777777777777778,
              "#fb9f3a"
             ],
             [
              0.8888888888888888,
              "#fdca26"
             ],
             [
              1,
              "#f0f921"
             ]
            ],
            "type": "histogram2d"
           }
          ],
          "histogram2dcontour": [
           {
            "colorbar": {
             "outlinewidth": 0,
             "ticks": ""
            },
            "colorscale": [
             [
              0,
              "#0d0887"
             ],
             [
              0.1111111111111111,
              "#46039f"
             ],
             [
              0.2222222222222222,
              "#7201a8"
             ],
             [
              0.3333333333333333,
              "#9c179e"
             ],
             [
              0.4444444444444444,
              "#bd3786"
             ],
             [
              0.5555555555555556,
              "#d8576b"
             ],
             [
              0.6666666666666666,
              "#ed7953"
             ],
             [
              0.7777777777777778,
              "#fb9f3a"
             ],
             [
              0.8888888888888888,
              "#fdca26"
             ],
             [
              1,
              "#f0f921"
             ]
            ],
            "type": "histogram2dcontour"
           }
          ],
          "mesh3d": [
           {
            "colorbar": {
             "outlinewidth": 0,
             "ticks": ""
            },
            "type": "mesh3d"
           }
          ],
          "parcoords": [
           {
            "line": {
             "colorbar": {
              "outlinewidth": 0,
              "ticks": ""
             }
            },
            "type": "parcoords"
           }
          ],
          "pie": [
           {
            "automargin": true,
            "type": "pie"
           }
          ],
          "scatter": [
           {
            "fillpattern": {
             "fillmode": "overlay",
             "size": 10,
             "solidity": 0.2
            },
            "type": "scatter"
           }
          ],
          "scatter3d": [
           {
            "line": {
             "colorbar": {
              "outlinewidth": 0,
              "ticks": ""
             }
            },
            "marker": {
             "colorbar": {
              "outlinewidth": 0,
              "ticks": ""
             }
            },
            "type": "scatter3d"
           }
          ],
          "scattercarpet": [
           {
            "marker": {
             "colorbar": {
              "outlinewidth": 0,
              "ticks": ""
             }
            },
            "type": "scattercarpet"
           }
          ],
          "scattergeo": [
           {
            "marker": {
             "colorbar": {
              "outlinewidth": 0,
              "ticks": ""
             }
            },
            "type": "scattergeo"
           }
          ],
          "scattergl": [
           {
            "marker": {
             "colorbar": {
              "outlinewidth": 0,
              "ticks": ""
             }
            },
            "type": "scattergl"
           }
          ],
          "scattermapbox": [
           {
            "marker": {
             "colorbar": {
              "outlinewidth": 0,
              "ticks": ""
             }
            },
            "type": "scattermapbox"
           }
          ],
          "scatterpolar": [
           {
            "marker": {
             "colorbar": {
              "outlinewidth": 0,
              "ticks": ""
             }
            },
            "type": "scatterpolar"
           }
          ],
          "scatterpolargl": [
           {
            "marker": {
             "colorbar": {
              "outlinewidth": 0,
              "ticks": ""
             }
            },
            "type": "scatterpolargl"
           }
          ],
          "scatterternary": [
           {
            "marker": {
             "colorbar": {
              "outlinewidth": 0,
              "ticks": ""
             }
            },
            "type": "scatterternary"
           }
          ],
          "surface": [
           {
            "colorbar": {
             "outlinewidth": 0,
             "ticks": ""
            },
            "colorscale": [
             [
              0,
              "#0d0887"
             ],
             [
              0.1111111111111111,
              "#46039f"
             ],
             [
              0.2222222222222222,
              "#7201a8"
             ],
             [
              0.3333333333333333,
              "#9c179e"
             ],
             [
              0.4444444444444444,
              "#bd3786"
             ],
             [
              0.5555555555555556,
              "#d8576b"
             ],
             [
              0.6666666666666666,
              "#ed7953"
             ],
             [
              0.7777777777777778,
              "#fb9f3a"
             ],
             [
              0.8888888888888888,
              "#fdca26"
             ],
             [
              1,
              "#f0f921"
             ]
            ],
            "type": "surface"
           }
          ],
          "table": [
           {
            "cells": {
             "fill": {
              "color": "#EBF0F8"
             },
             "line": {
              "color": "white"
             }
            },
            "header": {
             "fill": {
              "color": "#C8D4E3"
             },
             "line": {
              "color": "white"
             }
            },
            "type": "table"
           }
          ]
         },
         "layout": {
          "annotationdefaults": {
           "arrowcolor": "#2a3f5f",
           "arrowhead": 0,
           "arrowwidth": 1
          },
          "autotypenumbers": "strict",
          "coloraxis": {
           "colorbar": {
            "outlinewidth": 0,
            "ticks": ""
           }
          },
          "colorscale": {
           "diverging": [
            [
             0,
             "#8e0152"
            ],
            [
             0.1,
             "#c51b7d"
            ],
            [
             0.2,
             "#de77ae"
            ],
            [
             0.3,
             "#f1b6da"
            ],
            [
             0.4,
             "#fde0ef"
            ],
            [
             0.5,
             "#f7f7f7"
            ],
            [
             0.6,
             "#e6f5d0"
            ],
            [
             0.7,
             "#b8e186"
            ],
            [
             0.8,
             "#7fbc41"
            ],
            [
             0.9,
             "#4d9221"
            ],
            [
             1,
             "#276419"
            ]
           ],
           "sequential": [
            [
             0,
             "#0d0887"
            ],
            [
             0.1111111111111111,
             "#46039f"
            ],
            [
             0.2222222222222222,
             "#7201a8"
            ],
            [
             0.3333333333333333,
             "#9c179e"
            ],
            [
             0.4444444444444444,
             "#bd3786"
            ],
            [
             0.5555555555555556,
             "#d8576b"
            ],
            [
             0.6666666666666666,
             "#ed7953"
            ],
            [
             0.7777777777777778,
             "#fb9f3a"
            ],
            [
             0.8888888888888888,
             "#fdca26"
            ],
            [
             1,
             "#f0f921"
            ]
           ],
           "sequentialminus": [
            [
             0,
             "#0d0887"
            ],
            [
             0.1111111111111111,
             "#46039f"
            ],
            [
             0.2222222222222222,
             "#7201a8"
            ],
            [
             0.3333333333333333,
             "#9c179e"
            ],
            [
             0.4444444444444444,
             "#bd3786"
            ],
            [
             0.5555555555555556,
             "#d8576b"
            ],
            [
             0.6666666666666666,
             "#ed7953"
            ],
            [
             0.7777777777777778,
             "#fb9f3a"
            ],
            [
             0.8888888888888888,
             "#fdca26"
            ],
            [
             1,
             "#f0f921"
            ]
           ]
          },
          "colorway": [
           "#636efa",
           "#EF553B",
           "#00cc96",
           "#ab63fa",
           "#FFA15A",
           "#19d3f3",
           "#FF6692",
           "#B6E880",
           "#FF97FF",
           "#FECB52"
          ],
          "font": {
           "color": "#2a3f5f"
          },
          "geo": {
           "bgcolor": "white",
           "lakecolor": "white",
           "landcolor": "#E5ECF6",
           "showlakes": true,
           "showland": true,
           "subunitcolor": "white"
          },
          "hoverlabel": {
           "align": "left"
          },
          "hovermode": "closest",
          "mapbox": {
           "style": "light"
          },
          "paper_bgcolor": "white",
          "plot_bgcolor": "#E5ECF6",
          "polar": {
           "angularaxis": {
            "gridcolor": "white",
            "linecolor": "white",
            "ticks": ""
           },
           "bgcolor": "#E5ECF6",
           "radialaxis": {
            "gridcolor": "white",
            "linecolor": "white",
            "ticks": ""
           }
          },
          "scene": {
           "xaxis": {
            "backgroundcolor": "#E5ECF6",
            "gridcolor": "white",
            "gridwidth": 2,
            "linecolor": "white",
            "showbackground": true,
            "ticks": "",
            "zerolinecolor": "white"
           },
           "yaxis": {
            "backgroundcolor": "#E5ECF6",
            "gridcolor": "white",
            "gridwidth": 2,
            "linecolor": "white",
            "showbackground": true,
            "ticks": "",
            "zerolinecolor": "white"
           },
           "zaxis": {
            "backgroundcolor": "#E5ECF6",
            "gridcolor": "white",
            "gridwidth": 2,
            "linecolor": "white",
            "showbackground": true,
            "ticks": "",
            "zerolinecolor": "white"
           }
          },
          "shapedefaults": {
           "line": {
            "color": "#2a3f5f"
           }
          },
          "ternary": {
           "aaxis": {
            "gridcolor": "white",
            "linecolor": "white",
            "ticks": ""
           },
           "baxis": {
            "gridcolor": "white",
            "linecolor": "white",
            "ticks": ""
           },
           "bgcolor": "#E5ECF6",
           "caxis": {
            "gridcolor": "white",
            "linecolor": "white",
            "ticks": ""
           }
          },
          "title": {
           "x": 0.05
          },
          "xaxis": {
           "automargin": true,
           "gridcolor": "white",
           "linecolor": "white",
           "ticks": "",
           "title": {
            "standoff": 15
           },
           "zerolinecolor": "white",
           "zerolinewidth": 2
          },
          "yaxis": {
           "automargin": true,
           "gridcolor": "white",
           "linecolor": "white",
           "ticks": "",
           "title": {
            "standoff": 15
           },
           "zerolinecolor": "white",
           "zerolinewidth": 2
          }
         }
        },
        "title": {
         "text": "Optimization History Plot"
        },
        "xaxis": {
         "title": {
          "text": "Trial"
         }
        },
        "yaxis": {
         "title": {
          "text": "Objective Value"
         }
        }
       }
      }
     },
     "metadata": {},
     "output_type": "display_data"
    }
   ],
   "source": [
    "# 3. Create a study object and optimize the objective function.\n",
    "study = optuna.create_study(direction='minimize')\n",
    "study.optimize(objective, n_trials=50)\n",
    "pd.DataFrame.from_dict({\"value\": study.best_trial.values, \"params\": str(\n",
    "    study.best_trial.params)}).to_csv(\"nn_hpo/run_1.csv\", index=False)\n",
    "\n",
    "fig = optuna.visualization.plot_optimization_history(study)\n",
    "fig.show()\n"
   ]
  },
  {
   "cell_type": "code",
   "execution_count": 16,
   "metadata": {},
   "outputs": [
    {
     "data": {
      "text/plain": [
       "FrozenTrial(number=5, values=[894.4140014648438], datetime_start=datetime.datetime(2022, 11, 25, 14, 25, 29, 6298), datetime_complete=datetime.datetime(2022, 11, 25, 14, 25, 31, 569139), params={'n_layers': 1, 'n_h_0': 55, 'lr': 0.4052954218938756, 'n_epochs': 9100}, distributions={'n_layers': IntDistribution(high=5, log=False, low=0, step=1), 'n_h_0': IntDistribution(high=100, log=False, low=1, step=1), 'lr': FloatDistribution(high=0.5, log=False, low=0.001, step=None), 'n_epochs': IntDistribution(high=10000, log=False, low=1000, step=1)}, user_attrs={}, system_attrs={}, intermediate_values={}, trial_id=5, state=TrialState.COMPLETE, value=None)"
      ]
     },
     "execution_count": 16,
     "metadata": {},
     "output_type": "execute_result"
    }
   ],
   "source": [
    "study.best_trial"
   ]
  },
  {
   "cell_type": "code",
   "execution_count": null,
   "metadata": {},
   "outputs": [],
   "source": []
  }
 ],
 "metadata": {
  "kernelspec": {
   "display_name": "Python 3.9.13 ('base')",
   "language": "python",
   "name": "python3"
  },
  "language_info": {
   "codemirror_mode": {
    "name": "ipython",
    "version": 3
   },
   "file_extension": ".py",
   "mimetype": "text/x-python",
   "name": "python",
   "nbconvert_exporter": "python",
   "pygments_lexer": "ipython3",
   "version": "3.9.13"
  },
  "orig_nbformat": 4,
  "vscode": {
   "interpreter": {
    "hash": "95ef66565be0ab37caf8d705f94b2ba6fd3ff1d5242a0930694c635ab854b36c"
   }
  }
 },
 "nbformat": 4,
 "nbformat_minor": 2
}
