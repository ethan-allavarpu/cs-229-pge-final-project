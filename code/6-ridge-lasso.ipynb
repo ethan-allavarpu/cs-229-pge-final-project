{
 "cells": [
  {
   "cell_type": "code",
   "execution_count": 1,
   "metadata": {},
   "outputs": [],
   "source": [
    "import numpy as np\n",
    "import pandas as pd\n",
    "from sklearn.linear_model import ElasticNetCV, LassoCV, RidgeCV\n",
    "from sklearn.metrics import mean_absolute_error, mean_squared_error\n",
    "from sklearn.preprocessing import StandardScaler"
   ]
  },
  {
   "cell_type": "code",
   "execution_count": 2,
   "metadata": {},
   "outputs": [],
   "source": [
    "x_train = pd.read_csv(\n",
    "  \"../data/processed/x_train_w_OHE.csv\", index_col=0, dtype=str\n",
    ").reset_index(drop=True)\n",
    "x_test = pd.read_csv(\n",
    "  \"../data/processed/x_test_w_OHE.csv\", index_col=0, dtype=str\n",
    ").reset_index(drop=True)\n",
    "y_train = pd.read_csv(\n",
    "  \"../data/processed/y_train.csv\", index_col=0, dtype=float\n",
    ").squeeze(\"columns\")\n",
    "y_test = pd.read_csv(\n",
    "  \"../data/processed/y_test.csv\", index_col=0, dtype=float\n",
    ").squeeze(\"columns\")"
   ]
  },
  {
   "cell_type": "code",
   "execution_count": 3,
   "metadata": {},
   "outputs": [],
   "source": [
    "# Correct type conversion\n",
    "def get_correct_types_x(df, numeric_cols):\n",
    "    for col in ['deenergize_time', 'restoration_time']:\n",
    "        df[col] = pd.to_datetime(df[col], format='%Y-%m-%d %H:%M:%S')\n",
    "    for col in numeric_cols:\n",
    "        df[col] = df[col].astype(float)\n",
    "    return df\n",
    "numeric_cols = [\n",
    "    'hftd_tier', 'total_affected', 'residential_affected',\n",
    "    'longitude', 'latitude', 'total_pop', 'median_age', 'median_income',\n",
    "    'white_pct', 'tmin_d-5', 'tmax_d-5', 'wspd_d-5', 'tmin_d-4', 'tmax_d-4',\n",
    "    'wspd_d-4', 'tmin_d-3', 'tmax_d-3', 'wspd_d-3', 'tmin_d-2', 'tmax_d-2',\n",
    "    'wspd_d-2', 'tmin_d-1', 'tmax_d-1', 'wspd_d-1', 'day_in_year'\n",
    "]\n",
    "x_train = get_correct_types_x(x_train, numeric_cols)\n",
    "x_test = get_correct_types_x(x_test, numeric_cols)\n",
    "rel_x_train = x_train[numeric_cols]\n",
    "rel_x_test = x_test[numeric_cols]"
   ]
  },
  {
   "cell_type": "code",
   "execution_count": 4,
   "metadata": {},
   "outputs": [],
   "source": [
    "# Zero mean, variance 1\n",
    "scaler = StandardScaler()\n",
    "scaler.fit(rel_x_train)\n",
    "scaled_train_x = scaler.transform(rel_x_train)\n",
    "scaled_test_x = scaler.transform(rel_x_test)"
   ]
  },
  {
   "cell_type": "code",
   "execution_count": 5,
   "metadata": {},
   "outputs": [],
   "source": [
    "# Range of penalties for ridge\n",
    "alphas = 10 ** np.arange(-7., 2.)"
   ]
  },
  {
   "cell_type": "code",
   "execution_count": 6,
   "metadata": {},
   "outputs": [],
   "source": [
    "ridge = RidgeCV(alphas=alphas, cv=5)\n",
    "ridge.fit(scaled_train_x, y_train)\n",
    "ridge_preds = ridge.predict(scaled_test_x)"
   ]
  },
  {
   "cell_type": "code",
   "execution_count": 7,
   "metadata": {},
   "outputs": [],
   "source": [
    "# Use default learning rates for CV\n",
    "lasso = LassoCV(max_iter=int(1e6), cv=5, random_state=6)\n",
    "lasso.fit(scaled_train_x, y_train)\n",
    "lasso_preds = lasso.predict(scaled_test_x)"
   ]
  },
  {
   "cell_type": "code",
   "execution_count": 8,
   "metadata": {},
   "outputs": [],
   "source": [
    "# Elastic net is like a hybrid between LASSO and ridge\n",
    "e_net = ElasticNetCV(\n",
    "    l1_ratio=[0.01, .1, .3, .5, .65, .8, .9, .95, .975, .99, 1],\n",
    "    max_iter=int(1e6), cv=5, random_state=6\n",
    ")\n",
    "e_net.fit(scaled_train_x, y_train)\n",
    "e_net_preds = e_net.predict(scaled_test_x)"
   ]
  },
  {
   "cell_type": "code",
   "execution_count": 9,
   "metadata": {},
   "outputs": [],
   "source": [
    "# Use R^2, RMSE as performance metrics\n",
    "def calc_test_r2(pred_vals, true_vals, baseline_rmse):\n",
    "    sse = mean_squared_error(pred_vals, true_vals) * len(true_vals)\n",
    "    sst = (baseline_rmse ** 2) * len(true_vals)\n",
    "    return (\n",
    "        1 - sse / sst, np.sqrt(sse / len(true_vals)),\n",
    "        mean_absolute_error(pred_vals, true_vals)\n",
    "    )"
   ]
  },
  {
   "cell_type": "code",
   "execution_count": 10,
   "metadata": {},
   "outputs": [
    {
     "data": {
      "text/html": [
       "<div>\n",
       "<style scoped>\n",
       "    .dataframe tbody tr th:only-of-type {\n",
       "        vertical-align: middle;\n",
       "    }\n",
       "\n",
       "    .dataframe tbody tr th {\n",
       "        vertical-align: top;\n",
       "    }\n",
       "\n",
       "    .dataframe thead th {\n",
       "        text-align: right;\n",
       "    }\n",
       "</style>\n",
       "<table border=\"1\" class=\"dataframe\">\n",
       "  <thead>\n",
       "    <tr style=\"text-align: right;\">\n",
       "      <th></th>\n",
       "      <th>model</th>\n",
       "      <th>test_r_sq</th>\n",
       "      <th>rmse</th>\n",
       "      <th>mae</th>\n",
       "    </tr>\n",
       "  </thead>\n",
       "  <tbody>\n",
       "    <tr>\n",
       "      <th>0</th>\n",
       "      <td>Ridge</td>\n",
       "      <td>0.496509</td>\n",
       "      <td>1121.114728</td>\n",
       "      <td>854.537449</td>\n",
       "    </tr>\n",
       "    <tr>\n",
       "      <th>1</th>\n",
       "      <td>LASSO</td>\n",
       "      <td>0.498145</td>\n",
       "      <td>1119.291615</td>\n",
       "      <td>852.692513</td>\n",
       "    </tr>\n",
       "    <tr>\n",
       "      <th>2</th>\n",
       "      <td>Elastic Net</td>\n",
       "      <td>0.490046</td>\n",
       "      <td>1128.287164</td>\n",
       "      <td>860.886639</td>\n",
       "    </tr>\n",
       "  </tbody>\n",
       "</table>\n",
       "</div>"
      ],
      "text/plain": [
       "         model  test_r_sq         rmse         mae\n",
       "0        Ridge   0.496509  1121.114728  854.537449\n",
       "1        LASSO   0.498145  1119.291615  852.692513\n",
       "2  Elastic Net   0.490046  1128.287164  860.886639"
      ]
     },
     "execution_count": 10,
     "metadata": {},
     "output_type": "execute_result"
    }
   ],
   "source": [
    "# See model performance for all three regularization models\n",
    "baseline_rmse = np.sqrt(((y_test - y_test.mean()) ** 2).mean())\n",
    "regularization_results = pd.DataFrame({\n",
    "    'model': ['Ridge', 'LASSO', 'Elastic Net'],\n",
    "    'stats': [\n",
    "        calc_test_r2(preds, y_test, baseline_rmse)\n",
    "        for preds in [ridge_preds, lasso_preds, e_net_preds]\n",
    "    ]\n",
    "})\n",
    "regularization_results['test_r_sq'] = [\n",
    "    model[0] for model in regularization_results['stats']\n",
    "]\n",
    "regularization_results['rmse'] = [\n",
    "    model[1] for model in regularization_results['stats']\n",
    "]\n",
    "regularization_results['mae'] = [\n",
    "    model[2] for model in regularization_results['stats']\n",
    "]\n",
    "regularization_results.drop(columns='stats', inplace=True)\n",
    "print(regularization_results)"
   ]
  }
 ],
 "metadata": {
  "kernelspec": {
   "display_name": "Python 3 (ipykernel)",
   "language": "python",
   "name": "python3"
  },
  "language_info": {
   "codemirror_mode": {
    "name": "ipython",
    "version": 3
   },
   "file_extension": ".py",
   "mimetype": "text/x-python",
   "name": "python",
   "nbconvert_exporter": "python",
   "pygments_lexer": "ipython3",
   "version": "3.10.8"
  },
  "vscode": {
   "interpreter": {
    "hash": "aee8b7b246df8f9039afb4144a1f6fd8d2ca17a180786b69acc140d282b71a49"
   }
  }
 },
 "nbformat": 4,
 "nbformat_minor": 4
}
