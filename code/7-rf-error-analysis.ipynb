{
 "cells": [
  {
   "cell_type": "code",
   "execution_count": 1,
   "metadata": {},
   "outputs": [],
   "source": [
    "import matplotlib.pyplot as plt\n",
    "import numpy as np\n",
    "import pandas as pd\n",
    "import seaborn as sns\n",
    "from sklearn.preprocessing import StandardScaler"
   ]
  },
  {
   "cell_type": "code",
   "execution_count": 2,
   "metadata": {},
   "outputs": [],
   "source": [
    "x_train = pd.read_csv(\n",
    "  \"../data/processed/x_train.csv\", index_col=0, dtype=str\n",
    ").reset_index(drop=True)\n",
    "x_test = pd.read_csv(\n",
    "  \"../data/processed/x_test.csv\", index_col=0, dtype=str\n",
    ").reset_index(drop=True)\n",
    "y_train = pd.read_csv(\n",
    "  \"../data/processed/y_train.csv\", index_col=0, dtype=float\n",
    ").squeeze(\"columns\").reset_index(drop=True)\n",
    "y_test = pd.read_csv(\n",
    "  \"../data/processed/y_test.csv\", index_col=0, dtype=float\n",
    ").squeeze(\"columns\").reset_index(drop=True)"
   ]
  },
  {
   "cell_type": "code",
   "execution_count": 3,
   "metadata": {},
   "outputs": [],
   "source": [
    "def get_correct_types_x(df, numeric_cols):\n",
    "    for col in ['deenergize_time', 'restoration_time']:\n",
    "        df[col] = pd.to_datetime(df[col], format='%Y-%m-%d %H:%M:%S')\n",
    "    for col in numeric_cols:\n",
    "        df[col] = df[col].astype(float)\n",
    "    return df\n",
    "numeric_cols = [\n",
    "    'hftd_tier', 'total_affected', 'residential_affected',\n",
    "    'longitude', 'latitude', 'total_pop', 'median_age', 'median_income',\n",
    "    'white_pct', 'tmin_d-5', 'tmax_d-5', 'wspd_d-5', 'tmin_d-4', 'tmax_d-4',\n",
    "    'wspd_d-4', 'tmin_d-3', 'tmax_d-3', 'wspd_d-3', 'tmin_d-2', 'tmax_d-2',\n",
    "    'wspd_d-2', 'tmin_d-1', 'tmax_d-1', 'wspd_d-1', 'day_in_year'\n",
    "]\n",
    "x_train = get_correct_types_x(x_train, numeric_cols)\n",
    "x_test = get_correct_types_x(x_test, numeric_cols)\n",
    "rel_x_train = x_train[numeric_cols]\n",
    "rel_x_test = x_test[numeric_cols]"
   ]
  },
  {
   "cell_type": "code",
   "execution_count": 4,
   "metadata": {},
   "outputs": [],
   "source": [
    "scaler = StandardScaler()\n",
    "scaler.fit(rel_x_train)\n",
    "scaled_train_x = scaler.transform(rel_x_train)\n",
    "scaled_test_x = scaler.transform(rel_x_test)"
   ]
  },
  {
   "cell_type": "code",
   "execution_count": 5,
   "metadata": {},
   "outputs": [],
   "source": [
    "# Read in RF predictions and calculate residuals as observed - predicted\n",
    "best_preds = np.loadtxt(\"../data/predictions/rf_preds.csv\")\n",
    "resids = y_test - best_preds"
   ]
  },
  {
   "cell_type": "code",
   "execution_count": 7,
   "metadata": {},
   "outputs": [],
   "source": [
    "# Take 10% most incorrect predictions\n",
    "top10_pct_off = np.argsort(\n",
    "  np.abs(np.array(resids))\n",
    ")[-int(0.1 * len(resids))::][::-1]\n",
    "extreme_resids = resids[top10_pct_off]\n",
    "extreme_x = x_test.iloc[top10_pct_off, :]\n",
    "extreme_y = y_test[top10_pct_off]"
   ]
  },
  {
   "cell_type": "code",
   "execution_count": 8,
   "metadata": {},
   "outputs": [
    {
     "data": {
      "text/html": [
       "<div>\n",
       "<style scoped>\n",
       "    .dataframe tbody tr th:only-of-type {\n",
       "        vertical-align: middle;\n",
       "    }\n",
       "\n",
       "    .dataframe tbody tr th {\n",
       "        vertical-align: top;\n",
       "    }\n",
       "\n",
       "    .dataframe thead th {\n",
       "        text-align: right;\n",
       "    }\n",
       "</style>\n",
       "<table border=\"1\" class=\"dataframe\">\n",
       "  <thead>\n",
       "    <tr style=\"text-align: right;\">\n",
       "      <th></th>\n",
       "      <th>deenergize_time_x</th>\n",
       "      <th>deenergize_time_y</th>\n",
       "    </tr>\n",
       "  </thead>\n",
       "  <tbody>\n",
       "    <tr>\n",
       "      <th>2019-10-26</th>\n",
       "      <td>0.564103</td>\n",
       "      <td>0.305344</td>\n",
       "    </tr>\n",
       "    <tr>\n",
       "      <th>2019-10-09</th>\n",
       "      <td>0.179487</td>\n",
       "      <td>0.188295</td>\n",
       "    </tr>\n",
       "    <tr>\n",
       "      <th>2021-01-19</th>\n",
       "      <td>0.051282</td>\n",
       "      <td>0.007634</td>\n",
       "    </tr>\n",
       "    <tr>\n",
       "      <th>2019-10-27</th>\n",
       "      <td>0.051282</td>\n",
       "      <td>0.012723</td>\n",
       "    </tr>\n",
       "    <tr>\n",
       "      <th>2020-10-25</th>\n",
       "      <td>0.051282</td>\n",
       "      <td>0.162850</td>\n",
       "    </tr>\n",
       "    <tr>\n",
       "      <th>2020-09-07</th>\n",
       "      <td>0.025641</td>\n",
       "      <td>0.022901</td>\n",
       "    </tr>\n",
       "    <tr>\n",
       "      <th>2020-09-08</th>\n",
       "      <td>0.025641</td>\n",
       "      <td>0.020356</td>\n",
       "    </tr>\n",
       "    <tr>\n",
       "      <th>2021-08-17</th>\n",
       "      <td>0.025641</td>\n",
       "      <td>0.061069</td>\n",
       "    </tr>\n",
       "    <tr>\n",
       "      <th>2020-10-26</th>\n",
       "      <td>0.025641</td>\n",
       "      <td>0.002545</td>\n",
       "    </tr>\n",
       "  </tbody>\n",
       "</table>\n",
       "</div>"
      ],
      "text/plain": [
       "            deenergize_time_x  deenergize_time_y\n",
       "2019-10-26           0.564103           0.305344\n",
       "2019-10-09           0.179487           0.188295\n",
       "2021-01-19           0.051282           0.007634\n",
       "2019-10-27           0.051282           0.012723\n",
       "2020-10-25           0.051282           0.162850\n",
       "2020-09-07           0.025641           0.022901\n",
       "2020-09-08           0.025641           0.020356\n",
       "2021-08-17           0.025641           0.061069\n",
       "2020-10-26           0.025641           0.002545"
      ]
     },
     "execution_count": 8,
     "metadata": {},
     "output_type": "execute_result"
    }
   ],
   "source": [
    "# Fraction of \"extreme\" errors from a given date vs. fraction for all\n",
    "print(\n",
    "  pd.merge(\n",
    "    (\n",
    "      extreme_x.deenergize_time.dt.date.value_counts() /\n",
    "      extreme_x.deenergize_time.dt.date.value_counts().sum()\n",
    "    ),\n",
    "    (\n",
    "      x_test.deenergize_time.dt.date.value_counts() / \n",
    "      x_test.deenergize_time.dt.date.value_counts().sum()\n",
    "    ),\n",
    "    how='inner', left_index=True, right_index=True\n",
    "  ).sort_values('deenergize_time_x', ascending=False)\n",
    ")"
   ]
  },
  {
   "cell_type": "code",
   "execution_count": 9,
   "metadata": {},
   "outputs": [
    {
     "data": {
      "image/png": "[encoded data removed]",
      "text/plain": [
       "<Figure size 640x480 with 1 Axes>"
      ]
     },
     "metadata": {},
     "output_type": "display_data"
    }
   ],
   "source": [
    "sns.histplot(resids)\n",
    "plt.title(\"Histogram of Actual - Predicted Outage\")\n",
    "plt.xlabel(\"Actual - Predicted Outage\")\n",
    "plt.show()"
   ]
  },
  {
   "cell_type": "code",
   "execution_count": 10,
   "metadata": {},
   "outputs": [],
   "source": [
    "def compare_extreme_vals(all, idx, function):\n",
    "  flip_idx = np.ones(len(all), dtype=bool)\n",
    "  flip_idx[idx] = False\n",
    "  return np.round(function(all[idx]), 4), np.round(function(all[flip_idx]), 4)"
   ]
  },
  {
   "cell_type": "code",
   "execution_count": 11,
   "metadata": {},
   "outputs": [
    {
     "name": "stdout",
     "output_type": "stream",
     "text": [
      "day_in_year\n",
      "mean\n",
      "(277.4359, 285.3531)\n",
      "median\n",
      "(299.0, 296.0)\n",
      "-----\n",
      "median_age\n",
      "mean\n",
      "(43.5744, 44.6712)\n",
      "median\n",
      "(45.4, 44.9)\n",
      "-----\n",
      "wspd_d-1\n",
      "mean\n",
      "(6.7051, 7.3008)\n",
      "median\n",
      "(5.1, 6.9)\n",
      "-----\n",
      "white_pct\n",
      "mean\n",
      "(0.7346, 0.7501)\n",
      "median\n",
      "(0.7719, 0.7947)\n",
      "-----\n",
      "total_pop\n",
      "mean\n",
      "(20674.0513, 23693.8531)\n",
      "median\n",
      "(14970.0, 20681.0)\n",
      "-----\n"
     ]
    }
   ],
   "source": [
    "for feature in [\n",
    "  'day_in_year', 'median_age', 'wspd_d-1', 'white_pct', 'total_pop'\n",
    "]:\n",
    "  print(feature)\n",
    "  for func in [np.mean, np.median]:\n",
    "    print(func.__name__, ': ',\n",
    "          compare_extreme_vals(x_test[feature], top10_pct_off, func))\n",
    "  print('-----')"
   ]
  },
  {
   "cell_type": "code",
   "execution_count": 12,
   "metadata": {},
   "outputs": [
    {
     "data": {
      "text/plain": [
       "1396.9600596491482"
      ]
     },
     "execution_count": 12,
     "metadata": {},
     "output_type": "execute_result"
    }
   ],
   "source": [
    "pd.concat([extreme_x.total_pop, extreme_resids], axis = 1).\\\n",
    "  sort_values('total_pop', ascending=False)\n",
    "np.median(extreme_resids)"
   ]
  }
 ],
 "metadata": {
  "kernelspec": {
   "display_name": "Python 3.10.8 64-bit",
   "language": "python",
   "name": "python3"
  },
  "language_info": {
   "codemirror_mode": {
    "name": "ipython",
    "version": 3
   },
   "file_extension": ".py",
   "mimetype": "text/x-python",
   "name": "python",
   "nbconvert_exporter": "python",
   "pygments_lexer": "ipython3",
   "version": "3.10.8"
  },
  "orig_nbformat": 4,
  "vscode": {
   "interpreter": {
    "hash": "aee8b7b246df8f9039afb4144a1f6fd8d2ca17a180786b69acc140d282b71a49"
   }
  }
 },
 "nbformat": 4,
 "nbformat_minor": 2
}
