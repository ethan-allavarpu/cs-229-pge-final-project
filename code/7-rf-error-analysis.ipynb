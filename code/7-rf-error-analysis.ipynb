{
 "cells": [
  {
   "cell_type": "code",
   "execution_count": 2,
   "metadata": {},
   "outputs": [],
   "source": [
    "import matplotlib.pyplot as plt\n",
    "import numpy as np\n",
    "import pandas as pd\n",
    "import seaborn as sns\n",
    "from sklearn.preprocessing import StandardScaler"
   ]
  },
  {
   "cell_type": "code",
   "execution_count": 3,
   "metadata": {},
   "outputs": [],
   "source": [
    "x_train = pd.read_csv(\n",
    "  \"../data/processed/x_train.csv\", index_col=0, dtype=str\n",
    ").reset_index(drop=True)\n",
    "x_test = pd.read_csv(\n",
    "  \"../data/processed/x_test.csv\", index_col=0, dtype=str\n",
    ").reset_index(drop=True)\n",
    "y_train = pd.read_csv(\n",
    "  \"../data/processed/y_train.csv\", index_col=0, dtype=float\n",
    ").squeeze(\"columns\").reset_index(drop=True)\n",
    "y_test = pd.read_csv(\n",
    "  \"../data/processed/y_test.csv\", index_col=0, dtype=float\n",
    ").squeeze(\"columns\").reset_index(drop=True)"
   ]
  },
  {
   "cell_type": "code",
   "execution_count": 4,
   "metadata": {},
   "outputs": [],
   "source": [
    "# Proper type conversion\n",
    "def get_correct_types_x(df, numeric_cols):\n",
    "    for col in ['deenergize_time', 'restoration_time']:\n",
    "        df[col] = pd.to_datetime(df[col], format='%Y-%m-%d %H:%M:%S')\n",
    "    for col in numeric_cols:\n",
    "        df[col] = df[col].astype(float)\n",
    "    return df\n",
    "numeric_cols = [\n",
    "    'hftd_tier', 'total_affected', 'residential_affected',\n",
    "    'longitude', 'latitude', 'total_pop', 'median_age', 'median_income',\n",
    "    'white_pct', 'tmin_d-5', 'tmax_d-5', 'wspd_d-5', 'tmin_d-4', 'tmax_d-4',\n",
    "    'wspd_d-4', 'tmin_d-3', 'tmax_d-3', 'wspd_d-3', 'tmin_d-2', 'tmax_d-2',\n",
    "    'wspd_d-2', 'tmin_d-1', 'tmax_d-1', 'wspd_d-1', 'day_in_year'\n",
    "]\n",
    "x_train = get_correct_types_x(x_train, numeric_cols)\n",
    "x_test = get_correct_types_x(x_test, numeric_cols)\n",
    "rel_x_train = x_train[numeric_cols]\n",
    "rel_x_test = x_test[numeric_cols]"
   ]
  },
  {
   "cell_type": "code",
   "execution_count": 5,
   "metadata": {},
   "outputs": [],
   "source": [
    "# Zero mean, variance 1\n",
    "scaler = StandardScaler()\n",
    "scaler.fit(rel_x_train)\n",
    "scaled_train_x = scaler.transform(rel_x_train)\n",
    "scaled_test_x = scaler.transform(rel_x_test)"
   ]
  },
  {
   "cell_type": "code",
   "execution_count": 6,
   "metadata": {},
   "outputs": [],
   "source": [
    "# Read in RF predictions and calculate residuals as observed - predicted\n",
    "best_preds = np.loadtxt(\"../data/predictions/rf_preds.csv\")\n",
    "resids = y_test - best_preds"
   ]
  },
  {
   "cell_type": "code",
   "execution_count": 7,
   "metadata": {},
   "outputs": [],
   "source": [
    "# Take 10% most incorrect predictions\n",
    "top10_pct_off = np.argsort(\n",
    "  np.abs(np.array(resids))\n",
    ")[-int(0.1 * len(resids))::][::-1]\n",
    "extreme_resids = resids[top10_pct_off]\n",
    "extreme_x = x_test.iloc[top10_pct_off, :]\n",
    "extreme_y = y_test[top10_pct_off]"
   ]
  },
  {
   "cell_type": "code",
   "execution_count": 8,
   "metadata": {},
   "outputs": [
    {
     "name": "stdout",
     "output_type": "stream",
     "text": [
      "Fraction of observations in \n",
      "             extreme       all\n",
      "2019-10-26  0.564103  0.305344\n",
      "2019-10-09  0.179487  0.188295\n",
      "2021-01-19  0.051282  0.007634\n",
      "2019-10-27  0.051282  0.012723\n",
      "2020-10-25  0.051282  0.162850\n",
      "2020-09-07  0.025641  0.022901\n",
      "2020-09-08  0.025641  0.020356\n",
      "2021-08-17  0.025641  0.061069\n",
      "2020-10-26  0.025641  0.002545\n"
     ]
    }
   ],
   "source": [
    "# Fraction of \"extreme\" errors from a given date vs. fraction for all\n",
    "print('Fraction of observations in ')\n",
    "print(\n",
    "  pd.merge(\n",
    "    (\n",
    "      extreme_x.deenergize_time.dt.date.value_counts() /\n",
    "      extreme_x.deenergize_time.dt.date.value_counts().sum()\n",
    "    ),\n",
    "    (\n",
    "      x_test.deenergize_time.dt.date.value_counts() / \n",
    "      x_test.deenergize_time.dt.date.value_counts().sum()\n",
    "    ),\n",
    "    how='inner', left_index=True, right_index=True\n",
    "  ).rename(\n",
    "    columns={'deenergize_time_x': 'extreme', 'deenergize_time_y': 'all'}\n",
    "  ).sort_values('extreme', ascending=False)\n",
    ")"
   ]
  },
  {
   "cell_type": "code",
   "execution_count": 13,
   "metadata": {},
   "outputs": [
    {
     "data": {
      "image/png": "[encoded data removed]",
      "text/plain": [
       "<Figure size 640x480 with 1 Axes>"
      ]
     },
     "metadata": {},
     "output_type": "display_data"
    }
   ],
   "source": [
    "sns.histplot(resids)\n",
    "plt.title(\"Histogram of Errors, Random Forest\")\n",
    "plt.xlabel(\"Actual - Predicted Outage\")\n",
    "plt.savefig(\"../data/predictions/rf_errors.png\")\n",
    "plt.show()"
   ]
  },
  {
   "cell_type": "code",
   "execution_count": 10,
   "metadata": {},
   "outputs": [
    {
     "name": "stdout",
     "output_type": "stream",
     "text": [
      "Most extreme residual\n",
      "circuit_name                      WYANDOTTE\n",
      "deenergize_time         2020-09-07 22:20:00\n",
      "restoration_time        2020-09-13 08:52:00\n",
      "key_communities                    OROVILLE\n",
      "hftd_tier                               3.0\n",
      "total_affected                        945.0\n",
      "residential_affected                  885.0\n",
      "zip_code                              95966\n",
      "longitude                       -121.540947\n",
      "latitude                            39.4917\n",
      "substn_present                         True\n",
      "total_pop                           29444.0\n",
      "median_age                             45.2\n",
      "median_income                       48228.0\n",
      "white_pct                           0.77194\n",
      "tmin_d-5                                9.1\n",
      "tmax_d-5                               30.0\n",
      "wspd_d-5                                4.0\n",
      "tmin_d-4                                6.8\n",
      "tmax_d-4                               20.0\n",
      "wspd_d-4                                2.8\n",
      "tmin_d-3                                7.7\n",
      "tmax_d-3                               23.4\n",
      "wspd_d-3                                7.1\n",
      "tmin_d-2                                6.6\n",
      "tmax_d-2                               26.8\n",
      "wspd_d-2                                6.7\n",
      "tmin_d-1                               10.9\n",
      "tmax_d-1                               22.0\n",
      "wspd_d-1                                6.1\n",
      "day_in_year                           251.0\n",
      "Name: 183, dtype: object\n"
     ]
    }
   ],
   "source": [
    "# Extremely incorrect point (residual around 6K)\n",
    "print(\"Most extreme residual\")\n",
    "print(x_test.iloc[np.argmax(np.abs(resids)), :])"
   ]
  },
  {
   "cell_type": "code",
   "execution_count": 11,
   "metadata": {},
   "outputs": [],
   "source": [
    "def compare_extreme_vals(all, idx, function):\n",
    "  \"\"\"\n",
    "  Compare the extreme values (by index) against all others for a given function\n",
    "  \"\"\"\n",
    "  flip_idx = np.ones(len(all), dtype=bool)\n",
    "  flip_idx[idx] = False\n",
    "  extreme = all[idx]\n",
    "  others = all[flip_idx]\n",
    "  if all.dtype == float:\n",
    "    return np.round(function(extreme), 4), np.round(function(others), 4)\n",
    "  elif all.dtype == '<M8[ns]':\n",
    "    combined_counts = pd.merge(\n",
    "      (extreme.dt.date.value_counts() / extreme.dt.date.value_counts().sum()),\n",
    "      (others.dt.date.value_counts() / others.dt.date.value_counts().sum()),\n",
    "      how='inner', left_index=True, right_index=True\n",
    "    )\n",
    "    combined_counts.columns = ['extreme', 'others']\n",
    "    return combined_counts.sort_values('extreme', ascending=False)\n",
    "  elif all.dtype == 'O':\n",
    "    combined_counts = pd.merge(\n",
    "      (extreme.value_counts() / extreme.value_counts().sum()),\n",
    "      (others.value_counts() / others.value_counts().sum()),\n",
    "      how='inner', left_index=True, right_index=True\n",
    "    )\n",
    "    combined_counts.columns = ['extreme', 'others']\n",
    "    return combined_counts.sort_values('extreme', ascending=False)"
   ]
  },
  {
   "cell_type": "code",
   "execution_count": 12,
   "metadata": {},
   "outputs": [
    {
     "name": "stdout",
     "output_type": "stream",
     "text": [
      "\n",
      "Difference in medians between extreme and other residuals\n",
      "-----------------------------------------------------------\n",
      "                 feature     extreme      others  pct_diff\n",
      "0               wspd_d-2      9.4000      7.1500  0.314685\n",
      "1              total_pop  14970.0000  20681.0000 -0.276147\n",
      "2               wspd_d-1      5.1000      6.9000 -0.260870\n",
      "3               tmin_d-2     13.3000     10.6000  0.254717\n",
      "4               wspd_d-4      6.0000      7.0000 -0.142857\n",
      "5         total_affected    733.0000    835.5000 -0.122681\n",
      "6          median_income  74324.0000  68477.0000  0.085386\n",
      "7   residential_affected    650.0000    706.0000 -0.079320\n",
      "8               wspd_d-3      7.6000      7.0500  0.078014\n",
      "9               tmax_d-5     29.0000     27.2000  0.066176\n",
      "10              tmax_d-3     30.0000     28.3000  0.060071\n",
      "11              tmin_d-4      9.4000     10.0000 -0.060000\n",
      "12              tmin_d-5      8.9000      9.4000 -0.053191\n",
      "13              tmin_d-1      8.9000      9.4000 -0.053191\n",
      "14              tmax_d-1     30.0000     28.9000  0.038062\n",
      "15             white_pct      0.7719      0.7947 -0.028690\n",
      "16              wspd_d-5      7.4000      7.6000 -0.026316\n",
      "17              tmax_d-4     29.0000     28.3000  0.024735\n",
      "18              tmax_d-2     30.6000     30.0000  0.020000\n",
      "19            median_age     45.4000     44.9000  0.011136\n",
      "20           day_in_year    299.0000    296.0000  0.010135\n",
      "21              latitude     38.6593     38.7016 -0.001093\n",
      "22             longitude   -121.8884   -121.9740 -0.000702\n",
      "23              tmin_d-3     10.6000     10.6000  0.000000\n",
      "24             hftd_tier      2.0000      2.0000  0.000000\n"
     ]
    }
   ],
   "source": [
    "# Print Numeric Features\n",
    "numeric_diffs = pd.DataFrame(\n",
    "  [(feat, compare_extreme_vals(x_test[feat], top10_pct_off, np.median))\n",
    "   for feat in x_test.columns if x_test[feat].dtype == float],\n",
    "  columns=['feature', 'medians']\n",
    ")\n",
    "# Extract medians for extreme vs less extreme residuals\n",
    "numeric_diffs['extreme'] = [feat[0] for feat in numeric_diffs.medians]\n",
    "numeric_diffs['others'] = [feat[1] for feat in numeric_diffs.medians]\n",
    "numeric_diffs['pct_diff'] = (\n",
    "  (numeric_diffs.extreme - numeric_diffs.others) / numeric_diffs.others\n",
    ")\n",
    "numeric_diffs['abs_diff'] = np.abs(numeric_diffs.pct_diff)\n",
    "# Get percent differences to see patterns in incorrect responses\n",
    "print('\\nDifference in medians between extreme and other residuals')\n",
    "print('-----------------------------------------------------------')\n",
    "print(\n",
    "  numeric_diffs.sort_values('abs_diff', ascending=False).\\\n",
    "    drop(columns=['medians', 'abs_diff']).reset_index(drop=True)\n",
    ")"
   ]
  }
 ],
 "metadata": {
  "kernelspec": {
   "display_name": "Python 3.10.8 64-bit",
   "language": "python",
   "name": "python3"
  },
  "language_info": {
   "codemirror_mode": {
    "name": "ipython",
    "version": 3
   },
   "file_extension": ".py",
   "mimetype": "text/x-python",
   "name": "python",
   "nbconvert_exporter": "python",
   "pygments_lexer": "ipython3",
   "version": "3.10.8 (v3.10.8:aaaf517424, Oct 11 2022, 10:14:40) [Clang 13.0.0 (clang-1300.0.29.30)]"
  },
  "orig_nbformat": 4,
  "vscode": {
   "interpreter": {
    "hash": "aee8b7b246df8f9039afb4144a1f6fd8d2ca17a180786b69acc140d282b71a49"
   }
  }
 },
 "nbformat": 4,
 "nbformat_minor": 2
}
